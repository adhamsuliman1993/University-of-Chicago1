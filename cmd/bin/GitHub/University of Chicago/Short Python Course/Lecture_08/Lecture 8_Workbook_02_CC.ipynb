{
 "cells": [
  {
   "cell_type": "code",
   "execution_count": null,
   "metadata": {},
   "outputs": [],
   "source": [
    "reset"
   ]
  },
  {
   "cell_type": "code",
   "execution_count": null,
   "metadata": {},
   "outputs": [],
   "source": [
    "import numpy as np\n",
    "import matplotlib.pyplot as plt\n",
    "%matplotlib inline"
   ]
  },
  {
   "cell_type": "markdown",
   "metadata": {},
   "source": [
    "&nbsp;\n",
    "\n",
    "for now let us overlook the fact that implementing this class requires the package numpy.  \n",
    "\n",
    "\n"
   ]
  },
  {
   "cell_type": "code",
   "execution_count": null,
   "metadata": {},
   "outputs": [],
   "source": [
    "class ols:\n",
    "    # define the instance variables and keep an open place holder for beta, yhat and resid\n",
    "\n",
    "    def __init__(self, X, y, resid = None):\n",
    "        self.X = X\n",
    "        self.y = y\n",
    "        self.beta = None\n",
    "        self.resid = None\n",
    "        self.yhat = None\n",
    "    \n",
    "    # the decorator @property makes the new calculated values accessible as an instance variable\n",
    "    # notice that we redefine self.beta here and assign it to the actual calculation\n",
    "\n",
    "    @property\n",
    "    def fit(self):\n",
    "        self.beta = np.dot(np.linalg.inv(np.dot(self.X.T, self.X)), np.dot(self.X.T, self.y))\n",
    "    \n",
    "    # as with fit, fitted_vals and calc_resid are not programmed to print the results\n",
    "    # to print the results we will need to access them from the instance of ols\n",
    "    @property\n",
    "    def fitted_vals(self):\n",
    "        self.yhat = np.dot(self.X, self.beta.T)\n",
    "    \n",
    "    @property\n",
    "    #call the fitted_vals method from within calc_resid method\n",
    "    def calc_resid(self):\n",
    "        self.fitted_vals                  \n",
    "        self.resid = self.y - self.yhat"
   ]
  },
  {
   "cell_type": "markdown",
   "metadata": {},
   "source": [
    "&nbsp;\n",
    "\n",
    "<span style=\"color:blue\"> add an `intercept` boolean argument to the `__init__` constructor</span>"
   ]
  },
  {
   "cell_type": "code",
   "execution_count": 1,
   "metadata": {},
   "outputs": [],
   "source": [
    "#skipped code\n",
    "\n",
    "class ols:\n",
    "    # define the instance variables and keep an open place holder for beta, fitted and resid\n",
    "\n",
    "    def __init__(self, X, y, intercept = True):\n",
    "        \n",
    "        self.y = y\n",
    "        self.beta = None\n",
    "        self.resid = None\n",
    "        self.fitted = None\n",
    "        self.intercept = intercept\n",
    "        self.incercept_col = None\n",
    "        \n",
    "        if self.intercept == True:\n",
    "            self.intercept_col =np.array([1] * len(self.y)).reshape((len(self.y),1))\n",
    "            self.X = np.hstack((np.array([1] * len(self.y)).reshape((len(self.y),1)),X))\n",
    "        else:\n",
    "            self.X = X\n",
    "                               \n",
    "    # the decorator @property makes the new calculated values accessible as an instance variable\n",
    "    # notice that we redefine self.beta here and assign it to the actual calculation\n",
    "    \n",
    "    @property\n",
    "    def fit(self):\n",
    "        self.beta = np.dot(np.linalg.inv(np.dot(self.X.T, self.X)), np.dot(self.X.T, self.y))\n",
    "    \n",
    "    # as with fit, fitted_vals and calc_resid are not programmed to print the results\n",
    "    # to print the results we will need to access them from the instance of ols\n",
    "    @property\n",
    "    def fitted_vals(self):\n",
    "        self.fitted = np.dot(self.X, self.beta)\n",
    "    \n",
    "    @property\n",
    "    #call the fitted_vals method from within calc_resid method\n",
    "    def calc_resid(self):\n",
    "        self.fitted_vals                  \n",
    "        self.resid = self.y - self.fitted"
   ]
  },
  {
   "cell_type": "markdown",
   "metadata": {},
   "source": [
    "`a` is a matrix of independent variables for `b`, the outcome. "
   ]
  },
  {
   "cell_type": "code",
   "execution_count": null,
   "metadata": {},
   "outputs": [],
   "source": [
    "a = np.array([[3,0,1],[1,3,5],[6,8,8],[4,2,4],[2,5,6],[10,5,7],[4,3,1],[1,-4,0],[1,2,3],[4,4,4],[2,5,-1],[9,0,0]])\n",
    "b = np.array([1,11,0,1,21,64,11,24,4,3,2,45]).T"
   ]
  },
  {
   "cell_type": "code",
   "execution_count": null,
   "metadata": {},
   "outputs": [],
   "source": [
    "a"
   ]
  },
  {
   "cell_type": "markdown",
   "metadata": {},
   "source": [
    "&nbsp;\n",
    "\n",
    "we declare solver_1 as an instance of the class ols\n",
    "\n",
    "solver_1 inherits all the methods within ols, however in the process we set the parameters `X` and `y` as `a` and `b` respectively\n"
   ]
  },
  {
   "cell_type": "code",
   "execution_count": null,
   "metadata": {},
   "outputs": [],
   "source": [
    "solver_1 = ols(a,b)"
   ]
  },
  {
   "cell_type": "code",
   "execution_count": null,
   "metadata": {},
   "outputs": [],
   "source": [
    "solver_1.__dict__"
   ]
  },
  {
   "cell_type": "markdown",
   "metadata": {},
   "source": [
    "&nbsp;\n",
    "\n",
    "we append the instance method `.fit`\n",
    "\n",
    "notice that the method `fit` within the class takes the `self` argument, hence it can be applied as an instance method meaning `instance.method`"
   ]
  },
  {
   "cell_type": "code",
   "execution_count": null,
   "metadata": {},
   "outputs": [],
   "source": [
    "solver_1.fit"
   ]
  },
  {
   "cell_type": "code",
   "execution_count": null,
   "metadata": {},
   "outputs": [],
   "source": [
    "solver_1.__dict__"
   ]
  },
  {
   "cell_type": "markdown",
   "metadata": {},
   "source": [
    "notice that the instance method `beta` now has a value\n",
    "\n",
    "\n",
    "we can access beta as an instance variable"
   ]
  },
  {
   "cell_type": "code",
   "execution_count": null,
   "metadata": {},
   "outputs": [],
   "source": [
    "solver_1.beta"
   ]
  },
  {
   "cell_type": "markdown",
   "metadata": {},
   "source": [
    "&nbsp;\n",
    "\n",
    "to calculate the residuals we call `calc_resid` which will passively compute the fitted_values"
   ]
  },
  {
   "cell_type": "code",
   "execution_count": null,
   "metadata": {},
   "outputs": [],
   "source": [
    "solver_1.fitted_vals"
   ]
  },
  {
   "cell_type": "markdown",
   "metadata": {},
   "source": [
    "notice that both `resid` and `fitted` instance variables are assigned new arrays"
   ]
  },
  {
   "cell_type": "code",
   "execution_count": null,
   "metadata": {},
   "outputs": [],
   "source": [
    "solver_1.__dict__"
   ]
  },
  {
   "cell_type": "code",
   "execution_count": null,
   "metadata": {
    "scrolled": true
   },
   "outputs": [],
   "source": [
    "solver_1.calc_resid"
   ]
  },
  {
   "cell_type": "code",
   "execution_count": null,
   "metadata": {},
   "outputs": [],
   "source": [
    "solver_1.resid"
   ]
  },
  {
   "cell_type": "code",
   "execution_count": null,
   "metadata": {},
   "outputs": [],
   "source": [
    "solver_1.__dict__"
   ]
  },
  {
   "cell_type": "markdown",
   "metadata": {},
   "source": [
    "&nbsp;\n",
    "\n",
    "&nbsp;\n",
    "\n",
    "&nbsp;\n",
    "\n",
    "notice that we can also access the independent variables and the outcome from the instance itself:"
   ]
  },
  {
   "cell_type": "code",
   "execution_count": null,
   "metadata": {},
   "outputs": [],
   "source": [
    "solver_1.y"
   ]
  },
  {
   "cell_type": "code",
   "execution_count": null,
   "metadata": {},
   "outputs": [],
   "source": [
    "solver_1.X"
   ]
  },
  {
   "cell_type": "code",
   "execution_count": null,
   "metadata": {},
   "outputs": [],
   "source": [
    "plt.scatter(x = solver_1.fitted, y = solver_1.resid)"
   ]
  },
  {
   "cell_type": "markdown",
   "metadata": {},
   "source": [
    "&nbsp;\n",
    "\n",
    "<span style=\"color:blue\"> add the instance method `intercept_only` that will perform all previous calculations for a null model or an intercept only model </span>   "
   ]
  },
  {
   "cell_type": "code",
   "execution_count": null,
   "metadata": {},
   "outputs": [],
   "source": [
    "#skipped code\n",
    "\n",
    "class ols:\n",
    "    # define the instance variables and keep an open place holder for beta, fitted and resid\n",
    "\n",
    "    def __init__(self, X, y, intercept = True):\n",
    "        \n",
    "        self.y = y\n",
    "        self.beta = None\n",
    "        self.resid = None\n",
    "        self.fitted = None\n",
    "        self.intercept = intercept\n",
    "        self.incercept_col = None\n",
    "        \n",
    "        if self.intercept == True:\n",
    "            self.intercept_col =np.array([1] * len(self.y)).reshape((len(self.y),1))\n",
    "            self.X = np.hstack((np.array([1] * len(self.y)).reshape((len(self.y),1)),X))\n",
    "        else:\n",
    "            self.X = X\n",
    "                               \n",
    "    # the decorator @property makes the new calculated values accessible as an instance variable\n",
    "    # notice that we redefine self.beta here and assign it to the actual calculation\n",
    "    \n",
    "    @property\n",
    "    def fit(self):\n",
    "        self.beta = np.dot(np.linalg.inv(np.dot(self.X.T, self.X)), np.dot(self.X.T, self.y))\n",
    "    \n",
    "    # as with fit, fitted_vals and calc_resid are not programmed to print the results\n",
    "    # to print the results we will need to access them from the instance of ols\n",
    "    @property\n",
    "    def fitted_vals(self):\n",
    "        self.fitted = np.dot(self.X, self.beta)\n",
    "    \n",
    "    @property\n",
    "    #call the fitted_vals method from within calc_resid method\n",
    "    def calc_resid(self):\n",
    "        self.fitted_vals                  \n",
    "        self.resid = self.y - self.fitted\n",
    "    \n",
    "    @property\n",
    "    def intercept_only(self):\n",
    "        self.beta = np.dot(np.linalg.inv(np.dot(self.intercept_col.T, self.intercept_col)), np.dot(self.intercept_col.T, self.y))\n",
    "        self.fitted = np.dot(self.intercept_col, self.beta)\n",
    "        self.resid = self.y - self.fitted"
   ]
  },
  {
   "cell_type": "code",
   "execution_count": null,
   "metadata": {},
   "outputs": [],
   "source": [
    "solver_2 = ols(a,b)"
   ]
  },
  {
   "cell_type": "code",
   "execution_count": null,
   "metadata": {},
   "outputs": [],
   "source": [
    "solver_2.intercept_only"
   ]
  },
  {
   "cell_type": "code",
   "execution_count": null,
   "metadata": {},
   "outputs": [],
   "source": [
    "solver_2.__dict__"
   ]
  },
  {
   "cell_type": "code",
   "execution_count": null,
   "metadata": {},
   "outputs": [],
   "source": []
  }
 ],
 "metadata": {
  "kernelspec": {
   "display_name": "Python 3",
   "language": "python",
   "name": "python3"
  },
  "language_info": {
   "codemirror_mode": {
    "name": "ipython",
    "version": 3
   },
   "file_extension": ".py",
   "mimetype": "text/x-python",
   "name": "python",
   "nbconvert_exporter": "python",
   "pygments_lexer": "ipython3",
   "version": "3.6.1"
  }
 },
 "nbformat": 4,
 "nbformat_minor": 2
}
