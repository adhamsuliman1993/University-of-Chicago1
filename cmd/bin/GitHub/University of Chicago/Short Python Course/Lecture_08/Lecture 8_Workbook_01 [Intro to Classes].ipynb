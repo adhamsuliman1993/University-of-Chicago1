{
 "cells": [
  {
   "cell_type": "markdown",
   "metadata": {},
   "source": [
    "# Python Classes and OOP"
   ]
  },
  {
   "cell_type": "markdown",
   "metadata": {},
   "source": [
    "&nbsp;\n",
    "\n",
    "&nbsp;\n",
    "\n",
    "## 1 special methods in Python   \n",
    "\n",
    "* special methods in Python are methods that have a leading and trailing underscores **`__X__`**, also knows as magic functions (which is different than IPython magic functions suh as `%time` and `%load`) \n",
    "\n",
    "\n",
    "* another common name for these methods is **duner** methods (double-under) methods. \n",
    "\n",
    "\n",
    "* Python contains a large number of these special methods and they bestow attributes on an object that allow it to behave in a certain way, for example an `int` object has a number of special methods including the following:  \n",
    "\n"
   ]
  },
  {
   "cell_type": "code",
   "execution_count": null,
   "metadata": {},
   "outputs": [],
   "source": [
    "int1 = 22\n",
    "int2 = 3\n",
    "int3 = -8\n",
    "\n",
    "[i for i in dir(int1) if i.startswith('__')][:15]"
   ]
  },
  {
   "cell_type": "markdown",
   "metadata": {},
   "source": [
    "* the special method `__add__` allows or gives an integer object the property of arithmatic addition.         \n",
    "`__mul__` gives it the property of arithmatic multiplication. \n",
    "\n",
    "\n",
    "* we can use `__add__()` explicitly with the general syntax `self.__add__(self, other)`   "
   ]
  },
  {
   "cell_type": "code",
   "execution_count": null,
   "metadata": {},
   "outputs": [],
   "source": [
    "int1.__add__(int2)"
   ]
  },
  {
   "cell_type": "code",
   "execution_count": null,
   "metadata": {},
   "outputs": [],
   "source": [
    "int1.__mul__(int2)"
   ]
  },
  {
   "cell_type": "code",
   "execution_count": null,
   "metadata": {},
   "outputs": [],
   "source": [
    "int1.__divmod__(int2)"
   ]
  },
  {
   "cell_type": "code",
   "execution_count": null,
   "metadata": {},
   "outputs": [],
   "source": [
    "int1.__truediv__(int2)"
   ]
  },
  {
   "cell_type": "markdown",
   "metadata": {},
   "source": [
    "&nbsp;\n",
    "\n",
    "some special methods do not take an `other` argument "
   ]
  },
  {
   "cell_type": "code",
   "execution_count": null,
   "metadata": {},
   "outputs": [],
   "source": [
    "int2.__neg__()"
   ]
  },
  {
   "cell_type": "code",
   "execution_count": null,
   "metadata": {
    "scrolled": true
   },
   "outputs": [],
   "source": [
    "int3.__abs__()"
   ]
  },
  {
   "cell_type": "markdown",
   "metadata": {},
   "source": [
    "* what is important to remember is that these methods do not need to be invoked explicitly, the invocation happens behind the scene when a user executes `int1 + int2` which is exactly equal to the expression `int1.__add__(int2)`   \n",
    "\n",
    "\n",
    "* in Python when iterating thru a list (or any iterable) the general syntax is:\n",
    "\n",
    "`for item in my_list:\n",
    "    do something`\n",
    "    \n",
    "in contrast to other languages where the syntax resembles:\n",
    "\n",
    "`for i in length(my_list):\n",
    "    do something to my_list[i]`\n",
    "    \n",
    "    \n",
    "this is only possible because of the special method `__iter__`"
   ]
  },
  {
   "cell_type": "code",
   "execution_count": null,
   "metadata": {},
   "outputs": [],
   "source": [
    "my_list = [5,6,3,4,5,1,5]"
   ]
  },
  {
   "cell_type": "code",
   "execution_count": null,
   "metadata": {},
   "outputs": [],
   "source": [
    "dir(my_list)"
   ]
  },
  {
   "cell_type": "code",
   "execution_count": null,
   "metadata": {},
   "outputs": [],
   "source": [
    "list(my_list.__iter__())"
   ]
  },
  {
   "cell_type": "markdown",
   "metadata": {},
   "source": [
    "special method `__len__` allows the list object to return its length"
   ]
  },
  {
   "cell_type": "code",
   "execution_count": null,
   "metadata": {},
   "outputs": [],
   "source": [
    "my_list.__len__()"
   ]
  },
  {
   "cell_type": "markdown",
   "metadata": {},
   "source": [
    "&nbsp;\n",
    "\n",
    "## 2 Python *iterables*  and *iterators* vs. `For`-loops\n",
    "\n",
    "* Python containers come in two flavors: sqeuences and non-sequences "
   ]
  },
  {
   "cell_type": "markdown",
   "metadata": {},
   "source": [
    "* iterables that can be indexed in Python: this makes them sequences"
   ]
  },
  {
   "cell_type": "code",
   "execution_count": null,
   "metadata": {},
   "outputs": [],
   "source": [
    "my_list = [2, 4, 6, 25, 47, 8, 99, 6, 81, 2, 12, 64]\n",
    "my_coords = (415322.6, 873720.1)\n",
    "pangram = (\"How vexingly quick daft zebras jump\")"
   ]
  },
  {
   "cell_type": "markdown",
   "metadata": {},
   "source": [
    "* iterables that are not indexed in Python are non-sequences"
   ]
  },
  {
   "cell_type": "code",
   "execution_count": null,
   "metadata": {},
   "outputs": [],
   "source": [
    "#set\n",
    "set_1 = {'cheesecake', 'apple pie', 'brownies', 'velvet cake', 'cup cake', 'pumpkin pie'}\n",
    "\n",
    "#dictionary\n",
    "dict_1 = {'pepperoni':15,'sausage':17,'chicken':13,'beef':17}\n",
    "\n",
    "#generators\n",
    "gen_1 = (i for i in my_list if (i**.5 % 1) == 0 )\n",
    "\n",
    "#ranges\n",
    "rng_1 = range(7)"
   ]
  },
  {
   "cell_type": "markdown",
   "metadata": {},
   "source": [
    "another layer of distinction is: iterables vs. iterators \n",
    "\n",
    "* list, tuple, string, set, and dictionary are iterables\n",
    "\n",
    "* generator, range, zip, map objects are iterators which means they are also iterables\n",
    "\n",
    "**all iterators are iterables but the reverse is not true**"
   ]
  },
  {
   "cell_type": "code",
   "execution_count": null,
   "metadata": {},
   "outputs": [],
   "source": [
    "for i in set_1: print(i) #sets are iterables"
   ]
  },
  {
   "cell_type": "code",
   "execution_count": null,
   "metadata": {},
   "outputs": [],
   "source": [
    "set_1[2]"
   ]
  },
  {
   "cell_type": "code",
   "execution_count": null,
   "metadata": {},
   "outputs": [],
   "source": [
    "dict_1[1]"
   ]
  },
  {
   "cell_type": "markdown",
   "metadata": {},
   "source": [
    "* tradidional `for` loops in other languages loop over indexes of elements of an object to return the element itself. this means that object indexing is a pre-requisite for loop operations. \n",
    "\n",
    "\n",
    "* Python has iterable objects that are not sequences and cannot be indexed so a traditional `For`-loop is not applicable, yet a loop-like operation or iteration is still possible  \n",
    "\n",
    "\n",
    "## there is no such thing as `For`-loops in python since (under the hood) it does not use indexed elements instead python uses *iterators* !\n",
    "&nbsp;\n"
   ]
  },
  {
   "cell_type": "code",
   "execution_count": null,
   "metadata": {},
   "outputs": [],
   "source": [
    "my_list"
   ]
  },
  {
   "cell_type": "code",
   "execution_count": null,
   "metadata": {},
   "outputs": [],
   "source": [
    "i = 0\n",
    "while i < len(my_list):\n",
    "    print(my_list[i])\n",
    "    i += 1"
   ]
  },
  {
   "cell_type": "code",
   "execution_count": null,
   "metadata": {},
   "outputs": [],
   "source": [
    "i = 0\n",
    "while i < len(set_1):\n",
    "    print(set_1[i])\n",
    "    i += 1"
   ]
  },
  {
   "cell_type": "markdown",
   "metadata": {},
   "source": [
    "* an *iterator* is what powers any iterable in python    \n",
    "* we can extract the iterator of any iterable in python using the class method `iter()` or the special method `__iter__()`   \n",
    "* passing an iterable to the `iter()` method always returns an iterator   "
   ]
  },
  {
   "cell_type": "code",
   "execution_count": null,
   "metadata": {},
   "outputs": [],
   "source": [
    "[i for i in dir(set_1) if i.startswith('__i')]"
   ]
  },
  {
   "cell_type": "code",
   "execution_count": null,
   "metadata": {},
   "outputs": [],
   "source": [
    "iter(set_1)"
   ]
  },
  {
   "cell_type": "code",
   "execution_count": null,
   "metadata": {},
   "outputs": [],
   "source": [
    "gen_1.__iter__()"
   ]
  },
  {
   "cell_type": "code",
   "execution_count": null,
   "metadata": {},
   "outputs": [],
   "source": [
    "dict_1.__iter__()"
   ]
  },
  {
   "cell_type": "markdown",
   "metadata": {},
   "source": [
    "&nbsp;\n",
    "\n",
    "### so how does python `loop` over iterables ?"
   ]
  },
  {
   "cell_type": "code",
   "execution_count": null,
   "metadata": {},
   "outputs": [],
   "source": [
    "# from the iter object use the method next\n",
    "dict_iterator = dict_1.__iter__()"
   ]
  },
  {
   "cell_type": "code",
   "execution_count": null,
   "metadata": {},
   "outputs": [],
   "source": [
    "dir(dict_iterator)"
   ]
  },
  {
   "cell_type": "markdown",
   "metadata": {},
   "source": [
    "the method `next()` or the special method `__next__()` applied to an iterator returns the next object available and keeps track of its location in the iterable   \n",
    "\n",
    "notice that iterator `dict_iterator` contains the special method `__next__()` as well as `__iter__()`   \n",
    "\n",
    "once there is no more objects a `StopIteration` exception is raised "
   ]
  },
  {
   "cell_type": "code",
   "execution_count": null,
   "metadata": {},
   "outputs": [],
   "source": [
    "dict_iterator.__next__()"
   ]
  },
  {
   "cell_type": "code",
   "execution_count": null,
   "metadata": {},
   "outputs": [],
   "source": [
    "dict_iterator.__next__()"
   ]
  },
  {
   "cell_type": "code",
   "execution_count": null,
   "metadata": {},
   "outputs": [],
   "source": [
    "dict_iterator.__next__()"
   ]
  },
  {
   "cell_type": "code",
   "execution_count": null,
   "metadata": {},
   "outputs": [],
   "source": [
    "dict_iterator.__next__()"
   ]
  },
  {
   "cell_type": "code",
   "execution_count": null,
   "metadata": {},
   "outputs": [],
   "source": [
    "dict_iterator.__next__()"
   ]
  },
  {
   "cell_type": "markdown",
   "metadata": {},
   "source": [
    "an *iterator* such as generator can also returns an iterator for itself however applying the method `__next__()` to the iterator will reveal the elements of the iterator    \n",
    "\n",
    "the contents of `gen_1` are `[4, 25, 81, 64]`"
   ]
  },
  {
   "cell_type": "code",
   "execution_count": null,
   "metadata": {},
   "outputs": [],
   "source": [
    "gen_1"
   ]
  },
  {
   "cell_type": "code",
   "execution_count": null,
   "metadata": {},
   "outputs": [],
   "source": [
    "gen_1.__next__()"
   ]
  },
  {
   "cell_type": "code",
   "execution_count": null,
   "metadata": {},
   "outputs": [],
   "source": [
    "gen_1.__next__()"
   ]
  },
  {
   "cell_type": "code",
   "execution_count": null,
   "metadata": {},
   "outputs": [],
   "source": [
    "gen_1.__next__()"
   ]
  },
  {
   "cell_type": "code",
   "execution_count": null,
   "metadata": {},
   "outputs": [],
   "source": [
    "gen_1.__next__()"
   ]
  },
  {
   "cell_type": "code",
   "execution_count": null,
   "metadata": {},
   "outputs": [],
   "source": [
    "gen_1.__next__()"
   ]
  },
  {
   "cell_type": "code",
   "execution_count": null,
   "metadata": {},
   "outputs": [],
   "source": [
    "list(gen_1)"
   ]
  },
  {
   "cell_type": "markdown",
   "metadata": {},
   "source": [
    "* notice that iterating thru an *iterator* object invalidates the object\n",
    "\n",
    "* in this way python *iterators* can be thought of as one directional tally counters, or pez dispensers where the candy dispensed cannot be replaced again. "
   ]
  },
  {
   "cell_type": "markdown",
   "metadata": {},
   "source": [
    "&nbsp;\n",
    "\n",
    "&nbsp;\n",
    "\n",
    "&nbsp;\n",
    "\n",
    "# 3 creating a Python `class`\n",
    "\n",
    "in Pyhton the OOP model is divided into two broad categories, <span style = 'color:red'>*class*</span> objects and <span style='color:red'>*instance*</span> objects.   \n",
    "to understand the difference between these two we can use a class such as `DecisionTreeClassifier` from module `sklearn`"
   ]
  },
  {
   "cell_type": "code",
   "execution_count": null,
   "metadata": {},
   "outputs": [],
   "source": [
    "from sklearn.tree import DecisionTreeClassifier"
   ]
  },
  {
   "cell_type": "code",
   "execution_count": null,
   "metadata": {},
   "outputs": [],
   "source": [
    "type(DecisionTreeClassifier)"
   ]
  },
  {
   "cell_type": "markdown",
   "metadata": {},
   "source": [
    "`abc.ABCMeta` is a <span style='color:red'>class</span> object,  Abstract Base Classes (ABCs)"
   ]
  },
  {
   "cell_type": "markdown",
   "metadata": {},
   "source": [
    "&nbsp;\n",
    "\n",
    "when we assign this class to a namespace we create a new instance of the class `DecisionTreeClassifier`   \n",
    "\n",
    "\n",
    "`dtc` below is an <span style='color:red'>instance</span> object of the class `DecisionTreeClassifier` , it contains the same methods and attributes of the original class and it allows us to modify the attributes through passing values for the different argumennts. "
   ]
  },
  {
   "cell_type": "code",
   "execution_count": null,
   "metadata": {},
   "outputs": [],
   "source": [
    "dtc_1 = DecisionTreeClassifier(max_depth = 10, min_samples_leaf = 10, random_state = 12)"
   ]
  },
  {
   "cell_type": "code",
   "execution_count": null,
   "metadata": {},
   "outputs": [],
   "source": [
    "type(dtc_1)"
   ]
  },
  {
   "cell_type": "markdown",
   "metadata": {},
   "source": [
    "### Class objects provide default behavior and serve as factories for instances of objects\n",
    "\n",
    "&nbsp;\n",
    "\n",
    "*Learning Python 5th Edition by Mark Lutz*"
   ]
  },
  {
   "cell_type": "code",
   "execution_count": null,
   "metadata": {},
   "outputs": [],
   "source": [
    "dtc_2 = DecisionTreeClassifier(min_samples_split = 3, max_features = 5 )\n",
    "dtc_3 = DecisionTreeClassifier()"
   ]
  },
  {
   "cell_type": "markdown",
   "metadata": {},
   "source": [
    "`dtc1`, `dtc2` and `dtc3` are all instance objects of the same class with different values of the *instance variables*.    \n",
    "\n",
    "all three instances inherit the class attributes from the class object from which they are generated ensuring the default behavior governed by the methods in class `DecisionTreeClassifier` "
   ]
  },
  {
   "cell_type": "code",
   "execution_count": null,
   "metadata": {
    "scrolled": true
   },
   "outputs": [],
   "source": [
    "reset"
   ]
  },
  {
   "cell_type": "markdown",
   "metadata": {},
   "source": [
    "&nbsp;\n",
    "\n",
    "&nbsp;\n",
    "\n",
    "&nbsp;\n",
    "\n",
    "Let us build our first class\n",
    "\n",
    "- Bolt is an augmentation company that provides professional licensed drivers to operate any type of vehicle owned by other companies. Drivers come with different license types including freight trucks, school busses, cabs, field harvesters, fork lifts, construction trucks etc.  \n",
    "\n",
    "\n",
    "\n",
    "\n",
    "- depending on the vehicle and the licenses drivers can have varying hourly rates        \n",
    "- some of the drivers are supervisers and manage multiple drivers     \n",
    "\n",
    "\n",
    "\n",
    "- we proceed to building each class step by step while adding methods and variables along the way    "
   ]
  },
  {
   "cell_type": "markdown",
   "metadata": {},
   "source": [
    "## evolution 0\n",
    "\n",
    " 1- the constructor `__init__`: the purpose of `__init__` is to allow the initialization of an instance of a class or an object.   \n",
    "    \n",
    "    \n",
    " 2- instance methods   \n",
    "\n",
    "\n",
    "\n",
    "### the `self` argument\n",
    "\n",
    " 1- `self` is a widely used convention, it can be any other string however sticking to this universal convention makes it easier to understand and debug code. another convention referring to a Class is `cls`    \n",
    " \n",
    " \n",
    " 2- some special methods can be applied to an instance, for example `int1` an instance of the Pyton type `int`. if you try `dir(int)` this displays the same attributes for `int` that is because `int1` in an instance of type class `int`. \n",
    " \n",
    " \n",
    " 3- whenever `self` appears as such: `self.__method__(self)` it means that `self` is implicitly being passed into the method as the first argument. the first `self` is the instance of a class and the second `self` is the argument to which `__method__` is applied. \n",
    " \n",
    "&nbsp;\n"
   ]
  },
  {
   "cell_type": "code",
   "execution_count": null,
   "metadata": {},
   "outputs": [],
   "source": [
    "class Bolt_employee:\n",
    "    \n",
    "    def __init__(self, idf, first, last, rate):\n",
    "        self.idf = idf\n",
    "        self.first = first\n",
    "        self.last = last\n",
    "        self.rate = rate\n",
    "        self.email = first + '.' + last + '@boltdesk.com'\n",
    "    \n",
    "    # instance method info takes self as the argument \n",
    "    def info(self):\n",
    "        return '{}, {}, {}, {}'.format(self.idf, self.first, self.last, self.rate)\n",
    "    "
   ]
  },
  {
   "cell_type": "markdown",
   "metadata": {},
   "source": [
    "create class insatnces for 3 employees, `emp1`, `emp2`, and `emp2`"
   ]
  },
  {
   "cell_type": "code",
   "execution_count": null,
   "metadata": {},
   "outputs": [],
   "source": [
    "emp1 = Bolt_employee('e5526','George', 'Clooney', 25000)\n",
    "emp2 = Bolt_employee('e1120','Brad', 'Pitt', 27500)\n",
    "emp3 = Bolt_employee('e0051','natalie','portmen',34000)"
   ]
  },
  {
   "cell_type": "code",
   "execution_count": null,
   "metadata": {},
   "outputs": [],
   "source": [
    "# returns the instance object for bolt_emp1\n",
    "print(emp1)"
   ]
  },
  {
   "cell_type": "markdown",
   "metadata": {},
   "source": [
    "&nbsp;\n",
    "\n",
    "we can access the value of the instance variables by appending the variable name to the instance "
   ]
  },
  {
   "cell_type": "code",
   "execution_count": null,
   "metadata": {},
   "outputs": [],
   "source": [
    "print(emp1.first)"
   ]
  },
  {
   "cell_type": "markdown",
   "metadata": {},
   "source": [
    "`.info()` is an <span style='color:purple'>instance method</span> defined within the class"
   ]
  },
  {
   "cell_type": "code",
   "execution_count": null,
   "metadata": {},
   "outputs": [],
   "source": [
    "print(emp1.info())"
   ]
  },
  {
   "cell_type": "code",
   "execution_count": null,
   "metadata": {},
   "outputs": [],
   "source": [
    "emp1.info()"
   ]
  },
  {
   "cell_type": "code",
   "execution_count": null,
   "metadata": {},
   "outputs": [],
   "source": [
    "print(emp3.info())"
   ]
  },
  {
   "cell_type": "code",
   "execution_count": null,
   "metadata": {},
   "outputs": [],
   "source": [
    "emp2.email"
   ]
  },
  {
   "cell_type": "markdown",
   "metadata": {},
   "source": [
    "&nbsp;\n",
    "\n",
    "method `isinstance(X, cls)` checks if instance `X` is an instance of class `cls`"
   ]
  },
  {
   "cell_type": "code",
   "execution_count": null,
   "metadata": {},
   "outputs": [],
   "source": [
    "isinstance(emp1, Bolt_employee)"
   ]
  },
  {
   "cell_type": "markdown",
   "metadata": {},
   "source": [
    "____________________________________"
   ]
  },
  {
   "cell_type": "code",
   "execution_count": null,
   "metadata": {},
   "outputs": [],
   "source": [
    "reset"
   ]
  },
  {
   "cell_type": "markdown",
   "metadata": {},
   "source": [
    "&nbsp;\n",
    "\n",
    "## evolution 1\n",
    "\n",
    "1- class variables   \n",
    "2- special method `.__dict__` "
   ]
  },
  {
   "cell_type": "code",
   "execution_count": null,
   "metadata": {},
   "outputs": [],
   "source": [
    "class Bolt_employee:\n",
    "    \n",
    "    def __init__(self, idf, first, last, rate):\n",
    "        self.idf = idf\n",
    "        self.first = first.capitalize()\n",
    "        self.last = last.capitalize()\n",
    "        self.rate = rate\n",
    "        self.email = first + '.' + last + '@boltdesk.com'\n",
    "    \n",
    "    def info(self):\n",
    "        return '{}, {}, {}, {}'.format(self.idf, self.first, self.last, self.rate)\n",
    "    # new instance variable\n",
    "    def apply_bonus(self):\n",
    "        self.rate = int(self.rate + 300)\n",
    "    "
   ]
  },
  {
   "cell_type": "code",
   "execution_count": null,
   "metadata": {},
   "outputs": [],
   "source": [
    "emp1 = Bolt_employee('e5526','George', 'Clooney', 25000)\n",
    "emp2 = Bolt_employee('e1120','Brad', 'Pitt', 27000)\n",
    "emp3 = Bolt_employee('e0051','natalie','portmen',34000)"
   ]
  },
  {
   "cell_type": "code",
   "execution_count": null,
   "metadata": {},
   "outputs": [],
   "source": [
    "emp2.rate"
   ]
  },
  {
   "cell_type": "code",
   "execution_count": null,
   "metadata": {},
   "outputs": [],
   "source": [
    "emp2.apply_bonus()"
   ]
  },
  {
   "cell_type": "code",
   "execution_count": null,
   "metadata": {},
   "outputs": [],
   "source": [
    "emp2.rate"
   ]
  },
  {
   "cell_type": "markdown",
   "metadata": {},
   "source": [
    "* we can define the a class variable `bonus_amount` that is shared by all instances and can be modified instead of being encapsulated within the `apply_bonus()` instance method"
   ]
  },
  {
   "cell_type": "code",
   "execution_count": null,
   "metadata": {},
   "outputs": [],
   "source": [
    "reset"
   ]
  },
  {
   "cell_type": "code",
   "execution_count": null,
   "metadata": {},
   "outputs": [],
   "source": [
    "class Bolt_employee:\n",
    "    \n",
    "    # class variable\n",
    "    bonus_amount = 300\n",
    "    \n",
    "    def __init__(self, idf, first, last, rate):\n",
    "        self.idf = idf\n",
    "        self.first = first.capitalize()\n",
    "        self.last = last.capitalize()\n",
    "        self.rate = rate\n",
    "        self.email = first + '.' + last + '@boltdesk.com'\n",
    "    \n",
    "    def info(self):\n",
    "        return '{}, {}, {}, {}'.format(self.idf, self.first, self.last, self.rate)\n",
    "    \n",
    "    def apply_bonus(self):\n",
    "        self.rate = int(self.rate + self.bonus_amount)  # self.bouns_amount == Bolt_employee.bonus_amount\n",
    "    "
   ]
  },
  {
   "cell_type": "code",
   "execution_count": null,
   "metadata": {},
   "outputs": [],
   "source": [
    "emp1 = Bolt_employee('e5526','George', 'Clooney', 25000)\n",
    "emp2 = Bolt_employee('e1120','Brad', 'Pitt', 27000)\n",
    "emp3 = Bolt_employee('e0051','natalie','portmen',34000)"
   ]
  },
  {
   "cell_type": "code",
   "execution_count": null,
   "metadata": {},
   "outputs": [],
   "source": [
    "Bolt_employee.bonus_amount, emp1.bonus_amount, emp2.bonus_amount"
   ]
  },
  {
   "cell_type": "code",
   "execution_count": null,
   "metadata": {},
   "outputs": [],
   "source": [
    "emp2.apply_bonus()\n",
    "emp2.rate"
   ]
  },
  {
   "cell_type": "markdown",
   "metadata": {},
   "source": [
    "&nbsp;\n",
    "\n",
    "special method `.__dict__` is an internal descriptor that returns methods and variables of a class or an instance of a class as a dictionary.  "
   ]
  },
  {
   "cell_type": "code",
   "execution_count": null,
   "metadata": {},
   "outputs": [],
   "source": [
    "Bolt_employee.__dict__"
   ]
  },
  {
   "cell_type": "code",
   "execution_count": null,
   "metadata": {},
   "outputs": [],
   "source": [
    "emp1.__dict__"
   ]
  },
  {
   "cell_type": "markdown",
   "metadata": {},
   "source": [
    "notice above that `bonus_amount` is a class variable that is within the class but not the instance `emp1`   \n",
    "\n",
    "we can modify the class variable `bonus_amount` which will change it for all the class instances"
   ]
  },
  {
   "cell_type": "code",
   "execution_count": null,
   "metadata": {},
   "outputs": [],
   "source": [
    "Bolt_employee.bonus_amount = 400"
   ]
  },
  {
   "cell_type": "code",
   "execution_count": null,
   "metadata": {},
   "outputs": [],
   "source": [
    "Bolt_employee.bonus_amount, emp1.bonus_amount, emp2.bonus_amount"
   ]
  },
  {
   "cell_type": "markdown",
   "metadata": {},
   "source": [
    "is it possible to access the class variable `bonus_amount` **thru the instance** and change its value \n",
    "\n",
    "\n",
    "this results in creating a new instance variable for that instance, say `emp2`, but the value of the class variable remains unchanged"
   ]
  },
  {
   "cell_type": "code",
   "execution_count": null,
   "metadata": {},
   "outputs": [],
   "source": [
    "emp2.bonus_amount = 750"
   ]
  },
  {
   "cell_type": "code",
   "execution_count": null,
   "metadata": {},
   "outputs": [],
   "source": [
    "Bolt_employee.bonus_amount, emp1.bonus_amount, emp2.bonus_amount"
   ]
  },
  {
   "cell_type": "code",
   "execution_count": null,
   "metadata": {},
   "outputs": [],
   "source": [
    "emp2.__dict__"
   ]
  },
  {
   "cell_type": "markdown",
   "metadata": {},
   "source": [
    "notice that `bonus_amount` now appears as an instance variable of `emp2`     "
   ]
  },
  {
   "cell_type": "code",
   "execution_count": null,
   "metadata": {},
   "outputs": [],
   "source": [
    "emp2.apply_bonus()\n",
    "emp2.rate"
   ]
  },
  {
   "cell_type": "code",
   "execution_count": null,
   "metadata": {
    "scrolled": true
   },
   "outputs": [],
   "source": [
    "reset"
   ]
  },
  {
   "cell_type": "markdown",
   "metadata": {},
   "source": [
    "&nbsp;\n",
    "\n",
    "to count the number of employees instantiated using class `Bolt_employee` we can add a counter that changes its value within the `__init__` special method. \n",
    "\n",
    "this counts the number of times `__init__()` is called  "
   ]
  },
  {
   "cell_type": "code",
   "execution_count": null,
   "metadata": {},
   "outputs": [],
   "source": [
    "class Bolt_employee:\n",
    "    \n",
    "    # class variable\n",
    "    bonus_amount = 300\n",
    "    emp_counter = 0\n",
    "    \n",
    "    def __init__(self, idf, first, last, rate):\n",
    "        self.idf = idf\n",
    "        self.first = first.capitalize()\n",
    "        self.last = last.capitalize()\n",
    "        self.rate = rate\n",
    "        self.email = first + '.' + last + '@boltdesk.com'\n",
    "        \n",
    "        Bolt_employee.emp_counter += 1\n",
    "    \n",
    "    def info(self):\n",
    "        return '{}, {}, {}, {}'.format(self.idf, self.first, self.last, self.rate)\n",
    "    \n",
    "    def apply_bonus(self):\n",
    "        self.rate = int(self.rate + self.bonus_amount)  # self.bouns_amount == Bolt_employee.bonus_amount\n",
    "        \n",
    "    \n",
    "        \n",
    "    "
   ]
  },
  {
   "cell_type": "code",
   "execution_count": null,
   "metadata": {},
   "outputs": [],
   "source": [
    "emp1 = Bolt_employee('e5526','George', 'Clooney', 25000)\n",
    "emp1.emp_counter"
   ]
  },
  {
   "cell_type": "code",
   "execution_count": null,
   "metadata": {},
   "outputs": [],
   "source": [
    "emp2 = Bolt_employee('e1120','Brad', 'Pitt', 27000)\n",
    "emp3 = Bolt_employee('e0051','natalie','portmen',34000)\n",
    "\n",
    "Bolt_employee.emp_counter"
   ]
  },
  {
   "cell_type": "markdown",
   "metadata": {},
   "source": [
    "____________________________________________"
   ]
  },
  {
   "cell_type": "code",
   "execution_count": null,
   "metadata": {},
   "outputs": [],
   "source": [
    "reset"
   ]
  },
  {
   "cell_type": "markdown",
   "metadata": {
    "hideCode": true
   },
   "source": [
    "## evolution 2\n",
    "\n",
    "1- class methods and decorators: pass the class `cls` as the input argument instetad of `self`    \n",
    "2- static methods: are methods that do not require an input argument  \n",
    "\n",
    "\n",
    "much like an instnace method being apended to an instance object (`emp1.info()`) a class method is apended to class object"
   ]
  },
  {
   "cell_type": "code",
   "execution_count": null,
   "metadata": {},
   "outputs": [],
   "source": [
    "class Bolt_employee:\n",
    "    \n",
    "    # class variable\n",
    "    bonus_amount = 300\n",
    "    emp_counter = 0\n",
    "    \n",
    "    def __init__(self, idf, first, last, rate):\n",
    "        self.idf = idf\n",
    "        self.first = first.capitalize()\n",
    "        self.last = last.capitalize()\n",
    "        self.rate = rate\n",
    "        self.email = first + '.' + last + '@boltdesk.com'\n",
    "        \n",
    "        Bolt_employee.emp_counter += 1\n",
    "    \n",
    "    def info(self):\n",
    "        return '{}, {}, {}, {}'.format(self.idf, self.first, self.last, self.rate)\n",
    "    \n",
    "    def apply_bonus(self):\n",
    "        self.rate = int(self.rate + self.bonus_amount)  # self.bouns_amount == Bolt_employee.bonus_amount\n",
    "        \n",
    "    @classmethod            #  @classmethod is called a decorator and it converts the method after it into a class method\n",
    "    def set_bonus(cls, new_amount):\n",
    "        cls.bonus_amount = new_amount\n"
   ]
  },
  {
   "cell_type": "code",
   "execution_count": null,
   "metadata": {},
   "outputs": [],
   "source": [
    "Bolt_employee.bonus_amount"
   ]
  },
  {
   "cell_type": "code",
   "execution_count": null,
   "metadata": {},
   "outputs": [],
   "source": [
    "emp2 = Bolt_employee('e1120','Brad', 'Pitt', 27000)\n",
    "\n",
    "emp2.bonus_amount"
   ]
  },
  {
   "cell_type": "code",
   "execution_count": null,
   "metadata": {},
   "outputs": [],
   "source": [
    "Bolt_employee.set_bonus(350)"
   ]
  },
  {
   "cell_type": "code",
   "execution_count": null,
   "metadata": {},
   "outputs": [],
   "source": [
    "Bolt_employee.bonus_amount"
   ]
  },
  {
   "cell_type": "code",
   "execution_count": null,
   "metadata": {},
   "outputs": [],
   "source": [
    "emp2.bonus_amount"
   ]
  },
  {
   "cell_type": "code",
   "execution_count": null,
   "metadata": {},
   "outputs": [],
   "source": [
    "reset"
   ]
  },
  {
   "cell_type": "markdown",
   "metadata": {},
   "source": [
    "let's add another class method and call it `from_string`\n",
    "\n",
    "\n",
    "* this class method enables us to create a new instance using a string that contains all of the class variables separated by a special character such as `,` or `-`"
   ]
  },
  {
   "cell_type": "code",
   "execution_count": null,
   "metadata": {},
   "outputs": [],
   "source": [
    "class Bolt_employee:\n",
    "    \n",
    "    # class variable\n",
    "    bonus_amount = 300\n",
    "    emp_counter = 0\n",
    "    \n",
    "    def __init__(self, idf, first, last, rate):\n",
    "        self.idf = idf\n",
    "        self.first = first.capitalize()\n",
    "        self.last = last.capitalize()\n",
    "        self.rate = rate\n",
    "        self.email = first + '.' + last + '@boltdesk.com'\n",
    "        \n",
    "        Bolt_employee.emp_counter += 1\n",
    "    \n",
    "    def info(self):\n",
    "        return '{}, {}, {}, {}'.format(self.idf, self.first, self.last, self.rate)\n",
    "    \n",
    "    def apply_bonus(self):\n",
    "        self.rate = int(self.rate + self.bonus_amount)  # self.bouns_amount == Bolt_employee.bonus_amount\n",
    "        \n",
    "    @classmethod            #  @classmethod is called a decorator and it converts the method after it into a class method\n",
    "    def set_bonus(cls, new_amount):\n",
    "        cls.bonus_amount = new_amount\n",
    "        \n",
    "    @classmethod\n",
    "    def from_string(cls, employee_str, sep = ','):\n",
    "        idf, first, last, rate = employee_str.split(sep)\n",
    "        return cls(idf, first, last, rate)\n"
   ]
  },
  {
   "cell_type": "code",
   "execution_count": null,
   "metadata": {},
   "outputs": [],
   "source": [
    "emp_str3 = 'e0051-natalie-portmen-34000'\n",
    "emp_str4 = 'e3575,marlon,brando,16000'"
   ]
  },
  {
   "cell_type": "markdown",
   "metadata": {},
   "source": [
    "&nbsp;\n"
   ]
  },
  {
   "cell_type": "code",
   "execution_count": null,
   "metadata": {},
   "outputs": [],
   "source": [
    "emp3 = Bolt_employee.from_string(emp_str3, '-')\n",
    "emp4 = Bolt_employee.from_string(emp_str4)"
   ]
  },
  {
   "cell_type": "code",
   "execution_count": null,
   "metadata": {},
   "outputs": [],
   "source": [
    "emp3.info()"
   ]
  },
  {
   "cell_type": "code",
   "execution_count": null,
   "metadata": {},
   "outputs": [],
   "source": [
    "emp4.info()"
   ]
  },
  {
   "cell_type": "code",
   "execution_count": null,
   "metadata": {},
   "outputs": [],
   "source": [
    "reset"
   ]
  },
  {
   "cell_type": "markdown",
   "metadata": {},
   "source": [
    "&nbsp;\n",
    "\n",
    "* a static method pertains to the class or the instance but takes neither as an argument   "
   ]
  },
  {
   "cell_type": "code",
   "execution_count": null,
   "metadata": {},
   "outputs": [],
   "source": [
    "class Bolt_employee:\n",
    "    \n",
    "    # class variable\n",
    "    bonus_amount = 300\n",
    "    emp_counter = 0\n",
    "    \n",
    "    def __init__(self, idf, first, last, rate):\n",
    "        self.idf = idf\n",
    "        self.first = first.capitalize()\n",
    "        self.last = last.capitalize()\n",
    "        self.rate = rate\n",
    "        self.email = first + '.' + last + '@boltdesk.com'\n",
    "        \n",
    "        Bolt_employee.emp_counter += 1\n",
    "    \n",
    "    def info(self):\n",
    "        return '{}, {}, {}, {}'.format(self.idf, self.first, self.last, self.rate)\n",
    "    \n",
    "    def apply_bonus(self):\n",
    "        self.rate = int(self.rate + self.bonus_amount)  \n",
    "        \n",
    "    @classmethod          \n",
    "    def set_bonus(cls, new_amount):\n",
    "        cls.bonus_amount = new_amount\n",
    "        \n",
    "    @classmethod\n",
    "    def from_string(cls, employee_str, sep = ','):\n",
    "        idf, first, last, rate = employee_str.split(sep)\n",
    "        return cls(idf, first, last, rate)\n",
    "    \n",
    "    @staticmethod\n",
    "    def length_of_emp(start_date):\n",
    "        '''pass start date as a string \"YYYY,MM,DD\" '''\n",
    "        Y, M, D = start_date.split(',')\n",
    "        try:\n",
    "            td = date.today() - date(int(Y), int(M), int(D))\n",
    "            \n",
    "            print('length of employment: {} days'.format(td.days))\n",
    "        except NameError:\n",
    "            print(\"run 'from datetime import date'\")\n",
    "            \n"
   ]
  },
  {
   "cell_type": "code",
   "execution_count": null,
   "metadata": {},
   "outputs": [],
   "source": [
    "emp_str3 = 'e0051-natalie-portmen-34000'\n",
    "emp_str4 = 'e3575,marlon,brando,16000'\n",
    "\n",
    "emp3 = Bolt_employee.from_string(emp_str3, '-')\n",
    "emp4 = Bolt_employee.from_string(emp_str4)"
   ]
  },
  {
   "cell_type": "code",
   "execution_count": null,
   "metadata": {
    "hideOutput": true
   },
   "outputs": [],
   "source": [
    "emp3.length_of_emp('2014,06,30')"
   ]
  },
  {
   "cell_type": "code",
   "execution_count": null,
   "metadata": {},
   "outputs": [],
   "source": [
    "from datetime import date"
   ]
  },
  {
   "cell_type": "code",
   "execution_count": null,
   "metadata": {},
   "outputs": [],
   "source": [
    "emp3.length_of_emp('2017,09,29')"
   ]
  },
  {
   "cell_type": "markdown",
   "metadata": {},
   "source": [
    "______________________________________________"
   ]
  },
  {
   "cell_type": "code",
   "execution_count": null,
   "metadata": {},
   "outputs": [],
   "source": [
    "reset"
   ]
  },
  {
   "cell_type": "markdown",
   "metadata": {},
   "source": [
    "## evolution 3\n",
    "\n",
    "* class inheritance "
   ]
  },
  {
   "cell_type": "code",
   "execution_count": null,
   "metadata": {},
   "outputs": [],
   "source": [
    "class Bolt_employee:\n",
    "    \n",
    "    # class variable\n",
    "    bonus_amount = 300\n",
    "    emp_counter = 0\n",
    "    \n",
    "    def __init__(self, idf, first, last, rate):\n",
    "        self.idf = idf\n",
    "        self.first = first.capitalize()\n",
    "        self.last = last.capitalize()\n",
    "        self.rate = rate\n",
    "        self.email = first + '.' + last + '@boltdesk.com'\n",
    "        \n",
    "        Bolt_employee.emp_counter += 1\n",
    "    \n",
    "    def info(self):\n",
    "        return '{}, {}, {}, {}'.format(self.idf, self.first, self.last, self.rate)\n",
    "    \n",
    "    def apply_bonus(self):\n",
    "        self.rate = int(self.rate + self.bonus_amount)\n",
    "        \n",
    "    @classmethod         \n",
    "    def set_bonus(cls, new_amount):\n",
    "        cls.bonus_amount = new_amount\n",
    "        \n",
    "    @classmethod\n",
    "    def from_string(cls, employee_str, sep = ','):\n",
    "        idf, first, last, rate = employee_str.split(sep)\n",
    "        return cls(idf, first, last, rate)\n",
    "    \n",
    "    @staticmethod\n",
    "    def length_of_emp(start_date):\n",
    "        '''pass start date as a string \"YYYY,MM,DD\" '''\n",
    "        Y, M, D = start_date.split(',')\n",
    "        try:\n",
    "            td = date.today() - date(int(Y), int(M), int(D))\n",
    "            \n",
    "            print('length of employment: {} days'.format(td.days))\n",
    "        except NameError:\n",
    "            print(\"you need to run 'from datetime import date'\")\n",
    "            "
   ]
  },
  {
   "cell_type": "markdown",
   "metadata": {},
   "source": [
    "define a new class `Blot_driver` which inherits attributes of class `Bolt_employee`"
   ]
  },
  {
   "cell_type": "code",
   "execution_count": null,
   "metadata": {},
   "outputs": [],
   "source": [
    "class Bolt_driver(Bolt_employee):\n",
    "    pass\n",
    "   "
   ]
  },
  {
   "cell_type": "code",
   "execution_count": null,
   "metadata": {},
   "outputs": [],
   "source": [
    "emp2 = Bolt_employee('e1120','Brad', 'Pitt', 27000)\n",
    "\n",
    "drivr1 = Bolt_driver('d1958', 'Sofia', 'Vergara', 25)"
   ]
  },
  {
   "cell_type": "code",
   "execution_count": null,
   "metadata": {},
   "outputs": [],
   "source": [
    "drivr1.__dict__"
   ]
  },
  {
   "cell_type": "code",
   "execution_count": null,
   "metadata": {},
   "outputs": [],
   "source": [
    "isinstance(drivr1, Bolt_employee)"
   ]
  },
  {
   "cell_type": "code",
   "execution_count": null,
   "metadata": {},
   "outputs": [],
   "source": [
    "isinstance(drivr1, Bolt_driver)"
   ]
  },
  {
   "cell_type": "code",
   "execution_count": null,
   "metadata": {},
   "outputs": [],
   "source": [
    "isinstance(emp2, Bolt_driver)"
   ]
  },
  {
   "cell_type": "markdown",
   "metadata": {},
   "source": [
    "&nbsp;\n",
    "\n",
    "* method `issubclass(subclass, parent_class)` checks if the class `subclass` is a subclass of the `parent_class` "
   ]
  },
  {
   "cell_type": "code",
   "execution_count": null,
   "metadata": {},
   "outputs": [],
   "source": [
    "issubclass(Bolt_driver, Bolt_employee)"
   ]
  },
  {
   "cell_type": "markdown",
   "metadata": {},
   "source": [
    "&nbsp;\n",
    "\n",
    "&nbsp;\n",
    "\n",
    "let's add some methods to the new subclass `Bolt_driver`"
   ]
  },
  {
   "cell_type": "code",
   "execution_count": null,
   "metadata": {},
   "outputs": [],
   "source": [
    "reset"
   ]
  },
  {
   "cell_type": "code",
   "execution_count": null,
   "metadata": {},
   "outputs": [],
   "source": [
    "class Bolt_employee:\n",
    "    \n",
    "    # class variable\n",
    "    bonus_amount = 300\n",
    "    emp_counter = 0\n",
    "    \n",
    "    def __init__(self, idf, first, last, rate):\n",
    "        self.idf = idf\n",
    "        self.first = first.capitalize()\n",
    "        self.last = last.capitalize()\n",
    "        self.rate = rate\n",
    "        self.email = first + '.' + last + '@boltdesk.com'\n",
    "        \n",
    "        Bolt_employee.emp_counter += 1\n",
    "    \n",
    "    def info(self):\n",
    "        return '{}, {}, {}, {}'.format(self.idf, self.first, self.last, self.rate)\n",
    "    \n",
    "    def apply_bonus(self):\n",
    "        self.rate = int(self.rate + self.bonus_amount) \n",
    "        \n",
    "    @classmethod          \n",
    "    def set_bonus(cls, new_amount):\n",
    "        cls.bonus_amount = new_amount\n",
    "        \n",
    "    @classmethod\n",
    "    def from_string(cls, employee_str, sep = ','):\n",
    "        idf, first, last, rate = employee_str.split(sep)\n",
    "        return cls(idf, first, last, rate)\n",
    "    \n",
    "    @staticmethod\n",
    "    def length_of_emp(start_date):\n",
    "        '''pass start date as a string \"YYYY,MM,DD\" '''\n",
    "        Y, M, D = start_date.split(',')\n",
    "        try:\n",
    "            td = date.today() - date(int(Y), int(M), int(D))\n",
    "            \n",
    "            print('length of employment: {} days'.format(td.days))\n",
    "        except NameError:\n",
    "            print(\"you need to run 'from datetime import date'\")"
   ]
  },
  {
   "cell_type": "markdown",
   "metadata": {},
   "source": [
    "we can add new instace methods in the new subclass specific to that very subclass    \n",
    "\n",
    "in addition we can add instantiate the new subclass with extra arguments     "
   ]
  },
  {
   "cell_type": "code",
   "execution_count": null,
   "metadata": {},
   "outputs": [],
   "source": [
    "class Bolt_driver(Bolt_employee):\n",
    "    \n",
    "    def __init__ (self, idf, first, last, rate, workweek, license):\n",
    "            super().__init__(idf, first, last, rate)   #direct the new class to inherit idf, first, last and rate\n",
    "            self.workweek = workweek  # in hours\n",
    "            self.license = license\n",
    "            self.email = first + '.' + last + '@Boltvroom.com'\n",
    "            \n",
    "    # define a new class method biweek_pay         \n",
    "    def biweek_pay(self):\n",
    "            return 2 * self.workweek * self.rate\n",
    "   "
   ]
  },
  {
   "cell_type": "code",
   "execution_count": null,
   "metadata": {},
   "outputs": [],
   "source": [
    "emp1 = Bolt_employee('e5526','George', 'Clooney', 25000)\n",
    "emp2 = Bolt_employee('e1120','Brad', 'Pitt', 27000)\n",
    "emp3 = Bolt_employee('e0051','natalie','portmen',34000)\n",
    "\n",
    "drivr1 = Bolt_driver('d1958', 'sofia', 'vergara', 25, 45, ['A','D','K'])\n",
    "drivr2 = Bolt_driver('d0008', 'ryan', 'gosling', 18, 60, ['K','V','L1'])"
   ]
  },
  {
   "cell_type": "code",
   "execution_count": null,
   "metadata": {},
   "outputs": [],
   "source": [
    "drivr1.biweek_pay()"
   ]
  },
  {
   "cell_type": "code",
   "execution_count": null,
   "metadata": {},
   "outputs": [],
   "source": [
    "drivr2.biweek_pay()"
   ]
  },
  {
   "cell_type": "code",
   "execution_count": null,
   "metadata": {},
   "outputs": [],
   "source": [
    "drivr1.email"
   ]
  },
  {
   "cell_type": "code",
   "execution_count": null,
   "metadata": {},
   "outputs": [],
   "source": [
    "drivr1.license"
   ]
  },
  {
   "cell_type": "code",
   "execution_count": null,
   "metadata": {},
   "outputs": [],
   "source": [
    "drivr1.info()"
   ]
  },
  {
   "cell_type": "markdown",
   "metadata": {},
   "source": [
    "instance method `.info()` can be modified to reflect the additional class variables added to subclass `Bolt_driver()`. \n",
    "\n",
    "\n",
    "\n",
    "but before modifying `.info` let us create a new class `Bolt_super` a subclass of `Bolt_driver` where we can input the information of managining/supervising drivers. "
   ]
  },
  {
   "cell_type": "code",
   "execution_count": null,
   "metadata": {},
   "outputs": [],
   "source": [
    "reset"
   ]
  },
  {
   "cell_type": "code",
   "execution_count": null,
   "metadata": {},
   "outputs": [],
   "source": [
    "class Bolt_employee:\n",
    "    \n",
    "    # class variable\n",
    "    bonus_amount = 300\n",
    "    emp_counter = 0\n",
    "    \n",
    "    def __init__(self, idf, first, last, rate):\n",
    "        self.idf = idf\n",
    "        self.first = first.capitalize()\n",
    "        self.last = last.capitalize()\n",
    "        self.rate = rate\n",
    "        self.email = first + '.' + last + '@boltdesk.com'\n",
    "        \n",
    "        Bolt_employee.emp_counter += 1\n",
    "        \n",
    "### modify info ###\n",
    "###################\n",
    "\n",
    "    def info(self):\n",
    "        if isinstance(self, Bolt_super) or isinstance(self, Bolt_driver):\n",
    "            return '{}, {}, {}, {}, {}, {}'.format(self.idf, self.first, self.last, self.rate, self.workweek, self.license)\n",
    "        else:\n",
    "            return '{}, {}, {}, {}'.format(self.idf, self.first, self.last, self.rate)\n",
    "    \n",
    "    def apply_bonus(self):\n",
    "        self.rate = int(self.rate + self.bonus_amount) \n",
    "        \n",
    "    @classmethod            \n",
    "    def set_bonus(cls, new_amount):\n",
    "        cls.bonus_amount = new_amount\n",
    "        \n",
    "    @classmethod\n",
    "    def from_string(cls, employee_str, sep = ','):\n",
    "        idf, first, last, rate = employee_str.split(sep)\n",
    "        return cls(idf, first, last, rate)\n",
    "    \n",
    "    @staticmethod\n",
    "    def length_of_emp(start_date):\n",
    "        '''pass start date as a string \"YYYY,MM,DD\" '''\n",
    "        Y, M, D = start_date.split(',')\n",
    "        try:\n",
    "            td = date.today() - date(int(Y), int(M), int(D))\n",
    "            \n",
    "            print('length of employment: {} days'.format(td.days))\n",
    "        except NameError:\n",
    "            print(\"you need to run 'from datetime import date'\")\n",
    "            "
   ]
  },
  {
   "cell_type": "code",
   "execution_count": null,
   "metadata": {},
   "outputs": [],
   "source": [
    "class Bolt_driver(Bolt_employee):\n",
    "    \n",
    "    def __init__ (self, idf, first, last, rate, workweek, license):\n",
    "            super().__init__(idf, first, last, rate)\n",
    "            self.workweek = workweek  # in hours\n",
    "            self.license = license\n",
    "            self.email = first + '.' + last + '@Boltvroom.com'\n",
    "            \n",
    "    def biweek_pay(self):\n",
    "            return 2 * self.workweek * self.rate"
   ]
  },
  {
   "cell_type": "markdown",
   "metadata": {},
   "source": [
    "&nbsp;\n",
    "\n",
    "define the new subclass `Bolt_super`\n",
    "\n",
    "this new class acts very similar to `Bolt_driver` with the exception that it allows us to enter **instances** of other drivers of the class `Bolt_driver` "
   ]
  },
  {
   "cell_type": "code",
   "execution_count": null,
   "metadata": {},
   "outputs": [],
   "source": [
    "class Bolt_super(Bolt_driver):\n",
    "    \n",
    "    def __init__ (self, idf, first, last, rate, workweek, license, drivers=None):\n",
    "        super().__init__(idf, first, last, rate, workweek, license)\n",
    "        if drivers is None:\n",
    "            self.drivers = []\n",
    "        else:\n",
    "            self.drivers = drivers\n",
    "    "
   ]
  },
  {
   "cell_type": "markdown",
   "metadata": {},
   "source": [
    "&nbsp;\n",
    "\n",
    "also notice that the instance method `.info()` changed now to detect whether an intance is of `Bolt_employee` or not   "
   ]
  },
  {
   "cell_type": "code",
   "execution_count": null,
   "metadata": {},
   "outputs": [],
   "source": [
    "emp1 = Bolt_employee('e5526','George', 'Clooney', 25000)\n",
    "emp2 = Bolt_employee('e1120','Brad', 'Pitt', 27000)\n",
    "\n",
    "drivr1 = Bolt_driver('d1958', 'sofia', 'vergara', 25, 45, ['A','D','K'])\n",
    "drivr2 = Bolt_driver('d0008', 'ryan', 'gosling', 18, 60, ['K','V','L1'])\n",
    "drivr3 = Bolt_driver('d3948', 'marlon', 'brando', 60, 49, 'F')\n",
    "drivr4 = Bolt_driver('d8475', 'melissa', 'mccarthy', 71, 41, ['A, K, Lq'])\n",
    "\n",
    "super1 = Bolt_super('s9938', 'bill', 'murry', 112, 50, 'F', drivers = [drivr1, drivr3])\n",
    "super2 = Bolt_super('s0391', 'kirsten', 'wiig', 152, 20, ['D', 'L1', 'Lq'], drivers = [drivr2, drivr3, drivr4])"
   ]
  },
  {
   "cell_type": "code",
   "execution_count": null,
   "metadata": {},
   "outputs": [],
   "source": [
    "emp1.info()"
   ]
  },
  {
   "cell_type": "code",
   "execution_count": null,
   "metadata": {},
   "outputs": [],
   "source": [
    "drivr1.info(), drivr2.info()"
   ]
  },
  {
   "cell_type": "code",
   "execution_count": null,
   "metadata": {},
   "outputs": [],
   "source": [
    "super1.info(), super2.info()"
   ]
  },
  {
   "cell_type": "code",
   "execution_count": null,
   "metadata": {},
   "outputs": [],
   "source": [
    "super1.drivers"
   ]
  },
  {
   "cell_type": "markdown",
   "metadata": {},
   "source": [
    "&nbsp;\n",
    "\n",
    "because these are objects themselves, displaying the drivers managed by a *super* by calling the instance variable `.drivers` does not diplay namespaces of the drivers, rather the objects themselves. \n",
    "\n",
    "create a new instance method `print_d()` under subclass `Bolt_super` to print the drivers that belong to one supervisor. \n"
   ]
  },
  {
   "cell_type": "code",
   "execution_count": null,
   "metadata": {},
   "outputs": [],
   "source": [
    "reset"
   ]
  },
  {
   "cell_type": "code",
   "execution_count": null,
   "metadata": {},
   "outputs": [],
   "source": [
    "class Bolt_employee:\n",
    "    \n",
    "    # class variable\n",
    "    bonus_amount = 300\n",
    "    emp_counter = 0\n",
    "    \n",
    "    def __init__(self, idf, first, last, rate):\n",
    "        self.idf = idf\n",
    "        self.first = first.capitalize()\n",
    "        self.last = last.capitalize()\n",
    "        self.rate = rate\n",
    "        self.email = first + '.' + last + '@boltdesk.com'\n",
    "        \n",
    "        Bolt_employee.emp_counter += 1\n",
    "        \n",
    "### modify info ###\n",
    "###################\n",
    "\n",
    "    def info(self):\n",
    "        if isinstance(self, Bolt_super) or isinstance(self, Bolt_driver):\n",
    "            return '{}, {}, {}, {}, {}, {}'.format(self.idf, self.first, self.last, self.rate, self.workweek, self.license)\n",
    "        else:\n",
    "            return '{}, {}, {}, {}'.format(self.idf, self.first, self.last, self.rate)\n",
    "    \n",
    "    def apply_bonus(self):\n",
    "        self.rate = int(self.rate + self.bonus_amount)  \n",
    "        \n",
    "    @classmethod          \n",
    "    def set_bonus(cls, new_amount):\n",
    "        cls.bonus_amount = new_amount\n",
    "        \n",
    "    @classmethod\n",
    "    def from_string(cls, employee_str, sep = ','):\n",
    "        idf, first, last, rate = employee_str.split(sep)\n",
    "        return cls(idf, first, last, rate)\n",
    "    \n",
    "    @staticmethod\n",
    "    def length_of_emp(start_date):\n",
    "        '''pass start date as a string \"YYYY,MM,DD\" '''\n",
    "        Y, M, D = start_date.split(',')\n",
    "        try:\n",
    "            td = date.today() - date(int(Y), int(M), int(D))\n",
    "            \n",
    "            print('length of employment: {} days'.format(td.days))\n",
    "        except NameError:\n",
    "            print(\"you need to run 'from datetime import date'\")\n",
    "            "
   ]
  },
  {
   "cell_type": "code",
   "execution_count": null,
   "metadata": {},
   "outputs": [],
   "source": [
    "class Bolt_driver(Bolt_employee):\n",
    "    \n",
    "    def __init__ (self, idf, first, last, rate, workweek, license):\n",
    "            super().__init__(idf, first, last, rate)\n",
    "            self.workweek = workweek  # in hours\n",
    "            self.license = license\n",
    "            self.email = first + '.' + last + '@Boltvroom.com'\n",
    "            \n",
    "    def biweek_pay(self):\n",
    "            return 2 * self.workweek * self.rate"
   ]
  },
  {
   "cell_type": "code",
   "execution_count": null,
   "metadata": {},
   "outputs": [],
   "source": [
    "class Bolt_super(Bolt_driver):\n",
    "    \n",
    "    def __init__ (self, idf, first, last, rate, workweek, license, drivers=None):\n",
    "        super().__init__(idf, first, last, rate, workweek, license)\n",
    "        if drivers is None:\n",
    "            self.drivers = []\n",
    "        else:\n",
    "            self.drivers = drivers\n",
    "    \n",
    "    def print_d(self):\n",
    "        for driver in self.drivers:\n",
    "            print('driver: '+ driver.first +' '+ driver.last)"
   ]
  },
  {
   "cell_type": "code",
   "execution_count": null,
   "metadata": {},
   "outputs": [],
   "source": [
    "drivr1 = Bolt_driver('d1958', 'sofia', 'vergara', 25, 45, ['A','D','K'])\n",
    "drivr2 = Bolt_driver('d0008', 'ryan', 'gosling', 18, 60, ['K','V','L1'])\n",
    "drivr3 = Bolt_driver('d3948', 'marlon', 'brando', 60, 49, 'F')\n",
    "drivr4 = Bolt_driver('d8475', 'melissa', 'mccarthy', 71, 41, ['A, K, Lq'])\n",
    "\n",
    "super1 = Bolt_super('s9938', 'bill', 'murry', 112, 50, 'F', drivers = [drivr1, drivr3])\n",
    "super2 = Bolt_super('s0391', 'kirsten', 'wiig', 152, 20, ['D', 'L1', 'Lq'], drivers = [drivr2, drivr3, drivr4])"
   ]
  },
  {
   "cell_type": "code",
   "execution_count": null,
   "metadata": {},
   "outputs": [],
   "source": [
    "super1.print_d()"
   ]
  },
  {
   "cell_type": "code",
   "execution_count": null,
   "metadata": {},
   "outputs": [],
   "source": [
    "super2.print_d()"
   ]
  },
  {
   "cell_type": "code",
   "execution_count": null,
   "metadata": {},
   "outputs": [],
   "source": [
    "super1.biweek_pay()"
   ]
  },
  {
   "cell_type": "code",
   "execution_count": null,
   "metadata": {},
   "outputs": [],
   "source": [
    "super2.biweek_pay()"
   ]
  },
  {
   "cell_type": "markdown",
   "metadata": {},
   "source": [
    "&nbsp;\n",
    "\n",
    "what if we want to add (append) new drivers or release drivers from a supervisors we need an instance method that allows us to do that "
   ]
  },
  {
   "cell_type": "code",
   "execution_count": null,
   "metadata": {},
   "outputs": [],
   "source": [
    "reset"
   ]
  },
  {
   "cell_type": "code",
   "execution_count": null,
   "metadata": {},
   "outputs": [],
   "source": [
    "class Bolt_employee:\n",
    "    \n",
    "    # class variable\n",
    "    bonus_amount = 300\n",
    "    emp_counter = 0\n",
    "    \n",
    "    def __init__(self, idf, first, last, rate):\n",
    "        self.idf = idf\n",
    "        self.first = first.capitalize()\n",
    "        self.last = last.capitalize()\n",
    "        self.rate = rate\n",
    "        self.email = first + '.' + last + '@boltdesk.com'\n",
    "        \n",
    "        Bolt_employee.emp_counter += 1\n",
    "        \n",
    "    # modify info to accommodate Bolt_super and Bolt_driver\n",
    "    def info(self):\n",
    "        if isinstance(self, Bolt_super) or isinstance(self, Bolt_driver):\n",
    "            return '{}, {}, {}, {}, {}, {}'.format(self.idf, self.first, self.last, self.rate, self.workweek, self.license)\n",
    "        else:\n",
    "            return '{}, {}, {}, {}'.format(self.idf, self.first, self.last, self.rate)\n",
    "    \n",
    "    def apply_bonus(self):\n",
    "        self.rate = int(self.rate + self.bonus_amount)  \n",
    "        \n",
    "    @classmethod          \n",
    "    def set_bonus(cls, new_amount):\n",
    "        cls.bonus_amount = new_amount\n",
    "        \n",
    "    @classmethod\n",
    "    def from_string(cls, employee_str, sep = ','):\n",
    "        idf, first, last, rate = employee_str.split(sep)\n",
    "        return cls(idf, first, last, rate)\n",
    "    \n",
    "    @staticmethod\n",
    "    def length_of_emp(start_date):\n",
    "        '''pass start date as a string \"YYYY,MM,DD\" '''\n",
    "        Y, M, D = start_date.split(',')\n",
    "        try:\n",
    "            td = date.today() - date(int(Y), int(M), int(D))\n",
    "            \n",
    "            print('length of employment: {} days'.format(td.days))\n",
    "        except NameError:\n",
    "            print(\"you need to run 'from datetime import date'\")\n",
    "            "
   ]
  },
  {
   "cell_type": "code",
   "execution_count": null,
   "metadata": {},
   "outputs": [],
   "source": [
    "class Bolt_driver(Bolt_employee):\n",
    "    \n",
    "    def __init__ (self, idf, first, last, rate, workweek, license):\n",
    "            super().__init__(idf, first, last, rate)\n",
    "            self.workweek = workweek  # in hours\n",
    "            self.license = license\n",
    "            self.email = first + '.' + last + '@Boltvroom.com'\n",
    "            \n",
    "    def biweek_pay(self):\n",
    "            return 2 * self.workweek * self.rate"
   ]
  },
  {
   "cell_type": "code",
   "execution_count": null,
   "metadata": {},
   "outputs": [],
   "source": [
    "class Bolt_super(Bolt_driver):\n",
    "    \n",
    "    def __init__ (self, idf, first, last, rate, workweek, license, drivers=None):\n",
    "        super().__init__(idf, first, last, rate, workweek, license)\n",
    "        if drivers is None:\n",
    "            self.drivers = []\n",
    "        else:\n",
    "            self.drivers = drivers\n",
    "    \n",
    "    def print_d(self):\n",
    "        if self.drivers == []:\n",
    "            print('[]')\n",
    "        else:\n",
    "            for driver in self.drivers:\n",
    "                print('driver: '+ driver.first +' '+ driver.last)\n",
    "      \n",
    "    ### add two new instance methods ###\n",
    "    ####################################\n",
    "    \n",
    "    def add_d(self, new_driver):\n",
    "        if isinstance(new_driver, Bolt_driver):    # check for Bolt_driver instance to prevent addition of employees\n",
    "            if new_driver not in self.drivers:     # check that the driver is not already managed by the supervisor\n",
    "                self.drivers.append(new_driver)\n",
    "                print('added: {1} ,{0}'.format(new_driver.first, new_driver.last), end = '\\n')\n",
    "            else:\n",
    "                print('duplicate driver') \n",
    "        else:        \n",
    "            raise ValueError('failed: subclass incompatible')   # raise ValueError if an incompatible class is added\n",
    "                \n",
    "    \n",
    "    def rm_d(self, rm_driver):  \n",
    "        if rm_driver in self.drivers:                           # check that the driver already exists                  \n",
    "            self.drivers.remove(rm_driver)                   \n",
    "            print('removed: {1} ,{0}'.format(rm_driver.first, rm_driver.last), end = '\\n')\n",
    "            \n",
    "        else:\n",
    "            print('faild. driver not found')"
   ]
  },
  {
   "cell_type": "code",
   "execution_count": null,
   "metadata": {},
   "outputs": [],
   "source": [
    "emp1 = Bolt_employee('e5526','George', 'Clooney', 25000)\n",
    "emp2 = Bolt_employee('e1120','Brad', 'Pitt', 27000)\n",
    "emp3 = Bolt_employee('e0051','natalie','portmen',34000)\n",
    "\n",
    "drivr1 = Bolt_driver('d1958', 'sofia', 'vergara', 25, 45, ['A','D','K'])\n",
    "drivr2 = Bolt_driver('d0008', 'ryan', 'gosling', 18, 60, ['K','V','L1'])\n",
    "drivr3 = Bolt_driver('d3948', 'marlon', 'brando', 60, 49, 'F')\n",
    "drivr4 = Bolt_driver('d8475', 'melissa', 'mccarthy', 71, 41, ['A, K, Lq'])\n",
    "drivr5 = Bolt_driver('d3875', 'jennifer', 'aniston', 65, 50, ['L1', 'Lv', 'Lq'])\n",
    "\n",
    "super1 = Bolt_super('s9938', 'bill', 'murry', 112, 50, 'F', [drivr1, drivr3])\n",
    "super2 = Bolt_super('s0391', 'kirsten', 'wiig', 152, 20, ['D', 'L1', 'Lq'], [drivr2, drivr3, drivr4])\n",
    "super3 = Bolt_super('s0106', 'adam', 'sandler', 128, 52, ['Lq, V'])"
   ]
  },
  {
   "cell_type": "code",
   "execution_count": null,
   "metadata": {},
   "outputs": [],
   "source": [
    "super1.print_d()"
   ]
  },
  {
   "cell_type": "code",
   "execution_count": null,
   "metadata": {},
   "outputs": [],
   "source": [
    "super1.add_d(emp1)"
   ]
  },
  {
   "cell_type": "code",
   "execution_count": null,
   "metadata": {},
   "outputs": [],
   "source": [
    "super1.add_d(drivr1)"
   ]
  },
  {
   "cell_type": "code",
   "execution_count": null,
   "metadata": {},
   "outputs": [],
   "source": [
    "super1.add_d(drivr5)"
   ]
  },
  {
   "cell_type": "code",
   "execution_count": null,
   "metadata": {},
   "outputs": [],
   "source": [
    "super1.print_d()"
   ]
  },
  {
   "cell_type": "markdown",
   "metadata": {},
   "source": [
    "add a few drivers"
   ]
  },
  {
   "cell_type": "code",
   "execution_count": null,
   "metadata": {},
   "outputs": [],
   "source": [
    "super3.add_d(drivr2)\n",
    "super3.add_d(drivr3)\n",
    "super3.add_d(super1)"
   ]
  },
  {
   "cell_type": "code",
   "execution_count": null,
   "metadata": {},
   "outputs": [],
   "source": [
    "super3.print_d()"
   ]
  },
  {
   "cell_type": "markdown",
   "metadata": {},
   "source": [
    "we can drop driver `super1`"
   ]
  },
  {
   "cell_type": "code",
   "execution_count": null,
   "metadata": {},
   "outputs": [],
   "source": [
    "super3.rm_d(super3)"
   ]
  },
  {
   "cell_type": "code",
   "execution_count": null,
   "metadata": {},
   "outputs": [],
   "source": [
    "super3.rm_d(super1)"
   ]
  },
  {
   "cell_type": "code",
   "execution_count": null,
   "metadata": {},
   "outputs": [],
   "source": [
    "super3.print_d()"
   ]
  },
  {
   "cell_type": "markdown",
   "metadata": {},
   "source": [
    "____________________________________________"
   ]
  },
  {
   "cell_type": "markdown",
   "metadata": {},
   "source": [
    "if you attempt to print any of the instances above the result is the object and not the contents of the object "
   ]
  },
  {
   "cell_type": "code",
   "execution_count": null,
   "metadata": {},
   "outputs": [],
   "source": [
    "print(emp3)"
   ]
  },
  {
   "cell_type": "markdown",
   "metadata": {},
   "source": [
    "we can use two special methods to allow print to return an unambiguous result."
   ]
  },
  {
   "cell_type": "code",
   "execution_count": null,
   "metadata": {},
   "outputs": [],
   "source": [
    "reset"
   ]
  },
  {
   "cell_type": "markdown",
   "metadata": {},
   "source": [
    "## evolution 4\n",
    "\n",
    "1 special method `__rper__`    \n",
    "2 special method `__str__`"
   ]
  },
  {
   "cell_type": "code",
   "execution_count": null,
   "metadata": {},
   "outputs": [],
   "source": [
    "class Bolt_employee:\n",
    "    \n",
    "    #any required modules can be added here\n",
    "    from datetime import datetime\n",
    "    \n",
    "    # class variable\n",
    "    bonus_amount = 300\n",
    "    emp_counter = 0\n",
    "    \n",
    "    def __init__(self, idf, first, last, rate):\n",
    "        self.idf = idf\n",
    "        self.first = first.capitalize()\n",
    "        self.last = last.capitalize()\n",
    "        self.rate = rate\n",
    "        self.email = first + '.' + last + '@boltdesk.com'\n",
    "        #add a new piece of info intended only for the __repr__ method\n",
    "        self.created = datetime.now().strftime(\"%A, %d. %B %Y %I:%M%p\")\n",
    "        \n",
    "        Bolt_employee.emp_counter += 1\n",
    "        \n",
    "    ### add special methods __str__ and __rper__ ###\n",
    "    ################################################\n",
    "\n",
    "    def __str__(self):\n",
    "        if isinstance(self, Bolt_driver):\n",
    "            return('{} {}, {}, biweekly rate {}, '.format(self.first, self.last, self.email, self.biweek_pay()))\n",
    "        else:\n",
    "            return('{} {}, {}, salary {}'.format(self.first, self.last, self.email, self.rate))\n",
    "\n",
    "    # rper returns values that are meant to be seen by a developer \n",
    "    # print(rper(class instance)) is used to print more information \n",
    "\n",
    "    def __repr__(self):\n",
    "        division = 'employee'\n",
    "        \n",
    "        if isinstance(self, Bolt_driver):\n",
    "            if isinstance(self, Bolt_super):\n",
    "                division = 'supervisor'\n",
    "                return('{}, {}, {}, {}'.format(self.idf, self.email, division, self.created))\n",
    "                \n",
    "            else:\n",
    "                division = 'driver'\n",
    "                return('{}, {}, {}, {}'.format(self.idf, self.email, division, self.created))\n",
    "        else:\n",
    "            return('{}, {}, {}, {}'.format(self.idf, self.email, division, self.created))\n",
    "        \n",
    "        \n",
    "\n",
    "    def info(self):\n",
    "        if isinstance(self, Bolt_super) or isinstance(self, Bolt_driver):\n",
    "            return '{}, {}, {}, {}, {}, {}'.format(self.idf, self.first, self.last, self.rate, self.workweek, self.license)\n",
    "        else:\n",
    "            return '{}, {}, {}, {}'.format(self.idf, self.first, self.last, self.rate)\n",
    "    \n",
    "    def apply_bonus(self):\n",
    "        self.rate = int(self.rate + self.bonus_amount)  \n",
    "        \n",
    "    @classmethod            \n",
    "    def set_bonus(cls, new_amount):\n",
    "        cls.bonus_amount = new_amount\n",
    "        \n",
    "    @classmethod\n",
    "    def from_string(cls, employee_str, sep = ','):\n",
    "        idf, first, last, rate = employee_str.split(sep)\n",
    "        return cls(idf, first, last, rate)\n",
    "    \n",
    "    @staticmethod\n",
    "    def length_of_emp(start_date):\n",
    "        '''pass start date as a string \"YYYY,MM,DD\" '''\n",
    "        Y, M, D = start_date.split(',')\n",
    "        try:\n",
    "            td = date.today() - date(int(Y), int(M), int(D))\n",
    "            \n",
    "            print('length of employment: {} days'.format(td.days))\n",
    "        except NameError:\n",
    "            print(\"you need to run 'from datetime import date'\") \n",
    "            "
   ]
  },
  {
   "cell_type": "code",
   "execution_count": null,
   "metadata": {},
   "outputs": [],
   "source": [
    "class Bolt_driver(Bolt_employee):\n",
    "    \n",
    "    def __init__ (self, idf, first, last, rate, workweek, license):\n",
    "            super().__init__(idf, first, last, rate)\n",
    "            self.workweek = workweek  # in hours\n",
    "            self.license = license\n",
    "            self.email = first + '.' + last + '@Boltvroom.com'\n",
    "            \n",
    "    def biweek_pay(self):\n",
    "            return 2 * self.workweek * self.rate"
   ]
  },
  {
   "cell_type": "code",
   "execution_count": null,
   "metadata": {},
   "outputs": [],
   "source": [
    "class Bolt_super(Bolt_driver):\n",
    "    \n",
    "    def __init__ (self, idf, first, last, rate, workweek, license, drivers=None):\n",
    "        super().__init__(idf, first, last, rate, workweek, license)\n",
    "        if drivers is None:\n",
    "            self.drivers = []\n",
    "        else:\n",
    "            self.drivers = drivers\n",
    "    \n",
    "    def print_d(self):\n",
    "        if self.drivers == []:\n",
    "            print('[]')\n",
    "        else:\n",
    "            for driver in self.drivers:\n",
    "                print('driver: '+ driver.first +' '+ driver.last)\n",
    "            \n",
    "\n",
    "    def add_d(self, new_driver):\n",
    "        if isinstance(new_driver, Bolt_driver):    # check for Bolt_driver instance to prevent addition of employees\n",
    "            if new_driver not in self.drivers:     # check that the driver is not already managed by the supervisor\n",
    "                self.drivers.append(new_driver)\n",
    "                print('added: {1} ,{0}'.format(new_driver.first, new_driver.last), end = '\\n')\n",
    "            else:\n",
    "                print('duplicate driver') \n",
    "        else:        \n",
    "            raise ValueError('failed: subclass incompatible')   # raise ValueError if an incompatible class is added\n",
    "                \n",
    "    \n",
    "    def rm_d(self, rm_driver):  \n",
    "        if rm_driver in self.drivers:                           # check that the driver already exists                  \n",
    "            self.drivers.remove(rm_driver)                   \n",
    "            print('removed: {1} ,{0}'.format(rm_driver.first, rm_driver.last), end = '\\n')\n",
    "            \n",
    "        else:\n",
    "            print('faild. driver not found')"
   ]
  },
  {
   "cell_type": "code",
   "execution_count": null,
   "metadata": {},
   "outputs": [],
   "source": [
    "emp1 = Bolt_employee('e5526','George', 'Clooney', 25000)\n",
    "emp2 = Bolt_employee('e1120','Brad', 'Pitt', 27000)\n",
    "emp3 = Bolt_employee('e0051','natalie','portmen',34000)\n",
    "\n",
    "drivr1 = Bolt_driver('d1958', 'sofia', 'vergara', 25, 45, ['A','D','K'])\n",
    "drivr2 = Bolt_driver('d0008', 'ryan', 'gosling', 18, 60, ['K','V','L1'])\n",
    "drivr3 = Bolt_driver('d3948', 'marlon', 'brando', 60, 49, 'F')\n",
    "drivr4 = Bolt_driver('d8475', 'melissa', 'mccarthy', 71, 41, ['A, K, Lq'])\n",
    "drivr5 = Bolt_driver('d3875', 'jennifer', 'aniston', 65, 50, ['L1', 'Lv', 'Lq'])\n",
    "\n",
    "super1 = Bolt_super('s9938', 'bill', 'murry', 112, 50, 'F', [drivr1, drivr3])\n",
    "super2 = Bolt_super('s0391', 'kirsten', 'wiig', 152, 20, ['D', 'L1', 'Lq'], [drivr2, drivr3, drivr4])\n",
    "super3 = Bolt_super('s0106', 'adam', 'sandler', 128, 52, ['Lq, V'])"
   ]
  },
  {
   "cell_type": "markdown",
   "metadata": {},
   "source": [
    "&nbsp;\n"
   ]
  },
  {
   "cell_type": "code",
   "execution_count": null,
   "metadata": {},
   "outputs": [],
   "source": [
    "print(emp1)"
   ]
  },
  {
   "cell_type": "code",
   "execution_count": null,
   "metadata": {},
   "outputs": [],
   "source": [
    "print(drivr2)"
   ]
  },
  {
   "cell_type": "code",
   "execution_count": null,
   "metadata": {},
   "outputs": [],
   "source": [
    "print(super3)"
   ]
  },
  {
   "cell_type": "markdown",
   "metadata": {},
   "source": [
    "&nbsp;\n"
   ]
  },
  {
   "cell_type": "code",
   "execution_count": null,
   "metadata": {},
   "outputs": [],
   "source": [
    "print(repr(emp1))"
   ]
  },
  {
   "cell_type": "code",
   "execution_count": null,
   "metadata": {},
   "outputs": [],
   "source": [
    "print(repr(drivr2))"
   ]
  },
  {
   "cell_type": "code",
   "execution_count": null,
   "metadata": {},
   "outputs": [],
   "source": [
    "print(repr(super3))"
   ]
  },
  {
   "cell_type": "code",
   "execution_count": null,
   "metadata": {},
   "outputs": [],
   "source": [
    "super3.__dict__"
   ]
  },
  {
   "cell_type": "markdown",
   "metadata": {},
   "source": [
    "&nbsp;\n",
    "\n",
    "&nbsp;\n",
    "\n",
    "`help(class)` returns the method resolution order which deliniates the methods and variables within the class"
   ]
  },
  {
   "cell_type": "code",
   "execution_count": null,
   "metadata": {},
   "outputs": [],
   "source": [
    "help(Bolt_employee)"
   ]
  },
  {
   "cell_type": "code",
   "execution_count": null,
   "metadata": {},
   "outputs": [],
   "source": [
    "help(Bolt_driver)"
   ]
  },
  {
   "cell_type": "code",
   "execution_count": null,
   "metadata": {},
   "outputs": [],
   "source": []
  }
 ],
 "metadata": {
  "kernelspec": {
   "display_name": "Python 3",
   "language": "python",
   "name": "python3"
  },
  "language_info": {
   "codemirror_mode": {
    "name": "ipython",
    "version": 3
   },
   "file_extension": ".py",
   "mimetype": "text/x-python",
   "name": "python",
   "nbconvert_exporter": "python",
   "pygments_lexer": "ipython3",
   "version": "3.6.4"
  }
 },
 "nbformat": 4,
 "nbformat_minor": 2
}
