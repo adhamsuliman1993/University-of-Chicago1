{
 "cells": [
  {
   "cell_type": "markdown",
   "metadata": {},
   "source": [
    "# Date and Time in Python\n",
    "\n",
    "* date and time in Python are handled using the standard module `datetime`. "
   ]
  },
  {
   "cell_type": "code",
   "execution_count": null,
   "metadata": {},
   "outputs": [],
   "source": [
    "from datetime import *\n"
   ]
  },
  {
   "cell_type": "code",
   "execution_count": null,
   "metadata": {},
   "outputs": [],
   "source": [
    "datetime.datetime.now()"
   ]
  },
  {
   "cell_type": "markdown",
   "metadata": {},
   "source": [
    "formatted as: `year, month, day, hour, minute, second`, and `microsecond`"
   ]
  },
  {
   "cell_type": "code",
   "execution_count": null,
   "metadata": {},
   "outputs": [],
   "source": [
    "my_list = ['year','month','day','hour','minute','second','microsecond']\n",
    "\n",
    "t_1 = datetime.datetime.now()"
   ]
  },
  {
   "cell_type": "markdown",
   "metadata": {},
   "source": [
    "in the code chunk below the method `eval()` is used to evaluate a string as a Python expression."
   ]
  },
  {
   "cell_type": "code",
   "execution_count": null,
   "metadata": {},
   "outputs": [],
   "source": [
    "for item in my_list:\n",
    "    print('{}: '.format(item), eval('t_1.'+item))"
   ]
  },
  {
   "cell_type": "markdown",
   "metadata": {},
   "source": [
    "* the `date` object from `datetime` represents a date in a Georgean Calendar indefinitely extended in both directions.  \n",
    "* Jan 1 0001 is day number 1, Jan 2 0002 is day number 2, etc.    \n",
    "* to switch between this ordinal representation and the date representation two `date` methods are employed: `toordinal()` and `fromordinal()`"
   ]
  },
  {
   "cell_type": "code",
   "execution_count": null,
   "metadata": {},
   "outputs": [],
   "source": [
    "date.today()"
   ]
  },
  {
   "cell_type": "code",
   "execution_count": null,
   "metadata": {},
   "outputs": [],
   "source": [
    "date.toordinal(date.today())"
   ]
  },
  {
   "cell_type": "code",
   "execution_count": null,
   "metadata": {},
   "outputs": [],
   "source": [
    "d = datetime.date(2018, 7, 31)\n",
    "date.toordinal(d)"
   ]
  },
  {
   "cell_type": "code",
   "execution_count": null,
   "metadata": {},
   "outputs": [],
   "source": [
    "for i in range(736695, 736710):\n",
    "    print(i,'  ',date.fromordinal(i))"
   ]
  },
  {
   "cell_type": "markdown",
   "metadata": {},
   "source": [
    "&nbsp;\n",
    "\n",
    "* `strftime()` is a method in module `date()` that allows us to explicitly format the month, day and year in additinal to other directives.      "
   ]
  },
  {
   "cell_type": "code",
   "execution_count": null,
   "metadata": {},
   "outputs": [],
   "source": [
    "for i in range(736695, 736710):\n",
    "    print(i,'   ',date.fromordinal(i),'   ',date.fromordinal(i).strftime(\"%a %b %Y-%m-%d\"))"
   ]
  },
  {
   "cell_type": "markdown",
   "metadata": {},
   "source": [
    "&nbsp;\n",
    "\n",
    "* `utcnow` returns the current UTC date and time."
   ]
  },
  {
   "cell_type": "code",
   "execution_count": null,
   "metadata": {},
   "outputs": [],
   "source": [
    "datetime.datetime.utcnow().strftime(\"%a %b %Y-%m-%d %H:%M:%S:%f\")"
   ]
  },
  {
   "cell_type": "markdown",
   "metadata": {},
   "source": [
    "&nbsp;\n",
    "\n",
    "* while `datetime` is good for working with UTC (Universal Coordinated Time) and can handle different time zones the module `time` is mainly designed for working with unix time or unix epoch.  \n",
    "\n",
    "\n",
    "* Unix time is a system for describing a point in time as the numeber of seconds that have elapsed since 00:00:00 UTC, on Thursday 1 January 1970. In this way `time` does not extend back indefinitely.   \n",
    "\n",
    "\n",
    "* this is the same way that `R` handles data and time."
   ]
  },
  {
   "cell_type": "markdown",
   "metadata": {},
   "source": [
    "* the value returned by `time.time()` is total number of seconds since the Unix epoch. It is mostly implemented to measure elapsed times for code execution. "
   ]
  },
  {
   "cell_type": "code",
   "execution_count": null,
   "metadata": {},
   "outputs": [],
   "source": [
    "import time\n",
    "time.time()"
   ]
  },
  {
   "cell_type": "markdown",
   "metadata": {},
   "source": [
    "* method `strftime()` is also a method from module `time` and it operated in the same manner described earlier with `datetime`  "
   ]
  },
  {
   "cell_type": "code",
   "execution_count": null,
   "metadata": {},
   "outputs": [],
   "source": [
    "time.strftime(\"%Y-%m-%d %H:%M:%S\")"
   ]
  },
  {
   "cell_type": "code",
   "execution_count": null,
   "metadata": {},
   "outputs": [],
   "source": [
    "time.strftime(\"%a %b %Y-%m-%d %H:%M:%S\")"
   ]
  },
  {
   "cell_type": "code",
   "execution_count": null,
   "metadata": {},
   "outputs": [],
   "source": [
    "time.strftime(\"%c\")"
   ]
  },
  {
   "cell_type": "markdown",
   "metadata": {},
   "source": [
    "** a list of datetime directives:  **\n",
    "\n",
    "\n",
    "`%a`\tAbbreviated weekday name  \n",
    "`%A`\tFull weekday name  \n",
    "`%b`\tAbbreviated month name  \n",
    "`%B`\tFull month name  \n",
    "`%c`\tAppropriate date and time representation  \n",
    "`%d`\tDay of the month as a decimal number [01,31]  \n",
    "`%H`\tHour (24h clock) as a decimal number [00,23]  \n",
    "`%I`\tHour(12h clock) as a decimal number [01,12]  \n",
    "`%j`\tDay of the year as a decimal number [001,366]  \n",
    "`%m`\tMonth as a decimal number [01,12]  \n",
    "`%M`\tMinute as a decimal number [00,59]  \n",
    "`%p`\tAM, PM  \n",
    "`%S`\tSeconds as a decimal number [00,61]  \n",
    "`%U`\tWeek number of year (Sunday as the first day of week as a decimal number [00,53]  \n",
    "`%w`\tWeekday as a decimal number [0(Sunday),6)  \n",
    "`%W`\tWeek number of year (Monday as the first day of week as a decimal number [00,53]  \n",
    "`%x`\tAppropriate date representation  \n",
    "`%X`\tAppropriate time representation  \n",
    "`%y`\tYear without century as a decimal number [0,99]   \n",
    "`%Y`\tYear with the century as a decimal number  \n",
    "`%z`\tTime zone name   \n",
    "`%%`\tA literal % character \n",
    "\n",
    "\n",
    "complete <a href = http://strftime.org>list</a>."
   ]
  },
  {
   "cell_type": "markdown",
   "metadata": {},
   "source": [
    "&nbsp;\n",
    "\n",
    "## Measuring time delay \n",
    "\n",
    "* using Libniz formula for $\\pi$"
   ]
  },
  {
   "cell_type": "code",
   "execution_count": null,
   "metadata": {},
   "outputs": [],
   "source": [
    "iterations = 100000\n",
    "\n",
    "start_time = time.time()\n",
    "print(4*(sum((-1)**k/(2*k+1) for k in range(iterations))),end='\\n\\n')\n",
    "print('time elapsed: {}'.format(time.time() - start_time))\n"
   ]
  },
  {
   "cell_type": "code",
   "execution_count": null,
   "metadata": {},
   "outputs": [],
   "source": [
    "iterations = 1000000\n",
    "\n",
    "start_time = time.time()\n",
    "print(4*(sum((-1)**k/(2*k+1) for k in range(iterations))),end='\\n\\n')\n",
    "print('time elapsed: {}'.format(time.time() - start_time))"
   ]
  },
  {
   "cell_type": "markdown",
   "metadata": {},
   "source": [
    "&nbsp;\n",
    "\n",
    "## Evaluate a statement with a time delay"
   ]
  },
  {
   "cell_type": "markdown",
   "metadata": {},
   "source": [
    "* method `sleep` in module `time` supports delaying the execution of a statement by a user determined interval in seconds. "
   ]
  },
  {
   "cell_type": "code",
   "execution_count": null,
   "metadata": {},
   "outputs": [],
   "source": [
    "start_time = time.time()\n",
    "for i in range(10):\n",
    "    print(datetime.datetime.utcnow())\n",
    "\n",
    "print('time elapsed: {}'.format(time.time() - start_time))"
   ]
  },
  {
   "cell_type": "code",
   "execution_count": null,
   "metadata": {},
   "outputs": [],
   "source": [
    "start_time = time.time()\n",
    "for i in range(10):\n",
    "    time.sleep(.5)\n",
    "    print(datetime.datetime.utcnow())\n",
    "\n",
    "print('time elapsed: {}'.format(time.time() - start_time))"
   ]
  },
  {
   "cell_type": "markdown",
   "metadata": {},
   "source": [
    "* another way to measure the time it takes to evaluate an expression is by Jupyter Notebook <a href=http://ipython.readthedocs.io/en/stable/interactive/magics.html>magic functions</a> `%time`.  \n",
    "* `%time` must preceed the expression on the same line and since it only works with expressions this is a limitation because it cannot be used to evaluate multi-line statement of used defined functions. "
   ]
  },
  {
   "cell_type": "code",
   "execution_count": null,
   "metadata": {},
   "outputs": [],
   "source": [
    "iterations = 1000\n",
    "\n",
    "%time print(4*(sum((-1)**k/(2*k+1) for k in range(iterations))),end='\\n\\n')"
   ]
  },
  {
   "cell_type": "code",
   "execution_count": null,
   "metadata": {},
   "outputs": [],
   "source": [
    "iterations = 10000000\n",
    "%time print(4*(sum((-1)**k/(2*k+1) for k in range(iterations))),end='\\n\\n')"
   ]
  },
  {
   "cell_type": "markdown",
   "metadata": {},
   "source": [
    "&nbsp; \n",
    "\n",
    "&nbsp;\n",
    "\n",
    "# Python Modules"
   ]
  },
  {
   "cell_type": "markdown",
   "metadata": {},
   "source": [
    "* Python 3.5-3.6 come with a library of over 200 standard <a href='https://docs.python.org/3.5/py-modindex.html'>modules</a>.   \n",
    "* having modules is an easy and convenient way to organize classes, methods and statements and package them.  \n",
    "* modules can be interrogated using two methods: `import` and `from`:\n",
    "   \n",
    "    `import module1, module2 module2, . . .`    \n",
    "    `from module1 import class1, class2, . . .` \n",
    "    \n",
    "    \n",
    "* `dir(module_name)` can be used to view the classes and methods within a module.\n",
    "* it is possible to abbreviate the name of a module for convenience: \n",
    "\n",
    "    `import numy as np`\n",
    "    \n",
    "       \n",
    "* this standard nomenclature simplifies the syntax when using instance methods such as `np.array(object)` vs. `numpy.array(object)`. \n",
    "&nbsp;\n",
    "\n",
    "\n",
    "* We can display all the Python modules installed on your system. Can you tell what is the container (data-type) used to store this information ?"
   ]
  },
  {
   "cell_type": "code",
   "execution_count": 3,
   "metadata": {},
   "outputs": [
    {
     "data": {
      "text/plain": [
       "'C:\\\\Users\\\\u353822\\\\Desktop\\\\Short Python Course\\\\Lecture_03'"
      ]
     },
     "execution_count": 3,
     "metadata": {},
     "output_type": "execute_result"
    }
   ],
   "source": [
    "import os\n",
    "import sys\n",
    "os.getcwd()\n"
   ]
  },
  {
   "cell_type": "code",
   "execution_count": 5,
   "metadata": {},
   "outputs": [
    {
     "data": {
      "text/plain": [
       "u'C:\\\\Users\\\\u353822\\\\Desktop\\\\Short Python Course\\\\Lecture_03'"
      ]
     },
     "execution_count": 5,
     "metadata": {},
     "output_type": "execute_result"
    }
   ],
   "source": [
    "#This is another way to find path\n",
    "pwd\n"
   ]
  },
  {
   "cell_type": "code",
   "execution_count": null,
   "metadata": {
    "scrolled": true
   },
   "outputs": [],
   "source": [
    "for key in sys.modules.keys():\n",
    "    print(key)"
   ]
  },
  {
   "cell_type": "markdown",
   "metadata": {},
   "source": [
    "&nbsp;\n",
    "\n",
    "* we can also display the Python modules imported in the current Python session by searching for modules with a global scope"
   ]
  },
  {
   "cell_type": "code",
   "execution_count": null,
   "metadata": {},
   "outputs": [],
   "source": [
    "set(sys.modules)&set(globals())"
   ]
  },
  {
   "cell_type": "code",
   "execution_count": null,
   "metadata": {},
   "outputs": [],
   "source": [
    "import numpy\n",
    "\n",
    "set(sys.modules)&set(globals())"
   ]
  },
  {
   "cell_type": "markdown",
   "metadata": {},
   "source": [
    "* check the locaion of the current python installation "
   ]
  },
  {
   "cell_type": "code",
   "execution_count": null,
   "metadata": {
    "scrolled": true
   },
   "outputs": [],
   "source": [
    "print(sys.executable)"
   ]
  },
  {
   "cell_type": "code",
   "execution_count": null,
   "metadata": {},
   "outputs": [],
   "source": [
    "import IPython\n",
    "IPython.__version__"
   ]
  },
  {
   "cell_type": "markdown",
   "metadata": {},
   "source": [
    "* check the version of the current python installation "
   ]
  },
  {
   "cell_type": "code",
   "execution_count": null,
   "metadata": {},
   "outputs": [],
   "source": [
    "print(sys.version)"
   ]
  },
  {
   "cell_type": "markdown",
   "metadata": {},
   "source": [
    "### installing modules. how to"
   ]
  },
  {
   "cell_type": "markdown",
   "metadata": {},
   "source": [
    "\n",
    "#### 1 using `pip install`     \n",
    "if you are using Python >= 2.7, pip is already installed.     \n",
    "to upgrade pip from command line, Anaconda prompt, or terminal and run the following \n",
    "\n",
    "`pip install -U pip`    \n",
    "\n",
    "to install new modules:\n",
    "\n",
    "`pip install module1`    \n",
    "`pip install pandas`     \n",
    "`pip install numpy` \n",
    "\n",
    "to view a list of all packages installed using pip `pip list`\n",
    "      \n",
    "&nbsp;    \n",
    "     \n",
    "#### 2 using `conda install`    \n",
    "some packages can be installed only using anaconda.org repository \n",
    "\n",
    "`conda install module`\n",
    "\n",
    "    not all modules follow the same standard `conda install` statement:\n",
    "\n",
    "`conda install -c conda-forge selenium`\n",
    "\n",
    "for best practice look up the package in Anaconda Cloud first.  \n",
    "\n",
    "to view a list of packages installed using conda `conda list`\n",
    "\n",
    "\n",
    " \n",
    "&nbsp;\n",
    "\n",
    "#### 3 from a local file or a url   \n",
    "* packages that are not available thru conda or pip can be installed using a url that links to the page contaning the source code (such as on github). \n",
    "\n",
    "* another way to install a module is by downloading a local binary file, navigating to the download location then running `python setup.py install`\n",
    "\n",
    "* most packages installed this way will provide ample documentation on how to proceed with the installation. "
   ]
  },
  {
   "cell_type": "markdown",
   "metadata": {},
   "source": [
    "&nbsp; \n",
    "\n",
    "### Useful supporting modules   \n",
    "* There are a few modules that are not exclusively used for the purposes of data analysis yet are crucial for a successful well rounded Python programmer. \n",
    "* we have already come across module and method `sys.getsizeof()`"
   ]
  },
  {
   "cell_type": "code",
   "execution_count": null,
   "metadata": {},
   "outputs": [],
   "source": [
    "import os"
   ]
  },
  {
   "cell_type": "code",
   "execution_count": null,
   "metadata": {},
   "outputs": [],
   "source": [
    "# to list current path\n",
    "os.getcwd()"
   ]
  },
  {
   "cell_type": "markdown",
   "metadata": {},
   "source": [
    "* to display the files within a certain path (the path can be passed in as a string)."
   ]
  },
  {
   "cell_type": "code",
   "execution_count": null,
   "metadata": {},
   "outputs": [],
   "source": [
    "path = os.getcwd()\n",
    "\n",
    "os.listdir(path)"
   ]
  },
  {
   "cell_type": "markdown",
   "metadata": {},
   "source": [
    "&nbsp;\n",
    "\n",
    "* to create a new folder in a location pass the entire path including the new folder name"
   ]
  },
  {
   "cell_type": "code",
   "execution_count": null,
   "metadata": {},
   "outputs": [],
   "source": [
    "os.mkdir(path+'\\\\new_folder')\n",
    "os.listdir(path)"
   ]
  },
  {
   "cell_type": "markdown",
   "metadata": {},
   "source": [
    "* use `os.rename(src, dst)` to rename a file or a folder "
   ]
  },
  {
   "cell_type": "code",
   "execution_count": null,
   "metadata": {},
   "outputs": [],
   "source": [
    "os.rename(path+'\\\\new_folder', path+'\\\\test_folder')\n",
    "os.listdir(path)"
   ]
  },
  {
   "cell_type": "markdown",
   "metadata": {},
   "source": [
    "* use `os.rmdir(path)` to remove a directory\n",
    "* `os.rmdir()` can only remove empty folders. "
   ]
  },
  {
   "cell_type": "code",
   "execution_count": null,
   "metadata": {},
   "outputs": [],
   "source": [
    "os.rmdir(path+'\\\\test_folder')"
   ]
  },
  {
   "cell_type": "markdown",
   "metadata": {},
   "source": [
    "* to remove folder that are not empty use method `shutil.rmtree(path)` "
   ]
  },
  {
   "cell_type": "code",
   "execution_count": null,
   "metadata": {},
   "outputs": [],
   "source": [
    "import shutil "
   ]
  },
  {
   "cell_type": "code",
   "execution_count": null,
   "metadata": {},
   "outputs": [],
   "source": [
    "# create nested folders\n",
    "os.mkdir(path+'\\\\folder 1')\n",
    "os.mkdir(path+'\\\\folder 1\\\\folder 2')"
   ]
  },
  {
   "cell_type": "code",
   "execution_count": null,
   "metadata": {},
   "outputs": [],
   "source": [
    "# os.rmdir() returns an error. \n",
    "os.rmdir(path+'\\\\folder 1')"
   ]
  },
  {
   "cell_type": "code",
   "execution_count": null,
   "metadata": {},
   "outputs": [],
   "source": [
    "shutil.rmtree(path+'\\\\folder 1')"
   ]
  }
 ],
 "metadata": {
  "anaconda-cloud": {},
  "kernelspec": {
   "display_name": "Python 2",
   "language": "python",
   "name": "python2"
  },
  "language_info": {
   "codemirror_mode": {
    "name": "ipython",
    "version": 2
   },
   "file_extension": ".py",
   "mimetype": "text/x-python",
   "name": "python",
   "nbconvert_exporter": "python",
   "pygments_lexer": "ipython2",
   "version": "2.7.14"
  }
 },
 "nbformat": 4,
 "nbformat_minor": 2
}
