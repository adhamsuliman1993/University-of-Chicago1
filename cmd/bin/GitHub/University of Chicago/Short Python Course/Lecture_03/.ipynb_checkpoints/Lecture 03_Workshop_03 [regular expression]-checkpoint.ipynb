{
 "cells": [
  {
   "cell_type": "code",
   "execution_count": null,
   "metadata": {},
   "outputs": [],
   "source": [
    "reset"
   ]
  },
  {
   "cell_type": "markdown",
   "metadata": {},
   "source": [
    "# Regular Expression\n",
    "&nbsp;\n",
    "\n",
    "- regular expression is sophesticated language that initially arose in Perl in the early 1980s.  \n",
    "\n",
    "- regular expressions are strings that that have a special syntax which allow matching of a pattern.    \n",
    "\n",
    "- a pattern is a series of special symbols which can map to an actual text, word(s) or punctuation.     \n",
    "\n",
    "- today, a version of regular expression is embedded within almost every langhage either directly or thru libraries and in python the modulde name is `re`\n",
    "      \n",
    "\n",
    "- `re` most important methods include:\n",
    "\n",
    "\n",
    "    - re.search(pattern, string )\n",
    "         \n",
    "    - re.match(pattern, string)\n",
    "    \n",
    "    - re.findall(pattern, string)\n",
    "         \n",
    "    - re.sub(pattern, replacement, string)\n",
    "        \n",
    "    - re.split(pattern, string, maxsplit = 0)\n",
    "         \n",
    "    - re.compile(pattern)\n",
    "    \n",
    "  \n",
    "- the strength of the `re` language isin  formulating the *pattern* argument passed into the method. This is where `re` special match characters become very powerful at identifying patterns.\n",
    "\n",
    "### special characters:\n",
    "\n",
    "`(...)`  match the regular expression inside the paranthesese. Enclosed pattern reflects a set or a group  \n",
    "        \n",
    "`[]`     used to indicate a set of characters\n",
    "        \n",
    "`\\`      escape character in regular expression\n",
    "        \n",
    "`|`      used inside of a character set between characters, A|B matches A or B. \n",
    "        \n",
    "`+`      can be used between character sets to match different locations of the string with a number of patterns\n",
    "        \n",
    "`^`     instructs a pattern to match from the beginning of a string\n",
    "\n",
    "`$`     instructs a pattern to match to the end of a string  \n",
    "&nbsp;\n",
    "    \n",
    "<U>the following  special sequences consist of \"\\\\\" and a character:   </U>\n",
    "\n",
    "&nbsp;\n",
    "\n",
    "`\\d`\tMatches any digit; equivalent to the set [0-9].    \n",
    "`\\D`\tThe complement of \\d. It matches any non-digit character; equivalent to the set [^0-9].    \n",
    "\n",
    "`\\b`\tMatches the empty string, but only at the start or end of a word.   \n",
    "`\\B` \tMatches the empty string, but not at the start or end of a word\n",
    "\n",
    "`\\s`\tMatches any whitespace character or space equivalent to `[ \\t\\n\\r\\f\\v]`    \n",
    "`\\S`\tThe complement of \\s. It matches any non-whitespace character; equiv. to `[^ \\t\\n\\r\\f\\v]`   \n",
    "\n",
    "`\\w` Matches any a word; equivalent to [a-zA-Z0-9]    \n",
    "`\\W` Matches the complement of `\\w`    \n",
    "   \n",
    "`\\\\`\tMatches a literal backslash.   \n",
    "        "
   ]
  },
  {
   "cell_type": "markdown",
   "metadata": {},
   "source": [
    "this <a href=\"https://regex101.com\">website</a> has a dynamic regex builder that helps initialize your pattern      "
   ]
  },
  {
   "cell_type": "code",
   "execution_count": null,
   "metadata": {},
   "outputs": [],
   "source": [
    "import re"
   ]
  },
  {
   "cell_type": "code",
   "execution_count": null,
   "metadata": {},
   "outputs": [],
   "source": [
    "# Import the regex module\n",
    "my_string = \"Humans have 46 (diploid) or autosomal chromosomes and 23 sex chromosomes.\\\n",
    "So far, as many as 15 genes have been associated with eye color inheritance!\\\n",
    "Some of the eye-color genes include OCA2 and HERC2 both located on - can you guess which chromosome?\\\n",
    "chromosome 15.\"\n",
    "\n",
    "my_string"
   ]
  },
  {
   "cell_type": "code",
   "execution_count": null,
   "metadata": {},
   "outputs": [],
   "source": [
    "# Write a pattern to match sentence endings: sentence_endings\n",
    "sentence_endings = r\"[.!?]\"\n",
    "\n",
    "# Split my_string on sentence endings and print the result\n",
    "print(re.split(sentence_endings, my_string))"
   ]
  },
  {
   "cell_type": "code",
   "execution_count": null,
   "metadata": {},
   "outputs": [],
   "source": [
    "# Find all capitalized words in my_string and print the result\n",
    "capitalized_words = r\"[A-Z]\\w+\"\n",
    "print(re.findall(capitalized_words,my_string))"
   ]
  },
  {
   "cell_type": "code",
   "execution_count": null,
   "metadata": {},
   "outputs": [],
   "source": [
    "# Split my_string on spaces and print the result\n",
    "spaces = r\"\\s+\"\n",
    "print(re.split(spaces, my_string))"
   ]
  },
  {
   "cell_type": "code",
   "execution_count": null,
   "metadata": {},
   "outputs": [],
   "source": [
    "# Find all digits in my_string and print the result\n",
    "digits = r\"\\d+\"\n",
    "print(re.findall(digits, my_string))"
   ]
  },
  {
   "cell_type": "markdown",
   "metadata": {},
   "source": [
    "### `re.match()`\n",
    "\n",
    "`re.match(pattern, string)`\n",
    "\n",
    "* this method will match the single occurrence of a pattern at the beginning of a string\n",
    "* `re.match` returns a match object    \n",
    "* the most restrictive of all methods"
   ]
  },
  {
   "cell_type": "code",
   "execution_count": null,
   "metadata": {},
   "outputs": [],
   "source": [
    "re.match('loco', 'locomotive')"
   ]
  },
  {
   "cell_type": "code",
   "execution_count": null,
   "metadata": {},
   "outputs": [],
   "source": [
    "re.match('motive', 'locomotive')\n",
    "# no match"
   ]
  },
  {
   "cell_type": "code",
   "execution_count": null,
   "metadata": {},
   "outputs": [],
   "source": [
    "re.match('ep','epanalepsis')"
   ]
  },
  {
   "cell_type": "markdown",
   "metadata": {},
   "source": [
    "&nbsp;\n",
    "\n",
    "### `re.search()` \n",
    "\n",
    "* this method will match a single occurrence of a pattern regardless of where it is in a string   \n",
    "* `re.search` returns a match object as well"
   ]
  },
  {
   "cell_type": "code",
   "execution_count": null,
   "metadata": {},
   "outputs": [],
   "source": [
    "re.search('loco', 'locomotive')"
   ]
  },
  {
   "cell_type": "code",
   "execution_count": null,
   "metadata": {},
   "outputs": [],
   "source": [
    "re.search('motive', 'locomotive')"
   ]
  },
  {
   "cell_type": "code",
   "execution_count": null,
   "metadata": {},
   "outputs": [],
   "source": [
    "re.search('ep','epanalepsis')"
   ]
  },
  {
   "cell_type": "markdown",
   "metadata": {},
   "source": [
    "&nbsp;\n",
    "\n",
    "###  `re.findall()`\n",
    "\n",
    "* this method will match multiple occurrence of a patterns in a string and return a list of the matched objects.   \n",
    "\n",
    "* the most important destinction between `re.findall` and the other methods is that this one returns a list   "
   ]
  },
  {
   "cell_type": "code",
   "execution_count": null,
   "metadata": {},
   "outputs": [],
   "source": [
    "re.findall('ep','epanalepsis')"
   ]
  },
  {
   "cell_type": "code",
   "execution_count": null,
   "metadata": {},
   "outputs": [],
   "source": [
    "re.findall('\\w+\\.','this. pattern finds . the words that. have. or might have. a period. ,period.')"
   ]
  },
  {
   "cell_type": "markdown",
   "metadata": {},
   "source": [
    "&nbsp;\n",
    "\n",
    "### `re.sub()`\n",
    "\n",
    "`re.sub()` can substitute a pattern with a string  "
   ]
  },
  {
   "cell_type": "code",
   "execution_count": null,
   "metadata": {},
   "outputs": [],
   "source": [
    "example_string = \"1076-A Boylston_St,}(Boston),> ?! <.MA.{ “ ’2115 ” []\""
   ]
  },
  {
   "cell_type": "code",
   "execution_count": null,
   "metadata": {},
   "outputs": [],
   "source": [
    "re.sub(r\"[\\.\\-_\\(\\)\\[\\]\\{}“”‘’<>?!]\",' ',example_string)"
   ]
  },
  {
   "cell_type": "code",
   "execution_count": null,
   "metadata": {},
   "outputs": [],
   "source": [
    "' '.join(re.sub(r\"[\\.\\-_\\(\\)\\[\\]\\{}“”‘’<>?!]\",' ',example_string).split())"
   ]
  },
  {
   "cell_type": "markdown",
   "metadata": {},
   "source": [
    "&nbsp;\n",
    "\n",
    "&nbsp;\n",
    "\n",
    "### pattern syntax:"
   ]
  },
  {
   "cell_type": "markdown",
   "metadata": {},
   "source": [
    "- in addition to many methods module `nltk` contains multiple corpi that are very useful for text processing \n",
    "- from the object `nltk.corpus.words` we retrieve the list `words()` and convert every elemnt to lower case:"
   ]
  },
  {
   "cell_type": "markdown",
   "metadata": {},
   "source": [
    "&nbsp;\n",
    "\n",
    "`.`  a wildcard character that will match any letter, number or symbol     \n",
    "`?`: 0 or 1 ocurrences of the preceeding element     \n",
    "`+`: 1 or many occurrences of the preceeding element (greedy)   \n",
    "`*`: 0 or many occurrences of the preceeding element (greedy)\n",
    "\n",
    "`{n}`\t    The preceding item is matched exactly `n` times             \n",
    "`{n,}`\tThe preceding item is matched at least `n` times                     \n",
    "`{n,m}`   The preceding item is matched `n` to `m` times     \n",
    "\n",
    "`zim?` matches none to at most one occurrence of the letter `m`"
   ]
  },
  {
   "cell_type": "code",
   "execution_count": null,
   "metadata": {},
   "outputs": [],
   "source": [
    "import nltk\n",
    "nltk.download('words') # downloading only the words corpus"
   ]
  },
  {
   "cell_type": "markdown",
   "metadata": {},
   "source": [
    "`nltk` <a href = 'https://www.nltk.org/'>link</a> is a widely used module for natural language processing. it contains a very large number of useful functions that are often used in text preprocessing such as tokenization and stemming.     \n",
    "\n",
    "\n",
    "in addition `nltk` comes with a big collection or corpora and lexical resources that help with various language analytics tasks such as sentiment anlaysis, topic identification and text classification. \n",
    "\n",
    "if you want to download the entire library of `nltk` locally run the following command:   \n",
    "`nltk.download()` (without passing any argument), this prompts a window that allows you to choose what do download. \n",
    "\n",
    "<span style = \"color:red\">*<U>do not attempt</U>  `nltk.download()` using the connection at UChicago as this approximately 2Gb content will take more than an hour to download*</span>\n",
    "\n",
    "download path is usually `C:/users/user_name/App Data/Roaming/nltk_data`"
   ]
  },
  {
   "cell_type": "code",
   "execution_count": null,
   "metadata": {},
   "outputs": [],
   "source": [
    "from nltk.corpus import words"
   ]
  },
  {
   "cell_type": "markdown",
   "metadata": {},
   "source": [
    "`words.words()` is a list containing 236736 words in English."
   ]
  },
  {
   "cell_type": "code",
   "execution_count": null,
   "metadata": {},
   "outputs": [],
   "source": [
    "words.words()[20:30], len(words.words())"
   ]
  },
  {
   "cell_type": "markdown",
   "metadata": {},
   "source": [
    "<span style=\"color:blue\"> write a list comprehension to convert all the words to lower case</span>"
   ]
  },
  {
   "cell_type": "code",
   "execution_count": null,
   "metadata": {},
   "outputs": [],
   "source": [
    "#skipped code\n",
    "word_list = "
   ]
  },
  {
   "cell_type": "markdown",
   "metadata": {},
   "source": [
    "extract the words that start with the letter `z` (using a non-regex statement)"
   ]
  },
  {
   "cell_type": "markdown",
   "metadata": {},
   "source": [
    "<span style=\"color:blue\"> using the string method `startswith()` extract all the words that start with the letter `z`</span>"
   ]
  },
  {
   "cell_type": "code",
   "execution_count": null,
   "metadata": {},
   "outputs": [],
   "source": [
    "#skipped code\n",
    "z_words = "
   ]
  },
  {
   "cell_type": "markdown",
   "metadata": {},
   "source": [
    "&nbsp;\n",
    "\n",
    "\n",
    "* let's start by using `re.match()` to create the same list above"
   ]
  },
  {
   "cell_type": "code",
   "execution_count": null,
   "metadata": {},
   "outputs": [],
   "source": [
    "z_words_re = [word for word in word_list if re.match('z+', word)]"
   ]
  },
  {
   "cell_type": "code",
   "execution_count": null,
   "metadata": {},
   "outputs": [],
   "source": [
    "len(z_words_re)"
   ]
  },
  {
   "cell_type": "markdown",
   "metadata": {},
   "source": [
    "`re.match('z+', word)` `z+` is a greedy pattern that matches one or more occurrence of z at the beginning of a sentence. "
   ]
  },
  {
   "cell_type": "code",
   "execution_count": null,
   "metadata": {},
   "outputs": [],
   "source": [
    "re.match('z+', 'zygote')"
   ]
  },
  {
   "cell_type": "code",
   "execution_count": null,
   "metadata": {},
   "outputs": [],
   "source": [
    "re.match('z*', 'zzzz')"
   ]
  },
  {
   "cell_type": "markdown",
   "metadata": {},
   "source": [
    "<span style=\"color:blue\"> using an explicit for loop (not a list comprehension) check the results using `re.search()`, print the words that match, do not save the words in a list</span>"
   ]
  },
  {
   "cell_type": "code",
   "execution_count": null,
   "metadata": {},
   "outputs": [],
   "source": [
    "#skipped code\n"
   ]
  },
  {
   "cell_type": "markdown",
   "metadata": {},
   "source": [
    "<span style=\"color:blue\"> using the exact explicit for loop as above change the pattern to `zim+`, what happened ?</span>"
   ]
  },
  {
   "cell_type": "code",
   "execution_count": null,
   "metadata": {},
   "outputs": [],
   "source": [
    "#skipped code\n"
   ]
  },
  {
   "cell_type": "markdown",
   "metadata": {},
   "source": [
    "the list is even smaller using `re.match()`"
   ]
  },
  {
   "cell_type": "code",
   "execution_count": null,
   "metadata": {},
   "outputs": [],
   "source": [
    "for word in word_list:\n",
    "    if re.match('zim+',word):\n",
    "        print(word,'     ', re.match('zim+',word).group(0))"
   ]
  },
  {
   "cell_type": "markdown",
   "metadata": {},
   "source": [
    "&nbsp;\n",
    "\n",
    "in contrast, using `?`, the pattern is none-greedy     \n",
    "`zim?` searches the list for **zi** or **zim**, 0 or 1 occurrence of the preceeding character"
   ]
  },
  {
   "cell_type": "code",
   "execution_count": null,
   "metadata": {},
   "outputs": [],
   "source": [
    "for word in word_list:\n",
    "    if re.match('zim?',word):    # this checks whether or not the match object exists\n",
    "        print(word ,'   '+'\\t\\t',re.search('zim?',word).group(0))"
   ]
  },
  {
   "cell_type": "markdown",
   "metadata": {},
   "source": [
    "&nbsp;\n",
    "\n",
    "`zim*` matches none to many occurrences of `m`"
   ]
  },
  {
   "cell_type": "code",
   "execution_count": null,
   "metadata": {},
   "outputs": [],
   "source": [
    "for word in z_words:\n",
    "    if re.match('zim*',word):\n",
    "        print(word,'     ', re.match('zim*',word).group(0))"
   ]
  },
  {
   "cell_type": "markdown",
   "metadata": {},
   "source": [
    "to recap:\n",
    "\n",
    "`zim`   matches exactly `zim`      \n",
    "`zim?` matches `zi` and `zim`    \n",
    "`zim+` matches `zim`, `zimm`, `zimmm...`   \n",
    "`zim*` matches `zi`,`zim`, `zimm`, `zimmm...`   "
   ]
  },
  {
   "cell_type": "markdown",
   "metadata": {},
   "source": [
    "`{m}` specifies that exactly m copies of the previous expression is matched "
   ]
  },
  {
   "cell_type": "code",
   "execution_count": null,
   "metadata": {},
   "outputs": [],
   "source": [
    "for word in word_list:\n",
    "    if re.match('vacu{2}',word):\n",
    "        print(word)"
   ]
  },
  {
   "cell_type": "code",
   "execution_count": null,
   "metadata": {},
   "outputs": [],
   "source": [
    "for word in word_list:\n",
    "    if re.search('s{3}',word):\n",
    "        print(word)"
   ]
  },
  {
   "cell_type": "markdown",
   "metadata": {},
   "source": [
    "&nbsp;\n",
    "\n",
    "we can look for words containing a specific syllable or an arrangement of letters\n",
    "\n",
    "<span style='color:blue'>search words containing the phrase `eason`</span>    \n",
    "explore how `re.search()` differs from `re.match()`    \n",
    "hint: `r\"eason\"` alone doesn't work"
   ]
  },
  {
   "cell_type": "code",
   "execution_count": null,
   "metadata": {},
   "outputs": [],
   "source": [
    "#skipped code\n",
    "patt = r\"\" \n",
    "\n",
    "vec = []\n",
    "\n",
    "for word in word_list:\n",
    "    if re.match(patt,word):\n",
    "        vec.append(word)\n",
    "        \n",
    "print(len(vec),vec)"
   ]
  },
  {
   "cell_type": "code",
   "execution_count": null,
   "metadata": {},
   "outputs": [],
   "source": [
    "#skipped code\n",
    "#create the pattern between the two quotation marks\n",
    "patt = r\"\" \n",
    "\n",
    "vec = []\n",
    "\n",
    "for word in word_list:\n",
    "    if re.search(patt,word):\n",
    "        vec.append(word)\n",
    "        \n",
    "print(len(vec),vec)"
   ]
  },
  {
   "cell_type": "markdown",
   "metadata": {},
   "source": [
    "&nbsp;\n",
    "\n",
    "let us experiment with the pattern "
   ]
  },
  {
   "cell_type": "code",
   "execution_count": null,
   "metadata": {},
   "outputs": [],
   "source": [
    "#skipped code\n",
    "#create the pattern between the two quotation marks\n",
    "patt = r\"\" \n",
    "\n",
    "vec = []\n",
    "\n",
    "for word in word_list:\n",
    "    if re.search(pat_a,word):\n",
    "        vec.append(word)\n",
    "        \n",
    "print(len(vec),vec)"
   ]
  },
  {
   "cell_type": "code",
   "execution_count": null,
   "metadata": {},
   "outputs": [],
   "source": [
    "#skipped code\n",
    "#create the pattern between the two quotation marks\n",
    "patt = r\"\" \n",
    "\n",
    "vec = []\n",
    "\n",
    "for word in word_list:\n",
    "    if re.search(pat_a,word):\n",
    "        vec.append(word)\n",
    "        \n",
    "print(len(vec),vec)"
   ]
  },
  {
   "cell_type": "code",
   "execution_count": null,
   "metadata": {},
   "outputs": [],
   "source": [
    "#skipped code\n",
    "#create the pattern between the two quotation marks\n",
    "patt = r\"\" \n",
    "\n",
    "vec = []\n",
    "\n",
    "for word in word_list:\n",
    "    if re.search(pat_a,word):\n",
    "        vec.append(word)\n",
    "        \n",
    "print(len(vec),vec)"
   ]
  },
  {
   "cell_type": "markdown",
   "metadata": {},
   "source": [
    "&nbsp;\n",
    "\n",
    "<span style='color:blue'>what can we add a spacial character to the first pattern in order to restrict the word selection so that a word ends with  `eason`?</span>   \n",
    "keep in mind to not restrict the leading number of characters such that both words `reason` and `countertreason` are in the list"
   ]
  },
  {
   "cell_type": "code",
   "execution_count": null,
   "metadata": {},
   "outputs": [],
   "source": [
    "#skipped code\n",
    "#create the pattern between the two quotation marks\n",
    "\n",
    "patt = r\"\" \n",
    "\n",
    "for word in word_list:\n",
    "    if re.match(patt,word):\n",
    "        print(word)"
   ]
  },
  {
   "cell_type": "markdown",
   "metadata": {},
   "source": [
    "&nbsp;\n",
    "\n",
    "&nbsp;\n",
    "\n",
    "### `re.compile()`\n",
    "\n",
    "`re.compile(pattern)` takes a string pattern and converts it to a compile object.   \n",
    "\n",
    "this compiled object can take the regular expression methods discussed above as an <U>instance method</U>. this is faster to execute especially with long patterns or when a pattern is applied on a large text.   \n",
    "\n",
    "the resulting object can be used with of the regex methods that take a pattern for an argument   "
   ]
  },
  {
   "cell_type": "code",
   "execution_count": null,
   "metadata": {},
   "outputs": [],
   "source": [
    "pattern = re.compile(r\"[\\.\\-_\\(\\)\\[\\]\\{}“”‘’<>?!]\")\n",
    "pattern"
   ]
  },
  {
   "cell_type": "code",
   "execution_count": null,
   "metadata": {},
   "outputs": [],
   "source": [
    "example_string"
   ]
  },
  {
   "cell_type": "code",
   "execution_count": null,
   "metadata": {},
   "outputs": [],
   "source": [
    "pattern.sub(' ',example_string)"
   ]
  },
  {
   "cell_type": "markdown",
   "metadata": {},
   "source": [
    "&nbsp;\n",
    "\n",
    "&nbsp;\n",
    "\n",
    "`rest_concat.csv` is the same list of addresses that we created in the lecture 2 homework using the `lambda` operator. "
   ]
  },
  {
   "cell_type": "code",
   "execution_count": null,
   "metadata": {},
   "outputs": [],
   "source": [
    "import pandas as pd"
   ]
  },
  {
   "cell_type": "code",
   "execution_count": null,
   "metadata": {
    "scrolled": false
   },
   "outputs": [],
   "source": [
    "df = pd.read_csv('data/rest_concat.csv', usecols = ['restaurant', 'concat'])\n",
    "df.tail()"
   ]
  },
  {
   "cell_type": "markdown",
   "metadata": {},
   "source": [
    "&nbsp;\n",
    "\n",
    "the first thing to do is remove special characters in the addresses using `re.sub()`"
   ]
  },
  {
   "cell_type": "code",
   "execution_count": null,
   "metadata": {},
   "outputs": [],
   "source": [
    "pattern = re.compile(r\"[\\.\\-_\\(\\)\\[\\]\\{}“”‘’<>?!&]\")\n",
    "\n",
    "df['sub_'] = list(map(lambda x: pattern.sub(' ',x), df.concat))\n",
    "df.head(20)"
   ]
  },
  {
   "cell_type": "markdown",
   "metadata": {},
   "source": [
    "we have to define a pattern that will match an address which is present in the desired format:\n",
    "\n",
    "`Number bearing Street, City, State, zip` \n"
   ]
  },
  {
   "cell_type": "markdown",
   "metadata": {},
   "source": [
    "<span style='color:blue'>let's attempt to formulate this pattern together</span>"
   ]
  },
  {
   "cell_type": "code",
   "execution_count": null,
   "metadata": {},
   "outputs": [],
   "source": [
    "pattern = re.compile(r\"\")"
   ]
  },
  {
   "cell_type": "code",
   "execution_count": null,
   "metadata": {
    "scrolled": true
   },
   "outputs": [],
   "source": [
    "for add_ in df.sub_:\n",
    "    print(add_,'\\t\\t\\t\\t\\t', bool(pattern.search(add_)))"
   ]
  },
  {
   "cell_type": "markdown",
   "metadata": {},
   "source": [
    "&nbsp;\n",
    "\n",
    "in order to extract the list (rather than adding a tag) use a `lambda` + `filter` combined with `bool` to cast the match into `True/False`  "
   ]
  },
  {
   "cell_type": "code",
   "execution_count": null,
   "metadata": {},
   "outputs": [],
   "source": [
    "list(filter(lambda add_:  bool(pattern.match(add_)), df.sub_))"
   ]
  },
  {
   "cell_type": "markdown",
   "metadata": {},
   "source": [
    "this is the final cleaned up list of selected addresses\n",
    "\n",
    "&nbsp;"
   ]
  },
  {
   "cell_type": "markdown",
   "metadata": {},
   "source": [
    "&nbsp;\n",
    "\n",
    "the following is a list of email addresses:"
   ]
  },
  {
   "cell_type": "code",
   "execution_count": null,
   "metadata": {},
   "outputs": [],
   "source": [
    "email_list = ['hermione.granger@gryffindor.edu',\n",
    "'mundungusFletcher@gmail.com',\n",
    "'slughorn_horace@hogwarts.edu',\n",
    "'dracomalfoy@slytherin.com',\n",
    "'reginaldcettermole@ministry.gov',\n",
    "'Corner_Michael@ravenclaw.mag',\n",
    "'xenophiliuslovegood@thequibbler.pub',\n",
    "'bathildabagshot@wizardbookpublishings.mag',\n",
    "'aberforthdumbeldore@hogshead.brew',\n",
    "'luna_lovegood@ravenclaw',\n",
    "'nymphadora(dora)tonks@ministry.gov',\n",
    "'kingsleyshacklebolt@ministry.gov',\n",
    "'severus_snape']"
   ]
  },
  {
   "cell_type": "markdown",
   "metadata": {},
   "source": [
    "&nbsp;\n",
    "\n",
    "<span style=\"color:blue\">write a pattern in order to filter the following email list so that</span>\n",
    "\n",
    "Each of the first names consists of lower case letters `[a-z]`, `.` and `_` only.    \n",
    "Each of the email IDs consists of lower case letters `[a-z]`  and `@` only.   \n",
    "The length of the first name is no longer than 20   \n",
    "The length of the domain is no longer than 12    "
   ]
  },
  {
   "cell_type": "code",
   "execution_count": null,
   "metadata": {},
   "outputs": [],
   "source": [
    "#skipped code\n",
    "\n",
    "#first define the pattern\n",
    "pattern = \n",
    "\n",
    "#compile the pattern\n",
    "cmpl_pattern = "
   ]
  },
  {
   "cell_type": "code",
   "execution_count": null,
   "metadata": {},
   "outputs": [],
   "source": [
    "for email in email_list:\n",
    "    print(email,'\\t\\t\\t\\t\\t', bool(cmpl_pattern.search(email)))"
   ]
  },
  {
   "cell_type": "markdown",
   "metadata": {},
   "source": [
    "<span style='color:blue'> use `lambda` and `filter` to extract the email addresses </span>"
   ]
  },
  {
   "cell_type": "code",
   "execution_count": null,
   "metadata": {},
   "outputs": [],
   "source": [
    "#skipped code"
   ]
  },
  {
   "cell_type": "code",
   "execution_count": null,
   "metadata": {},
   "outputs": [],
   "source": [
    "#skipped code\n",
    "list(filter(lambda email:  bool(cmpl_pattern.search(email))  ,email_list))"
   ]
  }
 ],
 "metadata": {
  "kernelspec": {
   "display_name": "Python 2",
   "language": "python",
   "name": "python2"
  },
  "language_info": {
   "codemirror_mode": {
    "name": "ipython",
    "version": 2
   },
   "file_extension": ".py",
   "mimetype": "text/x-python",
   "name": "python",
   "nbconvert_exporter": "python",
   "pygments_lexer": "ipython2",
   "version": "2.7.14"
  }
 },
 "nbformat": 4,
 "nbformat_minor": 2
}
