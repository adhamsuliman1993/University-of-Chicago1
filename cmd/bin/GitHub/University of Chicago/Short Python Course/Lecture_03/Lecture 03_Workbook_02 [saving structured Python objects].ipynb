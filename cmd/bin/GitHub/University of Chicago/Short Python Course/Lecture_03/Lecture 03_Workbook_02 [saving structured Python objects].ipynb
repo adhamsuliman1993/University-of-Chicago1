{
 "cells": [
  {
   "cell_type": "markdown",
   "metadata": {
    "collapsed": true
   },
   "source": [
    "# Storing native Python Objects   "
   ]
  },
  {
   "cell_type": "markdown",
   "metadata": {},
   "source": [
    "## 1 saving into `.txt` files\n",
    "* storing Python objects such as dictionaries and lists is possible using regular text `.txt` files.  \n",
    "* a dictionary or a list that is saved into a `.txt` file is converted to plain text before being written into the file. hence when it is imported again into Python it will appear as text and requires processing to be conveted back to a proper Python object.    \n",
    "\n",
    "\n",
    "\n",
    "* start by saving the list and tuple into a `.txt` file."
   ]
  },
  {
   "cell_type": "code",
   "execution_count": null,
   "metadata": {},
   "outputs": [],
   "source": [
    "test_list = [ 0.548,  0.873,  0.493,  0.734,  0.627,  0.816,  0.384,  0.403, 0.772,  0.814]\n",
    "tuple_list = (34.6, 16.43, 49,85, 13.56, 46.46, 11.98, 23.65, 79.85, 33.75)\n",
    "king_novels = {1985:'Cycle of Warewolf',\n",
    "          1996:{'The Green Miles':{2:'The Mouse on the Mile',1:'The Two Dead Girls'}, 3:'Coffery\\' Hands',\n",
    "               5:'Night Journey',6:'Coffery on the Mile',4:'The Bad Death of Edward Delacriox'},\n",
    "          1991:{1:'The Stand',2:'The Dark Tower:The Waste Lands'},\n",
    "          1987:{1:'The Eyes of the Dragon',2:'The Dark Tower:The Drawing of the tree',3:'Misery',4:'The Tommyknockers'}}\n",
    "os.remove('output')"
   ]
  },
  {
   "cell_type": "code",
   "execution_count": null,
   "metadata": {},
   "outputs": [],
   "source": [
    "import os\n",
    "os.mkdir('output')"
   ]
  },
  {
   "cell_type": "code",
   "execution_count": null,
   "metadata": {},
   "outputs": [],
   "source": [
    "f = open('output/containers.txt','w')\n",
    "\n",
    "# Python containers converted to a string + new line escape character\n",
    "s1 = str(test_list)+'\\n'\n",
    "s2 = str(tuple_list)+'\\n'\n",
    "s3 = str(king_novels)+'\\n'\n",
    "\n",
    "\n",
    "f.write(s1)\n",
    "f.write(s2)\n",
    "f.write(s3)\n",
    "\n",
    "f.close()"
   ]
  },
  {
   "cell_type": "markdown",
   "metadata": {},
   "source": [
    "&nbsp;\n",
    "\n",
    "* to reset Python envorinment and delete all variables use `reset` in a code cell"
   ]
  },
  {
   "cell_type": "code",
   "execution_count": null,
   "metadata": {},
   "outputs": [],
   "source": [
    "reset"
   ]
  },
  {
   "cell_type": "markdown",
   "metadata": {},
   "source": [
    "&nbsp;\n",
    "\n",
    "* let us read the file in"
   ]
  },
  {
   "cell_type": "code",
   "execution_count": null,
   "metadata": {},
   "outputs": [],
   "source": [
    "f = open('output/containers.txt', 'r')\n",
    "objects = f.readlines()\n",
    "f.close()"
   ]
  },
  {
   "cell_type": "code",
   "execution_count": null,
   "metadata": {},
   "outputs": [],
   "source": [
    "objects\n"
   ]
  },
  {
   "cell_type": "code",
   "execution_count": null,
   "metadata": {},
   "outputs": [],
   "source": [
    "objects[0], type(objects[0])"
   ]
  },
  {
   "cell_type": "code",
   "execution_count": null,
   "metadata": {},
   "outputs": [],
   "source": [
    "objects[1], type(objects[1])"
   ]
  },
  {
   "cell_type": "code",
   "execution_count": null,
   "metadata": {},
   "outputs": [],
   "source": [
    "objects[2], type(objects[2])"
   ]
  },
  {
   "cell_type": "markdown",
   "metadata": {},
   "source": [
    "* in order for these containers to revert back to their original type use method `eval()`"
   ]
  },
  {
   "cell_type": "code",
   "execution_count": null,
   "metadata": {},
   "outputs": [],
   "source": [
    "eval_list = eval(objects[0])\n",
    "eval_list, type(eval_list)"
   ]
  },
  {
   "cell_type": "code",
   "execution_count": null,
   "metadata": {},
   "outputs": [],
   "source": [
    "eval_tuple = eval(objects[1])\n",
    "eval_tuple, type(eval_tuple)"
   ]
  },
  {
   "cell_type": "code",
   "execution_count": null,
   "metadata": {},
   "outputs": [],
   "source": [
    "eval_dict = eval(objects[2])\n",
    "eval_dict, type(eval_dict)"
   ]
  },
  {
   "cell_type": "markdown",
   "metadata": {},
   "source": [
    "* `eval(str)` is used to parse and evaluate a string expression as a Python expression. "
   ]
  },
  {
   "cell_type": "code",
   "execution_count": null,
   "metadata": {},
   "outputs": [],
   "source": [
    "eval('6*8+9')"
   ]
  },
  {
   "cell_type": "markdown",
   "metadata": {},
   "source": [
    "* things are more complicated when the objects are more complicated such as an estimated model, and saving this as a text file is not advisible\n",
    "\n",
    "\n",
    "* Python's format to save and import native object as binary files is called pickling and unpickling into a file with exention `.pkl`"
   ]
  },
  {
   "cell_type": "markdown",
   "metadata": {},
   "source": [
    "## 2 saving as `.pkl` \n",
    "\n",
    "* using binary format `pickle` files is one of the easiest and most convenient methods to save and store Python objects. "
   ]
  },
  {
   "cell_type": "code",
   "execution_count": null,
   "metadata": {},
   "outputs": [],
   "source": [
    "import pickle\n",
    "import pandas as pd\n",
    "import statsmodels.api as sm\n",
    "import statsmodels.formula.api as smf"
   ]
  },
  {
   "cell_type": "code",
   "execution_count": null,
   "metadata": {},
   "outputs": [],
   "source": [
    "rock = pd.read_csv('data/rock.csv', header = 0)\n",
    "rock.head()"
   ]
  },
  {
   "cell_type": "markdown",
   "metadata": {},
   "source": [
    "description of the dataset is in notebook Appendix"
   ]
  },
  {
   "cell_type": "code",
   "execution_count": null,
   "metadata": {},
   "outputs": [],
   "source": [
    "lmod = smf.ols('area ~ peri + shape + perm', data = rock)"
   ]
  },
  {
   "cell_type": "code",
   "execution_count": null,
   "metadata": {},
   "outputs": [],
   "source": [
    "results = lmod.fit()\n",
    "\n",
    "print(results.summary())"
   ]
  },
  {
   "cell_type": "code",
   "execution_count": null,
   "metadata": {},
   "outputs": [],
   "source": [
    "f = open('output/lmod_results.pkl', 'wb')\n",
    "pickle.dump(results, f)\n",
    "f.close()"
   ]
  },
  {
   "cell_type": "code",
   "execution_count": null,
   "metadata": {
    "scrolled": true
   },
   "outputs": [],
   "source": [
    "reset"
   ]
  },
  {
   "cell_type": "code",
   "execution_count": null,
   "metadata": {},
   "outputs": [],
   "source": [
    "# make sure the object does not exist\n",
    "try:\n",
    "    print(results.summary())\n",
    "except NameError as e:\n",
    "    print('the object does not exist, ', e)"
   ]
  },
  {
   "cell_type": "code",
   "execution_count": null,
   "metadata": {},
   "outputs": [],
   "source": [
    "import pickle"
   ]
  },
  {
   "cell_type": "code",
   "execution_count": null,
   "metadata": {},
   "outputs": [],
   "source": [
    "f = open('output/lmod_results.pkl', 'rb')\n",
    "saved_results = pickle.load(f)\n",
    "f.close()"
   ]
  },
  {
   "cell_type": "code",
   "execution_count": null,
   "metadata": {},
   "outputs": [],
   "source": [
    "print(saved_results.summary())"
   ]
  },
  {
   "cell_type": "markdown",
   "metadata": {},
   "source": [
    "&nbsp;\n",
    "\n",
    "### saving structured data as a pickle file"
   ]
  },
  {
   "cell_type": "code",
   "execution_count": null,
   "metadata": {},
   "outputs": [],
   "source": [
    "file = open('data/obama_tweet.pkl', 'rb')\n",
    "obama_tweet = pickle.load(file)"
   ]
  },
  {
   "cell_type": "markdown",
   "metadata": {},
   "source": [
    "this is what the complete tree structure of a tweet looks like."
   ]
  },
  {
   "cell_type": "code",
   "execution_count": null,
   "metadata": {},
   "outputs": [],
   "source": [
    "obama_tweet"
   ]
  },
  {
   "cell_type": "code",
   "execution_count": null,
   "metadata": {},
   "outputs": [],
   "source": [
    "obama_tweet['text']"
   ]
  },
  {
   "cell_type": "markdown",
   "metadata": {},
   "source": [
    "&nbsp;\n",
    "\n",
    "## 3  importing code from a `.py` file into jupyter notebook   \n",
    "* this can be done using the jupyter notebook magic command `% load path/fileame`\n",
    "* this method does not yield any result with any other file type.  \n",
    "     \n",
    "     \n",
    "* the file `pi_ruler.py` in the **data** folder contains a simple udf that calculates the circumference of a circle in pi units of length "
   ]
  },
  {
   "cell_type": "code",
   "execution_count": 2,
   "metadata": {},
   "outputs": [],
   "source": [
    "# %load data/pi_ruler.py\n",
    "def pi_ruler(r):\n",
    "    \n",
    "    \"\"\"\n",
    "    the circumference of a circle is 2*pi*r (r radius)     \n",
    "    a circle with r = 1/2 has a circumference pi    \n",
    "    this method calculates the circumference of a circle in pi units    \n",
    "    \"\"\"\n",
    "    from math import pi\n",
    "    pi_len = 2*r\n",
    "    print('a circle with a radius {} inches has a circumference of {} pi'.format(r,pi_len))"
   ]
  },
  {
   "cell_type": "code",
   "execution_count": 3,
   "metadata": {},
   "outputs": [
    {
     "name": "stdout",
     "output_type": "stream",
     "text": [
      "a circle with a radius 6 inches has a circumference of 12 pi\n"
     ]
    }
   ],
   "source": [
    "pi_ruler(6)"
   ]
  },
  {
   "cell_type": "code",
   "execution_count": null,
   "metadata": {},
   "outputs": [],
   "source": [
    "reset()"
   ]
  },
  {
   "cell_type": "markdown",
   "metadata": {},
   "source": [
    "&nbsp;\n",
    "\n",
    "&nbsp;\n",
    "\n",
    "if your `.py` file is in the root directory where jupyter notebook is running you can use the method `import` to retrieve the file"
   ]
  },
  {
   "cell_type": "code",
   "execution_count": null,
   "metadata": {},
   "outputs": [],
   "source": [
    "import pi_ruler as p"
   ]
  },
  {
   "cell_type": "code",
   "execution_count": null,
   "metadata": {},
   "outputs": [],
   "source": [
    "p.pi_ruler(6)"
   ]
  },
  {
   "cell_type": "markdown",
   "metadata": {},
   "source": [
    "___________________________"
   ]
  },
  {
   "cell_type": "markdown",
   "metadata": {},
   "source": [
    "&nbsp;\n",
    "\n",
    "&nbsp;\n",
    "\n",
    "&nbsp;\n",
    "\n",
    "&nbsp;\n",
    "\n",
    "&nbsp;\n",
    "\n",
    "&nbsp;\n",
    "\n",
    "&nbsp;\n",
    "\n",
    "&nbsp;\n",
    "\n",
    "&nbsp;\n",
    "\n",
    "&nbsp;\n",
    "\n",
    "&nbsp;\n",
    "\n",
    "&nbsp;\n",
    "### Appendix\n",
    "\n",
    "**rock.csv** dataset\n",
    "\n",
    "Measurements on Petroleum Rock Samples\n",
    "\n",
    "Description:     \n",
    "Measurements on 48 rock samples from a petroleum reservoir.\n",
    "\n",
    "A data frame with 48 rows and 4 numeric columns.\n",
    "\n",
    "area\t area of pores space, in pixels out of 256 by 256    \n",
    "peri\t perimeter in pixels    \n",
    "shape\t perimeter/sqrt(area)    \n",
    "perm\t permeability in milli-Darcies    "
   ]
  },
  {
   "cell_type": "code",
   "execution_count": null,
   "metadata": {},
   "outputs": [],
   "source": []
  }
 ],
 "metadata": {
  "anaconda-cloud": {},
  "kernelspec": {
   "display_name": "Python 2",
   "language": "python",
   "name": "python2"
  },
  "language_info": {
   "codemirror_mode": {
    "name": "ipython",
    "version": 2
   },
   "file_extension": ".py",
   "mimetype": "text/x-python",
   "name": "python",
   "nbconvert_exporter": "python",
   "pygments_lexer": "ipython2",
   "version": "2.7.14"
  }
 },
 "nbformat": 4,
 "nbformat_minor": 2
}
