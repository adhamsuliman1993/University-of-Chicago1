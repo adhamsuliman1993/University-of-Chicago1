{
 "cells": [
  {
   "cell_type": "markdown",
   "metadata": {},
   "source": [
    "# 1- Python's Conceptual Hierarchy:\n",
    "\n",
    "<span style='font-size:1.1em'>\n",
    "    1- Programs are comprised of modules   \n",
    "    2- Modules are comprised of statements  \n",
    "    3- Statements are comprised of expressions   \n",
    "    4- Expressions create and process objects</span>\n",
    "&nbsp;\n",
    "\n",
    "* An Expression is defined as a collection of symbols that jointly express a quantity. 2$\\pi$r is an expression of the circumference of a circle. \n",
    "* Expressions produce a value however because statements can also be used to produce a value this distinction can become blurry at times.  "
   ]
  },
  {
   "cell_type": "markdown",
   "metadata": {},
   "source": [
    "* expressions"
   ]
  },
  {
   "cell_type": "code",
   "execution_count": null,
   "metadata": {
    "scrolled": true
   },
   "outputs": [],
   "source": [
    "'greetings'"
   ]
  },
  {
   "cell_type": "code",
   "execution_count": null,
   "metadata": {
    "scrolled": true
   },
   "outputs": [],
   "source": [
    "[4,1,5,6,7]"
   ]
  },
  {
   "cell_type": "code",
   "execution_count": null,
   "metadata": {},
   "outputs": [],
   "source": [
    "# an example of a statement to create an expression.\n",
    "# this expression is formally known as a list comprehension\n",
    "\n",
    "[x**2 for x in [4,1,5,6]]"
   ]
  },
  {
   "cell_type": "markdown",
   "metadata": {},
   "source": [
    "* statements"
   ]
  },
  {
   "cell_type": "code",
   "execution_count": null,
   "metadata": {},
   "outputs": [],
   "source": [
    "str_1 = 'greetings'\n",
    "\n",
    "r = [x**2 for x in [4,1,5,6]]"
   ]
  },
  {
   "cell_type": "markdown",
   "metadata": {},
   "source": [
    "* Everything that we have encountered up to this point has mostly been Python expressions or statements used to create other statments.\n",
    "* A statement can be thought of as the smallest standalone element of an imperative programming language. \n",
    "* Famous Python statements include `print`, `if/else/elif`, `for/else`, `while/else`, `pass/break/continue`, `def`, `return`, `from`, `import`, `class` and `del`\n",
    "\n",
    "&nbsp;\n",
    "\n",
    "&nbsp;\n"
   ]
  },
  {
   "cell_type": "markdown",
   "metadata": {},
   "source": [
    "# 2- Conditional Statements in Python\n",
    "_________________________________\n",
    "* conditional statements are about decision making   \n",
    "* Syntax:     \n",
    "<br>  \n",
    "`if condition1:    \n",
    "    statement 1    \n",
    "elif condition2:  \n",
    "    statement 2    \n",
    "else:  \n",
    "    statement 3`"
   ]
  },
  {
   "cell_type": "code",
   "execution_count": 25,
   "metadata": {},
   "outputs": [],
   "source": [
    "list_1 = [2,3,5,6]\n",
    "list_1 = [3,6,5,4,1]\n",
    "list_1 = [5,1,9]"
   ]
  },
  {
   "cell_type": "code",
   "execution_count": 26,
   "metadata": {},
   "outputs": [
    {
     "name": "stdout",
     "output_type": "stream",
     "text": [
      "[25, 1, 81]\n"
     ]
    }
   ],
   "source": [
    "if len(list_1) == 4:\n",
    "    print(list_1*2)\n",
    "elif len(list_1) > 4:\n",
    "    print('the list has number of more than 4 elements')\n",
    "else:\n",
    "    print([x**2 for x in list_1])"
   ]
  },
  {
   "cell_type": "markdown",
   "metadata": {},
   "source": [
    "* a simple `if/else` statement can be written efficiently as a single line expression"
   ]
  },
  {
   "cell_type": "code",
   "execution_count": 27,
   "metadata": {},
   "outputs": [
    {
     "name": "stdout",
     "output_type": "stream",
     "text": [
      "no info on length of list_1\n"
     ]
    }
   ],
   "source": [
    "print('list_1 has 4 elements') if len(list_1)==4 else print('no info on length of list_1')"
   ]
  },
  {
   "cell_type": "code",
   "execution_count": 29,
   "metadata": {},
   "outputs": [
    {
     "name": "stdout",
     "output_type": "stream",
     "text": [
      "x = 9\n"
     ]
    }
   ],
   "source": [
    "y = 1\n",
    "x = 7 if y >=4 else 9\n",
    "print('x = {}'.format(x))"
   ]
  },
  {
   "cell_type": "code",
   "execution_count": 30,
   "metadata": {},
   "outputs": [
    {
     "name": "stdout",
     "output_type": "stream",
     "text": [
      "x = 9\n"
     ]
    }
   ],
   "source": [
    "print('x = {}'.format(7 if y >=4 else 9))"
   ]
  },
  {
   "cell_type": "markdown",
   "metadata": {},
   "source": [
    "* an `if x:` not followed with any condition is equivalent to `if x == True:` or `if x == ''`   \n",
    "* `if` statements, `for` loops and `def` methods are very sensitive to indentations.   \n",
    "* indentation defines code block boundaries in Python methods and statements.  "
   ]
  },
  {
   "cell_type": "code",
   "execution_count": 33,
   "metadata": {},
   "outputs": [
    {
     "name": "stdout",
     "output_type": "stream",
     "text": [
      "block2\n",
      "block1\n",
      "block0\n"
     ]
    }
   ],
   "source": [
    "x = 1\n",
    "if x:        # this checks if x is empty\n",
    "    y = 2     # this checks if y is empty\n",
    "    if y:\n",
    "        print('block2')  # this is the result of condition 2\n",
    "    print('block1')      # this is result of condition 1\n",
    "print('block0')          # this is outside the if statement"
   ]
  },
  {
   "cell_type": "code",
   "execution_count": 34,
   "metadata": {},
   "outputs": [
    {
     "name": "stdout",
     "output_type": "stream",
     "text": [
      "block0\n"
     ]
    }
   ],
   "source": [
    "x = ''\n",
    "if x:\n",
    "    y = True\n",
    "    if y:\n",
    "        print('block2')\n",
    "    print('block1')\n",
    "print('block0')"
   ]
  },
  {
   "cell_type": "markdown",
   "metadata": {},
   "source": [
    "* an `if` statement can have multiple `elif` statements.  "
   ]
  },
  {
   "cell_type": "code",
   "execution_count": null,
   "metadata": {},
   "outputs": [],
   "source": [
    "BMI = 26\n",
    "\n",
    "if BMI < 18.5: \n",
    "    print('bmi of {} is considered underweight'.format(BMI))\n",
    "elif BMI >= 18.5 and BMI < 24.9:\n",
    "    print('bmi of {} is considered healthy'.format(BMI))\n",
    "elif BMI >=24.9 and BMI < 29.9:\n",
    "    print('bmi of {} is considered overweight'.format(BMI))\n",
    "elif BMI >=29.9 and BMI < 39.9:\n",
    "    print('bmi of {} is considered obese'.format(BMI))\n",
    "else:\n",
    "    print('bmi of {} is considered extemely obese'.format(BMI))\n",
    "    "
   ]
  },
  {
   "cell_type": "markdown",
   "metadata": {},
   "source": [
    "* `if not` statement is used most conveniently when the condition is checking an object attribute.\n",
    "* `if not` is very useful in expressions and list comprehensions. \n",
    "       \n",
    "       \n",
    "* below:    \n",
    "`if not word.count(sub, 0, len(word))` is more succint than `if word.count(sub, 0, len(word)) == 0`"
   ]
  },
  {
   "cell_type": "code",
   "execution_count": 35,
   "metadata": {},
   "outputs": [
    {
     "name": "stdout",
     "output_type": "stream",
     "text": [
      "eps occurs\n"
     ]
    }
   ],
   "source": [
    "word = 'epanalepsis'\n",
    "sub = 'eps'\n",
    "print('{} does not occur'.format(sub)) if not word.count(sub, 0, len(word)) else print('{} occurs'.format(sub)) "
   ]
  },
  {
   "cell_type": "markdown",
   "metadata": {},
   "source": [
    "&nbsp;\n",
    "\n",
    "&nbsp;\n",
    "\n",
    "# 3- Loops and Iterators in Python\n",
    "_______________________\n",
    "* two main looping constructs `for` and `while` statements.   \n",
    "* a number of supporting statements that can be nested inside loops:      \n",
    "    1- `break` jumps out of the closest enclosing loop (requires a nested if statement).     \n",
    "    2- `continue` jump to the top of the closest enclosing loop (requires a nested if statement).   \n",
    "    3- `else` block, runs if the loop is exited normally.      \n",
    "    4- `pass` an empty statement placeholder (most useful when building a looping construct).       \n",
    "       "
   ]
  },
  {
   "cell_type": "markdown",
   "metadata": {},
   "source": [
    "## 3.1 `while` statement\n",
    "\n",
    "* `while` statements often involves a value that changes after each iteration.\n",
    "\n",
    "`while test:\n",
    "    statements`\n",
    "  \n",
    " *with an optional else statement*    \n",
    "  \n",
    "`while test:\n",
    "    statements\n",
    "else:\n",
    "    statements`"
   ]
  },
  {
   "cell_type": "code",
   "execution_count": 36,
   "metadata": {},
   "outputs": [
    {
     "name": "stdout",
     "output_type": "stream",
     "text": [
      "testing esting sting ting ing "
     ]
    }
   ],
   "source": [
    "echo = 'testing'\n",
    "while len(echo)>2:\n",
    "    print(echo, end=' ')\n",
    "    echo = echo[1:]"
   ]
  },
  {
   "cell_type": "markdown",
   "metadata": {},
   "source": [
    "* a `while-else` statement is a statement that executes `else` when the `while` loop is exits normally. "
   ]
  },
  {
   "cell_type": "code",
   "execution_count": 37,
   "metadata": {},
   "outputs": [
    {
     "name": "stdout",
     "output_type": "stream",
     "text": [
      "testing esting sting ting ing \n",
      "smaller subsets not part of echo\n"
     ]
    }
   ],
   "source": [
    "echo = 'testing'\n",
    "while len(echo)>2:\n",
    "    print(echo, end=' ')\n",
    "    echo = echo[1:]\n",
    "else:\n",
    "    print('\\nsmaller subsets not part of echo')"
   ]
  },
  {
   "cell_type": "markdown",
   "metadata": {},
   "source": [
    "* `continue` statement will skip the expression of the `while` loop upon satisfying a condition."
   ]
  },
  {
   "cell_type": "code",
   "execution_count": 38,
   "metadata": {},
   "outputs": [
    {
     "name": "stdout",
     "output_type": "stream",
     "text": [
      "(10, 5.0) (8, 4.0) (6, 3.0) (4, 2.0) (2, 1.0) "
     ]
    }
   ],
   "source": [
    "x = 12\n",
    "while x > 1:\n",
    "    x-=1                      # x-=1 == x = x-1\n",
    "    if x % 2 != 0: continue   # this will skip value of x 11,9,7, and 5\n",
    "    print((x,x/2), end=' ')"
   ]
  },
  {
   "cell_type": "markdown",
   "metadata": {},
   "source": [
    "in the example above since the statement will decrement `x` before checking if it is even the first value of x is not assessed.  "
   ]
  },
  {
   "cell_type": "markdown",
   "metadata": {},
   "source": [
    "* the `break` statement breaks the loop once a condition is satisfied"
   ]
  },
  {
   "cell_type": "code",
   "execution_count": 41,
   "metadata": {},
   "outputs": [],
   "source": [
    "employee_name=[]"
   ]
  },
  {
   "cell_type": "code",
   "execution_count": 42,
   "metadata": {},
   "outputs": [
    {
     "name": "stdout",
     "output_type": "stream",
     "text": [
      "Enter Name: adham\n",
      "Enter Name: kevin\n",
      "Enter Name: stop\n"
     ]
    }
   ],
   "source": [
    "while True:\n",
    "    name = input('Enter Name: ')\n",
    "    if name == 'stop': break\n",
    "    employee_name.append(name)"
   ]
  },
  {
   "cell_type": "code",
   "execution_count": null,
   "metadata": {},
   "outputs": [],
   "source": [
    "employee_name"
   ]
  },
  {
   "cell_type": "markdown",
   "metadata": {},
   "source": [
    "&nbsp;\n",
    "\n",
    "* fibonacci sequence can be created using a `while` statement. \n",
    "* every number after the first two is the sum of the two preceeding oncess: $$ F_n = F_{n-1} + F_{n-2} $$"
   ]
  },
  {
   "cell_type": "markdown",
   "metadata": {},
   "source": [
    "<span style='color:blue'>write a simple while loop that creates a list of the first 21 numbers of the fibonnacci sequence. start by defining a core list of `[0,1]` or the first two numbers `x=0` and `y=1`</span>"
   ]
  },
  {
   "cell_type": "code",
   "execution_count": 5,
   "metadata": {},
   "outputs": [
    {
     "name": "stdout",
     "output_type": "stream",
     "text": [
      "1 2 3 5 8 13 21 34 55 89 144 233 377 610 987 1597 2584 4181 6765 "
     ]
    }
   ],
   "source": [
    "x,\n",
    "y=1 \n",
    "count = 0\n",
    "while count<19:\n",
    "    x,y = y,x+y\n",
    "    count+=1\n",
    "    print(y, end = ' ')"
   ]
  },
  {
   "cell_type": "code",
   "execution_count": 6,
   "metadata": {},
   "outputs": [
    {
     "name": "stdout",
     "output_type": "stream",
     "text": [
      "[0, 1, 1, 2, 3, 5, 8, 13, 21, 34, 55, 89, 144, 233, 377, 610, 987, 1597, 2584, 4181, 6765]\n"
     ]
    }
   ],
   "source": [
    "fib = [0,1]\n",
    "count = 0\n",
    "while count<19:\n",
    "    fib.append(fib[-1]+fib[-2])\n",
    "    count+=1\n",
    "\n",
    "print(fib)"
   ]
  },
  {
   "cell_type": "markdown",
   "metadata": {},
   "source": [
    "here's the first 21 numbers in the sequence"
   ]
  },
  {
   "cell_type": "markdown",
   "metadata": {},
   "source": [
    "`0 1 1 2 3 5 8 13 21 34 55 89 144 233 377 610 987 1597 2584 4181 6765`"
   ]
  },
  {
   "cell_type": "markdown",
   "metadata": {},
   "source": [
    "&nbsp;\n",
    "\n",
    "\n",
    "## 3.2 `for` statement   \n",
    "\n",
    "`for target in object:\n",
    "    statements`\n",
    "  \n",
    " *with an optional else statement*    \n",
    "  \n",
    "`for target in object:\n",
    "    statements\n",
    "else:\n",
    "    statements`"
   ]
  },
  {
   "cell_type": "markdown",
   "metadata": {},
   "source": [
    "* strings in Python are iterable objects types"
   ]
  },
  {
   "cell_type": "code",
   "execution_count": null,
   "metadata": {},
   "outputs": [],
   "source": [
    "s = 'this is a string'\n",
    "\n",
    "for c in s:\n",
    "    print(c+'-', end='')"
   ]
  },
  {
   "cell_type": "code",
   "execution_count": null,
   "metadata": {},
   "outputs": [],
   "source": [
    "for c in s:\n",
    "    print(ord(c), end=' ')"
   ]
  },
  {
   "cell_type": "markdown",
   "metadata": {},
   "source": [
    "this can be written more succinctly as:    "
   ]
  },
  {
   "cell_type": "code",
   "execution_count": null,
   "metadata": {},
   "outputs": [],
   "source": [
    "[ord(c) for c in s]"
   ]
  },
  {
   "cell_type": "markdown",
   "metadata": {},
   "source": [
    "(above is an example of an expression called a list comprehension)\n",
    "&nbsp;\n",
    "\n",
    "&nbsp;\n",
    "\n",
    "* `for` loops can also act in the capacity of a `while` statement to repeatadly evaluate an expression"
   ]
  },
  {
   "cell_type": "code",
   "execution_count": 16,
   "metadata": {},
   "outputs": [],
   "source": [
    "import numpy as np\n",
    "import pandas"
   ]
  },
  {
   "cell_type": "code",
   "execution_count": null,
   "metadata": {},
   "outputs": [],
   "source": [
    "# nothice that i is not being utilized in the expression\n",
    "for i in range(100):\n",
    "    print(chr(int((round(np.random.rand(),2)*100))),end=' ')"
   ]
  },
  {
   "cell_type": "markdown",
   "metadata": {},
   "source": [
    "* `for` statements can be nested"
   ]
  },
  {
   "cell_type": "code",
   "execution_count": null,
   "metadata": {},
   "outputs": [],
   "source": [
    "a, b = range(2,8), range(1,3)\n",
    "\n",
    "a_pow_b = [] #empty list to append new elements to. \n",
    "\n",
    "for i in a:\n",
    "    for j in b:\n",
    "        a_pow_b.append(pow(i,j))\n",
    "        \n",
    "print(a_pow_b)"
   ]
  },
  {
   "cell_type": "markdown",
   "metadata": {},
   "source": [
    "* keys and values of a dictionary are iterable, use a for loop to iterate thru a dictionary items:"
   ]
  },
  {
   "cell_type": "code",
   "execution_count": null,
   "metadata": {},
   "outputs": [],
   "source": [
    "dict_4 = {1985:'Cycle of Warewolf',\n",
    "          1996:{'The Green Miles':{2:'The Mouse on the Mile',1:'The Two Dead Girls'}, 3:'Coffery\\' Hands',\n",
    "               5:'Night Journey',6:'Coffery on the Mile',4:'The Bad Death of Edward Delacriox'},\n",
    "          1991:{1:'The Stand',2:'The Dark Tower:The Waste Lands'},\n",
    "          1987:{1:'The Eyes of the Dragon',2:'The Dark Tower:The Drawing of the tree',3:'Misery',4:'The Tommyknockers'}}"
   ]
  },
  {
   "cell_type": "code",
   "execution_count": null,
   "metadata": {},
   "outputs": [],
   "source": [
    "# in this example we call key the attribute of dict_4\n",
    "for key in dict_4:\n",
    "    print(key,' => ',dict_4[key], end='\\n\\n')"
   ]
  },
  {
   "cell_type": "code",
   "execution_count": null,
   "metadata": {},
   "outputs": [],
   "source": [
    "# in this example x and y represent the key and value assigned to the dict_4.items()\n",
    "# recall that dict_4.items() returns a list of (key,value) tuples that we capture using multi-assignment\n",
    "\n",
    "for (x,y) in dict_4.items():\n",
    "    print(x,' ==> ',y, end='\\n\\n')"
   ]
  },
  {
   "cell_type": "markdown",
   "metadata": {},
   "source": [
    "### 3.2.1 the `enumerate()` function:\n",
    "\n",
    "* syntax: `enumerate(iterable, start=0)`    \n",
    "* by itself the `enumerate()` functions returns a tuple containing an (index, value) pair starting at defined `start`. "
   ]
  },
  {
   "cell_type": "code",
   "execution_count": 14,
   "metadata": {},
   "outputs": [],
   "source": [
    "# a sample from a normally distribute random variable.\n",
    "norm_1 = [ \n",
    "        0.85567338,  0.26152381, -0.73251952, -0.19386771, -0.02788016,\n",
    "       -0.37545653,  0.86448105,  0.14906788,  0.20980621,  0.01462341,\n",
    "       -1.16974472,  0.3044212 ,  0.10179421,  0.5986373 , -0.153957  ,\n",
    "       -0.53779243, -0.64934128, -0.18870407,  0.36207197, -0.87953644,\n",
    "        1.5002981 ,  0.09291734, -0.22792116, -0.00722612, -0.01658935,\n",
    "        0.67512695,  0.21235187, -0.98757662,  0.03776504,  1.72908671,\n",
    "       -0.47101163, -0.33828453, -0.56690145,  0.22863732, -0.11394473,\n",
    "        0.57888681,  0.41353363,  0.41353225, -0.11699942, -0.28788474,\n",
    "        0.47052836,  1.31212803,  0.00881542,  0.33294558, -0.17610327,\n",
    "        0.07685088,  0.13075439, -0.44796947, -0.82784466,  0.48043545,\n",
    "        0.57840025,  0.76581154,  0.15029234,  0.18670172, -0.45963916,\n",
    "       -0.29813299,  0.863169  ,  1.56515904,  1.42559799,  0.24279349,\n",
    "       -0.46985923,  0.11271094, -0.10062158,  0.53074919,  1.17386216,\n",
    "        0.3249393 ,  0.10828674, -0.0398253 , -0.532675  ,  0.2248118 ,\n",
    "        0.34462597,  0.68117081, -0.66904952, -0.64081592, -0.79508548,\n",
    "        1.15430465,  0.15814982,  0.56552673, -0.51990009,  0.27117282,\n",
    "       -0.09115771,  0.19376023, -0.51766469,  0.24680429, -0.8824784 ,\n",
    "        0.21518327,  0.14214064, -0.08711938, -0.52234801, -0.1186766 ,\n",
    "        0.27748961, -0.12939926,  0.20221867, -0.11496247, -0.25483535,\n",
    "        0.33208192,  0.53052014,  0.48706197,  1.01395269, -0.32689196]"
   ]
  },
  {
   "cell_type": "code",
   "execution_count": null,
   "metadata": {},
   "outputs": [],
   "source": [
    "# we must list the enumerated object to \n",
    "list(enumerate(norm_1))[:10]"
   ]
  },
  {
   "cell_type": "markdown",
   "metadata": {},
   "source": [
    "* when `enumerate()` is used within a `for` statement both the object and its index can be captured.   \n",
    "* this is useful when capturing the index of an object becomes necessary.   "
   ]
  },
  {
   "cell_type": "code",
   "execution_count": null,
   "metadata": {},
   "outputs": [],
   "source": [
    "word_list = ['foo', 'bar', '423','gronk', 'hello kitty', 'sling', 'drag', '8' ]"
   ]
  },
  {
   "cell_type": "code",
   "execution_count": null,
   "metadata": {},
   "outputs": [],
   "source": [
    "# produces a tuple of (index, value)\n",
    "digits = []\n",
    "\n",
    "for loci, word in enumerate(word_list):\n",
    "    if word.isdigit():digits.append((loci, word))\n",
    "        \n",
    "digits"
   ]
  },
  {
   "cell_type": "markdown",
   "metadata": {},
   "source": [
    "&nbsp; \n",
    "\n",
    "<span style='color:blue'> write a for-statement that returns the index and values from <U>norm_1</U> that are less than 2 standard deviations from the mean </span> "
   ]
  },
  {
   "cell_type": "code",
   "execution_count": 17,
   "metadata": {},
   "outputs": [],
   "source": [
    "std = 0.57233146076364871\n",
    "mean = 0.10419949169999999"
   ]
  },
  {
   "cell_type": "code",
   "execution_count": 18,
   "metadata": {},
   "outputs": [
    {
     "ename": "TypeError",
     "evalue": "append() takes exactly one argument (2 given)",
     "output_type": "error",
     "traceback": [
      "\u001b[1;31m---------------------------------------------------------------------------\u001b[0m",
      "\u001b[1;31mTypeError\u001b[0m                                 Traceback (most recent call last)",
      "\u001b[1;32m<ipython-input-18-ea8bd13a7032>\u001b[0m in \u001b[0;36m<module>\u001b[1;34m()\u001b[0m\n\u001b[0;32m      3\u001b[0m \u001b[1;32mfor\u001b[0m \u001b[0mindex\u001b[0m\u001b[1;33m,\u001b[0m\u001b[0mval\u001b[0m \u001b[1;32min\u001b[0m \u001b[0menumerate\u001b[0m\u001b[1;33m(\u001b[0m\u001b[0mnorm_1\u001b[0m\u001b[1;33m)\u001b[0m\u001b[1;33m:\u001b[0m\u001b[1;33m\u001b[0m\u001b[0m\n\u001b[0;32m      4\u001b[0m     \u001b[1;32mif\u001b[0m \u001b[0mval\u001b[0m \u001b[1;33m>\u001b[0m \u001b[0mmean\u001b[0m\u001b[1;33m+\u001b[0m\u001b[1;36m2\u001b[0m\u001b[1;33m*\u001b[0m\u001b[0mstd\u001b[0m \u001b[1;32mor\u001b[0m \u001b[0mval\u001b[0m \u001b[1;33m<\u001b[0m \u001b[0mmean\u001b[0m\u001b[1;33m-\u001b[0m\u001b[1;36m2\u001b[0m\u001b[1;33m*\u001b[0m\u001b[0mstd\u001b[0m\u001b[1;33m:\u001b[0m\u001b[1;33m\u001b[0m\u001b[0m\n\u001b[1;32m----> 5\u001b[1;33m         \u001b[0mvec\u001b[0m\u001b[1;33m.\u001b[0m\u001b[0mappend\u001b[0m\u001b[1;33m(\u001b[0m\u001b[0mindex\u001b[0m\u001b[1;33m,\u001b[0m\u001b[0mval\u001b[0m\u001b[1;33m)\u001b[0m\u001b[1;33m\u001b[0m\u001b[0m\n\u001b[0m\u001b[0;32m      6\u001b[0m \u001b[0mprint\u001b[0m\u001b[1;33m(\u001b[0m\u001b[0menumerate\u001b[0m\u001b[1;33m(\u001b[0m\u001b[0mloci\u001b[0m\u001b[1;33m,\u001b[0m\u001b[0mvec\u001b[0m\u001b[1;33m)\u001b[0m\u001b[1;33m)\u001b[0m\u001b[1;33m\u001b[0m\u001b[0m\n",
      "\u001b[1;31mTypeError\u001b[0m: append() takes exactly one argument (2 given)"
     ]
    }
   ],
   "source": [
    "#skipped code\n",
    "vec = [] #use vec to append new value pairs to\n",
    "for index,val in enumerate(norm_1):\n",
    "    if val > mean+2*std or val < mean-2*std: \n",
    "        vec.append(index,val)\n",
    "print(enumerate(loci,vec))"
   ]
  },
  {
   "cell_type": "markdown",
   "metadata": {},
   "source": [
    "print looks like this \n",
    "\n",
    "\n",
    "`[(20, 1.5002981), (29, 1.72908671), (41, 1.31212803), (57, 1.56515904), (58, 1.42559799)]`"
   ]
  },
  {
   "cell_type": "markdown",
   "metadata": {},
   "source": [
    "&nbsp;\n",
    "\n",
    "### 3.2.2 `for-else` statement and `for-continue` statement  \n",
    "* not very common but useful when required. \n",
    "* `for-else` statement is executed as the loop exits normally"
   ]
  },
  {
   "cell_type": "code",
   "execution_count": null,
   "metadata": {},
   "outputs": [],
   "source": [
    "s = 'this has to be a string'\n",
    "\n",
    "for ch in s:\n",
    "    print(ch+'-',end='')  # successful execution of the for statement carried out the else statemet\n",
    "else:\n",
    "    print('\\n\\nran out of letters!')"
   ]
  },
  {
   "cell_type": "markdown",
   "metadata": {},
   "source": [
    "* `for-continue` statement continues with the next iteration of the loop (skipping the current iteration) upon a condition. "
   ]
  },
  {
   "cell_type": "code",
   "execution_count": null,
   "metadata": {},
   "outputs": [],
   "source": [
    "my_list = [4,10,1,-1,7,12,-3,-6,2]\n",
    "\n",
    "for index, num in enumerate(my_list):\n",
    "    if num < 0: continue\n",
    "    my_list[index] = num**2\n",
    "else:\n",
    "    print('done')"
   ]
  },
  {
   "cell_type": "code",
   "execution_count": null,
   "metadata": {},
   "outputs": [],
   "source": [
    "my_list"
   ]
  },
  {
   "cell_type": "markdown",
   "metadata": {},
   "source": [
    "&nbsp; \n",
    "\n",
    "### 3.2.3 list comprehensions   \n",
    "\n",
    "* list comprehensions are expressions that are written in square brackets because they construct a new list.  \n",
    "* we have sporadically come across list comprehensions before. \n",
    "* general syntax  \n",
    "* the concept of comprehension in python makes iterable statements very powerful and succinct\n",
    "\n",
    "`[do_something(element)` **`for`** `element` **`in`** `object]`\n",
    "\n",
    "\n",
    "`[do_something(element)` **`for`** `element` **`in`** `object` **`if`** `condition` `]`"
   ]
  },
  {
   "cell_type": "code",
   "execution_count": 19,
   "metadata": {},
   "outputs": [
    {
     "data": {
      "text/plain": [
       "(\"\\t\\t\\t\\tShall I compare thee to a summer's day?\\t\\t\\t\\t   \\t\\t\\n\",\n",
       " '\\t\\t\\t\\tThou art more lovely and more temperate:\\t\\t\\t\\t\\n',\n",
       " '\\t\\t\\t\\tRough winds do shake the darling buds of May,\\t\\t\\t\\t\\n',\n",
       " \"\\t\\t\\t\\tAnd summer's lease hath all too short a date: \\t\\t\\t\\t\\n\",\n",
       " '\\t\\t\\t\\tSometime too hot the eye of heaven shines,\\t\\t\\t\\t\\n',\n",
       " \"\\t\\t\\t\\tAnd often is his gold complexion dimm'd; \\t\\t\\t\\t\\n\",\n",
       " '\\t\\t\\t\\tAnd every fair from fair sometime declines,\\t\\t\\t\\t\\n',\n",
       " \"\\t\\t\\t\\tBy chance, or nature's changing course, untrimm'd;\\t\\t\\t\\t\\n\",\n",
       " '\\t\\t\\t\\tBut thy eternal summer shall not fade\\t\\t\\t\\t\\n',\n",
       " \"\\t\\t\\t\\tNor lose possession of that fair thou ow'st;\\t\\t\\t\\t\\n\",\n",
       " \"\\t\\t\\t\\tNor shall Death brag thou wander'st in his shade,\\t\\t\\t\\t\\n\",\n",
       " \"\\t\\t\\t\\tWhen in eternal lines to time thou grow'st; \\t\\t\\t\\t\\n\",\n",
       " '\\t\\t\\t\\tSo long as men can breathe or eyes can see,\\t\\t\\t\\t\\n',\n",
       " '\\t\\t\\t\\tSo long lives this, and this gives life to thee. \\t\\t\\t\\t')"
      ]
     },
     "execution_count": 19,
     "metadata": {},
     "output_type": "execute_result"
    }
   ],
   "source": [
    "poem = tuple(open('C:/Users/u353822/Desktop/Short Python Course/Lecture_01/files/sonnet_18_spaces.txt','r'))\n",
    "poem"
   ]
  },
  {
   "cell_type": "code",
   "execution_count": null,
   "metadata": {},
   "outputs": [],
   "source": [
    "# the tuple will be converted to a list comprehension\n",
    "# using list comprehension we can remove the leading and trailing spaces\n",
    "poem = [line.strip() for line in poem]\n",
    "poem"
   ]
  },
  {
   "cell_type": "code",
   "execution_count": null,
   "metadata": {},
   "outputs": [],
   "source": [
    "print(poem[0], poem[1], sep='\\n')"
   ]
  },
  {
   "cell_type": "code",
   "execution_count": null,
   "metadata": {},
   "outputs": [],
   "source": [
    "[line.upper() for line in poem]"
   ]
  },
  {
   "cell_type": "markdown",
   "metadata": {},
   "source": [
    "&nbsp;\n",
    "\n",
    "* a filtered list comprehension contains a conditional. \n",
    "* this list comprehension picks lines longer than 45 characters and reorders the characters alphabetically"
   ]
  },
  {
   "cell_type": "code",
   "execution_count": null,
   "metadata": {},
   "outputs": [],
   "source": [
    "[''.join(sorted(list(line))) for line in poem if len(line)>45]"
   ]
  },
  {
   "cell_type": "markdown",
   "metadata": {},
   "source": [
    "* list comprehensions can accommodate multiple `for` statements"
   ]
  },
  {
   "cell_type": "code",
   "execution_count": null,
   "metadata": {},
   "outputs": [],
   "source": [
    "x , y , z = range(2,6), range(3,10), range(4,5)\n",
    "\n",
    "[(a**b)/c for a in x for b in y for c in z]"
   ]
  },
  {
   "cell_type": "code",
   "execution_count": null,
   "metadata": {},
   "outputs": [],
   "source": [
    "print([a + b for a in x for b in y])"
   ]
  },
  {
   "cell_type": "code",
   "execution_count": null,
   "metadata": {},
   "outputs": [],
   "source": [
    "print([a*b for a in x for b in ['s','p','a','m']])"
   ]
  },
  {
   "cell_type": "markdown",
   "metadata": {},
   "source": [
    "<span style='color:blue'>write a list comprehension that will print an (index, value) pair for values that are less than 2x standard deviation from the mean.</span>\n"
   ]
  },
  {
   "cell_type": "code",
   "execution_count": null,
   "metadata": {},
   "outputs": [],
   "source": [
    "#skipped code\n"
   ]
  },
  {
   "cell_type": "code",
   "execution_count": null,
   "metadata": {},
   "outputs": [],
   "source": [
    "#skipped code\n",
    "[(index, val) for index,val in enumerate(norm_1) if (val > mean+2*std) or (val < mean-2*std)]"
   ]
  },
  {
   "cell_type": "markdown",
   "metadata": {},
   "source": [
    "print result looks like this    \n",
    "\n",
    "\n",
    "`[(20, 1.5002981),    \n",
    " (29, 1.72908671),    \n",
    " (41, 1.31212803),   \n",
    " (57, 1.56515904),   \n",
    " (58, 1.42559799)]`   "
   ]
  },
  {
   "cell_type": "markdown",
   "metadata": {},
   "source": [
    "&nbsp; \n",
    "\n",
    "### 3.2.4 dictionary comprehensions   \n",
    "\n",
    "* similar to a list comprehensions a dictionary comprehension is created using comprehension syntax enclosed with curly brackets.    "
   ]
  },
  {
   "cell_type": "code",
   "execution_count": null,
   "metadata": {},
   "outputs": [],
   "source": [
    "my_dict = {x: x**2 for x in range(11) if x % 2 == 0 }\n",
    "print(my_dict)"
   ]
  },
  {
   "cell_type": "markdown",
   "metadata": {},
   "source": [
    "* nested `for` statements in dictionary comprehension do not work as we expected (as they do in list comprehensions)."
   ]
  },
  {
   "cell_type": "code",
   "execution_count": null,
   "metadata": {},
   "outputs": [],
   "source": [
    "[(y,y*x) for y in 'LOL' for x in list(range(11)) ]"
   ]
  },
  {
   "cell_type": "code",
   "execution_count": null,
   "metadata": {},
   "outputs": [],
   "source": [
    "my_dict = {y: y*x for y in 'ABCDEFGHIGJ' for x in list(range(11)) }\n",
    "print(my_dict)"
   ]
  },
  {
   "cell_type": "code",
   "execution_count": null,
   "metadata": {
    "scrolled": true
   },
   "outputs": [],
   "source": [
    "{x + y: (ord(x), ord(y)) for x in 'lov' for y in 'abc'}"
   ]
  },
  {
   "cell_type": "markdown",
   "metadata": {},
   "source": [
    "&nbsp; \n",
    "### Additional iterables\n",
    "\n",
    "* `zip()` is a new less famous iterator introduced in python 3.X include \n",
    "* `zip()` can combine elements from multiple tuples of the same length according to their order and produce a list of tuples.\n",
    "* `zip()` is a size optimized construct, even as the length of the sequences grows the size of a zip object remains constant. "
   ]
  },
  {
   "cell_type": "code",
   "execution_count": null,
   "metadata": {},
   "outputs": [],
   "source": [
    "zip_1 = zip(('Jon','Jamie','Daenerys'),(55000, 65000, 72000), ('312-885-1656', '312-995-1112', '857-400-6400'))\n",
    "\n",
    "zip_2 = zip(('Jon','Jamie','Daenerys','Jorah'),('Snow','Lannister','Targaryen','Mormont'),(55000, 65000, 72000, 61000), \n",
    "            ('312-885-1656', '312-995-1112', '857-400-6400', '800-265-3338'))"
   ]
  },
  {
   "cell_type": "code",
   "execution_count": null,
   "metadata": {},
   "outputs": [],
   "source": [
    "a = [('Jon', 55000, '312-885-1656'),\n",
    " ('Jamie', 65000, '312-995-1112'),\n",
    " ('Daenerys', 72000, '857-400-6400')]"
   ]
  },
  {
   "cell_type": "code",
   "execution_count": null,
   "metadata": {},
   "outputs": [],
   "source": [
    "b = [('Jon', 'Snow', 55000, '312-885-1656'),\n",
    " ('Jamie', 'Lannister', 65000, '312-995-1112'),\n",
    " ('Daenerys', 'Targaryen', 72000, '857-400-6400'),\n",
    " ('Jorah', 'Mormont', 61000, '800-265-3338')]"
   ]
  },
  {
   "cell_type": "code",
   "execution_count": null,
   "metadata": {},
   "outputs": [],
   "source": [
    "a, b"
   ]
  },
  {
   "cell_type": "code",
   "execution_count": null,
   "metadata": {},
   "outputs": [],
   "source": [
    "from sys import getsizeof\n",
    "getsizeof(zip_1), getsizeof(zip_2), getsizeof(a), getsizeof(b)"
   ]
  },
  {
   "cell_type": "markdown",
   "metadata": {},
   "source": [
    "&nbsp;\n",
    "\n",
    "&nbsp;\n",
    "\n",
    "### Additional numeric operators in Python     \n",
    "\n",
    "* the following operators are very useful in the context of iterable statements\n",
    "\n",
    "+= add and assign   \n",
    "-= subtract assign   \n",
    "\\*= multiply and assign    \n",
    "/= divide and assign     \n",
    "\\**= exponentiate and assign  \n",
    " "
   ]
  },
  {
   "cell_type": "code",
   "execution_count": null,
   "metadata": {},
   "outputs": [],
   "source": [
    "l = 2\n",
    "\n",
    "for i in range(1,7):\n",
    "    l**=i\n",
    "    print(l)"
   ]
  },
  {
   "cell_type": "code",
   "execution_count": null,
   "metadata": {},
   "outputs": [],
   "source": [
    "l = 3985\n",
    "\n",
    "for i in range(1,7):\n",
    "    l//=i\n",
    "    print(l)"
   ]
  }
 ],
 "metadata": {
  "anaconda-cloud": {},
  "kernelspec": {
   "display_name": "Python 3",
   "language": "python",
   "name": "python3"
  },
  "language_info": {
   "codemirror_mode": {
    "name": "ipython",
    "version": 3
   },
   "file_extension": ".py",
   "mimetype": "text/x-python",
   "name": "python",
   "nbconvert_exporter": "python",
   "pygments_lexer": "ipython3",
   "version": "3.6.4"
  }
 },
 "nbformat": 4,
 "nbformat_minor": 2
}
