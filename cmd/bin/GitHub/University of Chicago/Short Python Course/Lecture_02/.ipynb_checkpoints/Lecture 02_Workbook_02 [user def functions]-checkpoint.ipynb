{
 "cells": [
  {
   "cell_type": "markdown",
   "metadata": {
    "hideCode": false,
    "hidePrompt": false
   },
   "source": [
    "# Python user defined functions\n"
   ]
  },
  {
   "cell_type": "markdown",
   "metadata": {
    "collapsed": true,
    "hideCode": false,
    "hidePrompt": false
   },
   "source": [
    "## 1- `def` statement \n",
    "* the Python `def` statement is a true executible statement, when it runs it creates a new funcsion object and assigns it to a name.   \n",
    "* `def`s are not evaluated until they are reached and ran, hence they do not need to be fully defined before a program runs.  \n",
    "* in the `def` statement we define the number of argumets to tbe provided. (optionl, minimum can be zero).   \n",
    "* often the body of a `def` statement contains an -optional- `return` statement and it may show up anywhere in the body of the method.  \n",
    "* `def` can appear nested within an `if` statement depending on a condition.  \n",
    "&nbsp;\n",
    "\n",
    "`def method_name(arg_1, arg_2.... arg_N)\n",
    "    statement(s)\n",
    "    return(value)`\n",
    "    \n",
    "* let us write a simple method. It take two number and multiples one by the other.  "
   ]
  },
  {
   "cell_type": "code",
   "execution_count": null,
   "metadata": {
    "hideCode": false,
    "hidePrompt": false
   },
   "outputs": [],
   "source": [
    "def multiply(a, b):\n",
    "    return(a * b)"
   ]
  },
  {
   "cell_type": "code",
   "execution_count": null,
   "metadata": {
    "hideCode": false,
    "hidePrompt": false
   },
   "outputs": [],
   "source": [
    "multiply(3,4)"
   ]
  },
  {
   "cell_type": "code",
   "execution_count": null,
   "metadata": {
    "hideCode": false,
    "hidePrompt": false
   },
   "outputs": [],
   "source": [
    "multiply(12,0.3)"
   ]
  },
  {
   "cell_type": "markdown",
   "metadata": {
    "collapsed": true,
    "hideCode": false,
    "hidePrompt": false
   },
   "source": [
    "* the output of a method return can be assigned to a name:"
   ]
  },
  {
   "cell_type": "code",
   "execution_count": null,
   "metadata": {
    "hideCode": false,
    "hidePrompt": false
   },
   "outputs": [],
   "source": [
    "f = multiply('too',5)\n",
    "f"
   ]
  },
  {
   "cell_type": "code",
   "execution_count": null,
   "metadata": {
    "hideCode": false,
    "hidePrompt": false
   },
   "outputs": [],
   "source": [
    "multiply(3,'Na')"
   ]
  },
  {
   "cell_type": "markdown",
   "metadata": {
    "collapsed": true,
    "hideCode": false,
    "hidePrompt": false
   },
   "source": [
    "* this is an example of *polymorphism* in Python, a type-dependent behavior. What the expression `a * y` will return depends upon the kinds of objects that `a` and `b` are. In the first example the method performs a multiplication while in the second it performs a repetition.      \n",
    "* any two objects that support  **`*`** will work no matter what type.  \n",
    "* polymorphism means that the meaning of an operation depends on the object being operated upon.   \n",
    "* because python is dynamically type language almost every operation is a polymorphic operation.  \n",
    "* this by design, accounts to no small extent for Python's conciseness flexibility.  \n",
    "&nbsp;\n"
   ]
  },
  {
   "cell_type": "code",
   "execution_count": null,
   "metadata": {
    "hideCode": false,
    "hidePrompt": false
   },
   "outputs": [],
   "source": [
    "def intersect(seq1, seq2):\n",
    "    return([x for x in seq1 if x in seq2])"
   ]
  },
  {
   "cell_type": "code",
   "execution_count": null,
   "metadata": {
    "hideCode": false,
    "hideOutput": true,
    "hidePrompt": false
   },
   "outputs": [],
   "source": [
    "intersect('tribe','entreat')"
   ]
  },
  {
   "cell_type": "markdown",
   "metadata": {
    "collapsed": true,
    "hideCode": false,
    "hidePrompt": false
   },
   "source": [
    "* the `return` statement is optional:"
   ]
  },
  {
   "cell_type": "code",
   "execution_count": null,
   "metadata": {
    "hideCode": false,
    "hidePrompt": false
   },
   "outputs": [],
   "source": [
    "def test_func(n1,n2):\n",
    "    print('if you multiply {} by {} you get {}'.format(n1,n2,n1*n2))"
   ]
  },
  {
   "cell_type": "code",
   "execution_count": null,
   "metadata": {
    "hideCode": false,
    "hidePrompt": false
   },
   "outputs": [],
   "source": [
    "test_func(22,0.9)"
   ]
  },
  {
   "cell_type": "markdown",
   "metadata": {
    "hideCode": false,
    "hidePrompt": false
   },
   "source": [
    "* to avoid having to specify all arguments we can assign default values for method's arguments\n",
    "* the arguments are passed in order, so the first argument will always be assigned to `y` and the second to `x` unless declared otherwise.   "
   ]
  },
  {
   "cell_type": "code",
   "execution_count": null,
   "metadata": {
    "hideCode": false,
    "hidePrompt": false
   },
   "outputs": [],
   "source": [
    "def power(y,x = 2):\n",
    "    return(y**x)"
   ]
  },
  {
   "cell_type": "code",
   "execution_count": null,
   "metadata": {
    "hideCode": false,
    "hidePrompt": false
   },
   "outputs": [],
   "source": [
    "power(20)"
   ]
  },
  {
   "cell_type": "markdown",
   "metadata": {
    "hideCode": false,
    "hidePrompt": false
   },
   "source": [
    "* it is possible to include a placeholder for an argument without a default value and test for it using the reserved keyword `None`    "
   ]
  },
  {
   "cell_type": "code",
   "execution_count": null,
   "metadata": {
    "hideCode": false,
    "hidePrompt": false
   },
   "outputs": [],
   "source": [
    "def double_power(y,x = 2,z = None):\n",
    "    val = y**x if z==None else y**(x**z)\n",
    "    return(val)"
   ]
  },
  {
   "cell_type": "code",
   "execution_count": null,
   "metadata": {
    "hideCode": false,
    "hidePrompt": false
   },
   "outputs": [],
   "source": [
    "double_power(3)"
   ]
  },
  {
   "cell_type": "code",
   "execution_count": null,
   "metadata": {
    "hideCode": false,
    "hidePrompt": false
   },
   "outputs": [],
   "source": [
    "double_power(y=3,z=4)"
   ]
  },
  {
   "cell_type": "markdown",
   "metadata": {
    "hideCode": false,
    "hidePrompt": false
   },
   "source": [
    "* method(s) can call or be called from another method(s)"
   ]
  },
  {
   "cell_type": "code",
   "execution_count": null,
   "metadata": {
    "hideCode": false,
    "hidePrompt": false
   },
   "outputs": [],
   "source": [
    "def power_call():\n",
    "    # use map to capture multiple entries\n",
    "    i,j,k = map(float,input('enter i,j,k: ').split(','))\n",
    "    return(double_power(i,j,k))\n",
    "    \n",
    "\n",
    "def double_power(y,x = 2,z = None):\n",
    "    val = y**x if z==None else y**(x**z)\n",
    "    return(val)"
   ]
  },
  {
   "cell_type": "code",
   "execution_count": null,
   "metadata": {
    "hideCode": false,
    "hidePrompt": false
   },
   "outputs": [],
   "source": [
    "power_call()"
   ]
  },
  {
   "cell_type": "markdown",
   "metadata": {},
   "source": [
    "&nbsp;\n",
    "\n",
    "* if we rearrange the argument order in the method `double_power` we get a SyntaxError!\n",
    "* in Python methods, **a method's non-default argument(s) should always preceed detault arguments.  **   "
   ]
  },
  {
   "cell_type": "code",
   "execution_count": null,
   "metadata": {},
   "outputs": [],
   "source": [
    "def double_power(x = 2,z = None, y):\n",
    "    val = y**x if z==None else y**(x**z)\n",
    "    return(val)"
   ]
  },
  {
   "cell_type": "markdown",
   "metadata": {
    "collapsed": true,
    "hideCode": false,
    "hidePrompt": false
   },
   "source": [
    "&nbsp;\n",
    "\n",
    "## 2- `*args` and `**kwargs`"
   ]
  },
  {
   "cell_type": "markdown",
   "metadata": {
    "collapsed": true,
    "hideCode": false,
    "hidePrompt": false
   },
   "source": [
    "* the extension `*` and `**` support passing any number of arguments into a function. \n",
    "* commonly `*args` is used to pass arguments that are interpreted as a list whereas `**kwargs` allows passing argument that will be processed as a dictionary. however any other word can be used with `*` and `**`."
   ]
  },
  {
   "cell_type": "code",
   "execution_count": null,
   "metadata": {
    "hideCode": false,
    "hidePrompt": false
   },
   "outputs": [],
   "source": [
    "#1 star creates a list\n",
    "def count_arguments(*args):\n",
    "    for obj in args:\n",
    "        print(obj)\n",
    "    print('\\nthere\\'s {} object(s) in this argument'.format(len(args)))"
   ]
  },
  {
   "cell_type": "code",
   "execution_count": null,
   "metadata": {
    "hideCode": false,
    "hidePrompt": false
   },
   "outputs": [],
   "source": [
    "count_arguments('bar',3,2,'spam','foo')"
   ]
  },
  {
   "cell_type": "code",
   "execution_count": null,
   "metadata": {
    "hideCode": false,
    "hidePrompt": false
   },
   "outputs": [],
   "source": [
    "#two stars creates a dictionary \n",
    "def count_dict(small = 15, large = 22, **kwargs):\n",
    "    for keys in kwargs:\n",
    "        print(keys)\n",
    "        \n",
    "    print('\\nsmall = {}, large = {},'.format(small, large), kwargs)"
   ]
  },
  {
   "cell_type": "code",
   "execution_count": null,
   "metadata": {
    "hideCode": false,
    "hidePrompt": false
   },
   "outputs": [],
   "source": [
    "count_dict(small = 15, large = 25, pepperoni=2,sausage=5,beef=4,chicken=3)"
   ]
  },
  {
   "cell_type": "markdown",
   "metadata": {},
   "source": [
    "notice that kwargs is printied entirely as a dictionary. \n",
    "\n",
    "&nbsp;\n"
   ]
  },
  {
   "cell_type": "code",
   "execution_count": null,
   "metadata": {
    "hideCode": false,
    "hidePrompt": false
   },
   "outputs": [],
   "source": [
    "count_dict(pepperoni='two',sausage='five',beef='four',chicken='three')"
   ]
  },
  {
   "cell_type": "markdown",
   "metadata": {
    "hideCode": false,
    "hidePrompt": false
   },
   "source": [
    "* if a method contains an `*args` argument mixed with other arguments it is important to pay attention to the order in the `def` call.  \n",
    "* since an `*args` argument sequesters everything that comes after them, if there is another argument to be set after `*args` that argument needs to be passed explicitly."
   ]
  },
  {
   "cell_type": "code",
   "execution_count": null,
   "metadata": {
    "hideCode": false,
    "hidePrompt": false
   },
   "outputs": [],
   "source": [
    "def test_func(a,*b,c):\n",
    "    print(a,b,c)"
   ]
  },
  {
   "cell_type": "code",
   "execution_count": null,
   "metadata": {
    "hideCode": false,
    "hidePrompt": false
   },
   "outputs": [],
   "source": [
    "# an error ocurrs because *b will sequester the values 2,3,4,5 and perceives c to be missing.\n",
    "test_func(1,2,3,4,5)"
   ]
  },
  {
   "cell_type": "code",
   "execution_count": null,
   "metadata": {
    "hideCode": false,
    "hidePrompt": false
   },
   "outputs": [],
   "source": [
    "test_func(1,2,3,4,c=5)"
   ]
  },
  {
   "cell_type": "code",
   "execution_count": null,
   "metadata": {
    "hideCode": false,
    "hidePrompt": false
   },
   "outputs": [],
   "source": [
    "test_func(a=1,c=22)"
   ]
  },
  {
   "cell_type": "markdown",
   "metadata": {
    "hideCode": false,
    "hidePrompt": false
   },
   "source": [
    "* the `*` extension can be used by iteself (without a keyword) to force all arguments following it to be passed."
   ]
  },
  {
   "cell_type": "code",
   "execution_count": null,
   "metadata": {
    "hideCode": false,
    "hidePrompt": false
   },
   "outputs": [],
   "source": [
    "# the following construct will force all arguments to be declared\n",
    "def forced_args(a,*,b,c,d):\n",
    "    print(a,b,c,d)"
   ]
  },
  {
   "cell_type": "code",
   "execution_count": null,
   "metadata": {
    "hideCode": false,
    "hidePrompt": false
   },
   "outputs": [],
   "source": [
    "forced_args(5, 2, 1,'foo')"
   ]
  },
  {
   "cell_type": "markdown",
   "metadata": {
    "hideCode": false,
    "hidePrompt": false
   },
   "source": [
    "while the first argument passed will be automatically assigned to `a`, the `*` extension forces argument declaration for everything that follows it."
   ]
  },
  {
   "cell_type": "code",
   "execution_count": null,
   "metadata": {
    "hideCode": false,
    "hidePrompt": false
   },
   "outputs": [],
   "source": [
    "forced_args(5, c=2, d='foo',b=1)"
   ]
  },
  {
   "cell_type": "markdown",
   "metadata": {
    "hideCode": false,
    "hidePrompt": false
   },
   "source": [
    "* unlike `*`, the two star argument `**` cannot appear by itself as an argument.\n",
    "* unline `*args`, the `**kwargs` does not accept any named arguments after it. The `**kwards` (or equivalent) has to be the last argument."
   ]
  },
  {
   "cell_type": "code",
   "execution_count": null,
   "metadata": {
    "hideCode": false,
    "hidePrompt": false
   },
   "outputs": [],
   "source": [
    "def count_dict(**kwargs, small, large):\n",
    "    for keys in kwargs:\n",
    "        print(keys)\n",
    "    print('\\n','small={},'.format(small),'large={},'.format(large),kwargs)"
   ]
  },
  {
   "cell_type": "markdown",
   "metadata": {},
   "source": [
    "&nbsp;\n",
    "\n",
    "In the Gregorian calendar three criteria must be taken into account to identify leap years:\n",
    "\n",
    "* The year can be evenly divided by 4, is a leap year, unless:\n",
    "    * The year can be evenly divided by 100, it is NOT a leap year, unless:   \n",
    "        * The year is also evenly divisible by 400. Then it is a leap year. \n",
    "        \n",
    "        \n",
    "* the years 2000 and 2400 are leap years, while 1800, 1900, 2100, 2200, 2300 and 2500 are NOT leap years\n",
    "        \n",
    "<span style='color:blue'>write the method `is_leap()` takes integers (years) as argument, goes thru the logic above and then prints out whether a year is a leap year or not. use the **`*args`** extension to pass multiple arguments of year into the method</span>"
   ]
  },
  {
   "cell_type": "markdown",
   "metadata": {},
   "source": [
    "method return\n",
    "\n",
    "`1904 IS a leap year\n",
    "1932 IS a leap year\n",
    "1986 IS NOT a leap year\n",
    "2000 IS a leap year\n",
    "2008 IS a leap year\n",
    "2016 IS a leap year\n",
    "2021 IS NOT a leap year`"
   ]
  },
  {
   "cell_type": "code",
   "execution_count": 2,
   "metadata": {},
   "outputs": [
    {
     "ename": "SyntaxError",
     "evalue": "invalid syntax (<ipython-input-2-14fc8b553824>, line 2)",
     "output_type": "error",
     "traceback": [
      "\u001b[1;36m  File \u001b[1;32m\"<ipython-input-2-14fc8b553824>\"\u001b[1;36m, line \u001b[1;32m2\u001b[0m\n\u001b[1;33m    year = list(range(1900:2300))\u001b[0m\n\u001b[1;37m                          ^\u001b[0m\n\u001b[1;31mSyntaxError\u001b[0m\u001b[1;31m:\u001b[0m invalid syntax\n"
     ]
    }
   ],
   "source": [
    "#skipped code\n",
    "year = list(range(1900:2300))\n",
    "def is_leap(*):\n",
    "    if year%4==0: \n",
    "        if year%100 <> 0:\n",
    "            if year%400==0:\n",
    "                return (year 'IS a leap year')\n",
    "            else:\n",
    "                return (year 'IS NOT a leap year')\n",
    "        else:\n",
    "            return (year 'IS NOT a leap year')\n",
    "    else:\n",
    "        return (year 'IS NOT a leap year')\n",
    "        \n",
    "    \n",
    "    \n",
    "def is_leap(*args):\n",
    "    for year in args:\n",
    "        leap= 'IS NOT'\n",
    "        if year%4 ==0:\n",
    "            if year % 100 != 0:\n",
    "                leap = 'IS'\n",
    "            elif year%400 == 0:\n",
    "                leap = 'IS'\n",
    "        pring('{1} {0} a leap year'.format(leap,year))"
   ]
  },
  {
   "cell_type": "code",
   "execution_count": null,
   "metadata": {},
   "outputs": [],
   "source": [
    "#check your logic\n",
    "#is_leap(1904, 1932, 1986, 2000, 2008, 2016, 2021)"
   ]
  },
  {
   "cell_type": "markdown",
   "metadata": {},
   "source": [
    "&nbsp;\n",
    "\n",
    "## 3- Generators and the `yield` statement:\n",
    "\n",
    "* we have already come across a few iterables such as the `range()` function and list comprehensions.   \n",
    "* a Generator is an iterable object that when created is compiled into an object that supports iteration protocols.  \n",
    "* Generators can be created in two different ways:  \n",
    " - 1 -  using `def` statement with `yield()` statement instead of `return()` statement in a method.      \n",
    " - 2 -  a comprehension expression that is enclosed in parantheses `(`  `)`.     \n",
    "         \n",
    "         \n",
    "* When the method/comprehension runs and is assigned to a name the resulting object is a generator object.\n"
   ]
  },
  {
   "cell_type": "markdown",
   "metadata": {},
   "source": [
    "the function below finds all numbers between 0 and 1000 that are divisble by 11 and creates an iterator."
   ]
  },
  {
   "cell_type": "code",
   "execution_count": null,
   "metadata": {},
   "outputs": [],
   "source": [
    "my_list = list(range(10001))"
   ]
  },
  {
   "cell_type": "code",
   "execution_count": null,
   "metadata": {},
   "outputs": [],
   "source": [
    "def divisible_11(a_list):\n",
    "    for num in a_list:\n",
    "        if num % 11 == 0:yield num            "
   ]
  },
  {
   "cell_type": "code",
   "execution_count": null,
   "metadata": {},
   "outputs": [],
   "source": [
    "iterator_11 = divisible_11(my_list)"
   ]
  },
  {
   "cell_type": "code",
   "execution_count": null,
   "metadata": {},
   "outputs": [],
   "source": [
    "type(iterator_11)"
   ]
  },
  {
   "cell_type": "markdown",
   "metadata": {},
   "source": [
    "we can use `iterator_11` to do something with those values. "
   ]
  },
  {
   "cell_type": "code",
   "execution_count": null,
   "metadata": {},
   "outputs": [],
   "source": [
    "for i in iterator_11:\n",
    "    my_list[i] = '------'\n",
    "    \n",
    "print(my_list[:1000], end = ' ')"
   ]
  },
  {
   "cell_type": "markdown",
   "metadata": {},
   "source": [
    "* but why do this when we can do it with a simple filtered list comprehension ?\n",
    "    - Generators are memory space optimizers.\n",
    "    - Generators similar to `range()` objects do not require the entire list of objects to be constructed.   \n",
    "    - Generators are better suited for very large result sets because for small sets list comprehensions run faster.  "
   ]
  },
  {
   "cell_type": "code",
   "execution_count": null,
   "metadata": {},
   "outputs": [],
   "source": [
    "# let't try to build the index list using a conventional approach\n",
    "divisible_list = []\n",
    "for num in range(10001):\n",
    "    if num % 11 == 0:\n",
    "        divisible_list.append(num)"
   ]
  },
  {
   "cell_type": "code",
   "execution_count": null,
   "metadata": {},
   "outputs": [],
   "source": [
    "from sys import getsizeof\n",
    "getsizeof(iterator_11), getsizeof(divisible_list)"
   ]
  },
  {
   "cell_type": "markdown",
   "metadata": {},
   "source": [
    "* the other way to create Generators."
   ]
  },
  {
   "cell_type": "code",
   "execution_count": null,
   "metadata": {},
   "outputs": [],
   "source": [
    "iterator_7 = (num for num in range(10000) if num % 7 == 0)"
   ]
  },
  {
   "cell_type": "code",
   "execution_count": null,
   "metadata": {},
   "outputs": [],
   "source": [
    "type(iterator_7)"
   ]
  },
  {
   "cell_type": "code",
   "execution_count": null,
   "metadata": {},
   "outputs": [],
   "source": [
    "for i in iterator_7:\n",
    "    my_list[i] = '_____'"
   ]
  },
  {
   "cell_type": "code",
   "execution_count": null,
   "metadata": {},
   "outputs": [],
   "source": [
    "print(my_list[:1000], sep=' ')"
   ]
  },
  {
   "cell_type": "markdown",
   "metadata": {},
   "source": [
    "&nbsp;\n",
    "\n",
    "<span style=\"color:blue\">write a user defined function that iterates over a a list of integers 1 to `n` and yields the integers which are a perfect square</span>"
   ]
  },
  {
   "cell_type": "code",
   "execution_count": null,
   "metadata": {},
   "outputs": [],
   "source": [
    "#skipped code\n"
   ]
  },
  {
   "cell_type": "code",
   "execution_count": null,
   "metadata": {},
   "outputs": [],
   "source": [
    "perf_sq(200)"
   ]
  },
  {
   "cell_type": "markdown",
   "metadata": {},
   "source": [
    "similar to `range()` objects, to display the contents of genertor either print() the elements or convert the generator object to a list"
   ]
  },
  {
   "cell_type": "code",
   "execution_count": null,
   "metadata": {},
   "outputs": [],
   "source": []
  },
  {
   "cell_type": "markdown",
   "metadata": {},
   "source": [
    "&nbsp;\n",
    "\n",
    "&nbsp;\n",
    "\n",
    "## 3.2.5 `lambda()` operator.\n",
    "\n",
    "* `lambda()` operator is an **expression** used to create anonymous functions. Because it is an expression it can appear in place where a `def` statement in not allowed such as inside a list literal or a function call argument. \n",
    "* the body of a `lambda()` function is similar to that of a `def()` yet the result is written as a naked expression. It is more limited by virtue of being an expression.   \n",
    "* it is designed to run simple tasks and it is very instrumental in PySpark when used in conjuction with `map` and `reduce`.   "
   ]
  },
  {
   "cell_type": "markdown",
   "metadata": {},
   "source": [
    "### ganaral syntax:\n",
    "\n",
    "\n",
    "#### `lambda()`:\n",
    "`lambda x,y: x+y`\n",
    "\n",
    "if `x=(1,2,3)` is a list or a tuple of 3 elements:\n",
    "\n",
    "`lambda x: x[2]*(x[0] + x[1])`\n",
    "\n",
    "\n",
    "#### `map()`:\n",
    "\n",
    "`map(function, iterable)` or `map(lambda(), list)` or `map(lambda(), column)`\n",
    "\n",
    "`map()`, `filter()` and `reduce()` in conjuction with `lambda()` allow a user to apply functions into an object witout having to write a formal loop or a user defined function. "
   ]
  },
  {
   "cell_type": "code",
   "execution_count": null,
   "metadata": {},
   "outputs": [],
   "source": [
    "def multiply(x,y):\n",
    "    return(x*y)"
   ]
  },
  {
   "cell_type": "code",
   "execution_count": null,
   "metadata": {},
   "outputs": [],
   "source": [
    "multiply(5,6)"
   ]
  },
  {
   "cell_type": "code",
   "execution_count": null,
   "metadata": {},
   "outputs": [],
   "source": [
    "f = lambda x, y: x*y"
   ]
  },
  {
   "cell_type": "code",
   "execution_count": null,
   "metadata": {},
   "outputs": [],
   "source": [
    "f(5,6)"
   ]
  },
  {
   "cell_type": "markdown",
   "metadata": {},
   "source": [
    "* above is only a demonstration to show that `lambda()` and `def()` essentially do the same task but lambda is rarely assigned to a name because it is applied almost always as an expression within a statement. \n",
    "\n",
    " \n",
    "* `lambda` is used to perform operations on Python containers and data frames wihout the need to write a formal user defined function in a manner that is similar to a list comprehension yet offering more flexibility. "
   ]
  },
  {
   "cell_type": "code",
   "execution_count": null,
   "metadata": {},
   "outputs": [],
   "source": [
    "word_list = ('foo', 'bar', '_molly_', '423','gronk', '_wrong_' ,'hello kitty', 'sling', 'drag', '8', '__make__')\n",
    "\n",
    "digits = filter(lambda word: word.isdigit(), word_list)\n",
    "list(digits)"
   ]
  },
  {
   "cell_type": "code",
   "execution_count": null,
   "metadata": {},
   "outputs": [],
   "source": [
    "tup = (3,2)\n",
    "\n",
    "tup_dir = filter(lambda attri:not attri.endswith('_'), dir(tup))\n",
    "list(tup_dir)"
   ]
  },
  {
   "cell_type": "markdown",
   "metadata": {},
   "source": [
    "<span style='color:blue'>convert the following list of speeds in mph to Mach. 1 Mach = 767.269 mph.    \n",
    "use `round(object, dceimals)` to round to 2 decimal places.  </span>"
   ]
  },
  {
   "cell_type": "code",
   "execution_count": null,
   "metadata": {},
   "outputs": [],
   "source": [
    "mph = [1562, 8965, 124, 1125, 754, 3368]"
   ]
  },
  {
   "cell_type": "code",
   "execution_count": null,
   "metadata": {},
   "outputs": [],
   "source": [
    "#skipped code\n"
   ]
  },
  {
   "cell_type": "markdown",
   "metadata": {},
   "source": [
    "should look like \n",
    "\n",
    "\n",
    "`[2.04, 11.68, 0.16, 1.47, 0.98, 4.39]`"
   ]
  },
  {
   "cell_type": "markdown",
   "metadata": {},
   "source": [
    "* this can be achieved using a simple list comprehension:  "
   ]
  },
  {
   "cell_type": "code",
   "execution_count": null,
   "metadata": {},
   "outputs": [],
   "source": [
    "mach = [round(mph/767.269,2) for mph in mph]\n",
    "mach"
   ]
  },
  {
   "cell_type": "markdown",
   "metadata": {},
   "source": [
    "### so why use the lambda operator ? if we can achieve the same using list comprehensions...\n",
    "\n",
    "* the true power of the `lambda` operator comes when it is used along with other methods such as `map()` and `filter()` and `reduce` to iterate over rows of a column or multiple columns in a dataframe. as such it allows fairly complex processing without the need for an explicit *for-statement*. "
   ]
  },
  {
   "cell_type": "code",
   "execution_count": null,
   "metadata": {},
   "outputs": [],
   "source": [
    "# skipping ahead\n",
    "import numpy as np\n",
    "import pandas as pd"
   ]
  },
  {
   "cell_type": "code",
   "execution_count": null,
   "metadata": {},
   "outputs": [],
   "source": [
    "np.random.seed(11)\n",
    "df = pd.DataFrame(np.random.random((20)).round(3).reshape(10,2), columns = ['col1','col2'])\n",
    "df.head()"
   ]
  },
  {
   "cell_type": "markdown",
   "metadata": {},
   "source": [
    "* `col3` is created by placing the values in `col1` and `col2` in a tuple for every row. "
   ]
  },
  {
   "cell_type": "code",
   "execution_count": null,
   "metadata": {},
   "outputs": [],
   "source": [
    "df['col3'] = list(map(lambda x, y: (x,y) , df.col1, df.col2))\n",
    "df"
   ]
  },
  {
   "cell_type": "markdown",
   "metadata": {},
   "source": [
    "* `col4` uses the values in a tuple to calculate $\\ \\ x^2 + 2xy + y^2$ "
   ]
  },
  {
   "cell_type": "code",
   "execution_count": null,
   "metadata": {},
   "outputs": [],
   "source": [
    "df['col4'] = list(map(lambda x: x[0]**2 + 2*x[0]*x[1] + x[1]**2, df.col3))\n",
    "df"
   ]
  },
  {
   "cell_type": "markdown",
   "metadata": {},
   "source": [
    "* `lambda()` operator can also be used in conjunction with `filter` to find the ocurrence of key words in a text.  \n",
    "* below we read a sample dummy resume for a data scientist. "
   ]
  },
  {
   "cell_type": "code",
   "execution_count": null,
   "metadata": {},
   "outputs": [],
   "source": [
    "file = open('data/tweets.txt', 'r')\n",
    "tweets = file.readlines()\n",
    "file.close()"
   ]
  },
  {
   "cell_type": "markdown",
   "metadata": {},
   "source": [
    "* this is a small sample of tweets collected from accounts that tweet about topics related to data science and machine learning.      \n",
    "* we would like to check if any of the phrases in our list `key_words` appear in these tweets. "
   ]
  },
  {
   "cell_type": "code",
   "execution_count": null,
   "metadata": {},
   "outputs": [],
   "source": [
    "tweets"
   ]
  },
  {
   "cell_type": "markdown",
   "metadata": {},
   "source": [
    "* we can read the tweets into a DataFrame given the structure of the file. "
   ]
  },
  {
   "cell_type": "code",
   "execution_count": null,
   "metadata": {},
   "outputs": [],
   "source": [
    "import pandas as pd"
   ]
  },
  {
   "cell_type": "code",
   "execution_count": null,
   "metadata": {},
   "outputs": [],
   "source": [
    "pd.set_option('display.max_colwidth', 60)"
   ]
  },
  {
   "cell_type": "code",
   "execution_count": null,
   "metadata": {
    "scrolled": false
   },
   "outputs": [],
   "source": [
    "tweets = pd.read_table('data/tweets.txt', names = ['text'])\n",
    "tweets"
   ]
  },
  {
   "cell_type": "markdown",
   "metadata": {},
   "source": [
    "<span style='color:blue'>add a new column `split` in which every row from column `text` is converted to lower case and split by space . use `map` and `lambda`</span>"
   ]
  },
  {
   "cell_type": "code",
   "execution_count": null,
   "metadata": {},
   "outputs": [],
   "source": [
    "#skipped code\n"
   ]
  },
  {
   "cell_type": "code",
   "execution_count": null,
   "metadata": {
    "scrolled": true
   },
   "outputs": [],
   "source": [
    "tweets"
   ]
  },
  {
   "cell_type": "markdown",
   "metadata": {},
   "source": [
    "&nbsp;\n",
    "\n",
    "`filter()` from the name applies a filter to an object.    "
   ]
  },
  {
   "cell_type": "code",
   "execution_count": null,
   "metadata": {},
   "outputs": [],
   "source": [
    "statement = 'The Koh-i-Noor is a 106 carats diamond which was once the largest diamond in the world.'"
   ]
  },
  {
   "cell_type": "code",
   "execution_count": null,
   "metadata": {},
   "outputs": [],
   "source": [
    "stop_words = ['is', 'was','are','which','a','the','in','on','for','from']"
   ]
  },
  {
   "cell_type": "code",
   "execution_count": null,
   "metadata": {},
   "outputs": [],
   "source": [
    "list(filter(lambda x: x not in stop_words, statement.lower().split()))"
   ]
  },
  {
   "cell_type": "code",
   "execution_count": null,
   "metadata": {},
   "outputs": [],
   "source": [
    "' '.join( list(filter(lambda x: x not in stop_words, statement.lower().split())) )"
   ]
  },
  {
   "cell_type": "markdown",
   "metadata": {},
   "source": [
    "&nbsp;\n",
    "\n",
    "<span style=\"color:blue\">add a new column `filtered` to the <u>tweets</u> data frame. this column checks the words in the column `cleaned` against the list of words in list `key_words` and keeps ones common between the two</span>   "
   ]
  },
  {
   "cell_type": "code",
   "execution_count": null,
   "metadata": {},
   "outputs": [],
   "source": [
    "key_words = ['data', 'science', 'scientist', 'machine', 'learning', 'deeplearning', 'natural', 'language', \\\n",
    "             'big', 'data', 'deep','machinelearning', 'predictive', 'ai', 'mining', 'data-mining']"
   ]
  },
  {
   "cell_type": "code",
   "execution_count": null,
   "metadata": {},
   "outputs": [],
   "source": [
    "#skipped code"
   ]
  },
  {
   "cell_type": "code",
   "execution_count": null,
   "metadata": {},
   "outputs": [],
   "source": [
    "tweets"
   ]
  },
  {
   "cell_type": "markdown",
   "metadata": {},
   "source": [
    "&nbsp;\n",
    "\n",
    "`lambda()` is a flexible operator and allows for the new object to be of any container type. "
   ]
  },
  {
   "cell_type": "code",
   "execution_count": null,
   "metadata": {},
   "outputs": [],
   "source": [
    "pizza_meat = pd.DataFrame([['pepperoni', 5],['beef', 7],['steak', 5],['sausage', 10], ['italian sausage', 23],['chicken', 6],['anchoves', 6]], \n",
    "             columns = ['toppings', 'price'])\n",
    "\n",
    "pizza_meat"
   ]
  },
  {
   "cell_type": "code",
   "execution_count": null,
   "metadata": {},
   "outputs": [],
   "source": [
    "pizza_meat['dict'] = list(map(lambda x,y: {x: y}, pizza_meat.toppings, pizza_meat.price))\n",
    "pizza_meat"
   ]
  }
 ],
 "metadata": {
  "anaconda-cloud": {},
  "hide_code_all_hidden": false,
  "kernelspec": {
   "display_name": "Python 3",
   "language": "python",
   "name": "python3"
  },
  "language_info": {
   "codemirror_mode": {
    "name": "ipython",
    "version": 3
   },
   "file_extension": ".py",
   "mimetype": "text/x-python",
   "name": "python",
   "nbconvert_exporter": "python",
   "pygments_lexer": "ipython3",
   "version": "3.6.4"
  }
 },
 "nbformat": 4,
 "nbformat_minor": 2
}
