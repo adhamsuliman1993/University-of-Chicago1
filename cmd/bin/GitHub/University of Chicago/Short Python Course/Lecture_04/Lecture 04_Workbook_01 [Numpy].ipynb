{
 "cells": [
  {
   "cell_type": "markdown",
   "metadata": {},
   "source": [
    "# The Data Scientists` Toolbox"
   ]
  },
  {
   "cell_type": "markdown",
   "metadata": {},
   "source": [
    "<a id='menu'></a>"
   ]
  },
  {
   "cell_type": "markdown",
   "metadata": {},
   "source": [
    "# 1- NumPy     \n",
    "* short for Numerical Python, one of the most improtant and widely used packages in Python for scientific and mathematical applications.   \n",
    "* it comes with a plethora of mathematical methods and operations.  \n",
    "* enables the creation of multidimensional arrays (ndarrays).   \n",
    "* **ndarray** (n dimensional array) is a generic container for homogeneous data, hence all the elements must be the same type.   \n",
    "* with an indispensable utility it can be used in conjunction with other packages such as `pandas` and `scikit-learn`.    \n",
    "* it has tools for reading and writing array data and tab dalimited files."
   ]
  },
  {
   "cell_type": "markdown",
   "metadata": {},
   "source": [
    "[1.1 Basic Numpy methods](#1.1)  \n",
    "<a href='#1.1'>\n",
    "[1.2 Casting ndarrays](#1.2)     \n",
    "<a href='#1.2'>\n",
    "[1.3 Arithmatic Operatirs](#1.3)    \n",
    "<a href='#1.3'>\n",
    "[1.4 Indexing, slicing and sorting  ndarrays](#1.4)     \n",
    "<a href='#1.4'>\n",
    "[1.5 Matrix operations](#1.5)       \n",
    "<a href='#1.5'>\n",
    "[1.6 Additional numpy methods](#1.6)     \n",
    "<a href='#1.6'>\n",
    "[1.7 Iterating over arrays](#1.7)      \n",
    "<a href='#1.7'>\n",
    "[1.8 special values:  `numpy.nan` and `numpy.inf`](#1.8)     \n",
    "<a href='#1.8'>\n",
    "[1.9 numpy I/O](#1.9)     \n",
    "<a href='#1.9'>\n",
    "[2.0 In-class exercise](#2.0)     \n",
    "<a href='#2.0'>"
   ]
  },
  {
   "cell_type": "markdown",
   "metadata": {},
   "source": [
    "<a id='1.1'></a>\n",
    "&nbsp;\n",
    "\n",
    "&nbsp;\n",
    "\n",
    "\n",
    "## 1.1 Basic NumPy methods and operations"
   ]
  },
  {
   "cell_type": "markdown",
   "metadata": {},
   "source": [
    "* NumPy is very precise about identifying datatypes   \n",
    "* Numpy is more precise than Python: while Python has just one type of integer, and one type of floating-point number, NumPy has several depending on the number of bits that they take in the memory.\n",
    "* the pairs below are `type` : `type-abbreviation`. Both can be used to assign dtype for an array. \n",
    "\n",
    "    - integers:     \n",
    "    `numpy.int8` : `i1`    \n",
    "    `numpy.int16` :`i2`     \n",
    "    **`numpy.int32` : `i4`**     \n",
    "    `numpy.int64` :`i8`     \n",
    "    \n",
    "    - floats:      \n",
    "    `numpy.float16` : `f2`    \n",
    "    `numpy.float32` : `f4` or `f`    \n",
    "    **`numpy.float64`** : **`f8`** or **`d`**     \n",
    "    `numpy.float128 : f128` or `g`          \n",
    "    \n",
    "    - complex:     \n",
    "    `numpy.complex64 : c8` or `c16`    \n",
    "    `numpy.complex128 : c832`    \n",
    "    `numpy.complex256`      \n",
    "    \n",
    "    - string: \n",
    "    `S` | `U1` | `U2` | `U4` (the integer refers to the max number of letters allowed)   \n",
    "    \n",
    "    - bool: **`?`**\n",
    "           \n",
    "    \n",
    "* when an object is assigned Numpy will do its best to assign the type but that can be modified.  "
   ]
  },
  {
   "cell_type": "code",
   "execution_count": 3,
   "metadata": {},
   "outputs": [],
   "source": [
    "import numpy as np\n",
    "import random "
   ]
  },
  {
   "cell_type": "markdown",
   "metadata": {},
   "source": [
    "* numpy n-dimansional arrays can be created generally using two methods  \n",
    "    `numpy.array(object, dtype=None, order = {'C','F'})` \n",
    "    `numpy.ndarray(shape = (n,m), dtype=None, order = {'C','F'})`  \n",
    "    \n",
    "    \n",
    "    \n",
    "* argument `order = {'C','F'}` specifies the memory layout or the array to be `C` row major (default), or `F` column major.   \n",
    "* dtype can be assisned into the expression itself or be assgiend after the creation of the ndarray using `astype()`.  "
   ]
  },
  {
   "cell_type": "code",
   "execution_count": 116,
   "metadata": {},
   "outputs": [
    {
     "data": {
      "text/plain": [
       "array([[3, 5, 7, 2],\n",
       "       [2, 3, 9, 1],\n",
       "       [7, 1, 1, 1]])"
      ]
     },
     "execution_count": 116,
     "metadata": {},
     "output_type": "execute_result"
    }
   ],
   "source": [
    "data = np.array([[3,5,7,2],[2,3,9,1],[7,1,1,1]])\n",
    "data"
   ]
  },
  {
   "cell_type": "code",
   "execution_count": 117,
   "metadata": {},
   "outputs": [
    {
     "data": {
      "text/plain": [
       "array([[3, 5, 7, 2, 2, 3, 9, 1, 7, 1, 1, 1]])"
      ]
     },
     "execution_count": 117,
     "metadata": {},
     "output_type": "execute_result"
    }
   ],
   "source": [
    "data = np.array([[3,5,7,2,2,3,9,1,7,1,1,1]])\n",
    "data"
   ]
  },
  {
   "cell_type": "markdown",
   "metadata": {},
   "source": [
    "* `numpy.ndarray()` can generate an n-by-m array"
   ]
  },
  {
   "cell_type": "code",
   "execution_count": 178,
   "metadata": {},
   "outputs": [
    {
     "data": {
      "text/plain": [
       "array([[0, 0, 0, 0],\n",
       "       [0, 0, 0, 0],\n",
       "       [0, 0, 0, 0]], dtype=int8)"
      ]
     },
     "execution_count": 178,
     "metadata": {},
     "output_type": "execute_result"
    }
   ],
   "source": [
    "data_1 = np.ndarray(shape=(3,4), dtype = np.int8)\n",
    "data_1"
   ]
  },
  {
   "cell_type": "markdown",
   "metadata": {},
   "source": [
    "&nbsp;\n",
    "\n",
    "there is no direct way to control the seed for ndarray.  \n",
    "`np.random.seed(n)` sets the seed for all the methods under `np.random` such as `np.random.randint()`  "
   ]
  },
  {
   "cell_type": "code",
   "execution_count": 181,
   "metadata": {},
   "outputs": [
    {
     "data": {
      "text/plain": [
       "array([[1, 0, 0, 0],\n",
       "       [0, 0, 0, 0],\n",
       "       [1, 0, 0, 0]], dtype=int8)"
      ]
     },
     "execution_count": 181,
     "metadata": {},
     "output_type": "execute_result"
    }
   ],
   "source": [
    "np.random.seed(33)\n",
    "data_1 = np.ndarray(shape=(3,4), dtype = np.int8)\n",
    "data_1"
   ]
  },
  {
   "cell_type": "markdown",
   "metadata": {},
   "source": [
    "&nbsp;\n",
    "\n",
    "in order to generate the same array using `np.random.seed()` use `np.array()` in conjunction with `np.random.rand()` as follows:  \n"
   ]
  },
  {
   "cell_type": "code",
   "execution_count": 201,
   "metadata": {},
   "outputs": [
    {
     "data": {
      "text/plain": [
       "array([[0.51729788, 0.9469626 , 0.76545976, 0.28239584],\n",
       "       [0.22104536, 0.68622209, 0.1671392 , 0.39244247],\n",
       "       [0.61805235, 0.41193009, 0.00246488, 0.88403218]])"
      ]
     },
     "execution_count": 201,
     "metadata": {},
     "output_type": "execute_result"
    }
   ],
   "source": [
    "np.random.seed(23)\n",
    "array_obj = np.random.rand(12)\n",
    "l1 = np.array(array_obj, dtype = 'f8').reshape((3,4))\n",
    "l1"
   ]
  },
  {
   "cell_type": "code",
   "execution_count": 9,
   "metadata": {},
   "outputs": [
    {
     "data": {
      "text/plain": [
       "2"
      ]
     },
     "execution_count": 9,
     "metadata": {},
     "output_type": "execute_result"
    }
   ],
   "source": [
    "# inspect the shape of the array\n",
    "data_1.ndim"
   ]
  },
  {
   "cell_type": "code",
   "execution_count": null,
   "metadata": {},
   "outputs": [],
   "source": [
    "# inspect the data-type\n",
    "data_1.dtype"
   ]
  },
  {
   "cell_type": "code",
   "execution_count": null,
   "metadata": {},
   "outputs": [],
   "source": [
    "# inspect the shape\n",
    "data_1.shape"
   ]
  },
  {
   "cell_type": "code",
   "execution_count": null,
   "metadata": {},
   "outputs": [],
   "source": [
    "data_2 = np.array([[3.1,5.6,7.0,2.0],[2.2,3.5,9,1.8],[7.9,1,1.7,1]], dtype=np.float64)\n",
    "data_2"
   ]
  },
  {
   "cell_type": "code",
   "execution_count": null,
   "metadata": {},
   "outputs": [],
   "source": [
    "# without a nested list .reshape(n,k) returns the shape required\n",
    "data_3 = np.array([[3.1,5.6,7.0,2.0,2.2,3.5,9,1.8,7.9,1,1.7,1]], dtype=np.int8).reshape(3,4)\n",
    "data_3"
   ]
  },
  {
   "cell_type": "markdown",
   "metadata": {},
   "source": [
    "* `array.reshape(n,k)` can be used to reshape an existing ndarray"
   ]
  },
  {
   "cell_type": "code",
   "execution_count": null,
   "metadata": {},
   "outputs": [],
   "source": [
    "data_3.reshape(2,6)"
   ]
  },
  {
   "cell_type": "markdown",
   "metadata": {},
   "source": [
    "&nbsp; \n",
    "\n",
    "*  3d and 4d arrays"
   ]
  },
  {
   "cell_type": "code",
   "execution_count": null,
   "metadata": {},
   "outputs": [],
   "source": [
    "data3d = np.array([[[3,5,7,2],[2,3,9,1],[7,1,1,1]], [[4,8,1,1],[2,7,7,0],[0,2,1,1]]])\n",
    "data3d"
   ]
  },
  {
   "cell_type": "code",
   "execution_count": null,
   "metadata": {},
   "outputs": [],
   "source": [
    "data3d.ndim, data3d.dtype, data3d.shape"
   ]
  },
  {
   "cell_type": "code",
   "execution_count": null,
   "metadata": {},
   "outputs": [],
   "source": [
    "data4d = np.array([[[[3,5,7,2],[2,3,9,1],[7,1,1,1]], [[4,8,1,1],[2,7,7,0],[0,2,1,1]]],\n",
    "                   [[[3,5,7,2],[2,3,9,1],[7,1,1,1]], [[4,8,1,1],[2,7,7,0],[0,2,1,1]]]])\n",
    "data4d"
   ]
  },
  {
   "cell_type": "code",
   "execution_count": null,
   "metadata": {},
   "outputs": [],
   "source": [
    "data4d.ndim, data4d.dtype, data4d.shape"
   ]
  },
  {
   "cell_type": "code",
   "execution_count": null,
   "metadata": {
    "scrolled": true
   },
   "outputs": [],
   "source": [
    "# using the same list from data4d without any nesting\n",
    "data4d = np.array([3,5,7,2,2,3,9,1,7,1,1,1,4,8,1,1,2,7,7,0,0,2,1,1,\n",
    "                  3,5,7,2,2,3,9,1,7,1,1,1,4,8,1,1,2,7,7,0,0,2,1,1]).reshape(2,2,3,4)\n",
    "data4d"
   ]
  },
  {
   "cell_type": "code",
   "execution_count": null,
   "metadata": {},
   "outputs": [],
   "source": [
    "data3d_1 = np.array(list(range(5,25))).reshape(4,5)\n",
    "data3d_1"
   ]
  },
  {
   "cell_type": "code",
   "execution_count": 6,
   "metadata": {},
   "outputs": [
    {
     "data": {
      "text/plain": [
       "array([[[[45, 44, 43, 42, 41],\n",
       "         [40, 39, 38, 37, 36]],\n",
       "\n",
       "        [[35, 34, 33, 32, 31],\n",
       "         [30, 29, 28, 27, 26]]],\n",
       "\n",
       "\n",
       "       [[[25, 24, 23, 22, 21],\n",
       "         [20, 19, 18, 17, 16]],\n",
       "\n",
       "        [[15, 14, 13, 12, 11],\n",
       "         [10,  9,  8,  7,  6]]]])"
      ]
     },
     "execution_count": 6,
     "metadata": {},
     "output_type": "execute_result"
    }
   ],
   "source": [
    "# more on numpy.arange() shortly\n",
    "data4d_2 = np.arange(45,5,-1).reshape(2,2,2,5)\n",
    "data4d_2"
   ]
  },
  {
   "cell_type": "code",
   "execution_count": null,
   "metadata": {},
   "outputs": [],
   "source": [
    "data4d_3 = np.ndarray(shape = (2,2,2,5), dtype=np.int16)\n",
    "data4d_3"
   ]
  },
  {
   "cell_type": "markdown",
   "metadata": {},
   "source": [
    "&nbsp;\n",
    "\n",
    "* useful method that generate k by n by m ndarray of zeros, ones.  \n",
    "  - `zeros(size=(n,m))`, `ones(size=(n,m))`   \n",
    "  - `empty(size=(n,m))` unlike `zeros()` generates an array of objects infinitesimally small but not zeros.  "
   ]
  },
  {
   "cell_type": "code",
   "execution_count": null,
   "metadata": {},
   "outputs": [],
   "source": [
    "zero_arr = np.zeros((5,3), dtype='d') # d and f8 are abbreviation for float64\n",
    "zero_arr"
   ]
  },
  {
   "cell_type": "code",
   "execution_count": null,
   "metadata": {},
   "outputs": [],
   "source": [
    "zero_arr.dtype"
   ]
  },
  {
   "cell_type": "code",
   "execution_count": 4,
   "metadata": {},
   "outputs": [
    {
     "data": {
      "text/plain": [
       "array([[1, 1, 1, 1],\n",
       "       [1, 1, 1, 1],\n",
       "       [1, 1, 1, 1]])"
      ]
     },
     "execution_count": 4,
     "metadata": {},
     "output_type": "execute_result"
    }
   ],
   "source": [
    "ones_arr = np.ones((3,4), dtype=np.int32)\n",
    "ones_arr"
   ]
  },
  {
   "cell_type": "code",
   "execution_count": 203,
   "metadata": {},
   "outputs": [
    {
     "data": {
      "text/plain": [
       "array([[0.00e+00, 0.00e+00, 0.00e+00, 0.00e+00],\n",
       "       [0.00e+00, 0.00e+00, 0.00e+00, 0.00e+00],\n",
       "       [0.00e+00, 0.00e+00, 2.08e-42, 0.00e+00],\n",
       "       [0.00e+00, 6.53e-43, 0.00e+00, 0.00e+00]], dtype=float32)"
      ]
     },
     "execution_count": 203,
     "metadata": {},
     "output_type": "execute_result"
    }
   ],
   "source": [
    "empty_arr = np.empty([4,4], dtype=np.float32)\n",
    "empty_arr"
   ]
  },
  {
   "cell_type": "markdown",
   "metadata": {},
   "source": [
    "&nbsp;\n",
    "\n",
    "* `numpy.random.random(size=(k,n,m))`              \n",
    "generates a sample of `n` by `m` array with `k` dimension from a continuous standard uniform distribution between `[0,1]`     "
   ]
  },
  {
   "cell_type": "code",
   "execution_count": 206,
   "metadata": {},
   "outputs": [
    {
     "data": {
      "text/plain": [
       "array([[[0.51729788, 0.9469626 ],\n",
       "        [0.76545976, 0.28239584],\n",
       "        [0.22104536, 0.68622209]],\n",
       "\n",
       "       [[0.1671392 , 0.39244247],\n",
       "        [0.61805235, 0.41193009],\n",
       "        [0.00246488, 0.88403218]]])"
      ]
     },
     "execution_count": 206,
     "metadata": {},
     "output_type": "execute_result"
    }
   ],
   "source": [
    "np.random.seed(23)\n",
    "r_unif = np.random.random((2,3,2))\n",
    "r_unif"
   ]
  },
  {
   "cell_type": "code",
   "execution_count": 207,
   "metadata": {},
   "outputs": [
    {
     "data": {
      "text/plain": [
       "(0.4912870595645145, 0.2841006450984657)"
      ]
     },
     "execution_count": 207,
     "metadata": {},
     "output_type": "execute_result"
    }
   ],
   "source": [
    "# mean = (a+b)/2, sd = sqrt((b-a)/12)\n",
    "np.mean(r_unif), np.std(r_unif)"
   ]
  },
  {
   "cell_type": "markdown",
   "metadata": {},
   "source": [
    "* `.random.randn(size=(k,n,m))`    \n",
    "generates a sample of `n` by `m` array with `k` dimension from a Gaussian distribution with mean 0, and sd = 1. "
   ]
  },
  {
   "cell_type": "code",
   "execution_count": 208,
   "metadata": {},
   "outputs": [
    {
     "name": "stdout",
     "output_type": "stream",
     "text": [
      "[[-1.03764318  0.59365816  1.10268062 -0.51217773]\n",
      " [-0.26541986 -1.61700601 -0.27151449  0.94555425]\n",
      " [-0.62699279 -0.26594728  0.68729358  2.04845691]\n",
      " [-0.46155895  0.68784742  1.00812262 -0.15650898]]\n",
      "\n",
      "0.11617776802742645 0.9084234206778787\n"
     ]
    }
   ],
   "source": [
    "np.random.seed(56)\n",
    "r_norm1 = np.random.randn(4,4)\n",
    "print(r_norm1, end='\\n\\n')\n",
    "print(np.mean(r_norm1), np.std(r_norm1))"
   ]
  },
  {
   "cell_type": "code",
   "execution_count": 211,
   "metadata": {},
   "outputs": [
    {
     "data": {
      "text/plain": [
       "array([[[ 0.22768782, -2.51261673,  2.70271251,  0.58365058],\n",
       "        [ 0.33878175,  0.68900141,  1.70034868, -0.44126724],\n",
       "        [ 0.3144938 ,  0.63629759,  0.08677138, -0.11779163]],\n",
       "\n",
       "       [[-1.27587343,  0.90675596,  0.00606262, -0.85210364],\n",
       "        [ 0.49958744, -1.51280927,  2.00429063,  1.25882569],\n",
       "        [ 1.04015487,  1.0513821 ,  0.97157016, -1.58639114]]])"
      ]
     },
     "execution_count": 211,
     "metadata": {},
     "output_type": "execute_result"
    }
   ],
   "source": [
    "r_norm2 = np.random.randn(2,3,4)\n",
    "r_norm2"
   ]
  },
  {
   "cell_type": "markdown",
   "metadata": {},
   "source": [
    "&nbsp;\n",
    "\n",
    "`numpy.random.randint(min, max, size=(k,n,m))`          \n",
    "generats an array of randomly drawn numbers between `min` and `max` of size `n` by `m` and dimension `k`.   \n",
    "Keep in mind that the `min`, `max` range is exclusive of `max`. "
   ]
  },
  {
   "cell_type": "code",
   "execution_count": 213,
   "metadata": {
    "scrolled": true
   },
   "outputs": [
    {
     "name": "stdout",
     "output_type": "stream",
     "text": [
      "[[[-3  8 -7 -5  4]\n",
      "  [ 7  2 -3  8 10]\n",
      "  [ 5 -5  4  4  7]\n",
      "  [ 9 -1 -6  3 -2]]\n",
      "\n",
      " [[-5  8 -2  2 -5]\n",
      "  [ 3 -6  9  6 -1]\n",
      "  [ 5 -7  1 -3  7]\n",
      "  [ 8 -7 10  4 10]]]\n"
     ]
    }
   ],
   "source": [
    "np.random.seed(56)\n",
    "r_int = np.random.randint(-7,11,size=(2,4,5))\n",
    "print(r_int)"
   ]
  },
  {
   "cell_type": "markdown",
   "metadata": {},
   "source": [
    "* `'?'`  or `numpy.bool_` generates a boolean array."
   ]
  },
  {
   "cell_type": "code",
   "execution_count": 214,
   "metadata": {},
   "outputs": [
    {
     "data": {
      "text/plain": [
       "array([[ True,  True,  True,  True,  True],\n",
       "       [ True,  True,  True,  True,  True]])"
      ]
     },
     "execution_count": 214,
     "metadata": {},
     "output_type": "execute_result"
    }
   ],
   "source": [
    "np.ndarray(shape = (2,5), dtype = np.bool_)"
   ]
  },
  {
   "cell_type": "markdown",
   "metadata": {},
   "source": [
    "[back to top](#menu)\n",
    "<a href='#menu'></a>"
   ]
  },
  {
   "cell_type": "markdown",
   "metadata": {},
   "source": [
    "<a id='1.2'></a>"
   ]
  },
  {
   "cell_type": "markdown",
   "metadata": {},
   "source": [
    "&nbsp;\n",
    "\n",
    "## 1.2 ***casting***   ndarrays"
   ]
  },
  {
   "cell_type": "markdown",
   "metadata": {},
   "source": [
    "* it is possible to *cast* an array from one dtype to another."
   ]
  },
  {
   "cell_type": "code",
   "execution_count": null,
   "metadata": {},
   "outputs": [],
   "source": [
    "# we can convert the int32 to float.\n",
    "data = data.astype(np.float64)\n",
    "data"
   ]
  },
  {
   "cell_type": "code",
   "execution_count": null,
   "metadata": {},
   "outputs": [],
   "source": [
    "data.dtype"
   ]
  },
  {
   "cell_type": "code",
   "execution_count": 231,
   "metadata": {},
   "outputs": [
    {
     "data": {
      "text/plain": [
       "array([9.85611582, 4.96744922, 3.52318926, 8.67084994, 3.96881746,\n",
       "       6.43657219, 0.20453313, 8.08084543, 4.29613302, 5.58546523,\n",
       "       7.7911129 , 4.02557124, 9.07994918, 6.49969611, 7.27272227,\n",
       "       7.7956104 ])"
      ]
     },
     "execution_count": 231,
     "metadata": {},
     "output_type": "execute_result"
    }
   ],
   "source": [
    "np.random.rand(16)*10"
   ]
  },
  {
   "cell_type": "code",
   "execution_count": 234,
   "metadata": {},
   "outputs": [
    {
     "data": {
      "text/plain": [
       "array([[ 9.31082867, 97.165592  , 48.38599805, 24.25227015],\n",
       "       [53.11238298, 28.55442355, 86.26303771,  4.11001535],\n",
       "       [10.8347734 , 76.71600454,  5.14287089, 77.57165386],\n",
       "       [ 0.91389426, 61.83121135, 81.87093327, 89.8585723 ]])"
      ]
     },
     "execution_count": 234,
     "metadata": {},
     "output_type": "execute_result"
    }
   ],
   "source": [
    "np.random.seed(55)\n",
    "data_flt = np.array(np.random.rand(16)*100).reshape((4,4))\n",
    "data_flt"
   ]
  },
  {
   "cell_type": "code",
   "execution_count": 236,
   "metadata": {},
   "outputs": [
    {
     "data": {
      "text/plain": [
       "dtype('float64')"
      ]
     },
     "execution_count": 236,
     "metadata": {},
     "output_type": "execute_result"
    }
   ],
   "source": [
    "data_flt.dtype"
   ]
  },
  {
   "cell_type": "code",
   "execution_count": 235,
   "metadata": {},
   "outputs": [
    {
     "data": {
      "text/plain": [
       "array([[ 9, 97, 48, 24],\n",
       "       [53, 28, 86,  4],\n",
       "       [10, 76,  5, 77],\n",
       "       [ 0, 61, 81, 89]])"
      ]
     },
     "execution_count": 235,
     "metadata": {},
     "output_type": "execute_result"
    }
   ],
   "source": [
    "# casting a float array into an int drops all the decimals points. \n",
    "data_i4 = data_flt.astype('i4') # using an abbreviation. \n",
    "data_i4"
   ]
  },
  {
   "cell_type": "code",
   "execution_count": 237,
   "metadata": {},
   "outputs": [
    {
     "data": {
      "text/plain": [
       "dtype('int32')"
      ]
     },
     "execution_count": 237,
     "metadata": {},
     "output_type": "execute_result"
    }
   ],
   "source": [
    "data_i4.dtype"
   ]
  },
  {
   "cell_type": "markdown",
   "metadata": {},
   "source": [
    "* we can convert a number array (float or int) into a string as long as the correct dtype is plugged in.   \n",
    "* use `U2` to `U10` for dtype, the number refers to the maximum length of the string.  "
   ]
  },
  {
   "cell_type": "code",
   "execution_count": 238,
   "metadata": {},
   "outputs": [
    {
     "data": {
      "text/plain": [
       "array([[[-3,  8, -7, -5,  4],\n",
       "        [ 7,  2, -3,  8, 10],\n",
       "        [ 5, -5,  4,  4,  7],\n",
       "        [ 9, -1, -6,  3, -2]],\n",
       "\n",
       "       [[-5,  8, -2,  2, -5],\n",
       "        [ 3, -6,  9,  6, -1],\n",
       "        [ 5, -7,  1, -3,  7],\n",
       "        [ 8, -7, 10,  4, 10]]])"
      ]
     },
     "execution_count": 238,
     "metadata": {},
     "output_type": "execute_result"
    }
   ],
   "source": [
    "# created earlier\n",
    "r_int"
   ]
  },
  {
   "cell_type": "code",
   "execution_count": 239,
   "metadata": {},
   "outputs": [
    {
     "data": {
      "text/plain": [
       "array([[['-3', '8', '-7', '-5', '4'],\n",
       "        ['7', '2', '-3', '8', '10'],\n",
       "        ['5', '-5', '4', '4', '7'],\n",
       "        ['9', '-1', '-6', '3', '-2']],\n",
       "\n",
       "       [['-5', '8', '-2', '2', '-5'],\n",
       "        ['3', '-6', '9', '6', '-1'],\n",
       "        ['5', '-7', '1', '-3', '7'],\n",
       "        ['8', '-7', '10', '4', '10']]], dtype='<U4')"
      ]
     },
     "execution_count": 239,
     "metadata": {},
     "output_type": "execute_result"
    }
   ],
   "source": [
    "r_int_str = r_int.astype('U4')\n",
    "r_int_str"
   ]
  },
  {
   "cell_type": "code",
   "execution_count": 240,
   "metadata": {},
   "outputs": [
    {
     "data": {
      "text/plain": [
       "array([[-1.03764318,  0.59365816,  1.10268062, -0.51217773],\n",
       "       [-0.26541986, -1.61700601, -0.27151449,  0.94555425],\n",
       "       [-0.62699279, -0.26594728,  0.68729358,  2.04845691],\n",
       "       [-0.46155895,  0.68784742,  1.00812262, -0.15650898]])"
      ]
     },
     "execution_count": 240,
     "metadata": {},
     "output_type": "execute_result"
    }
   ],
   "source": [
    "# created earlier\n",
    "r_norm1"
   ]
  },
  {
   "cell_type": "code",
   "execution_count": 241,
   "metadata": {},
   "outputs": [
    {
     "data": {
      "text/plain": [
       "array([['-1.037', '0.5936', '1.1026', '-0.512'],\n",
       "       ['-0.265', '-1.617', '-0.271', '0.9455'],\n",
       "       ['-0.626', '-0.265', '0.6872', '2.0484'],\n",
       "       ['-0.461', '0.6878', '1.0081', '-0.156']], dtype='<U6')"
      ]
     },
     "execution_count": 241,
     "metadata": {},
     "output_type": "execute_result"
    }
   ],
   "source": [
    "# U10 returns 3 decimal places\n",
    "r_norm_str = r_norm1.astype('U6')\n",
    "r_norm_str"
   ]
  },
  {
   "cell_type": "code",
   "execution_count": 242,
   "metadata": {},
   "outputs": [
    {
     "data": {
      "text/plain": [
       "array([['-1.0376431', '0.59365815', '1.10268062', '-0.5121777'],\n",
       "       ['-0.2654198', '-1.6170060', '-0.2715144', '0.94555425'],\n",
       "       ['-0.6269927', '-0.2659472', '0.68729357', '2.04845690'],\n",
       "       ['-0.4615589', '0.68784742', '1.00812262', '-0.1565089']],\n",
       "      dtype='<U10')"
      ]
     },
     "execution_count": 242,
     "metadata": {},
     "output_type": "execute_result"
    }
   ],
   "source": [
    "# U10 obtains 6 to 7 decimal places \n",
    "r_norm_str = r_norm1.astype('U10')\n",
    "r_norm_str"
   ]
  },
  {
   "cell_type": "markdown",
   "metadata": {},
   "source": [
    "&nbsp;\n",
    "\n",
    "* it is possible to cast a numeric array into a complex array. "
   ]
  },
  {
   "cell_type": "code",
   "execution_count": null,
   "metadata": {},
   "outputs": [],
   "source": [
    "randn_cplx = r_norm1.astype(np.complex)\n",
    "randn_cplx"
   ]
  },
  {
   "cell_type": "markdown",
   "metadata": {},
   "source": [
    "&nbsp;\n",
    "\n",
    "* arrays can also contain letters and words.  \n",
    "* an alpha array cannot be converted into a numeric array. "
   ]
  },
  {
   "cell_type": "code",
   "execution_count": 243,
   "metadata": {},
   "outputs": [
    {
     "data": {
      "text/plain": [
       "array([['foo_', 'bar_', 'scam_._', 'elon', 'litt'],\n",
       "       ['spam_', 'glee_._', 'more_', 'elon', 'beak_._'],\n",
       "       ['bar_', 'elon_._', 'glue_', 'elon_', 'elon___'],\n",
       "       ['sap_.', 'elon', 'brew', 'may_', 'litt']], dtype='<U7')"
      ]
     },
     "execution_count": 243,
     "metadata": {},
     "output_type": "execute_result"
    }
   ],
   "source": [
    "r_str = np.array([['foo_','bar_','scam_._','elon','litt'],['spam_','glee_._','more_','elon','beak_._'],\n",
    "                     ['bar_','elon_._','glue_','elon_','elon___'],['sap_.','elon','brew','may_','litt']])\n",
    "r_str"
   ]
  },
  {
   "cell_type": "markdown",
   "metadata": {},
   "source": [
    "* casting to a shorter string dtype truncates the stings.   "
   ]
  },
  {
   "cell_type": "code",
   "execution_count": 244,
   "metadata": {
    "hideOutput": true
   },
   "outputs": [
    {
     "data": {
      "text/plain": [
       "array([['foo_', 'bar_', 'scam', 'elon', 'litt'],\n",
       "       ['spam', 'glee', 'more', 'elon', 'beak'],\n",
       "       ['bar_', 'elon', 'glue', 'elon', 'elon'],\n",
       "       ['sap_', 'elon', 'brew', 'may_', 'litt']], dtype='<U4')"
      ]
     },
     "execution_count": 244,
     "metadata": {},
     "output_type": "execute_result"
    }
   ],
   "source": [
    "r_str = r_str.astype('U4')\n",
    "r_str"
   ]
  },
  {
   "cell_type": "markdown",
   "metadata": {},
   "source": [
    "a string array with type `Ux` truncates all modifications into length x."
   ]
  },
  {
   "cell_type": "code",
   "execution_count": 245,
   "metadata": {},
   "outputs": [
    {
     "data": {
      "text/plain": [
       "array([['fool', 'bar_', 'scam', 'elon', 'litt'],\n",
       "       ['spam', 'glee', 'more', 'elon', 'beak'],\n",
       "       ['bar_', 'elon', 'glue', 'elon', 'elon'],\n",
       "       ['sap_', 'elon', 'brew', 'may_', 'litt']], dtype='<U4')"
      ]
     },
     "execution_count": 245,
     "metadata": {},
     "output_type": "execute_result"
    }
   ],
   "source": [
    "r_str[0,0] = 'foolish'\n",
    "r_str"
   ]
  },
  {
   "cell_type": "markdown",
   "metadata": {},
   "source": [
    "&nbsp;\n",
    "\n",
    "* `numpy.random.binomial(n,p,size)` draws samples from a binomial distribution. "
   ]
  },
  {
   "cell_type": "code",
   "execution_count": 246,
   "metadata": {},
   "outputs": [
    {
     "data": {
      "text/plain": [
       "array([[1, 0, 1, 1],\n",
       "       [1, 1, 0, 1],\n",
       "       [1, 1, 0, 0],\n",
       "       [1, 0, 1, 1],\n",
       "       [1, 0, 1, 1]])"
      ]
     },
     "execution_count": 246,
     "metadata": {},
     "output_type": "execute_result"
    }
   ],
   "source": [
    "np.random.seed(32)\n",
    "binom = np.random.binomial(1,0.5,20).reshape((5,4))\n",
    "binom"
   ]
  },
  {
   "cell_type": "code",
   "execution_count": 247,
   "metadata": {},
   "outputs": [
    {
     "data": {
      "text/plain": [
       "array([[ True, False,  True,  True],\n",
       "       [ True,  True, False,  True],\n",
       "       [ True,  True, False, False],\n",
       "       [ True, False,  True,  True],\n",
       "       [ True, False,  True,  True]])"
      ]
     },
     "execution_count": 247,
     "metadata": {},
     "output_type": "execute_result"
    }
   ],
   "source": [
    "r_bool = binom.astype('?')\n",
    "r_bool"
   ]
  },
  {
   "cell_type": "markdown",
   "metadata": {},
   "source": [
    "[back to top](#menu)\n",
    "<a href='#menu'></a>"
   ]
  },
  {
   "cell_type": "markdown",
   "metadata": {},
   "source": [
    "<a id='1.3'></a>"
   ]
  },
  {
   "cell_type": "markdown",
   "metadata": {},
   "source": [
    "&nbsp;\n",
    "\n",
    "## 1.3 Arithmatic operations   \n",
    "* numeric arrays can be treated as single value variables. So `+ - * / // % abs()` are applicable. \n",
    "* arithmatic operations can be applied between equal size arrays.  \n",
    "* arithmatic operations are carried out element wise. "
   ]
  },
  {
   "cell_type": "code",
   "execution_count": 314,
   "metadata": {},
   "outputs": [
    {
     "name": "stdout",
     "output_type": "stream",
     "text": [
      "r_int1\n",
      " [[ 3 -2  7 -5  1]\n",
      " [-5 -2  8  3  3]\n",
      " [ 4 -3 -3  4 -6]\n",
      " [-4  2 -2  7 -1]]\n",
      "\n",
      "r_int2\n",
      " [[55 47 42 52 34]\n",
      " [63 43 47 44 47]\n",
      " [49 37 62 37 65]\n",
      " [55 45 76 68 59]]\n",
      "\n",
      "r_flt\n",
      " [[ 1.54639052e+00 -7.17570870e-02  8.12733109e-01  4.74184318e-01\n",
      "  -2.10215798e+00]\n",
      " [ 7.03544762e-01  1.35491591e+00  2.70537365e-01 -6.74582648e-01\n",
      "   4.94452181e-01]\n",
      " [-8.93111515e-02  1.10100059e+00 -3.84033307e-04  5.79753330e-01\n",
      "   3.45074254e-01]\n",
      " [ 1.58549456e+00 -2.94118086e+00 -1.45989279e+00 -5.16562957e-01\n",
      "  -1.57771814e-01]]\n"
     ]
    }
   ],
   "source": [
    "np.random.seed(18)\n",
    "r_int1 = np.random.randint(-7,10, (4,5), dtype=np.int32)\n",
    "print('r_int1\\n',r_int1, end='\\n\\n')\n",
    "r_int2 = np.random.randint(34,81, (4,5), dtype=np.int64)\n",
    "print('r_int2\\n', r_int2, end='\\n\\n')\n",
    "r_flt = np.random.randn(4,5)\n",
    "print('r_flt\\n',r_flt)"
   ]
  },
  {
   "cell_type": "code",
   "execution_count": 249,
   "metadata": {},
   "outputs": [
    {
     "data": {
      "text/plain": [
       "array([[ 4.54639052, -2.07175709,  7.81273311, -4.52581568, -1.10215798],\n",
       "       [-4.29645524, -0.64508409,  8.27053737,  2.32541735,  3.49445218],\n",
       "       [ 3.91068885, -1.89899941, -3.00038403,  4.57975333, -5.65492575],\n",
       "       [-2.41450544, -0.94118086, -3.45989279,  6.48343704, -1.15777181]])"
      ]
     },
     "execution_count": 249,
     "metadata": {},
     "output_type": "execute_result"
    }
   ],
   "source": [
    "r_int1 + r_flt"
   ]
  },
  {
   "cell_type": "code",
   "execution_count": 250,
   "metadata": {},
   "outputs": [
    {
     "data": {
      "text/plain": [
       "array([[ 4.63917157e+00,  1.43514174e-01,  5.68913176e+00,\n",
       "        -2.37092159e+00, -2.10215798e+00],\n",
       "       [-3.51772381e+00, -2.70983182e+00,  2.16429892e+00,\n",
       "        -2.02374794e+00,  1.48335654e+00],\n",
       "       [-3.57244606e-01, -3.30300176e+00,  1.15209992e-03,\n",
       "         2.31901332e+00, -2.07044552e+00],\n",
       "       [-6.34197825e+00, -5.88236173e+00,  2.91978558e+00,\n",
       "        -3.61594070e+00,  1.57771814e-01]])"
      ]
     },
     "execution_count": 250,
     "metadata": {},
     "output_type": "execute_result"
    }
   ],
   "source": [
    "r_int1 * r_flt"
   ]
  },
  {
   "cell_type": "code",
   "execution_count": 251,
   "metadata": {},
   "outputs": [
    {
     "data": {
      "text/plain": [
       "array([[ 3.55666950e+01, -6.54987569e+02,  5.16774813e+01,\n",
       "         1.09661999e+02, -1.61738558e+01],\n",
       "       [ 8.95465412e+01,  3.17362868e+01,  1.73728313e+02,\n",
       "        -6.52255140e+01,  9.50546924e+01],\n",
       "       [-5.48643693e+02,  3.36057950e+01, -1.61444330e+05,\n",
       "         6.38202458e+01,  1.88365256e+02],\n",
       "       [ 3.46894914e+01, -1.52999771e+01, -5.20586173e+01,\n",
       "        -1.31639327e+02, -3.73957796e+02]])"
      ]
     },
     "execution_count": 251,
     "metadata": {},
     "output_type": "execute_result"
    }
   ],
   "source": [
    "r_int2 / r_flt"
   ]
  },
  {
   "cell_type": "code",
   "execution_count": 252,
   "metadata": {},
   "outputs": [
    {
     "data": {
      "text/plain": [
       "array([[ 1, -1,  0, -3,  0],\n",
       "       [-2, -1,  7,  2,  2],\n",
       "       [ 1, -2, -1,  1, -1],\n",
       "       [-1,  1,  0,  5,  0]], dtype=int64)"
      ]
     },
     "execution_count": 252,
     "metadata": {},
     "output_type": "execute_result"
    }
   ],
   "source": [
    "r_int2 % r_int1"
   ]
  },
  {
   "cell_type": "code",
   "execution_count": 253,
   "metadata": {},
   "outputs": [
    {
     "data": {
      "text/plain": [
       "array([[1, 1, 0, 3, 0],\n",
       "       [2, 1, 7, 2, 2],\n",
       "       [1, 2, 1, 1, 1],\n",
       "       [1, 1, 0, 5, 0]], dtype=int64)"
      ]
     },
     "execution_count": 253,
     "metadata": {},
     "output_type": "execute_result"
    }
   ],
   "source": [
    "abs(r_int2 % r_int1)"
   ]
  },
  {
   "cell_type": "markdown",
   "metadata": {},
   "source": [
    "&nbsp;\n",
    "\n",
    "* numpy also has a number of statistical methods that can be applied to arrays or basic Python containers   \n",
    "* `numpy.amin()` and `numpy.amax()` return the min and max along an axis.   \n",
    "* `numpy.nanmean()` and `numpy.nanstd()` returns the mean and std along an axis. "
   ]
  },
  {
   "cell_type": "code",
   "execution_count": 254,
   "metadata": {
    "scrolled": true
   },
   "outputs": [
    {
     "data": {
      "text/plain": [
       "array([7, 8, 4, 7])"
      ]
     },
     "execution_count": 254,
     "metadata": {},
     "output_type": "execute_result"
    }
   ],
   "source": [
    "np.amax(r_int1, axis = 1)"
   ]
  },
  {
   "cell_type": "code",
   "execution_count": 255,
   "metadata": {},
   "outputs": [
    {
     "data": {
      "text/plain": [
       "array([-5, -3, -3, -5, -6])"
      ]
     },
     "execution_count": 255,
     "metadata": {},
     "output_type": "execute_result"
    }
   ],
   "source": [
    "np.amin(r_int1, axis = 0)"
   ]
  },
  {
   "cell_type": "code",
   "execution_count": 263,
   "metadata": {
    "scrolled": true
   },
   "outputs": [
    {
     "data": {
      "text/plain": [
       "(array([-0.5 , -1.25,  2.5 ,  2.25, -0.75]),\n",
       " array([16.25  ,  3.6875, 25.25  , 19.6875, 11.1875]),\n",
       " array([4.03112887, 1.92028644, 5.02493781, 4.43705984, 3.34477204]))"
      ]
     },
     "execution_count": 263,
     "metadata": {},
     "output_type": "execute_result"
    }
   ],
   "source": [
    "np.mean(r_int1, axis= 0), np.var(r_int1, axis = 0), np.std(r_int1, axis = 0)"
   ]
  },
  {
   "cell_type": "markdown",
   "metadata": {},
   "source": [
    "&nbsp;\n",
    "`numpy.nanmean()` and `numpy.nanstd()` are similar to apply() in **R**"
   ]
  },
  {
   "cell_type": "code",
   "execution_count": 257,
   "metadata": {},
   "outputs": [
    {
     "data": {
      "text/plain": [
       "(array([-0.5 , -1.25,  2.5 ,  2.25, -0.75]), array([ 0.8,  1.4, -0.8,  0.4]))"
      ]
     },
     "execution_count": 257,
     "metadata": {},
     "output_type": "execute_result"
    }
   ],
   "source": [
    "# compute the mean along an axis.\n",
    "np.nanmean(r_int1, axis = 0), np.nanmean(r_int1, axis = 1)"
   ]
  },
  {
   "cell_type": "code",
   "execution_count": 258,
   "metadata": {},
   "outputs": [
    {
     "data": {
      "text/plain": [
       "(array([4.03112887, 1.92028644, 5.02493781, 4.43705984, 3.34477204]),\n",
       " array([4.11825206, 4.49888875, 4.06939799, 3.82622529]))"
      ]
     },
     "execution_count": 258,
     "metadata": {},
     "output_type": "execute_result"
    }
   ],
   "source": [
    "# compute the mean along an axis. \n",
    "np.nanstd(r_int1, axis = 0), np.nanstd(r_int1, axis = 1)"
   ]
  },
  {
   "cell_type": "markdown",
   "metadata": {},
   "source": [
    "[back to top](#menu)\n",
    "<a href='#menu'></a>"
   ]
  },
  {
   "cell_type": "markdown",
   "metadata": {},
   "source": [
    "<a id='1.4'></a>"
   ]
  },
  {
   "cell_type": "markdown",
   "metadata": {},
   "source": [
    "&nbsp;\n",
    "\n",
    "## 1.4 Indexing, slicing and sorting  ndarrays\n",
    "\n",
    "* numpy method `numpy.arange(start,stop,step,dtype)` is similar -in construct- to `range()`, however the resulting object is a numpy array. \n",
    "* `numpy.arange()` is not similar to `range()` in creating a size optimized objects since a numpy array contains all the elements of the array. \n",
    "* numpy `numpy.arange()` objects are iterable.  \n",
    "* `numpy.arange()` argument `step` can be a fraction (`range()` `step` only takes integers)\n",
    "* for two dimensional arrays in numpy, rows are axis `0` and columns are axis `1`, this is generally true for Pandas dataframes as well with some exceptions in some methods.     \n",
    "* for n-dimensional arrays, additional dimension start to increment axis `2`, `3` and over.  "
   ]
  },
  {
   "cell_type": "code",
   "execution_count": 264,
   "metadata": {},
   "outputs": [
    {
     "data": {
      "text/plain": [
       "array([[2. , 2.5, 3. , 3.5, 4. ],\n",
       "       [4.5, 5. , 5.5, 6. , 6.5],\n",
       "       [7. , 7.5, 8. , 8.5, 9. ]])"
      ]
     },
     "execution_count": 264,
     "metadata": {},
     "output_type": "execute_result"
    }
   ],
   "source": [
    "vec1 = np.arange(2,9.5,.5).reshape((3,5))\n",
    "vec1"
   ]
  },
  {
   "cell_type": "code",
   "execution_count": 265,
   "metadata": {},
   "outputs": [
    {
     "data": {
      "text/plain": [
       "array([4.5, 5. , 5.5, 6. , 6.5])"
      ]
     },
     "execution_count": 265,
     "metadata": {},
     "output_type": "execute_result"
    }
   ],
   "source": [
    "vec2 = vec1[1]\n",
    "vec2"
   ]
  },
  {
   "cell_type": "markdown",
   "metadata": {},
   "source": [
    "<span style=\"color:blue\">why would you use `np.arange()` over python native `range()`</span>   \n",
    "try the squence above using `range()`   "
   ]
  },
  {
   "cell_type": "code",
   "execution_count": null,
   "metadata": {},
   "outputs": [],
   "source": [
    "#skipped code "
   ]
  },
  {
   "cell_type": "markdown",
   "metadata": {},
   "source": [
    "* `vec2` is a slice and a shallow copy of `vec1`.  \n",
    "* any changes made to `vec2` are reflected in `vec1`. "
   ]
  },
  {
   "cell_type": "code",
   "execution_count": 268,
   "metadata": {},
   "outputs": [
    {
     "data": {
      "text/plain": [
       "array([64., 64., 64., 64., 64.])"
      ]
     },
     "execution_count": 268,
     "metadata": {},
     "output_type": "execute_result"
    }
   ],
   "source": [
    "vec2[:] = 64\n",
    "vec2"
   ]
  },
  {
   "cell_type": "code",
   "execution_count": 269,
   "metadata": {},
   "outputs": [
    {
     "data": {
      "text/plain": [
       "array([[ 2. ,  2.5,  3. ,  3.5,  4. ],\n",
       "       [64. , 64. , 64. , 64. , 64. ],\n",
       "       [ 7. ,  7.5,  8. ,  8.5,  9. ]])"
      ]
     },
     "execution_count": 269,
     "metadata": {},
     "output_type": "execute_result"
    }
   ],
   "source": [
    "vec1"
   ]
  },
  {
   "cell_type": "code",
   "execution_count": 270,
   "metadata": {},
   "outputs": [
    {
     "data": {
      "text/plain": [
       "array([[  2. ,   2.5,   3. ,   3.5,   4. ],\n",
       "       [ 64. ,  64. ,  64. , 223. ,  64. ],\n",
       "       [  7. ,   7.5,   8. ,   8.5,   9. ]])"
      ]
     },
     "execution_count": 270,
     "metadata": {},
     "output_type": "execute_result"
    }
   ],
   "source": [
    "vec2[3] = 223\n",
    "vec1"
   ]
  },
  {
   "cell_type": "markdown",
   "metadata": {},
   "source": [
    "&nbsp;\n",
    "\n",
    "* **NumPy slices yield views onto the same piece of memory, modifying a slice (even one that is assigned to a name) results in modifying the original array.** \n",
    "* in order to create a slice that is a deep copy of the original object use `.copy()`"
   ]
  },
  {
   "cell_type": "code",
   "execution_count": 271,
   "metadata": {},
   "outputs": [
    {
     "data": {
      "text/plain": [
       "array([64., 64., 64., 91., 64.])"
      ]
     },
     "execution_count": 271,
     "metadata": {},
     "output_type": "execute_result"
    }
   ],
   "source": [
    "vec2 = vec1[1].copy()\n",
    "vec2[3] = 91\n",
    "vec2"
   ]
  },
  {
   "cell_type": "code",
   "execution_count": 272,
   "metadata": {},
   "outputs": [
    {
     "data": {
      "text/plain": [
       "array([[  2. ,   2.5,   3. ,   3.5,   4. ],\n",
       "       [ 64. ,  64. ,  64. , 223. ,  64. ],\n",
       "       [  7. ,   7.5,   8. ,   8.5,   9. ]])"
      ]
     },
     "execution_count": 272,
     "metadata": {},
     "output_type": "execute_result"
    }
   ],
   "source": [
    "# vec1[6] remains unchanges\n",
    "vec1"
   ]
  },
  {
   "cell_type": "markdown",
   "metadata": {},
   "source": [
    "* subset elements from an array based on a condition   \n",
    "* the resulting subset does not retain the shape of the array. "
   ]
  },
  {
   "cell_type": "code",
   "execution_count": 273,
   "metadata": {},
   "outputs": [
    {
     "data": {
      "text/plain": [
       "array([[ 3, -2,  7, -5,  1],\n",
       "       [-5, -2,  8,  3,  3],\n",
       "       [ 4, -3, -3,  4, -6],\n",
       "       [-4,  2, -2,  7, -1]])"
      ]
     },
     "execution_count": 273,
     "metadata": {},
     "output_type": "execute_result"
    }
   ],
   "source": [
    "# created earlier\n",
    "r_int1"
   ]
  },
  {
   "cell_type": "markdown",
   "metadata": {},
   "source": [
    "&nbsp;\n",
    "\n",
    "* slices can be created based on a boolean condition"
   ]
  },
  {
   "cell_type": "code",
   "execution_count": 274,
   "metadata": {},
   "outputs": [
    {
     "data": {
      "text/plain": [
       "array([ 3, -2, -5,  1, -5, -2,  3,  3,  4, -3, -3,  4, -6, -4,  2, -2, -1])"
      ]
     },
     "execution_count": 274,
     "metadata": {},
     "output_type": "execute_result"
    }
   ],
   "source": [
    "r_int1_subset = r_int1[r_int1 <= 4].copy()\n",
    "r_int1_subset"
   ]
  },
  {
   "cell_type": "code",
   "execution_count": 275,
   "metadata": {},
   "outputs": [
    {
     "data": {
      "text/plain": [
       "array([3, 3, 3])"
      ]
     },
     "execution_count": 275,
     "metadata": {},
     "output_type": "execute_result"
    }
   ],
   "source": [
    "r_int1_subset = r_int1[r_int1 == 3].copy()\n",
    "r_int1_subset"
   ]
  },
  {
   "cell_type": "markdown",
   "metadata": {},
   "source": [
    "* slicing two dimensional arrays follows the same slicing rules for Python lists separating `n` and `m` with a comma.   \n",
    "\n",
    "    `array[n,m]`"
   ]
  },
  {
   "cell_type": "code",
   "execution_count": 276,
   "metadata": {},
   "outputs": [
    {
     "data": {
      "text/plain": [
       "array([ 3, -2,  7, -5,  1])"
      ]
     },
     "execution_count": 276,
     "metadata": {},
     "output_type": "execute_result"
    }
   ],
   "source": [
    "# first row\n",
    "r_int1[0,:]"
   ]
  },
  {
   "cell_type": "code",
   "execution_count": 278,
   "metadata": {},
   "outputs": [
    {
     "data": {
      "text/plain": [
       "array([ 3, -5,  4, -4])"
      ]
     },
     "execution_count": 278,
     "metadata": {},
     "output_type": "execute_result"
    }
   ],
   "source": [
    "# first column\n",
    "r_int1[:,0]"
   ]
  },
  {
   "cell_type": "code",
   "execution_count": 279,
   "metadata": {},
   "outputs": [
    {
     "data": {
      "text/plain": [
       "array([[ 3, -2],\n",
       "       [-5, -2]])"
      ]
     },
     "execution_count": 279,
     "metadata": {},
     "output_type": "execute_result"
    }
   ],
   "source": [
    "r_int1[:2,:2]"
   ]
  },
  {
   "cell_type": "code",
   "execution_count": 280,
   "metadata": {},
   "outputs": [
    {
     "data": {
      "text/plain": [
       "array([[ 3, -2,  7],\n",
       "       [-5, -2,  8],\n",
       "       [ 4, -3, -3],\n",
       "       [-4,  2, -2]])"
      ]
     },
     "execution_count": 280,
     "metadata": {},
     "output_type": "execute_result"
    }
   ],
   "source": [
    "r_int1[:,:3]"
   ]
  },
  {
   "cell_type": "code",
   "execution_count": 281,
   "metadata": {},
   "outputs": [
    {
     "data": {
      "text/plain": [
       "array([[-5,  1],\n",
       "       [ 3,  3],\n",
       "       [ 4, -6],\n",
       "       [ 7, -1]])"
      ]
     },
     "execution_count": 281,
     "metadata": {},
     "output_type": "execute_result"
    }
   ],
   "source": [
    "# a range is exclusive of last index, hence to access last column we slice at m+1\n",
    "r_int1[:,3:5]"
   ]
  },
  {
   "cell_type": "code",
   "execution_count": 282,
   "metadata": {},
   "outputs": [
    {
     "data": {
      "text/plain": [
       "array([[-2,  7, -5],\n",
       "       [-2,  8,  3],\n",
       "       [-3, -3,  4]])"
      ]
     },
     "execution_count": 282,
     "metadata": {},
     "output_type": "execute_result"
    }
   ],
   "source": [
    "r_int1[:3,1:4]"
   ]
  },
  {
   "cell_type": "code",
   "execution_count": 283,
   "metadata": {},
   "outputs": [
    {
     "data": {
      "text/plain": [
       "array([[-5, -2,  8,  3,  3],\n",
       "       [ 4, -3, -3,  4, -6]])"
      ]
     },
     "execution_count": 283,
     "metadata": {},
     "output_type": "execute_result"
    }
   ],
   "source": [
    "r_int1[1:3,:]"
   ]
  },
  {
   "cell_type": "markdown",
   "metadata": {},
   "source": [
    "* boolean indexing: slicing an array according to a boolean array."
   ]
  },
  {
   "cell_type": "code",
   "execution_count": 284,
   "metadata": {},
   "outputs": [
    {
     "data": {
      "text/plain": [
       "array([[ 3, -2,  7, -5,  1],\n",
       "       [-5, -2,  8,  3,  3],\n",
       "       [ 4, -3, -3,  4, -6],\n",
       "       [-4,  2, -2,  7, -1]])"
      ]
     },
     "execution_count": 284,
     "metadata": {},
     "output_type": "execute_result"
    }
   ],
   "source": [
    "# created earlier\n",
    "r_int1"
   ]
  },
  {
   "cell_type": "code",
   "execution_count": 285,
   "metadata": {},
   "outputs": [
    {
     "data": {
      "text/plain": [
       "array([[ True, False,  True,  True],\n",
       "       [ True,  True, False,  True],\n",
       "       [ True,  True, False, False],\n",
       "       [ True, False,  True,  True],\n",
       "       [ True, False,  True,  True]])"
      ]
     },
     "execution_count": 285,
     "metadata": {},
     "output_type": "execute_result"
    }
   ],
   "source": [
    "# created earlier\n",
    "r_bool"
   ]
  },
  {
   "cell_type": "code",
   "execution_count": null,
   "metadata": {},
   "outputs": [],
   "source": [
    "# first row of the r_bool\n",
    "r_bool[2,:]"
   ]
  },
  {
   "cell_type": "code",
   "execution_count": null,
   "metadata": {},
   "outputs": [],
   "source": [
    "r_int1[r_bool[2,:],:]"
   ]
  },
  {
   "cell_type": "markdown",
   "metadata": {},
   "source": [
    "above the slice will return **rows** of `r_int1` according to the map of `array([ True,  True, False, False])`\n",
    "\n",
    "&nbsp;\n"
   ]
  },
  {
   "cell_type": "code",
   "execution_count": 286,
   "metadata": {},
   "outputs": [
    {
     "data": {
      "text/plain": [
       "array([ True, False, False,  True,  True])"
      ]
     },
     "execution_count": 286,
     "metadata": {},
     "output_type": "execute_result"
    }
   ],
   "source": [
    "# first column of r_bool\n",
    "r_bool[:,2]"
   ]
  },
  {
   "cell_type": "code",
   "execution_count": 287,
   "metadata": {},
   "outputs": [
    {
     "data": {
      "text/plain": [
       "array([[ 3, -5,  1],\n",
       "       [-5,  3,  3],\n",
       "       [ 4,  4, -6],\n",
       "       [-4,  7, -1]])"
      ]
     },
     "execution_count": 287,
     "metadata": {},
     "output_type": "execute_result"
    }
   ],
   "source": [
    "r_int1[:,r_bool[:,2]]"
   ]
  },
  {
   "cell_type": "markdown",
   "metadata": {},
   "source": [
    "above the slice will return **columns** of `r_int1` according to the map of `array([ True, False, False,  True,  True])`\n",
    "\n",
    "the only restriction in boolean slicing is that the vector passed into the row or column position in the slice call has to match the n or m of the array to be sliced.\n",
    "\n",
    "&nbsp;"
   ]
  },
  {
   "cell_type": "code",
   "execution_count": 288,
   "metadata": {},
   "outputs": [
    {
     "data": {
      "text/plain": [
       "array([[-5, -2,  3],\n",
       "       [ 4, -3, -6]])"
      ]
     },
     "execution_count": 288,
     "metadata": {},
     "output_type": "execute_result"
    }
   ],
   "source": [
    "# to rows 1 and 2 (and all columns) of r_int1 slice according to r_int2 row 4 for values < 40.\n",
    "r_int1[1:3, r_int2[3,:] < 60]"
   ]
  },
  {
   "cell_type": "markdown",
   "metadata": {},
   "source": [
    "&nbsp;\n",
    "\n",
    "* there are many ways to slice an array"
   ]
  },
  {
   "cell_type": "code",
   "execution_count": 289,
   "metadata": {},
   "outputs": [
    {
     "data": {
      "text/plain": [
       "array([['fool', 'bar_', 'scam', 'elon', 'litt'],\n",
       "       ['spam', 'glee', 'more', 'elon', 'beak'],\n",
       "       ['bar_', 'elon', 'glue', 'elon', 'elon'],\n",
       "       ['sap_', 'elon', 'brew', 'may_', 'litt']], dtype='<U4')"
      ]
     },
     "execution_count": 289,
     "metadata": {},
     "output_type": "execute_result"
    }
   ],
   "source": [
    "#created earlier\n",
    "r_str"
   ]
  },
  {
   "cell_type": "code",
   "execution_count": 290,
   "metadata": {},
   "outputs": [
    {
     "data": {
      "text/plain": [
       "array([False,  True, False,  True,  True])"
      ]
     },
     "execution_count": 290,
     "metadata": {},
     "output_type": "execute_result"
    }
   ],
   "source": [
    "r_str[2,:]=='elon'"
   ]
  },
  {
   "cell_type": "code",
   "execution_count": 291,
   "metadata": {},
   "outputs": [
    {
     "data": {
      "text/plain": [
       "array([['bar_', 'elon', 'litt'],\n",
       "       ['glee', 'elon', 'beak'],\n",
       "       ['elon', 'elon', 'elon'],\n",
       "       ['elon', 'may_', 'litt']], dtype='<U4')"
      ]
     },
     "execution_count": 291,
     "metadata": {},
     "output_type": "execute_result"
    }
   ],
   "source": [
    "# only returns columns containing 'elon'\n",
    "r_str[:,r_str[2,:]=='elon']"
   ]
  },
  {
   "cell_type": "code",
   "execution_count": 292,
   "metadata": {
    "scrolled": true
   },
   "outputs": [
    {
     "data": {
      "text/plain": [
       "array([[37, 37, 65],\n",
       "       [45, 68, 59]], dtype=int64)"
      ]
     },
     "execution_count": 292,
     "metadata": {},
     "output_type": "execute_result"
    }
   ],
   "source": [
    "r_int2[2:4, r_str[2,:]=='elon']"
   ]
  },
  {
   "cell_type": "markdown",
   "metadata": {},
   "source": [
    "&nbsp;\n",
    "\n",
    "* `numpy.where()` can be used in two different ways:     \n",
    " * 1 `numpy.where(array == value)` for index lookup.     \n",
    " * 2 `numpy.where(cond, x, y)` is a vectorizer version of the statement `x if condition else y`\n",
    " \n",
    "    if assigned to a name `np.where()` creates a new deep copy. "
   ]
  },
  {
   "cell_type": "code",
   "execution_count": 295,
   "metadata": {},
   "outputs": [
    {
     "data": {
      "text/plain": [
       "array([['fool', 'bar_', 'scam', 'elon', 'litt'],\n",
       "       ['spam', 'glee', 'more', 'elon', 'beak'],\n",
       "       ['bar_', 'elon', 'glue', 'elon', 'elon'],\n",
       "       ['sap_', 'elon', 'brew', 'may_', 'litt']], dtype='<U4')"
      ]
     },
     "execution_count": 295,
     "metadata": {},
     "output_type": "execute_result"
    }
   ],
   "source": [
    "r_str"
   ]
  },
  {
   "cell_type": "code",
   "execution_count": 293,
   "metadata": {},
   "outputs": [
    {
     "data": {
      "text/plain": [
       "(array([0, 1, 2, 2, 2, 3], dtype=int64),\n",
       " array([3, 3, 1, 3, 4, 1], dtype=int64))"
      ]
     },
     "execution_count": 293,
     "metadata": {},
     "output_type": "execute_result"
    }
   ],
   "source": [
    "np.where(r_str == 'elon')"
   ]
  },
  {
   "cell_type": "code",
   "execution_count": 297,
   "metadata": {},
   "outputs": [
    {
     "data": {
      "text/plain": [
       "array([[ True, False,  True,  True],\n",
       "       [ True,  True, False,  True],\n",
       "       [ True,  True, False, False],\n",
       "       [ True, False,  True,  True],\n",
       "       [ True, False,  True,  True]])"
      ]
     },
     "execution_count": 297,
     "metadata": {},
     "output_type": "execute_result"
    }
   ],
   "source": [
    "r_bool"
   ]
  },
  {
   "cell_type": "code",
   "execution_count": 294,
   "metadata": {},
   "outputs": [
    {
     "data": {
      "text/plain": [
       "(array([0, 1, 2, 2, 3, 4], dtype=int64),\n",
       " array([1, 2, 2, 3, 1, 1], dtype=int64))"
      ]
     },
     "execution_count": 294,
     "metadata": {},
     "output_type": "execute_result"
    }
   ],
   "source": [
    "np.where(r_bool == False)"
   ]
  },
  {
   "cell_type": "markdown",
   "metadata": {},
   "source": [
    "the index lookup returs a tuple of two arrays, the first with all the row indeces and second with all the column indeces"
   ]
  },
  {
   "cell_type": "code",
   "execution_count": 9,
   "metadata": {},
   "outputs": [],
   "source": [
    "#created earlier\n",
    "r_int1"
   ]
  },
  {
   "cell_type": "code",
   "execution_count": 10,
   "metadata": {},
   "outputs": [
    {
     "ename": "AttributeError",
     "evalue": "'module' object has no attribute 'arrange'",
     "output_type": "error",
     "traceback": [
      "\u001b[1;31m\u001b[0m",
      "\u001b[1;31mAttributeError\u001b[0mTraceback (most recent call last)",
      "\u001b[1;32m<ipython-input-10-cb34830db32e>\u001b[0m in \u001b[0;36m<module>\u001b[1;34m()\u001b[0m\n\u001b[0;32m      1\u001b[0m \u001b[1;33m\u001b[0m\u001b[0m\n\u001b[1;32m----> 2\u001b[1;33m \u001b[0mnp\u001b[0m\u001b[1;33m.\u001b[0m\u001b[0marrange\u001b[0m\u001b[1;33m(\u001b[0m\u001b[1;36m0\u001b[0m\u001b[1;33m,\u001b[0m\u001b[1;36m5\u001b[0m\u001b[1;33m)\u001b[0m\u001b[1;33m\u001b[0m\u001b[0m\n\u001b[0m",
      "\u001b[1;31mAttributeError\u001b[0m: 'module' object has no attribute 'arrange'"
     ]
    }
   ],
   "source": [
    "\n",
    "np.arrange(0,5)"
   ]
  },
  {
   "cell_type": "markdown",
   "metadata": {},
   "source": [
    "&nbsp;\n",
    "\n",
    "`np.where()` can be used as vectorized conditional statement   \n",
    "the vectorized conditional statement replaces values that are > -3 with .9999 else replace with `np.nan`"
   ]
  },
  {
   "cell_type": "code",
   "execution_count": 299,
   "metadata": {},
   "outputs": [
    {
     "data": {
      "text/plain": [
       "array([[0.9999, 0.9999, 0.9999,    nan, 0.9999],\n",
       "       [   nan, 0.9999, 0.9999, 0.9999, 0.9999],\n",
       "       [0.9999,    nan,    nan, 0.9999,    nan],\n",
       "       [   nan, 0.9999, 0.9999, 0.9999, 0.9999]])"
      ]
     },
     "execution_count": 299,
     "metadata": {},
     "output_type": "execute_result"
    }
   ],
   "source": [
    "np.where(r_int1 > -3, .9999, np.nan)"
   ]
  },
  {
   "cell_type": "markdown",
   "metadata": {},
   "source": [
    "replace every instance of `'elon'` with `'musk'` else keep the value of r_str"
   ]
  },
  {
   "cell_type": "markdown",
   "metadata": {},
   "source": [
    "<span style=\"color:blue\"> replace every instance of `elon` in the table <U>r_str</U> with the word `musk`</U>"
   ]
  },
  {
   "cell_type": "code",
   "execution_count": null,
   "metadata": {},
   "outputs": [],
   "source": [
    "#skipped code"
   ]
  },
  {
   "cell_type": "markdown",
   "metadata": {},
   "source": [
    "&nbsp;\n",
    "\n",
    "* **fancy Indexing** refers to passing an array to access multiple array elements of an array.    \n",
    "* this has to be an array by necessity.    \n",
    "* fancy indexing allows reordering of rows and elements   \n",
    "* if assigned to a name, fancy indexing always copies the data into a new array.\n",
    "* fancy indexing follows the same slicing rules as np arrays but it allows for selective slicing of rows and columns    \n",
    "\n",
    "`array[[:3],[1,5,1]]`  \n",
    "\n",
    "the code above selects rows 0,1 and 2 but only columns 1 and 5 in the arrangements assigned!   "
   ]
  },
  {
   "cell_type": "code",
   "execution_count": 302,
   "metadata": {},
   "outputs": [
    {
     "data": {
      "text/plain": [
       "array([[ 0,  1,  2,  3,  4],\n",
       "       [ 5,  6,  7,  8,  9],\n",
       "       [10, 11, 12, 13, 14],\n",
       "       [15, 16, 17, 18, 19],\n",
       "       [20, 21, 22, 23, 24],\n",
       "       [25, 26, 27, 28, 29],\n",
       "       [30, 31, 32, 33, 34],\n",
       "       [35, 36, 37, 38, 39],\n",
       "       [40, 41, 42, 43, 44]])"
      ]
     },
     "execution_count": 302,
     "metadata": {},
     "output_type": "execute_result"
    }
   ],
   "source": [
    "r_int3 = np.arange(45).reshape((9,5))\n",
    "r_int3"
   ]
  },
  {
   "cell_type": "markdown",
   "metadata": {},
   "source": [
    "&nbsp;\n",
    "\n",
    "<span style=\"color:blue\">slice r_int3 selecting rows 3,1 and 4 only</span>"
   ]
  },
  {
   "cell_type": "code",
   "execution_count": null,
   "metadata": {},
   "outputs": [],
   "source": [
    "#skipped code"
   ]
  },
  {
   "cell_type": "markdown",
   "metadata": {},
   "source": [
    "&nbsp;\n",
    "\n",
    "<span style=\"color:blue\">slice r_int3 selecting rows 3,1 and 4 and columns 4,4 and 2 only</span>"
   ]
  },
  {
   "cell_type": "code",
   "execution_count": null,
   "metadata": {},
   "outputs": [],
   "source": [
    "#skipped code"
   ]
  },
  {
   "cell_type": "markdown",
   "metadata": {},
   "source": [
    "&nbsp;\n",
    "\n",
    "<span style=\"color:blue\">slice r_int3 selecting rows 1,5,7,2</span>"
   ]
  },
  {
   "cell_type": "code",
   "execution_count": null,
   "metadata": {},
   "outputs": [],
   "source": [
    "#skipped code"
   ]
  },
  {
   "cell_type": "markdown",
   "metadata": {},
   "source": [
    "&nbsp;\n",
    "\n",
    "<span style=\"color:blue\">slice r_int3 selecting rows 1,5,7,2 and out of the resulting array all rows for columns 0,3,1,2</span>\n",
    "\n",
    "hint: fancy slices can be stacked row wise   "
   ]
  },
  {
   "cell_type": "code",
   "execution_count": null,
   "metadata": {},
   "outputs": [],
   "source": [
    "#skipped code"
   ]
  },
  {
   "cell_type": "markdown",
   "metadata": {},
   "source": [
    "&nbsp;\n",
    "\n",
    "<span style=\"color:blue\">slice r_int3 selecting rows 2,2,3,3 and out of the resulting array all rows for columns 0,4,4,4</span>"
   ]
  },
  {
   "cell_type": "code",
   "execution_count": null,
   "metadata": {},
   "outputs": [],
   "source": [
    "#skipped code"
   ]
  },
  {
   "cell_type": "markdown",
   "metadata": {},
   "source": [
    "&nbsp;\n",
    "* `numpy.sort(np.array, axis = -1)` a numpy sort method that returns a deep copy of an array (if assigned to a name).   \n",
    "* `ndarray.sort(axis = -1)` a sort method that produces a sorted array in place.   \n",
    "* argument `axis = -1` (default) sorts row-wise whereas `axis = 0` sorts column-wise    "
   ]
  },
  {
   "cell_type": "code",
   "execution_count": 308,
   "metadata": {},
   "outputs": [
    {
     "data": {
      "text/plain": [
       "array([['fool', 'bar_', 'scam', 'elon', 'litt'],\n",
       "       ['spam', 'glee', 'more', 'elon', 'beak'],\n",
       "       ['bar_', 'elon', 'glue', 'elon', 'elon'],\n",
       "       ['sap_', 'elon', 'brew', 'may_', 'litt']], dtype='<U4')"
      ]
     },
     "execution_count": 308,
     "metadata": {},
     "output_type": "execute_result"
    }
   ],
   "source": [
    "# reminder\n",
    "r_str"
   ]
  },
  {
   "cell_type": "code",
   "execution_count": 309,
   "metadata": {},
   "outputs": [
    {
     "data": {
      "text/plain": [
       "array([['bar_', 'elon', 'fool', 'litt', 'scam'],\n",
       "       ['beak', 'elon', 'glee', 'more', 'spam'],\n",
       "       ['bar_', 'elon', 'elon', 'elon', 'glue'],\n",
       "       ['brew', 'elon', 'litt', 'may_', 'sap_']], dtype='<U4')"
      ]
     },
     "execution_count": 309,
     "metadata": {},
     "output_type": "execute_result"
    }
   ],
   "source": [
    "np.sort(r_str, axis = -1)"
   ]
  },
  {
   "cell_type": "code",
   "execution_count": 310,
   "metadata": {},
   "outputs": [
    {
     "data": {
      "text/plain": [
       "array([['bar_', 'bar_', 'brew', 'elon', 'beak'],\n",
       "       ['fool', 'elon', 'glue', 'elon', 'elon'],\n",
       "       ['sap_', 'elon', 'more', 'elon', 'litt'],\n",
       "       ['spam', 'glee', 'scam', 'may_', 'litt']], dtype='<U4')"
      ]
     },
     "execution_count": 310,
     "metadata": {},
     "output_type": "execute_result"
    }
   ],
   "source": [
    "np.sort(r_str, axis = 0)"
   ]
  },
  {
   "cell_type": "code",
   "execution_count": 316,
   "metadata": {},
   "outputs": [
    {
     "data": {
      "text/plain": [
       "array([['fool', 'bar_', 'scam', 'elon', 'litt'],\n",
       "       ['spam', 'glee', 'more', 'elon', 'beak'],\n",
       "       ['bar_', 'elon', 'glue', 'elon', 'elon'],\n",
       "       ['sap_', 'elon', 'brew', 'may_', 'litt']], dtype='<U4')"
      ]
     },
     "execution_count": 316,
     "metadata": {},
     "output_type": "execute_result"
    }
   ],
   "source": [
    "r_str"
   ]
  },
  {
   "cell_type": "markdown",
   "metadata": {},
   "source": [
    "&nbsp;\n",
    "\n",
    "on the other hand this sort method is permanent"
   ]
  },
  {
   "cell_type": "code",
   "execution_count": 317,
   "metadata": {},
   "outputs": [
    {
     "data": {
      "text/plain": [
       "array([['bar_', 'elon', 'fool', 'litt', 'scam'],\n",
       "       ['beak', 'elon', 'glee', 'more', 'spam'],\n",
       "       ['bar_', 'elon', 'elon', 'elon', 'glue'],\n",
       "       ['brew', 'elon', 'litt', 'may_', 'sap_']], dtype='<U4')"
      ]
     },
     "execution_count": 317,
     "metadata": {},
     "output_type": "execute_result"
    }
   ],
   "source": [
    "r_str.sort(axis = -1)\n",
    "r_str"
   ]
  },
  {
   "cell_type": "markdown",
   "metadata": {},
   "source": [
    "[back to top](#menu)\n",
    "<a href='#menu'></a>"
   ]
  },
  {
   "cell_type": "markdown",
   "metadata": {},
   "source": [
    "<a id='1.5'></a>"
   ]
  },
  {
   "cell_type": "markdown",
   "metadata": {},
   "source": [
    "&nbsp; \n",
    "\n",
    "## 1.5 Matrix operations\n",
    "&nbsp;\n",
    "\n",
    "* this includes matrix transpose, dot products, and inverting a matrix. \n",
    "\n",
    "\n",
    "* array **transpose** is done using the instance method `ndarrya.T` or `ndarray.transpose()` applied to the array"
   ]
  },
  {
   "cell_type": "code",
   "execution_count": 318,
   "metadata": {},
   "outputs": [
    {
     "data": {
      "text/plain": [
       "array([[55, 47, 42, 52, 34],\n",
       "       [63, 43, 47, 44, 47],\n",
       "       [49, 37, 62, 37, 65],\n",
       "       [55, 45, 76, 68, 59]], dtype=int64)"
      ]
     },
     "execution_count": 318,
     "metadata": {},
     "output_type": "execute_result"
    }
   ],
   "source": [
    "r_int2"
   ]
  },
  {
   "cell_type": "code",
   "execution_count": 319,
   "metadata": {},
   "outputs": [
    {
     "data": {
      "text/plain": [
       "array([[55, 63, 49, 55],\n",
       "       [47, 43, 37, 45],\n",
       "       [42, 47, 62, 76],\n",
       "       [52, 44, 37, 68],\n",
       "       [34, 47, 65, 59]], dtype=int64)"
      ]
     },
     "execution_count": 319,
     "metadata": {},
     "output_type": "execute_result"
    }
   ],
   "source": [
    "r_int2.T"
   ]
  },
  {
   "cell_type": "markdown",
   "metadata": {},
   "source": [
    "&nbsp;\n",
    "\n",
    "* `numpy.dot(ndarray1, ndarray2)`      \n",
    "returns the dot product of `ndarray1` and `ndarray2`   \n",
    "\n",
    "$$ \\begin{bmatrix} v_1 & v_2 & v_3 \\\\ v_4 & v_5 & v_6 \\end{bmatrix}  * \\begin{bmatrix} a & d & g \\\\ b & e & h \\\\ c & f & i \\end{bmatrix} = \\begin{bmatrix} v_1a + v_2b + v_3c & v_1d + v_2e + v_3f & v_1g + v_2h + v_3i\\\\ v_4a + v_5b + v_6c & v_ad + v_5e + v_6f & v_4g + v_5h + v_6i \\end{bmatrix}$$"
   ]
  },
  {
   "cell_type": "code",
   "execution_count": 320,
   "metadata": {},
   "outputs": [
    {
     "data": {
      "text/plain": [
       "array([[ 0.2,  5. ],\n",
       "       [ 8. ,  5. ],\n",
       "       [ 0.6,  3.7],\n",
       "       [ 4. , 11. ],\n",
       "       [ 2. ,  1. ]])"
      ]
     },
     "execution_count": 320,
     "metadata": {},
     "output_type": "execute_result"
    }
   ],
   "source": [
    "mat1 = np.array([[.2,5],[8,5],[.6,3.7],[4,11],[2,1]])\n",
    "mat1"
   ]
  },
  {
   "cell_type": "code",
   "execution_count": 321,
   "metadata": {},
   "outputs": [
    {
     "data": {
      "text/plain": [
       "array([[ 688.2, 1271.4],\n",
       "       [ 654.8, 1234.9],\n",
       "       [ 621. , 1131.4],\n",
       "       [ 806.6, 1588.2]])"
      ]
     },
     "execution_count": 321,
     "metadata": {},
     "output_type": "execute_result"
    }
   ],
   "source": [
    "np.dot(r_int2, mat1)"
   ]
  },
  {
   "cell_type": "markdown",
   "metadata": {},
   "source": [
    "&nbsp; \n",
    "\n",
    "* `numpy.outer(ndarray1, ndarray2)`  \n",
    "\n",
    "$$ \\begin{bmatrix} v_1 \\\\ v_2 \\\\ v_3 \\end{bmatrix}  * \\begin{bmatrix} a & b & c & d \\end{bmatrix} = \\begin{bmatrix} v_1a & v_1b & v_1c & v_1d \\\\ v_2a & v_2b & v_2c & v_2d \\\\ v_3a & v_3b & v_3c & v_3d \\end{bmatrix}$$"
   ]
  },
  {
   "cell_type": "code",
   "execution_count": 322,
   "metadata": {},
   "outputs": [],
   "source": [
    "mat2 = np.array([2,3,4])\n",
    "mat3 = np.array([1,1,1,1,1,1,1,1,1])"
   ]
  },
  {
   "cell_type": "code",
   "execution_count": 323,
   "metadata": {},
   "outputs": [
    {
     "data": {
      "text/plain": [
       "array([[2, 2, 2, 2, 2, 2, 2, 2, 2],\n",
       "       [3, 3, 3, 3, 3, 3, 3, 3, 3],\n",
       "       [4, 4, 4, 4, 4, 4, 4, 4, 4]])"
      ]
     },
     "execution_count": 323,
     "metadata": {},
     "output_type": "execute_result"
    }
   ],
   "source": [
    "np.outer(mat2, mat3)"
   ]
  },
  {
   "cell_type": "code",
   "execution_count": 324,
   "metadata": {},
   "outputs": [
    {
     "data": {
      "text/plain": [
       "array([[2, 3, 4],\n",
       "       [2, 3, 4],\n",
       "       [2, 3, 4],\n",
       "       [2, 3, 4],\n",
       "       [2, 3, 4],\n",
       "       [2, 3, 4],\n",
       "       [2, 3, 4],\n",
       "       [2, 3, 4],\n",
       "       [2, 3, 4]])"
      ]
     },
     "execution_count": 324,
     "metadata": {},
     "output_type": "execute_result"
    }
   ],
   "source": [
    "np.outer(mat3, mat2)"
   ]
  },
  {
   "cell_type": "markdown",
   "metadata": {},
   "source": [
    "&nbsp;\n",
    "\n",
    "* `numpy.linalg.det()`          \n",
    "returns the determinant of a **square** matrix.   \n",
    "               \n",
    "               \n",
    "the determinant of a 2x2 matrix: $$ |\\ A| = \\begin{vmatrix} a & b \\\\ c & d \\end{vmatrix} = ad - bc $$\n",
    "\n",
    "the determinant of a 3x3 matrix is more elaborate: $$|\\ A| = \\begin{vmatrix} a & b & c \\\\ d & e & f \\\\ g & h & i \\end{vmatrix} = \n",
    "a \\times \\begin{vmatrix} e & f \\\\ g & i \\end{vmatrix} - \n",
    "b \\times \\begin{vmatrix} d & f \\\\ g & i \\end{vmatrix} + \n",
    "c \\times \\begin{vmatrix} d & e \\\\ g & h \\end{vmatrix}  = aei + bfg + cdh - ceg - bdi - afg$$     \n",
    "      \n",
    "      "
   ]
  },
  {
   "cell_type": "code",
   "execution_count": 325,
   "metadata": {},
   "outputs": [
    {
     "name": "stdout",
     "output_type": "stream",
     "text": [
      "[[3 5]\n",
      " [1 4]] \n",
      "\n",
      " 7.000000000000001\n"
     ]
    }
   ],
   "source": [
    "mat4 = np.array([[3,5],[1,4]])\n",
    "print(mat4,'\\n\\n',np.linalg.det(mat4))"
   ]
  },
  {
   "cell_type": "code",
   "execution_count": 326,
   "metadata": {},
   "outputs": [
    {
     "name": "stdout",
     "output_type": "stream",
     "text": [
      "[[1 6 1]\n",
      " [2 1 8]\n",
      " [5 3 5]] \n",
      "\n",
      " 161.99999999999994\n"
     ]
    }
   ],
   "source": [
    "mat5 = np.array([[1,6,1],[2,1,8],[5,3,5]])\n",
    "print(mat5,'\\n\\n',np.linalg.det(mat5))"
   ]
  },
  {
   "cell_type": "markdown",
   "metadata": {},
   "source": [
    "&nbsp;\n",
    "\n",
    "* `numpy.linalg.inv()`             \n",
    "returns the inverse matrix of a **square** matrix.    \n",
    "If the determinant of a matrix is undefined a matrix is not invertible.    \n",
    "           \n",
    "for a two dimentional matrix:   \n",
    "\n",
    "$$ \\begin{bmatrix} a & b \\\\ c & d \\end{bmatrix}^{-1} = \\frac{1}{ad - bc} \\times \\begin{bmatrix} d & -c \\\\ -b & a \\end{bmatrix}$$"
   ]
  },
  {
   "cell_type": "code",
   "execution_count": null,
   "metadata": {},
   "outputs": [],
   "source": [
    "np.linalg.inv(mat4)"
   ]
  },
  {
   "cell_type": "code",
   "execution_count": null,
   "metadata": {},
   "outputs": [],
   "source": [
    "np.linalg.inv(mat5)"
   ]
  },
  {
   "cell_type": "code",
   "execution_count": null,
   "metadata": {},
   "outputs": [],
   "source": [
    "# a non inverible matrix99\n",
    "np.linalg.inv(np.array([[3,2],[3,2]]))"
   ]
  },
  {
   "cell_type": "markdown",
   "metadata": {},
   "source": [
    "* the dot product of a matrix by its inverse returs the identity matrix. "
   ]
  },
  {
   "cell_type": "code",
   "execution_count": null,
   "metadata": {},
   "outputs": [],
   "source": [
    "np.dot(mat4, np.linalg.inv(mat4))"
   ]
  },
  {
   "cell_type": "code",
   "execution_count": null,
   "metadata": {},
   "outputs": [],
   "source": [
    "np.dot(mat5, np.linalg.inv(mat5))"
   ]
  },
  {
   "cell_type": "markdown",
   "metadata": {},
   "source": [
    "&nbsp;\n",
    "\n",
    "* `numpy.linalg.solve(a,b)`   \n",
    "solves a system of linear equations where `a` is matrix of coefficients variables and `b` is the output. \n",
    "     \n",
    "$3x_0 + 2x_1 - x_2 = 1$   \n",
    "$x_0 + x_1 - 4x_2 = 11$        \n",
    "$2x_0 + 5x_1 - x_2 = 0$            \n",
    "\n",
    "$$\\begin{bmatrix} 3 & 2 & -1 \\\\ 1 & 1 & -4 \\\\ 2 & 5 & -1\\end{bmatrix} \\times \\begin{bmatrix} \\theta_1 \\\\ \\theta_2 \\\\ \\theta_3 \\end{bmatrix} = \\begin{bmatrix} 1 \\\\ 11 \\\\0 \\end{bmatrix} $$"
   ]
  },
  {
   "cell_type": "code",
   "execution_count": 327,
   "metadata": {},
   "outputs": [
    {
     "data": {
      "text/plain": [
       "array([-0.35, -0.45, -2.95])"
      ]
     },
     "execution_count": 327,
     "metadata": {},
     "output_type": "execute_result"
    }
   ],
   "source": [
    "a = np.array([[3,2,-1], [1,1,-4], [2,5,-1]])\n",
    "b = np.array([1,11,0])\n",
    "theta = np.linalg.solve(a, b)\n",
    "theta"
   ]
  },
  {
   "cell_type": "markdown",
   "metadata": {},
   "source": [
    "&nbsp;\n",
    "\n",
    "eigen values and eigen vectors can be retrieved using `np.linalg.eig()`"
   ]
  },
  {
   "cell_type": "code",
   "execution_count": 335,
   "metadata": {},
   "outputs": [
    {
     "data": {
      "text/plain": [
       "array([[ 3,  2, -1],\n",
       "       [ 1,  1, -4],\n",
       "       [ 2,  5, -1]])"
      ]
     },
     "execution_count": 335,
     "metadata": {},
     "output_type": "execute_result"
    }
   ],
   "source": [
    "a"
   ]
  },
  {
   "cell_type": "code",
   "execution_count": 336,
   "metadata": {},
   "outputs": [],
   "source": [
    "eig = np.linalg.eig(a)"
   ]
  },
  {
   "cell_type": "markdown",
   "metadata": {},
   "source": [
    "[back to top](#menu)\n",
    "<a href='#menu'></a>"
   ]
  },
  {
   "cell_type": "markdown",
   "metadata": {},
   "source": [
    "<a id='1.6'></a>"
   ]
  },
  {
   "cell_type": "markdown",
   "metadata": {},
   "source": [
    "&nbsp;\n",
    "\n",
    "## 1.6 Additional numpy methods\n",
    "\n",
    "* `numpy.linspace(start, stop, num=50, endpoint=True, retstep=False, dtype=None)`    \n",
    "produces an array of `num` elements between the `start` and `stop` points.  \n",
    "`endpoint = True` makes this an inclusive end range by default.  \n",
    "`retstep = True` will return the size of the step.   \n"
   ]
  },
  {
   "cell_type": "code",
   "execution_count": null,
   "metadata": {},
   "outputs": [],
   "source": [
    "# returns an array of 5 elements between 1 and 20 including 20. \n",
    "np.linspace(1,20,5)"
   ]
  },
  {
   "cell_type": "markdown",
   "metadata": {},
   "source": [
    "* argumnent `retstep = True` (return step) prints the increment. "
   ]
  },
  {
   "cell_type": "code",
   "execution_count": null,
   "metadata": {},
   "outputs": [],
   "source": [
    "np.linspace(1,20,13, retstep=True)"
   ]
  },
  {
   "cell_type": "code",
   "execution_count": null,
   "metadata": {},
   "outputs": [],
   "source": [
    "np.linspace(22,33,40, retstep=True)"
   ]
  },
  {
   "cell_type": "markdown",
   "metadata": {},
   "source": [
    "&nbsp;\n",
    "\n",
    "* `numpy.hstack((array1, array2))` stacks arrays over horizontal axis, number of columns increases, **apply glue to the left/right of an array**.                 \n",
    "* `numpy.vstack((array1, array2))` stacks arrays over vertical axis, number of rows increases, **apply glue to the top/botton of an array**.                  "
   ]
  },
  {
   "cell_type": "code",
   "execution_count": null,
   "metadata": {},
   "outputs": [],
   "source": [
    "arr_1 = np.ones((4,2))\n",
    "arr_1"
   ]
  },
  {
   "cell_type": "code",
   "execution_count": null,
   "metadata": {},
   "outputs": [],
   "source": [
    "arr_2 = np.zeros((4,3))\n",
    "arr_2"
   ]
  },
  {
   "cell_type": "markdown",
   "metadata": {},
   "source": [
    "`numpy.round(adarray, d)` can us used to round an array -element wise- to `d` number of given decimals."
   ]
  },
  {
   "cell_type": "code",
   "execution_count": null,
   "metadata": {},
   "outputs": [],
   "source": [
    "np.random.seed(56)\n",
    "arr_3 = np.ndarray((4,3), dtype = np.int8)\n",
    "arr_3"
   ]
  },
  {
   "cell_type": "code",
   "execution_count": null,
   "metadata": {},
   "outputs": [],
   "source": [
    "# hstack: same number of rows is required. \n",
    "arr13 = np.hstack((arr_1, arr_3))\n",
    "arr13"
   ]
  },
  {
   "cell_type": "code",
   "execution_count": null,
   "metadata": {
    "scrolled": true
   },
   "outputs": [],
   "source": [
    "# vstack: same number of columns is required\n",
    "arr23 = np.vstack((arr_2, arr_3))\n",
    "arr23"
   ]
  },
  {
   "cell_type": "markdown",
   "metadata": {},
   "source": [
    "&nbsp;\n",
    "\n",
    "* `numpy.hsplit(array, index or section)` splits the horizontal axis, **knife cuts between columns**. number of columns decreases.  \n",
    "* `numpy.vsplit(array, index or section)` splits the vertical axis, **knife cuts between rows** number of rows decreases.   \n",
    "    - using `section` is less flexible. The method attempts to split the array into an equivalent arrays (with same number or rows/columns). This requires that the number of rows/columns be divisble by the number specified in the argument."
   ]
  },
  {
   "cell_type": "code",
   "execution_count": null,
   "metadata": {},
   "outputs": [],
   "source": [
    "# since we have an odd and primary number of columns hsplit can only divide to single columns. \n",
    "hsplit = np.hsplit(arr23, 3)\n",
    "print(hsplit[0],'\\n\\n', hsplit[1],'\\n\\n', hsplit[2]) "
   ]
  },
  {
   "cell_type": "code",
   "execution_count": null,
   "metadata": {},
   "outputs": [],
   "source": [
    "vsplit = np.vsplit(arr23, 4)\n",
    "\n",
    "print(vsplit[0],'\\n\\n', vsplit[1],'\\n\\n', vsplit[2],'\\n\\n', vsplit[3]) "
   ]
  },
  {
   "cell_type": "code",
   "execution_count": null,
   "metadata": {},
   "outputs": [],
   "source": [
    "arr_ = np.array([[0,0,0,0,0,0,0,0],\n",
    "                 [1,1,1,1,1,1,1,1],\n",
    "                 [2,2,2,2,2,2,2,2],\n",
    "                 [3,3,3,3,3,3,3,3],\n",
    "                 [4,4,4,4,4,4,4,4],\n",
    "                 [5,5,5,5,5,5,5,5]])\n",
    "arr_"
   ]
  },
  {
   "cell_type": "code",
   "execution_count": null,
   "metadata": {},
   "outputs": [],
   "source": [
    "arr_v = np.vsplit(arr_, [1,3])\n",
    "\n",
    "arr_v[0]"
   ]
  },
  {
   "cell_type": "code",
   "execution_count": null,
   "metadata": {},
   "outputs": [],
   "source": [
    "arr_v[1]"
   ]
  },
  {
   "cell_type": "code",
   "execution_count": null,
   "metadata": {},
   "outputs": [],
   "source": [
    "arr_v[2]"
   ]
  },
  {
   "cell_type": "markdown",
   "metadata": {},
   "source": [
    "&nbsp;\n"
   ]
  },
  {
   "cell_type": "code",
   "execution_count": null,
   "metadata": {},
   "outputs": [],
   "source": [
    "# transpose the matrix for learning conveniene. \n",
    "arr_t = arr_.T\n",
    "arr_t"
   ]
  },
  {
   "cell_type": "code",
   "execution_count": null,
   "metadata": {
    "scrolled": false
   },
   "outputs": [],
   "source": [
    "arr_h = np.hsplit(arr_t, [1,2,5])\n",
    "\n",
    "arr_h"
   ]
  },
  {
   "cell_type": "markdown",
   "metadata": {},
   "source": [
    "&nbsp;\n",
    "\n",
    "* `np.apply_over_axes(method, array, axes)` applies a method to an array by rows or columns. `apply_over_axes` is one that takes a one dimensional array by default such as `np.sum` or `np.mean()`\n",
    "\n",
    "\n",
    "\n",
    "* `np.apply_along_axis(method, axes, array)` is a more general method which an take argumets such as `np.sum` and `np.mean` however unlike `np.apply_over_axes` this method can also take a udf that can apply a logic or a condition to the elements of an n-d array along each row or each column.    \n",
    "\n",
    "\n",
    "both methods attempt to return a one dimentional array that is the same length at the axis specified (row or column length) "
   ]
  },
  {
   "cell_type": "code",
   "execution_count": null,
   "metadata": {
    "scrolled": true
   },
   "outputs": [],
   "source": [
    "r_int"
   ]
  },
  {
   "cell_type": "code",
   "execution_count": null,
   "metadata": {},
   "outputs": [],
   "source": [
    "r_int_a = r_int[0,:,:].copy()\n",
    "r_int_b = r_int[1,:,:].copy()"
   ]
  },
  {
   "cell_type": "code",
   "execution_count": null,
   "metadata": {},
   "outputs": [],
   "source": [
    "np.apply_over_axes(np.mean, r_int_a, 0)"
   ]
  },
  {
   "cell_type": "code",
   "execution_count": null,
   "metadata": {},
   "outputs": [],
   "source": [
    "np.apply_over_axes(np.mean, r_int_a, 1)"
   ]
  },
  {
   "cell_type": "markdown",
   "metadata": {},
   "source": [
    "`np.apply_over_axes` is very similar to `apply()` in R programming language\n",
    "\n",
    "&nbsp;"
   ]
  },
  {
   "cell_type": "code",
   "execution_count": null,
   "metadata": {},
   "outputs": [],
   "source": [
    "r_int_b"
   ]
  },
  {
   "cell_type": "markdown",
   "metadata": {},
   "source": [
    "<span style=\"color:blue\"> what does this method do ?</span>"
   ]
  },
  {
   "cell_type": "code",
   "execution_count": null,
   "metadata": {},
   "outputs": [],
   "source": [
    "def alternate_add(vec):\n",
    "    ll = len(vec)\n",
    "    emty = np.empty(ll)\n",
    "    emty[::2] = 1\n",
    "    emty[1::2] = -1\n",
    "    \n",
    "    return(np.sum(emty * vec))"
   ]
  },
  {
   "cell_type": "code",
   "execution_count": null,
   "metadata": {},
   "outputs": [],
   "source": [
    "np.apply_along_axis(alternate_add, 1,r_int_b)"
   ]
  },
  {
   "cell_type": "code",
   "execution_count": null,
   "metadata": {},
   "outputs": [],
   "source": [
    "r_int_b"
   ]
  },
  {
   "cell_type": "markdown",
   "metadata": {},
   "source": [
    "&nbsp;\n",
    "\n",
    "&nbsp;"
   ]
  },
  {
   "cell_type": "code",
   "execution_count": null,
   "metadata": {},
   "outputs": [],
   "source": [
    "def sq_odds(vec):\n",
    "    \"\"\"squares the odd values in a vector permanently\"\"\"\n",
    "    vec[np.where(vec % 2 != 0)] = vec[np.where(vec % 2 != 0)]**2"
   ]
  },
  {
   "cell_type": "code",
   "execution_count": null,
   "metadata": {},
   "outputs": [],
   "source": [
    "np.apply_along_axis(sq_odds, 0,r_int_b)"
   ]
  },
  {
   "cell_type": "markdown",
   "metadata": {},
   "source": [
    "notice that this method is not optimizaed to be used with `np.apply_along_axis()` because it changes the matrix and attempt to print out a 1-d ndarray. \n",
    "\n",
    "Notice that the array elements are modified "
   ]
  },
  {
   "cell_type": "code",
   "execution_count": null,
   "metadata": {},
   "outputs": [],
   "source": [
    "r_int_b"
   ]
  },
  {
   "cell_type": "markdown",
   "metadata": {},
   "source": [
    "&nbsp;\n",
    "\n",
    "finally, in addition to `hstack` and `vstach` the method `np.append(array_1, array_2, axis)` allows a used to append to ndarrays to each other given that the number of colums/rows is the same along the axis selected     "
   ]
  },
  {
   "cell_type": "code",
   "execution_count": null,
   "metadata": {},
   "outputs": [],
   "source": [
    "np.append(r_int_a, r_int_b, axis = 0)"
   ]
  },
  {
   "cell_type": "code",
   "execution_count": null,
   "metadata": {},
   "outputs": [],
   "source": [
    "np.append(r_int_a, r_int_b, axis = 1)"
   ]
  },
  {
   "cell_type": "markdown",
   "metadata": {},
   "source": [
    "[back to top](#menu)\n",
    "<a href='#menu'></a>"
   ]
  },
  {
   "cell_type": "markdown",
   "metadata": {},
   "source": [
    "<a id='1.7'></a>"
   ]
  },
  {
   "cell_type": "markdown",
   "metadata": {},
   "source": [
    "&nbsp;\n",
    "\n",
    "## 1.7 Iterating over arrays\n",
    "* iterating over every element in an array and modifying it is carried out using the method `numpy.nditer()` "
   ]
  },
  {
   "cell_type": "code",
   "execution_count": null,
   "metadata": {},
   "outputs": [],
   "source": [
    "arr = np.array(np.arange(1,21)).reshape(4,5)\n",
    "\n",
    "print('arr', '\\n', arr, '\\n\\n', 'arr transpose', '\\n', arr.T)"
   ]
  },
  {
   "cell_type": "code",
   "execution_count": null,
   "metadata": {
    "scrolled": true
   },
   "outputs": [],
   "source": [
    "for x in np.nditer(arr):\n",
    "    print(x, end = ' ')"
   ]
  },
  {
   "cell_type": "markdown",
   "metadata": {},
   "source": [
    "* iterating thru an array is done based on the order that matches the memory layout. \n",
    "* unless the transpose is copied into a new object the iterator will follow the order in `arr`\n",
    "* this is where the argument `order = {'C', 'F'}` comes into play when createing a numpy array.  "
   ]
  },
  {
   "cell_type": "code",
   "execution_count": null,
   "metadata": {},
   "outputs": [],
   "source": [
    "for x in np.nditer(arr.transpose()):\n",
    "    print(x, end = ' ')"
   ]
  },
  {
   "cell_type": "markdown",
   "metadata": {},
   "source": [
    "* a deep copy of **arr** creates a new memory layout of the transposed array. "
   ]
  },
  {
   "cell_type": "code",
   "execution_count": null,
   "metadata": {},
   "outputs": [],
   "source": [
    "for x in np.nditer(arr.transpose().copy()):\n",
    "    print(x, end = ' ')"
   ]
  },
  {
   "cell_type": "markdown",
   "metadata": {},
   "source": [
    "* it is possible to control the order of the iterator by using argument `order = C` for `C` language, or `F` for fortran.\n",
    "* `C` iterates row wise, whereas `F` iterates columns wise. "
   ]
  },
  {
   "cell_type": "code",
   "execution_count": null,
   "metadata": {},
   "outputs": [],
   "source": [
    "for x in np.nditer(arr, order='F'):\n",
    "    print(x, end = ' ')"
   ]
  },
  {
   "cell_type": "code",
   "execution_count": null,
   "metadata": {},
   "outputs": [],
   "source": [
    "for x in np.nditer(arr.T.copy(), order='F'):\n",
    "    print(x, end = ' ')"
   ]
  },
  {
   "cell_type": "markdown",
   "metadata": {},
   "source": [
    "* it is possible to iterate through an array and perform an operation on every object however this does not change the values in the original array."
   ]
  },
  {
   "cell_type": "code",
   "execution_count": null,
   "metadata": {},
   "outputs": [],
   "source": [
    "for x in np.nditer(arr):\n",
    "    print(x**2, end = ' ')"
   ]
  },
  {
   "cell_type": "markdown",
   "metadata": {},
   "source": [
    "* `numpy.nditer()` supports overwriring the values within an array by providing the argument `op_flags = ['readwrite']`."
   ]
  },
  {
   "cell_type": "code",
   "execution_count": null,
   "metadata": {},
   "outputs": [],
   "source": [
    "for x in np.nditer(arr, op_flags=['readwrite']):\n",
    "    if x % 2 == 0:\n",
    "        x[...] = 640"
   ]
  },
  {
   "cell_type": "code",
   "execution_count": null,
   "metadata": {},
   "outputs": [],
   "source": [
    "arr"
   ]
  },
  {
   "cell_type": "markdown",
   "metadata": {},
   "source": [
    "* similar to `enumerate()` , `numpy.nditer()` supports tracking the index during iteration by supplying the argument `flags = ['f_index']`. \n",
    "* for this construct to work the object of `numpy.nditer()` is assigned to an iterator."
   ]
  },
  {
   "cell_type": "code",
   "execution_count": null,
   "metadata": {},
   "outputs": [],
   "source": [
    "arr_1 = np.arange(20).reshape(4,5)\n",
    "arr_1"
   ]
  },
  {
   "cell_type": "code",
   "execution_count": null,
   "metadata": {},
   "outputs": [],
   "source": [
    "it = np.nditer(arr_1, flags = ['f_index'])"
   ]
  },
  {
   "cell_type": "code",
   "execution_count": null,
   "metadata": {},
   "outputs": [],
   "source": [
    "type(it)"
   ]
  },
  {
   "cell_type": "code",
   "execution_count": null,
   "metadata": {
    "scrolled": true
   },
   "outputs": [],
   "source": [
    "for i in it:\n",
    "    print((i, it.index))"
   ]
  },
  {
   "cell_type": "markdown",
   "metadata": {},
   "source": [
    "[back to top](#menu)\n",
    "<a href='#menu'></a>"
   ]
  },
  {
   "cell_type": "markdown",
   "metadata": {},
   "source": [
    "<a id='1.8'></a>"
   ]
  },
  {
   "cell_type": "markdown",
   "metadata": {},
   "source": [
    "&nbsp;\n",
    "\n",
    "## 1.8 special values:  `numpy.nan` and `numpy.inf`\n",
    "\n",
    "* two miscallaneous datatypes in numpy are `numpy.nan` and `numpy.inf`.  \n",
    "* `numpy.nan` fills in for missing values. \n",
    "* `.nan` and `.inf` are dtype float.   \n",
    "* `np.inf` appearn within a numpy array as a result of division by zero.   "
   ]
  },
  {
   "cell_type": "code",
   "execution_count": null,
   "metadata": {},
   "outputs": [],
   "source": [
    "a , b = np.nan, np.inf\n",
    "a,b"
   ]
  },
  {
   "cell_type": "code",
   "execution_count": null,
   "metadata": {},
   "outputs": [],
   "source": [
    "type(a), type(b)"
   ]
  },
  {
   "cell_type": "code",
   "execution_count": null,
   "metadata": {},
   "outputs": [],
   "source": [
    "arr_nan = np.array([1,6,4,np.inf,np.nan,7,7,np.nan,np.inf,3,2,2]).reshape((3,4))\n",
    "arr_nan"
   ]
  },
  {
   "cell_type": "markdown",
   "metadata": {},
   "source": [
    "* `numpy.where()` and regular boolean lookup does not return `np.nan` index.  \n",
    "* instead pass the object into two specialized methods `numpy.isnan()` and `numpy.isinf()`    "
   ]
  },
  {
   "cell_type": "code",
   "execution_count": null,
   "metadata": {},
   "outputs": [],
   "source": [
    "# this always returns False.\n",
    "a == np.nan"
   ]
  },
  {
   "cell_type": "code",
   "execution_count": null,
   "metadata": {},
   "outputs": [],
   "source": [
    "# this does not work \n",
    "np.where(arr_nan == np.isnan)"
   ]
  },
  {
   "cell_type": "code",
   "execution_count": null,
   "metadata": {},
   "outputs": [],
   "source": [
    "# direct boolean alreays returns False. \n",
    "arr_nan[1,0] == np.nan"
   ]
  },
  {
   "cell_type": "code",
   "execution_count": null,
   "metadata": {},
   "outputs": [],
   "source": [
    "np.where(np.isnan(arr_nan))"
   ]
  },
  {
   "cell_type": "code",
   "execution_count": null,
   "metadata": {},
   "outputs": [],
   "source": [
    "np.isnan(arr_nan)"
   ]
  },
  {
   "cell_type": "code",
   "execution_count": null,
   "metadata": {},
   "outputs": [],
   "source": [
    "np.isinf(arr_nan)"
   ]
  },
  {
   "cell_type": "code",
   "execution_count": null,
   "metadata": {},
   "outputs": [],
   "source": [
    "np.isinf(a), np.isnan(a)"
   ]
  },
  {
   "cell_type": "code",
   "execution_count": null,
   "metadata": {},
   "outputs": [],
   "source": [
    "np.isinf(b), np.isnan(b)"
   ]
  },
  {
   "cell_type": "code",
   "execution_count": null,
   "metadata": {},
   "outputs": [],
   "source": [
    "for obj in np.nditer(arr_nan, op_flags=['readwrite']):\n",
    "    if np.isnan(obj):\n",
    "        obj[...] = 0.09\n",
    "    elif np.isinf(obj):\n",
    "        obj[...] = 0.05"
   ]
  },
  {
   "cell_type": "code",
   "execution_count": null,
   "metadata": {},
   "outputs": [],
   "source": [
    "arr_nan"
   ]
  },
  {
   "cell_type": "code",
   "execution_count": null,
   "metadata": {},
   "outputs": [],
   "source": [
    "np.arange(4,-1,-1)"
   ]
  },
  {
   "cell_type": "markdown",
   "metadata": {},
   "source": [
    "[back to top](#menu)\n",
    "<a href='#menu'></a>\n",
    "\n",
    "_______________________________________________"
   ]
  },
  {
   "cell_type": "markdown",
   "metadata": {},
   "source": [
    "<a id='1.9'></a>"
   ]
  },
  {
   "cell_type": "markdown",
   "metadata": {},
   "source": [
    "## 1.9 numpy I/O\n",
    "\n",
    "### 1.9.1 reading data using numpy\n",
    "\n",
    "* numpy has a number of methods that support reading tabluated data such as `genfromtxt()` and `loadtxt()`.\n",
    "\n",
    "* any dataset that is read using a numpy method is read into an ndarray.    \n",
    "\n",
    "* since ndarrays are homogenous containers this method is best used with the dataset is already clean and is comprised of a single data type.    \n",
    "* data that is read using `getfromtxt()` or other `numpy` methods requires one or multiple steps of transformation to that it can be sliced properly as an $n \\times m$ dataset"
   ]
  },
  {
   "cell_type": "code",
   "execution_count": null,
   "metadata": {},
   "outputs": [],
   "source": [
    "np_read_1 = np.genfromtxt(fname = 'data/airquality.txt', delimiter = '\\t', dtype = None, skip_header = True)"
   ]
  },
  {
   "cell_type": "markdown",
   "metadata": {},
   "source": [
    "setting the argument `dtype` = **<span style='color:green'>None</span>** implies instructing numpy to try and figure out the datatypes on its own.    "
   ]
  },
  {
   "cell_type": "code",
   "execution_count": null,
   "metadata": {},
   "outputs": [],
   "source": [
    "type(np_read_1)"
   ]
  },
  {
   "cell_type": "code",
   "execution_count": null,
   "metadata": {},
   "outputs": [],
   "source": [
    "np_read_1.shape"
   ]
  },
  {
   "cell_type": "markdown",
   "metadata": {},
   "source": [
    "this looks like single dimensional array "
   ]
  },
  {
   "cell_type": "code",
   "execution_count": null,
   "metadata": {},
   "outputs": [],
   "source": [
    "np_read_1[:20]"
   ]
  },
  {
   "cell_type": "markdown",
   "metadata": {},
   "source": [
    "an ndarray that is a list comprised of a tuples, each tuple containing 6 variables corresponding to 6 columns\n",
    "\n",
    "\n",
    "let's try to access the first column of this array "
   ]
  },
  {
   "cell_type": "code",
   "execution_count": null,
   "metadata": {},
   "outputs": [],
   "source": [
    "np_read_1[:,1]"
   ]
  },
  {
   "cell_type": "markdown",
   "metadata": {},
   "source": [
    "the data needs to be converted to the following format to be sliced as an ndarray:\n",
    "&nbsp;\n",
    "\n",
    "_________________________"
   ]
  },
  {
   "cell_type": "code",
   "execution_count": null,
   "metadata": {},
   "outputs": [],
   "source": [
    "r_int_a"
   ]
  },
  {
   "cell_type": "code",
   "execution_count": null,
   "metadata": {},
   "outputs": [],
   "source": [
    "r_int_a.shape"
   ]
  },
  {
   "cell_type": "code",
   "execution_count": null,
   "metadata": {},
   "outputs": [],
   "source": [
    "r_int_a[:,0]"
   ]
  },
  {
   "cell_type": "markdown",
   "metadata": {},
   "source": [
    "__________________________\n",
    "\n",
    "&nbsp;\n",
    "\n",
    "<span style='color:blue'> attemp to fix `np_read_1` to the desired format </span>     \n",
    "the resulting object `np_read_2` should have a shape of `(153,6)`     \n",
    "extract the first column    "
   ]
  },
  {
   "cell_type": "code",
   "execution_count": null,
   "metadata": {},
   "outputs": [],
   "source": [
    "#skipped code\n",
    "#np_read_2"
   ]
  },
  {
   "cell_type": "code",
   "execution_count": null,
   "metadata": {},
   "outputs": [],
   "source": [
    "np_read_2[:,0]"
   ]
  },
  {
   "cell_type": "code",
   "execution_count": null,
   "metadata": {},
   "outputs": [],
   "source": [
    "np_read_2[:10]"
   ]
  },
  {
   "cell_type": "code",
   "execution_count": null,
   "metadata": {},
   "outputs": [],
   "source": [
    "np_read_2.dtype"
   ]
  },
  {
   "cell_type": "markdown",
   "metadata": {},
   "source": [
    "&nbsp;\n",
    "\n",
    "if the dataset is not homogenous this will require additional processing steps such as slicing off the index columns"
   ]
  },
  {
   "cell_type": "code",
   "execution_count": null,
   "metadata": {},
   "outputs": [],
   "source": [
    "np_read_3 = np.genfromtxt(fname = 'data/mtcars.csv', delimiter = ',', names = True, dtype = None)"
   ]
  },
  {
   "cell_type": "code",
   "execution_count": null,
   "metadata": {},
   "outputs": [],
   "source": [
    "np_read_3"
   ]
  },
  {
   "cell_type": "code",
   "execution_count": null,
   "metadata": {},
   "outputs": [],
   "source": [
    "np_read_3.shape"
   ]
  },
  {
   "cell_type": "markdown",
   "metadata": {},
   "source": [
    "<span style='color:blue'>convert this array to one with a proper shape then inspect the shape</span>"
   ]
  },
  {
   "cell_type": "code",
   "execution_count": null,
   "metadata": {},
   "outputs": [],
   "source": [
    "#skipped code"
   ]
  },
  {
   "cell_type": "code",
   "execution_count": null,
   "metadata": {},
   "outputs": [],
   "source": [
    "np_read_4_index = np_read_4[:,0].copy()\n",
    "np_read_4_set = np_read_4[:,1:].copy()"
   ]
  },
  {
   "cell_type": "code",
   "execution_count": null,
   "metadata": {},
   "outputs": [],
   "source": [
    "np_read_4_set[:10]"
   ]
  },
  {
   "cell_type": "markdown",
   "metadata": {},
   "source": [
    "notice that after converting the original ndarray from a single dimension to two dimensions everything is coerced to string"
   ]
  },
  {
   "cell_type": "code",
   "execution_count": null,
   "metadata": {
    "scrolled": true
   },
   "outputs": [],
   "source": [
    "np_read_4_set = np_read_4[:,1:].astype('float32').copy()\n",
    "np_read_4_set[:10]"
   ]
  },
  {
   "cell_type": "markdown",
   "metadata": {},
   "source": [
    "&nbsp;\n",
    "\n",
    "&nbsp;\n",
    "\n",
    "### 1.9.2 using `.npy` extension\n",
    "* to write `.txt` or `.csv` ndarrays we can use the regualr python input/output methods, however for enhanced reading and writing speeds numpy offers a faster binary file format  `.npy`   \n",
    "\n",
    "\n",
    "* two methods are provided to read and write `.npy` files, but first let us multiple the length of np_read_4_set 100 times to craete a set that is relatively large\n"
   ]
  },
  {
   "cell_type": "code",
   "execution_count": null,
   "metadata": {},
   "outputs": [],
   "source": [
    "from sys import getsizeof"
   ]
  },
  {
   "cell_type": "code",
   "execution_count": null,
   "metadata": {},
   "outputs": [],
   "source": [
    "getsizeof(np_read_4_set)"
   ]
  },
  {
   "cell_type": "markdown",
   "metadata": {},
   "source": [
    "<span style='color:blue'>use `np.append()` to self append <U>np_read_1</U> 100 times "
   ]
  },
  {
   "cell_type": "code",
   "execution_count": null,
   "metadata": {},
   "outputs": [],
   "source": [
    "#skipped code"
   ]
  },
  {
   "cell_type": "code",
   "execution_count": null,
   "metadata": {},
   "outputs": [],
   "source": [
    "large_set.shape"
   ]
  },
  {
   "cell_type": "code",
   "execution_count": null,
   "metadata": {},
   "outputs": [],
   "source": [
    "getsizeof(large_set)"
   ]
  },
  {
   "cell_type": "code",
   "execution_count": null,
   "metadata": {},
   "outputs": [],
   "source": [
    "np.save('data/large_set.npy',large_set)"
   ]
  },
  {
   "cell_type": "code",
   "execution_count": null,
   "metadata": {},
   "outputs": [],
   "source": [
    "reset"
   ]
  },
  {
   "cell_type": "code",
   "execution_count": null,
   "metadata": {},
   "outputs": [],
   "source": [
    "import numpy as np"
   ]
  },
  {
   "cell_type": "code",
   "execution_count": null,
   "metadata": {},
   "outputs": [],
   "source": [
    "large_set = np.load('data/large_set.npy')"
   ]
  },
  {
   "cell_type": "code",
   "execution_count": null,
   "metadata": {},
   "outputs": [],
   "source": [
    "large_set[:10]"
   ]
  },
  {
   "cell_type": "code",
   "execution_count": null,
   "metadata": {},
   "outputs": [],
   "source": [
    "large_set.shape"
   ]
  },
  {
   "cell_type": "markdown",
   "metadata": {},
   "source": [
    "[back to top](#menu)\n",
    "<a href='#menu'></a>\n",
    "\n",
    "_______________________________________________"
   ]
  },
  {
   "cell_type": "markdown",
   "metadata": {},
   "source": [
    "<a id='2.0'></a>"
   ]
  },
  {
   "cell_type": "markdown",
   "metadata": {},
   "source": [
    "&nbsp;\n",
    "\n",
    "&nbsp;\n",
    "\n",
    "## 2.0 In-class exercise\n",
    "\n",
    "the file <U>character_deaths.csv</U> contains information about characters in Game of Thrones, when they died what book and which chapter.    \n",
    "\n",
    "\n",
    "\n",
    "<span style=\"color:blue\">read the file <U>character_deaths.csv</U> using np.getfromtxt()</span>   \n",
    "print the first few lines and check how it is formatted    "
   ]
  },
  {
   "cell_type": "code",
   "execution_count": null,
   "metadata": {},
   "outputs": [],
   "source": [
    "#skipped code"
   ]
  },
  {
   "cell_type": "markdown",
   "metadata": {},
   "source": [
    "can you print the first column ?\n",
    "\n",
    "what are the dimensions of the table ?    "
   ]
  },
  {
   "cell_type": "code",
   "execution_count": null,
   "metadata": {},
   "outputs": [],
   "source": [
    "#skipped code\n"
   ]
  },
  {
   "cell_type": "code",
   "execution_count": null,
   "metadata": {},
   "outputs": [],
   "source": [
    "char_got.shape"
   ]
  },
  {
   "cell_type": "markdown",
   "metadata": {},
   "source": [
    "&nbsp;\n",
    "\n",
    "<span style=\"color:blue\">convert the table into a proper numpy array then display the first 15 names in the first column</span>   "
   ]
  },
  {
   "cell_type": "code",
   "execution_count": null,
   "metadata": {},
   "outputs": [],
   "source": [
    "#skipped code"
   ]
  },
  {
   "cell_type": "markdown",
   "metadata": {},
   "source": [
    "<span style=\"color:blue\">split the dataset into two sets, the first comprised of the first column, and the second table with the rest of the columns</span> "
   ]
  },
  {
   "cell_type": "code",
   "execution_count": null,
   "metadata": {},
   "outputs": [],
   "source": [
    "#skippped code"
   ]
  },
  {
   "cell_type": "code",
   "execution_count": null,
   "metadata": {},
   "outputs": [],
   "source": [
    "char_got_idx[:10]"
   ]
  },
  {
   "cell_type": "code",
   "execution_count": null,
   "metadata": {
    "scrolled": true
   },
   "outputs": [],
   "source": [
    "char_got_val"
   ]
  },
  {
   "cell_type": "code",
   "execution_count": null,
   "metadata": {},
   "outputs": [],
   "source": [
    "char_got_val.shape"
   ]
  },
  {
   "cell_type": "markdown",
   "metadata": {},
   "source": [
    "<span style=\"color:blue\">the task is to plot the number of death by book</span>  \n",
    "\n",
    "\n",
    "first convert all the values that are -1 in the table <U>char_got_val</U> to `np.nan`    \n",
    "\n",
    "note the datatype of the table     "
   ]
  },
  {
   "cell_type": "code",
   "execution_count": null,
   "metadata": {},
   "outputs": [],
   "source": [
    "#skipped code\n"
   ]
  },
  {
   "cell_type": "code",
   "execution_count": null,
   "metadata": {},
   "outputs": [],
   "source": [
    "char_got_val"
   ]
  },
  {
   "cell_type": "code",
   "execution_count": null,
   "metadata": {},
   "outputs": [],
   "source": [
    "char_got.dtype"
   ]
  },
  {
   "cell_type": "markdown",
   "metadata": {},
   "source": [
    "&nbsp;\n",
    "\n",
    "### Note:\n",
    "\n",
    "`[i**2 for i in vector if i > 2]` is the proper way to carry out a list comprehension when there is a single\n",
    "condidion.    \n",
    "\n",
    "\n",
    "For multiple condition including `else` the syntax needs to be modified as such:  \n",
    "\n",
    "`[i**2 if i > 2 else i**.5 for i in vector]`    \n",
    "\n",
    "in the case of multiple conditions, the conditional statement by its entieiry preceeds the iterator `for`"
   ]
  },
  {
   "cell_type": "markdown",
   "metadata": {},
   "source": [
    "&nbsp;\n",
    "\n",
    "<span style=\"color:blue\"> create a new binary column where 0 is dead and 1 is alive</span>\n",
    "\n",
    "you can base on the second column of the table `Book_of_death` using list comprehension with a conditional "
   ]
  },
  {
   "cell_type": "code",
   "execution_count": null,
   "metadata": {},
   "outputs": [],
   "source": [
    "#skipped code\n"
   ]
  },
  {
   "cell_type": "markdown",
   "metadata": {},
   "source": [
    "&nbsp;\n",
    "\n",
    "<span style=\"color:blue\">append the new vector to <U>char_got_val</U></span>"
   ]
  },
  {
   "cell_type": "code",
   "execution_count": null,
   "metadata": {},
   "outputs": [],
   "source": [
    "#skipped code"
   ]
  },
  {
   "cell_type": "code",
   "execution_count": null,
   "metadata": {},
   "outputs": [],
   "source": [
    "#skipped code\n",
    "char_got_val"
   ]
  },
  {
   "cell_type": "markdown",
   "metadata": {},
   "source": [
    "&nbsp;\n",
    "\n",
    "<span style=\"color:blue\">finally extract the sum of deaths occurring by book</span>"
   ]
  },
  {
   "cell_type": "code",
   "execution_count": null,
   "metadata": {},
   "outputs": [],
   "source": [
    "#skipped code"
   ]
  },
  {
   "cell_type": "code",
   "execution_count": null,
   "metadata": {},
   "outputs": [],
   "source": [
    "#skipped code"
   ]
  },
  {
   "cell_type": "code",
   "execution_count": null,
   "metadata": {},
   "outputs": [],
   "source": [
    "death_count_by_book"
   ]
  },
  {
   "cell_type": "code",
   "execution_count": null,
   "metadata": {},
   "outputs": [],
   "source": [
    "import matplotlib.pyplot as plt\n",
    "%matplotlib inline"
   ]
  },
  {
   "cell_type": "code",
   "execution_count": null,
   "metadata": {},
   "outputs": [],
   "source": [
    "plt.plot(death_count_by_book[0], death_count_by_book[1],'ro')"
   ]
  },
  {
   "cell_type": "code",
   "execution_count": null,
   "metadata": {},
   "outputs": [],
   "source": []
  }
 ],
 "metadata": {
  "anaconda-cloud": {},
  "kernelspec": {
   "display_name": "Python 2",
   "language": "python",
   "name": "python2"
  },
  "language_info": {
   "codemirror_mode": {
    "name": "ipython",
    "version": 2
   },
   "file_extension": ".py",
   "mimetype": "text/x-python",
   "name": "python",
   "nbconvert_exporter": "python",
   "pygments_lexer": "ipython2",
   "version": "2.7.14"
  }
 },
 "nbformat": 4,
 "nbformat_minor": 2
}
