{
 "cells": [
  {
   "cell_type": "markdown",
   "metadata": {
    "hideCode": false,
    "hidePrompt": false
   },
   "source": [
    "## Most helpful keyboard shortcuts in IPython Notebook: \n",
    "\n",
    "1- **h** display keyboard shortcuts  \n",
    "2- **m** convert cell into Markdown cell (select the cell first)  \n",
    "3- **y** convert a cell into code cell (select the cell first)\n",
    "4- **shift m** merge two consecutive selected cells    \n",
    "5- **ctrl shift -** split any cell into two cell at the location of the cursor   \n",
    "6- **ctrl enter** execute current cell   \n",
    "7- **shift enter** execute current cell and move to next cell\n",
    "\n",
    "In a markdown cell use **`&nbsp;`** with a blank line below it to create a blank line.   \n",
    "In a markdown cell trailing every statement with two empty space prompts a new line.\n",
    "\n",
    "&nbsp;\n",
    "\n",
    "&nbsp;\n"
   ]
  },
  {
   "cell_type": "markdown",
   "metadata": {
    "hideCode": false,
    "hidePrompt": false
   },
   "source": [
    "# Python core Data Types\n",
    "________________________\n",
    "\n",
    "- <span style='font-size:1.2em'>In Python indexes are coded as offests from the first object. </span>   \n",
    "\n",
    "- <span style='font-size:1.2em'>The first index in Python starts at 0 (unlike R)     </span>   \n",
    "\n",
    "- <span style='font-size:1.2em'>Strings, lists, tuples, ranges are indexed starting at 0.   </span> \n",
    "\n",
    "- <span style='font-size:1.2em'>0 indexing means that the *N*th object is at index N-1.   </span>              \n",
    "\n",
    "&nbsp;    \n",
    "\n",
    "<span style='font-size:1.5em'> In Python subsetting is called slicing. </span> \n",
    "                        \n",
    "- <span style='font-size:1.2em'>Python slicing is end-exclusive.</span>  \n",
    "- <span style='font-size:1.2em'>To slice to the *K*th index use index K+1. </span>  \n",
    "- <span style='font-size:1.2em'>To slice up the *i* th object (by counting) use *i*.</span>  \n"
   ]
  },
  {
   "cell_type": "code",
   "execution_count": null,
   "metadata": {
    "hideCode": false,
    "hidePrompt": false
   },
   "outputs": [],
   "source": [
    "from IPython.display import Image\n",
    "Image(filename='slicing.jpg')"
   ]
  },
  {
   "cell_type": "code",
   "execution_count": null,
   "metadata": {
    "hideCode": false,
    "hidePrompt": false
   },
   "outputs": [],
   "source": [
    "test_list = ['foo', 'bar', 'gronk', 'sling', 'drag']\n",
    "test_list"
   ]
  },
  {
   "cell_type": "code",
   "execution_count": null,
   "metadata": {
    "hideCode": false,
    "hidePrompt": false
   },
   "outputs": [],
   "source": [
    "len(test_list)"
   ]
  },
  {
   "cell_type": "code",
   "execution_count": null,
   "metadata": {
    "hideCode": false,
    "hidePrompt": false
   },
   "outputs": [],
   "source": [
    "# the 4th object in the list is at index 3\n",
    "test_list[3]"
   ]
  },
  {
   "cell_type": "code",
   "execution_count": null,
   "metadata": {
    "hideCode": false,
    "hidePrompt": false
   },
   "outputs": [],
   "source": [
    "# slicing up to index 3 is exclusive of index 3 (or the 4th object)\n",
    "test_list[:3]"
   ]
  },
  {
   "cell_type": "code",
   "execution_count": null,
   "metadata": {
    "hideCode": false,
    "hidePrompt": false
   },
   "outputs": [],
   "source": [
    "# to slice including \"sling\" (index 3) slice up to index 4\n",
    "test_list[:4]"
   ]
  },
  {
   "cell_type": "markdown",
   "metadata": {
    "collapsed": true,
    "hideCode": false,
    "hidePrompt": false
   },
   "source": [
    "## 1- Numbers   \n",
    "\n",
    "### 1.1 Numeric variable types\n",
    "Numbers in Python are immutable"
   ]
  },
  {
   "cell_type": "markdown",
   "metadata": {
    "hideCode": false,
    "hidePrompt": false
   },
   "source": [
    "#### Integers"
   ]
  },
  {
   "cell_type": "code",
   "execution_count": null,
   "metadata": {
    "hideCode": false,
    "hidePrompt": false
   },
   "outputs": [],
   "source": [
    "num1, num2 = 42, 9\n",
    "\n",
    "print(num1, type(num1), id(num1), id(42))\n",
    "print(num2, type(num2), id(num2), id(9))"
   ]
  },
  {
   "cell_type": "markdown",
   "metadata": {
    "hideCode": false,
    "hidePrompt": false
   },
   "source": [
    "#### floatig-point numbers"
   ]
  },
  {
   "cell_type": "code",
   "execution_count": null,
   "metadata": {
    "hideCode": false,
    "hidePrompt": false
   },
   "outputs": [],
   "source": [
    "num3 = 42.69\n",
    "num4 = 9.0\n",
    "\n",
    "print(num3, type(num3))\n",
    "print(num4, type(num4),'\\n')"
   ]
  },
  {
   "cell_type": "markdown",
   "metadata": {
    "hideCode": false,
    "hidePrompt": false
   },
   "source": [
    "Additional Methods for floats"
   ]
  },
  {
   "cell_type": "code",
   "execution_count": null,
   "metadata": {
    "hideCode": false,
    "hidePrompt": false
   },
   "outputs": [],
   "source": [
    "num3.is_integer(), num4.is_integer()"
   ]
  },
  {
   "cell_type": "code",
   "execution_count": null,
   "metadata": {
    "hideCode": false,
    "hidePrompt": false
   },
   "outputs": [],
   "source": [
    "num3.as_integer_ratio(), num4.as_integer_ratio()"
   ]
  },
  {
   "cell_type": "markdown",
   "metadata": {
    "hideCode": false,
    "hidePrompt": false
   },
   "source": [
    "#### Octal"
   ]
  },
  {
   "cell_type": "code",
   "execution_count": null,
   "metadata": {
    "hideCode": false,
    "hidePrompt": false
   },
   "outputs": [],
   "source": [
    "#octal (base8)\n",
    "num5 = 0o112\n",
    "num6 = 0O265\n",
    "\n",
    "print(num5, type(num5))\n",
    "print(num6, type(num6))"
   ]
  },
  {
   "cell_type": "markdown",
   "metadata": {
    "hideCode": false,
    "hidePrompt": false
   },
   "source": [
    "#### Hexadecimal"
   ]
  },
  {
   "cell_type": "code",
   "execution_count": null,
   "metadata": {
    "hideCode": false,
    "hidePrompt": false
   },
   "outputs": [],
   "source": [
    "#hexadecimal base(16)\n",
    "num7 = 0x4A5\n",
    "num8 = 0X3F2C\n",
    "\n",
    "print(num7, type(num7))\n",
    "print(num8, type(num8))"
   ]
  },
  {
   "cell_type": "markdown",
   "metadata": {
    "hideCode": false,
    "hidePrompt": false
   },
   "source": [
    "#### Binary"
   ]
  },
  {
   "cell_type": "code",
   "execution_count": null,
   "metadata": {
    "hideCode": false,
    "hidePrompt": false
   },
   "outputs": [],
   "source": [
    "num9 = 0b0110110\n",
    "num10 = 0B1110001\n",
    "\n",
    "print(num9, type(num9))\n",
    "print(num10, type(num10))"
   ]
  },
  {
   "cell_type": "markdown",
   "metadata": {
    "hideCode": false,
    "hidePrompt": false
   },
   "source": [
    "#### Complex"
   ]
  },
  {
   "cell_type": "code",
   "execution_count": null,
   "metadata": {
    "hideCode": false,
    "hidePrompt": false
   },
   "outputs": [],
   "source": [
    "num11 = 4-9j\n",
    "num12 = -1+1j\n",
    "\n",
    "print(num11, type(num11))\n",
    "print(num12, type(num12))"
   ]
  },
  {
   "cell_type": "code",
   "execution_count": null,
   "metadata": {
    "hideCode": false,
    "hidePrompt": false
   },
   "outputs": [],
   "source": [
    "num11.real, num11.imag"
   ]
  },
  {
   "cell_type": "markdown",
   "metadata": {
    "hideCode": false,
    "hidePrompt": false
   },
   "source": [
    "### 1.2 Casting\n",
    "\n",
    "The built in calls `int`, `float`, `oct`, `hex`, and,`bin` are used to cast a number from one numeric type to another.  "
   ]
  },
  {
   "cell_type": "code",
   "execution_count": null,
   "metadata": {
    "hideCode": false,
    "hidePrompt": false
   },
   "outputs": [],
   "source": [
    "num13 = int(num3)\n",
    "num14 = float(num2)\n",
    "num15 = oct(26)\n",
    "num16 = hex(num1)\n",
    "num17 = bin(45)\n",
    "num18 = num3.hex() #In order to cast a float as hexadecimal use the method .hex()\n",
    "num19 = float.fromhex(num18)\n",
    "\n",
    "print(num13,'converted from float',num3)\n",
    "print(num14,'converted from integer',num2)\n",
    "print(num15,'an int converted to an oct')\n",
    "print(num16,'an int converted to a hex')\n",
    "print(num17,'an int converted to binary')\n",
    "print(num18,'a float coverted to hex using instance method .hex()')\n",
    "print(num19,'a hex converted to float using class method float.fromhex()')"
   ]
  },
  {
   "cell_type": "markdown",
   "metadata": {
    "hideCode": false,
    "hidePrompt": false
   },
   "source": [
    "### 1.3 Numeric operations  \n",
    "\n",
    "Sorted in ascending priority\n",
    "#### + ,  -  ,  *  ,  /  ,  // , % ,abs()  "
   ]
  },
  {
   "cell_type": "code",
   "execution_count": null,
   "metadata": {
    "hideCode": false,
    "hidePrompt": false
   },
   "outputs": [],
   "source": [
    "num1 + num3"
   ]
  },
  {
   "cell_type": "code",
   "execution_count": null,
   "metadata": {
    "hideCode": false,
    "hidePrompt": false
   },
   "outputs": [],
   "source": [
    "num5 - num8"
   ]
  },
  {
   "cell_type": "code",
   "execution_count": null,
   "metadata": {
    "hideCode": false,
    "hidePrompt": false
   },
   "outputs": [],
   "source": [
    "num1 / num2"
   ]
  },
  {
   "cell_type": "code",
   "execution_count": null,
   "metadata": {
    "hideCode": false,
    "hidePrompt": false
   },
   "outputs": [],
   "source": [
    "#// floored division\n",
    "num1 // num2"
   ]
  },
  {
   "cell_type": "code",
   "execution_count": null,
   "metadata": {
    "hideCode": false,
    "hidePrompt": false
   },
   "outputs": [],
   "source": [
    "56 / 4"
   ]
  },
  {
   "cell_type": "code",
   "execution_count": null,
   "metadata": {
    "hideCode": false,
    "hidePrompt": false
   },
   "outputs": [],
   "source": [
    "# modulus operator\n",
    "56 % 3"
   ]
  },
  {
   "cell_type": "markdown",
   "metadata": {
    "hideCode": false,
    "hidePrompt": false
   },
   "source": [
    "`divmod(x,y)` combines division and modulus operator for x and y"
   ]
  },
  {
   "cell_type": "code",
   "execution_count": null,
   "metadata": {
    "hideCode": false,
    "hidePrompt": false
   },
   "outputs": [],
   "source": [
    "divmod(56, 3)"
   ]
  },
  {
   "cell_type": "code",
   "execution_count": null,
   "metadata": {
    "hideCode": false,
    "hidePrompt": false
   },
   "outputs": [],
   "source": [
    "#num9 and num10 are binary numbers\n",
    "num9**num10"
   ]
  },
  {
   "cell_type": "markdown",
   "metadata": {
    "hideCode": false,
    "hidePrompt": false
   },
   "source": [
    "Complex numbers do not support all operations"
   ]
  },
  {
   "cell_type": "code",
   "execution_count": null,
   "metadata": {
    "hideCode": false,
    "hidePrompt": false
   },
   "outputs": [],
   "source": [
    "#num11, num12 are complex numbers\n",
    "num11 + num12"
   ]
  },
  {
   "cell_type": "code",
   "execution_count": null,
   "metadata": {
    "hideCode": false,
    "hidePrompt": false
   },
   "outputs": [],
   "source": [
    "num11*num12"
   ]
  },
  {
   "cell_type": "code",
   "execution_count": null,
   "metadata": {
    "hideCode": false,
    "hidePrompt": false,
    "scrolled": true
   },
   "outputs": [],
   "source": [
    "num11/num12"
   ]
  },
  {
   "cell_type": "code",
   "execution_count": null,
   "metadata": {
    "hideCode": false,
    "hidePrompt": false
   },
   "outputs": [],
   "source": [
    "abs(num11)"
   ]
  },
  {
   "cell_type": "code",
   "execution_count": null,
   "metadata": {
    "hideCode": false,
    "hidePrompt": false
   },
   "outputs": [],
   "source": [
    "pow((4**2+(-9j**2)),1/2)"
   ]
  },
  {
   "cell_type": "markdown",
   "metadata": {
    "hideCode": false,
    "hidePrompt": false
   },
   "source": [
    "Two ways for power:  `x**y = pow(x,y)`"
   ]
  },
  {
   "cell_type": "markdown",
   "metadata": {
    "hideCode": false,
    "hidePrompt": false
   },
   "source": [
    "## 2- Strings\n",
    "\n",
    "* Strings in Python are immutable   \n",
    "* A string can be declared using either single quotes or double quotes\n",
    "\n",
    "### 2.1 basic syntax"
   ]
  },
  {
   "cell_type": "code",
   "execution_count": null,
   "metadata": {
    "hideCode": false,
    "hidePrompt": false
   },
   "outputs": [],
   "source": [
    "str1 = 'The five boxing wizards jump quickly'\n",
    "str2 = ' and '  #leading and trailing blank spaces\n",
    "str3 = \"How vexingly quick daft zebras jump\"\n",
    "\n",
    "\n",
    "print(str1, type(str1))"
   ]
  },
  {
   "cell_type": "markdown",
   "metadata": {
    "hideCode": false,
    "hidePrompt": false
   },
   "source": [
    "* String objects can be added"
   ]
  },
  {
   "cell_type": "code",
   "execution_count": null,
   "metadata": {
    "hideCode": false,
    "hidePrompt": false
   },
   "outputs": [],
   "source": [
    "str1 + str2 + str3"
   ]
  },
  {
   "cell_type": "code",
   "execution_count": null,
   "metadata": {
    "hideCode": false,
    "hidePrompt": false
   },
   "outputs": [],
   "source": [
    "str1 + '____________'"
   ]
  },
  {
   "cell_type": "markdown",
   "metadata": {
    "hideCode": false,
    "hidePrompt": false
   },
   "source": [
    "* Double quotation marks take precedence over single quotations marks: a single quotation mark (such as an apostrophe) can be added within the confines of a double quoted string but not vice versa.\n",
    "* To declare a quotation mark inside a string use `\\'` escape character."
   ]
  },
  {
   "cell_type": "code",
   "execution_count": null,
   "metadata": {
    "hideCode": false,
    "hidePrompt": false
   },
   "outputs": [],
   "source": [
    "str4 = \"Susie say's: what's up!\"\n",
    "str4"
   ]
  },
  {
   "cell_type": "code",
   "execution_count": null,
   "metadata": {
    "hideCode": false,
    "hidePrompt": false
   },
   "outputs": [],
   "source": [
    "str5 = 'Susie say\\'s: what\\'s up!'\n",
    "str5"
   ]
  },
  {
   "cell_type": "code",
   "execution_count": null,
   "metadata": {
    "hideCode": false,
    "hidePrompt": false
   },
   "outputs": [],
   "source": [
    "str6 = \"Then he shouted: \\\"you\\'re all fired\\\"\"\n",
    "str6"
   ]
  },
  {
   "cell_type": "code",
   "execution_count": null,
   "metadata": {
    "hideCode": false,
    "hidePrompt": false
   },
   "outputs": [],
   "source": [
    "print(str6) #the \\ in you're is not part of the string."
   ]
  },
  {
   "cell_type": "markdown",
   "metadata": {
    "hideCode": false,
    "hidePrompt": false
   },
   "source": [
    "* the letter `r` (raw string) in front of a string tells python to ignore all formatting within a string inclusinf escape characters"
   ]
  },
  {
   "cell_type": "code",
   "execution_count": null,
   "metadata": {
    "hideCode": false,
    "hidePrompt": false
   },
   "outputs": [],
   "source": [
    "str7 = r\"Then he shouted: \\\"you\\'re all fired\\\"\"\n",
    "str7"
   ]
  },
  {
   "cell_type": "code",
   "execution_count": null,
   "metadata": {
    "hideCode": false,
    "hidePrompt": false
   },
   "outputs": [],
   "source": [
    "print(str7)"
   ]
  },
  {
   "cell_type": "markdown",
   "metadata": {
    "hideCode": false,
    "hidePrompt": false
   },
   "source": [
    "`\\n` denotes a new line  \n",
    "`\\t` denotes horizontal indentation\n",
    "we can create a multi-line string by using `\"\"\"/ string /\"\"\"`"
   ]
  },
  {
   "cell_type": "code",
   "execution_count": null,
   "metadata": {
    "hideCode": false,
    "hidePrompt": false
   },
   "outputs": [],
   "source": [
    "str8 = \"\"\"\\\n",
    "shopping list:\n",
    "1. \\t tomatoes\n",
    "2. \\t detergent\n",
    "3. \\t ham \"\"\"\n"
   ]
  },
  {
   "cell_type": "code",
   "execution_count": null,
   "metadata": {
    "hideCode": false,
    "hidePrompt": false
   },
   "outputs": [],
   "source": [
    "str8  #this is how the string can be constructed on one line"
   ]
  },
  {
   "cell_type": "code",
   "execution_count": null,
   "metadata": {
    "hideCode": false,
    "hidePrompt": false
   },
   "outputs": [],
   "source": [
    "print(str8)"
   ]
  },
  {
   "cell_type": "markdown",
   "metadata": {
    "hideCode": false,
    "hidePrompt": false
   },
   "source": [
    "### 2.2 Slicing and Indexing"
   ]
  },
  {
   "cell_type": "code",
   "execution_count": null,
   "metadata": {
    "hideCode": false,
    "hidePrompt": false
   },
   "outputs": [],
   "source": [
    "Image(filename='slicing.jpg')"
   ]
  },
  {
   "cell_type": "code",
   "execution_count": null,
   "metadata": {
    "hideCode": false,
    "hidePrompt": false
   },
   "outputs": [],
   "source": [
    "import pandas as pd\n",
    "pd.set_option(\"display.max_columns\",36)\n",
    "pd.DataFrame([list(str1)])"
   ]
  },
  {
   "cell_type": "code",
   "execution_count": null,
   "metadata": {
    "hideCode": false,
    "hidePrompt": false
   },
   "outputs": [],
   "source": [
    "# reset max number of columns to default\n",
    "pd.set_option(\"display.max_columns\",10)"
   ]
  },
  {
   "cell_type": "code",
   "execution_count": null,
   "metadata": {
    "hideCode": false,
    "hidePrompt": false
   },
   "outputs": [],
   "source": [
    "# entire string\n",
    "str1[:]"
   ]
  },
  {
   "cell_type": "code",
   "execution_count": null,
   "metadata": {
    "hideCode": false,
    "hidePrompt": false
   },
   "outputs": [],
   "source": [
    "len(str1)"
   ]
  },
  {
   "cell_type": "code",
   "execution_count": null,
   "metadata": {
    "hideCode": false,
    "hidePrompt": false
   },
   "outputs": [],
   "source": [
    "# index 35 is the last\n",
    "str1[35]"
   ]
  },
  {
   "cell_type": "code",
   "execution_count": null,
   "metadata": {
    "hideCode": false,
    "hidePrompt": false
   },
   "outputs": [],
   "source": [
    "# index 0\n",
    "str1[0]"
   ]
  },
  {
   "cell_type": "code",
   "execution_count": null,
   "metadata": {
    "hideCode": false,
    "hidePrompt": false
   },
   "outputs": [],
   "source": [
    "# this will start at index 4 and end at index 18\n",
    "str1[4:19]"
   ]
  },
  {
   "cell_type": "code",
   "execution_count": null,
   "metadata": {
    "hideCode": false,
    "hidePrompt": false
   },
   "outputs": [],
   "source": [
    "# index 0 to 9\n",
    "str1[:10]"
   ]
  },
  {
   "cell_type": "code",
   "execution_count": null,
   "metadata": {
    "hideCode": false,
    "hidePrompt": false
   },
   "outputs": [],
   "source": [
    "# exclude the last 5 indexes\n",
    "str1[:-5]"
   ]
  },
  {
   "cell_type": "code",
   "execution_count": null,
   "metadata": {
    "hideCode": false,
    "hidePrompt": false
   },
   "outputs": [],
   "source": [
    "# only the last 5 indexes\n",
    "str1[-5:]"
   ]
  },
  {
   "cell_type": "code",
   "execution_count": null,
   "metadata": {
    "hideCode": false,
    "hidePrompt": false,
    "scrolled": true
   },
   "outputs": [],
   "source": [
    "#14th letter counting from the end, index 22\n",
    "str1[-14]"
   ]
  },
  {
   "cell_type": "code",
   "execution_count": null,
   "metadata": {
    "hideCode": false,
    "hidePrompt": false
   },
   "outputs": [],
   "source": [
    "# index 0 to 36 in steps of 2 (start at zero and pick every other letter)\n",
    "str1[0:36:2]   # same result can be obtained using str1[0::2]"
   ]
  },
  {
   "cell_type": "markdown",
   "metadata": {
    "hideCode": false,
    "hidePrompt": false
   },
   "source": [
    "## 3- Lists\n",
    "\n",
    "### 3.1 basic syntax \n",
    "* Pyton lists are mutable  \n",
    "* a list is created by enclosing comma seprated objects with square brackets `[obj1, obj2, ....]`.  \n",
    "* a list can also be reated by enclosing a `range()` with the method `list()`, general format: `list(iterable)` .\n",
    "* lists can store heterogeneous object types, numbers, strings tuples and dictionaries in addition to nested lists."
   ]
  },
  {
   "cell_type": "code",
   "execution_count": null,
   "metadata": {
    "hideCode": false,
    "hidePrompt": false
   },
   "outputs": [],
   "source": [
    "list_1 = [0b1101010,-2+4j, (90,2),'foo',{'one':'tomatoes','two':'detergent','three':'ham'}]\n",
    "\n",
    "print(list_1, type(list_1))"
   ]
  },
  {
   "cell_type": "code",
   "execution_count": null,
   "metadata": {
    "hideCode": false,
    "hidePrompt": false
   },
   "outputs": [],
   "source": [
    "list_2 = list(range(5))\n",
    "list_2"
   ]
  },
  {
   "cell_type": "markdown",
   "metadata": {
    "hideCode": false,
    "hidePrompt": false
   },
   "source": [
    "* Lists can be repeated or concatinated"
   ]
  },
  {
   "cell_type": "code",
   "execution_count": null,
   "metadata": {
    "hideCode": false,
    "hidePrompt": false
   },
   "outputs": [],
   "source": [
    "list_2*3"
   ]
  },
  {
   "cell_type": "code",
   "execution_count": null,
   "metadata": {
    "hideCode": false,
    "hidePrompt": false
   },
   "outputs": [],
   "source": [
    "# lists can be added\n",
    "list_2+list_1"
   ]
  },
  {
   "cell_type": "code",
   "execution_count": null,
   "metadata": {
    "hideCode": false,
    "hidePrompt": false
   },
   "outputs": [],
   "source": [
    "#nested list\n",
    "list_3 = [['a','b','c'],[5,9,0],['foo','spam','cook',[num15,-num2,num11]]]\n",
    "list_3"
   ]
  },
  {
   "cell_type": "markdown",
   "metadata": {
    "hideCode": false,
    "hidePrompt": false
   },
   "source": [
    "* A list is mutable:   \n",
    "    we can change the value of an object by calling the index.    \n",
    "    we can insert, append or remove an object form a list:     \n",
    "    `list.append(x)` appends and object x to the end of a list   \n",
    "    `list.insert(index,x)`  insert an object x at specified index   \n",
    "    `list.remove(x)` removes the object x   "
   ]
  },
  {
   "cell_type": "code",
   "execution_count": null,
   "metadata": {
    "hideCode": false,
    "hidePrompt": false
   },
   "outputs": [],
   "source": [
    "list_1[1]"
   ]
  },
  {
   "cell_type": "code",
   "execution_count": null,
   "metadata": {
    "hideCode": false,
    "hidePrompt": false
   },
   "outputs": [],
   "source": [
    "# change the value at index 1\n",
    "list_1[1]=4+7j   \n",
    "list_1"
   ]
  },
  {
   "cell_type": "markdown",
   "metadata": {
    "hideCode": false,
    "hidePrompt": false
   },
   "source": [
    "* `list.append(x)` is an important method with a for-statement to add a newly returned object to a list. "
   ]
  },
  {
   "cell_type": "code",
   "execution_count": null,
   "metadata": {
    "hideCode": false,
    "hidePrompt": false
   },
   "outputs": [],
   "source": [
    "# append 45 to list_2\n",
    "list_2.append(45)\n",
    "list_2"
   ]
  },
  {
   "cell_type": "code",
   "execution_count": null,
   "metadata": {
    "hideCode": false,
    "hidePrompt": false
   },
   "outputs": [],
   "source": [
    "# append can be used to append a list to another\n",
    "list_3.append(list_1)\n",
    "list_3"
   ]
  },
  {
   "cell_type": "code",
   "execution_count": null,
   "metadata": {
    "hideCode": false,
    "hidePrompt": false
   },
   "outputs": [],
   "source": [
    "# remove an object from a list\n",
    "list_1.remove(4+7j)\n",
    "list_1"
   ]
  },
  {
   "cell_type": "code",
   "execution_count": null,
   "metadata": {
    "hideCode": false,
    "hidePrompt": false
   },
   "outputs": [],
   "source": [
    "list_3[3][1]"
   ]
  },
  {
   "cell_type": "markdown",
   "metadata": {},
   "source": [
    "* notice that removing `4+7j` from `list_1` removed the object from `list_3`   \n",
    "this is known as shallow copy in python"
   ]
  },
  {
   "cell_type": "code",
   "execution_count": null,
   "metadata": {},
   "outputs": [],
   "source": [
    "list_3"
   ]
  },
  {
   "cell_type": "code",
   "execution_count": null,
   "metadata": {},
   "outputs": [],
   "source": [
    "# this will remove the tuple (90, 2) from the 4th nested list in list_3\n",
    "list_3[3].remove(list_3[3][1])\n",
    "list_3"
   ]
  },
  {
   "cell_type": "markdown",
   "metadata": {},
   "source": [
    "* to create a new independent copy use the method `.copy()` "
   ]
  },
  {
   "cell_type": "code",
   "execution_count": null,
   "metadata": {},
   "outputs": [],
   "source": [
    "list_4 = list_3.copy()"
   ]
  },
  {
   "cell_type": "code",
   "execution_count": null,
   "metadata": {},
   "outputs": [],
   "source": [
    "list_4"
   ]
  },
  {
   "cell_type": "markdown",
   "metadata": {
    "hideCode": false,
    "hidePrompt": false
   },
   "source": [
    "### 3.2 Slicing and Indexing"
   ]
  },
  {
   "cell_type": "code",
   "execution_count": null,
   "metadata": {
    "hideCode": false,
    "hidePrompt": false
   },
   "outputs": [],
   "source": [
    "list_3[:]"
   ]
  },
  {
   "cell_type": "code",
   "execution_count": null,
   "metadata": {
    "hideCode": false,
    "hidePrompt": false
   },
   "outputs": [],
   "source": [
    "list_3[2]"
   ]
  },
  {
   "cell_type": "code",
   "execution_count": null,
   "metadata": {
    "hideCode": false,
    "hidePrompt": false
   },
   "outputs": [],
   "source": [
    "list_3[2][1]"
   ]
  },
  {
   "cell_type": "code",
   "execution_count": null,
   "metadata": {
    "hideCode": false,
    "hidePrompt": false
   },
   "outputs": [],
   "source": [
    "list_3[2][3][2]"
   ]
  },
  {
   "cell_type": "code",
   "execution_count": null,
   "metadata": {
    "hideCode": false,
    "hidePrompt": false
   },
   "outputs": [],
   "source": [
    "list_3[3][2]['two']"
   ]
  },
  {
   "cell_type": "code",
   "execution_count": null,
   "metadata": {},
   "outputs": [],
   "source": [
    "list_3[0::2]"
   ]
  },
  {
   "cell_type": "code",
   "execution_count": null,
   "metadata": {
    "hideCode": false,
    "hidePrompt": false
   },
   "outputs": [],
   "source": [
    "list_3[1::2]"
   ]
  },
  {
   "cell_type": "markdown",
   "metadata": {
    "hideCode": false,
    "hidePrompt": false
   },
   "source": [
    "* `count(x)` used to count the ocurrence of `x` in a list"
   ]
  },
  {
   "cell_type": "code",
   "execution_count": null,
   "metadata": {
    "hideCode": false,
    "hidePrompt": false
   },
   "outputs": [],
   "source": [
    "list_2=list_2+[5,4,4,4,3,2,1,4,4]\n",
    "list_2"
   ]
  },
  {
   "cell_type": "code",
   "execution_count": null,
   "metadata": {
    "hideCode": false,
    "hidePrompt": false,
    "scrolled": true
   },
   "outputs": [],
   "source": [
    "list_2.count(45)"
   ]
  },
  {
   "cell_type": "code",
   "execution_count": null,
   "metadata": {
    "hideCode": false,
    "hidePrompt": false
   },
   "outputs": [],
   "source": [
    "list_2.count(4)"
   ]
  },
  {
   "cell_type": "markdown",
   "metadata": {
    "hideCode": false,
    "hidePrompt": false
   },
   "source": [
    "* `len()` returns the length of a list"
   ]
  },
  {
   "cell_type": "code",
   "execution_count": null,
   "metadata": {
    "hideCode": false,
    "hidePrompt": false
   },
   "outputs": [],
   "source": [
    "len(list_2)"
   ]
  },
  {
   "cell_type": "markdown",
   "metadata": {
    "hideCode": false,
    "hidePrompt": false
   },
   "source": [
    "## 4- Tuples\n",
    "\n",
    "### 4.1 basic syntax\n",
    "* Python tuples are immutable   \n",
    "* a tuple is created by enclosing comma seprated objects with parentheses `(obj1, obj2, ....0)`.  \n",
    "* a tuple can also be reated by enclosing a `range()` with the method `tuple()`, general format: `tuple(iterable)` .\n",
    "* similar to lists, tuples can also store heterogeneous object types and can be nested."
   ]
  },
  {
   "cell_type": "code",
   "execution_count": null,
   "metadata": {
    "hideCode": false,
    "hidePrompt": false
   },
   "outputs": [],
   "source": [
    "tuple_1 = (0b1101010,-2+4j, (90,2),'foo',\n",
    "           {'outer':'auricle','middle':{1:'ossicles',2:'ear drum'},'inner':{1:'Semicircular canals',2:'Cochlea'}})\n",
    "print(tuple_1, type(tuple_1))"
   ]
  },
  {
   "cell_type": "code",
   "execution_count": null,
   "metadata": {
    "hideCode": false,
    "hidePrompt": false
   },
   "outputs": [],
   "source": [
    "tuple_2 = tuple(range(-2,-8,-1))\n",
    "tuple_2"
   ]
  },
  {
   "cell_type": "code",
   "execution_count": null,
   "metadata": {
    "hideCode": false,
    "hidePrompt": false
   },
   "outputs": [],
   "source": [
    "tuple_1[1]"
   ]
  },
  {
   "cell_type": "code",
   "execution_count": null,
   "metadata": {
    "hideCode": false,
    "hidePrompt": false
   },
   "outputs": [],
   "source": [
    "# this is not allowd\n",
    "tuple_1[1]=4+7j"
   ]
  },
  {
   "cell_type": "code",
   "execution_count": null,
   "metadata": {
    "hideCode": false,
    "hidePrompt": false
   },
   "outputs": [],
   "source": [
    "tuple_3 = (('a','b','c'),tuple_2,['foo','spam','cook',[num15,-num2,num11]])\n",
    "tuple_3"
   ]
  },
  {
   "cell_type": "markdown",
   "metadata": {
    "hideCode": false,
    "hidePrompt": false
   },
   "source": [
    "* It is possible to modify a mutable object (such as a list) that is nested inside a tuple"
   ]
  },
  {
   "cell_type": "code",
   "execution_count": null,
   "metadata": {
    "hideCode": false,
    "hidePrompt": false
   },
   "outputs": [],
   "source": [
    "# modify a list inside a tuple\n",
    "tuple_3[2][3][1] = 'sling'\n",
    "tuple_3"
   ]
  },
  {
   "cell_type": "code",
   "execution_count": null,
   "metadata": {
    "hideCode": false,
    "hidePrompt": false
   },
   "outputs": [],
   "source": [
    "# add a new key value to a dictionary within a tuple\n",
    "tuple_1[4]['inner'].update({3:'utricle'})\n",
    "tuple_1[4]"
   ]
  },
  {
   "cell_type": "markdown",
   "metadata": {
    "hideCode": false,
    "hidePrompt": false
   },
   "source": [
    "### 4.2 Slicing and Indexing\n",
    "* slicing and indexing tuples follow the same rules as lists and strings."
   ]
  },
  {
   "cell_type": "code",
   "execution_count": null,
   "metadata": {
    "hideCode": false,
    "hidePrompt": false
   },
   "outputs": [],
   "source": [
    "# end exclusive slicing\n",
    "tuple_1[0:4]"
   ]
  },
  {
   "cell_type": "code",
   "execution_count": null,
   "metadata": {
    "hideCode": false,
    "hidePrompt": false
   },
   "outputs": [],
   "source": [
    "tuple_1[-1]"
   ]
  },
  {
   "cell_type": "code",
   "execution_count": null,
   "metadata": {
    "hideCode": false,
    "hidePrompt": false
   },
   "outputs": [],
   "source": [
    "tuple_2[3:]"
   ]
  },
  {
   "cell_type": "code",
   "execution_count": null,
   "metadata": {
    "hideCode": false,
    "hidePrompt": false
   },
   "outputs": [],
   "source": [
    "tuple_3[-2:]"
   ]
  },
  {
   "cell_type": "markdown",
   "metadata": {
    "hideCode": false,
    "hidePrompt": false
   },
   "source": [
    "* `len()` can us used to return the length of a tuple"
   ]
  },
  {
   "cell_type": "code",
   "execution_count": null,
   "metadata": {
    "hideCode": false,
    "hidePrompt": false
   },
   "outputs": [],
   "source": [
    "len(tuple_1)"
   ]
  },
  {
   "cell_type": "markdown",
   "metadata": {
    "hideCode": false,
    "hidePrompt": false
   },
   "source": [
    "## 5- `range()`\n",
    "\n",
    "### 5.1 basic syntax"
   ]
  },
  {
   "cell_type": "markdown",
   "metadata": {
    "hideCode": false,
    "hidePrompt": false
   },
   "source": [
    "* `range(n)` is an iterable method that creates an immutable sequence of n integers.  \n",
    "* due to Python's 0-indexing, the last object in `range(n)` is `n-1` (stop exclusive).  \n",
    "* `range()` is used in `for` loops.  \n",
    "* the advantage of a range object over a tuple or a loop is that it takes the same small amount of memory no matter what the size of the range is.  \n",
    "* `range()` can take multiple arguments   \n",
    "`range(stop)`       \n",
    "`range(stop,[,step])`  \n",
    "`range(start,stop[,step])` (All arguments are integers, default start=0). \n",
    "* a range object is immutable. "
   ]
  },
  {
   "cell_type": "code",
   "execution_count": null,
   "metadata": {
    "hideCode": false,
    "hidePrompt": false
   },
   "outputs": [],
   "source": [
    "rng_1 = range(5)\n",
    "rng_2 = range(12,18)\n",
    "rng_3 = range(3,-10,-3)"
   ]
  },
  {
   "cell_type": "code",
   "execution_count": null,
   "metadata": {
    "hideCode": false,
    "hidePrompt": false
   },
   "outputs": [],
   "source": [
    "print(rng_1, rng_2, rng_3)"
   ]
  },
  {
   "cell_type": "markdown",
   "metadata": {
    "hideCode": false,
    "hidePrompt": false
   },
   "source": [
    "* in order to display the object of an iterable we need to iterate thru it:"
   ]
  },
  {
   "cell_type": "code",
   "execution_count": null,
   "metadata": {
    "hideCode": false,
    "hidePrompt": false
   },
   "outputs": [],
   "source": [
    "#notice that range(5) ends at 4. This is called stop exclusive.\n",
    "for i in rng_1: print(i)"
   ]
  },
  {
   "cell_type": "code",
   "execution_count": null,
   "metadata": {
    "hideCode": false,
    "hidePrompt": false
   },
   "outputs": [],
   "source": [
    "for i in rng_2:\n",
    "    print(i)"
   ]
  },
  {
   "cell_type": "code",
   "execution_count": null,
   "metadata": {
    "hideCode": false,
    "hidePrompt": false
   },
   "outputs": [],
   "source": [
    "for i in rng_3:\n",
    "    print(i)"
   ]
  },
  {
   "cell_type": "code",
   "execution_count": null,
   "metadata": {
    "hideCode": false,
    "hidePrompt": false
   },
   "outputs": [],
   "source": [
    "from sys import getsizeof\n",
    "\n",
    "# there is a substantial reduction in size between a range and a comparable list.\n",
    "# this is because a range does not store each and every numerical object up to N.\n",
    "\n",
    "getsizeof([0,1,2,3,4]), getsizeof(rng_1)"
   ]
  },
  {
   "cell_type": "code",
   "execution_count": null,
   "metadata": {
    "hideCode": false,
    "hidePrompt": false
   },
   "outputs": [],
   "source": [
    "# a range object has a fixed size.\n",
    "\n",
    "getsizeof(range(9816522334)), getsizeof(range(4))"
   ]
  },
  {
   "cell_type": "markdown",
   "metadata": {
    "hideCode": false,
    "hidePrompt": false
   },
   "source": [
    "## 6- Dictionaries   \n",
    "\n",
    "### 6.1 basic syntax\n",
    "\n",
    "* Dictionaries are very flexible objects.  \n",
    "* a dictionary is a collection of key:object pairs. \n",
    "* dictonary keys are unique, there cannot be any duplicate keys.  \n",
    "* dictionaries are constructed in two ways: using the `.dict()` method or using curly brackets `{`  `}`.  \n",
    "* when constructed, dictionary keys are sorted in alphabetical or numerical order, like a dictionary!.  \n",
    "* dictionaries can be nested and can contain objects of any type. \n",
    "* JSON files are collections of nested dictionaties.   "
   ]
  },
  {
   "cell_type": "code",
   "execution_count": null,
   "metadata": {
    "hideCode": false,
    "hidePrompt": false
   },
   "outputs": [],
   "source": [
    "dict_1 = {'pepperoni':15,'sausage':17,'chicken':13,'beef':17}\n",
    "dict_1\n",
    "# notice how the keys are ordred in alphabetical order"
   ]
  },
  {
   "cell_type": "code",
   "execution_count": null,
   "metadata": {
    "hideCode": false,
    "hidePrompt": false
   },
   "outputs": [],
   "source": [
    "dict_1['sausage']"
   ]
  },
  {
   "cell_type": "code",
   "execution_count": null,
   "metadata": {
    "hideCode": false,
    "hidePrompt": false
   },
   "outputs": [],
   "source": [
    "dict_2 = dict(rolls=12.5, carbonara=20.5, salad=15, pizza=20)\n",
    "dict_2"
   ]
  },
  {
   "cell_type": "code",
   "execution_count": null,
   "metadata": {
    "hideCode": false,
    "hidePrompt": false
   },
   "outputs": [],
   "source": [
    "dict_2['carbonara']"
   ]
  },
  {
   "cell_type": "code",
   "execution_count": null,
   "metadata": {
    "hideCode": false,
    "hidePrompt": false
   },
   "outputs": [],
   "source": [
    "dict_3 = dict_2\n",
    "dict_3['pizza']=dict_1\n",
    "dict_3"
   ]
  },
  {
   "cell_type": "code",
   "execution_count": null,
   "metadata": {
    "hideCode": false,
    "hidePrompt": false
   },
   "outputs": [],
   "source": [
    "dict_3['pizza']"
   ]
  },
  {
   "cell_type": "code",
   "execution_count": null,
   "metadata": {
    "hideCode": false,
    "hidePrompt": false
   },
   "outputs": [],
   "source": [
    "dict_4 = {1985:'Cycle of Warewolf',\n",
    "          1996:{'The Green Miles':{2:'The Mouse on the Mile',1:'The Two Dead Girls'}, 3:'Coffery\\' Hands',\n",
    "               5:'Night Journey',6:'Coffery on the Mile',4:'The Bad Death of Edward Delacriox'},\n",
    "          1991:{1:'The Stand',2:'The Dark Tower:The Waste Lands'},\n",
    "          1987:{1:'The Eyes of the Dragon',2:'The Dark Tower:The Drawing of the tree',3:'Misery',4:'The Tommyknockers'}}"
   ]
  },
  {
   "cell_type": "code",
   "execution_count": null,
   "metadata": {
    "hideCode": false,
    "hidePrompt": false
   },
   "outputs": [],
   "source": [
    "# the keys are automatically sorted by ascending order even though the initial entry is not.\n",
    "dict_4"
   ]
  },
  {
   "cell_type": "markdown",
   "metadata": {
    "hideCode": false,
    "hidePrompt": false
   },
   "source": [
    "### 6.2 Slicing and Indexing  \n",
    "* dictionaries are accessed by keys and not by index position (different rules) \n",
    "* dictionaries have a number of special methods: \n",
    "    * `.keys()` displays the keys in a dictionary.  \n",
    "    * `.values()` displays the values in a dicrionary. \n",
    "    * `.items()` returns a list tuples each with a key, value pair. \n",
    "    * `.clear()` wipes out all keys and values and returs an empty dictionary. \n",
    "* a dictionary keys, values and items are iterable, meaning they can be looped thru. "
   ]
  },
  {
   "cell_type": "code",
   "execution_count": null,
   "metadata": {
    "hideCode": false,
    "hidePrompt": false
   },
   "outputs": [],
   "source": [
    "dict_1.keys()"
   ]
  },
  {
   "cell_type": "code",
   "execution_count": null,
   "metadata": {
    "hideCode": false,
    "hidePrompt": false
   },
   "outputs": [],
   "source": [
    "dict_1.values()"
   ]
  },
  {
   "cell_type": "code",
   "execution_count": null,
   "metadata": {
    "hideCode": false,
    "hidePrompt": false
   },
   "outputs": [],
   "source": [
    "dict_1.items()"
   ]
  },
  {
   "cell_type": "code",
   "execution_count": null,
   "metadata": {
    "hideCode": false,
    "hidePrompt": false
   },
   "outputs": [],
   "source": [
    "# the methods .keys, .values, .items do not iterate through nested dictionary but only return results\n",
    "\n",
    "dict_4.items()"
   ]
  },
  {
   "cell_type": "markdown",
   "metadata": {
    "hideCode": false,
    "hidePrompt": false
   },
   "source": [
    "* to access nested keys use the method `.get(key)`"
   ]
  },
  {
   "cell_type": "code",
   "execution_count": null,
   "metadata": {
    "hideCode": false,
    "hidePrompt": false
   },
   "outputs": [],
   "source": [
    "dict_4.keys()"
   ]
  },
  {
   "cell_type": "code",
   "execution_count": null,
   "metadata": {
    "hideCode": false,
    "hidePrompt": false
   },
   "outputs": [],
   "source": [
    "dict_4.get(1996).values()"
   ]
  },
  {
   "cell_type": "code",
   "execution_count": null,
   "metadata": {
    "hideCode": false,
    "hidePrompt": false
   },
   "outputs": [],
   "source": [
    "dict_1.clear()\n",
    "dict_1"
   ]
  },
  {
   "cell_type": "code",
   "execution_count": null,
   "metadata": {
    "hideCode": false,
    "hidePrompt": false
   },
   "outputs": [],
   "source": [
    "dict_1 = {'pepperoni':15,'sausage':17,'chicken':13,'beef':17}"
   ]
  },
  {
   "cell_type": "markdown",
   "metadata": {
    "hideCode": false,
    "hidePrompt": false
   },
   "source": [
    "* `.update()` is used to modify or add key value pairs in a dictionary"
   ]
  },
  {
   "cell_type": "code",
   "execution_count": null,
   "metadata": {
    "hideCode": false,
    "hidePrompt": false,
    "scrolled": true
   },
   "outputs": [],
   "source": [
    "dict_1.update({'pork':{'ham':9}})\n",
    "dict_1"
   ]
  },
  {
   "cell_type": "markdown",
   "metadata": {
    "hideCode": false,
    "hidePrompt": false
   },
   "source": [
    "* to modify a value in a dictionary call the corresponding key and assign new value:"
   ]
  },
  {
   "cell_type": "code",
   "execution_count": null,
   "metadata": {
    "hideCode": false,
    "hidePrompt": false
   },
   "outputs": [],
   "source": [
    "dict_1['pepperoni']=18\n",
    "dict_1"
   ]
  },
  {
   "cell_type": "code",
   "execution_count": null,
   "metadata": {
    "hideCode": false,
    "hidePrompt": false
   },
   "outputs": [],
   "source": [
    "dict_1['pork'].update({'bacon':11})\n",
    "dict_1"
   ]
  },
  {
   "cell_type": "code",
   "execution_count": null,
   "metadata": {
    "hideCode": false,
    "hidePrompt": false
   },
   "outputs": [],
   "source": [
    "# string keys in nested dictionaries to access the value\n",
    "dict_1['pork']['ham']=10\n",
    "dict_1"
   ]
  },
  {
   "cell_type": "code",
   "execution_count": null,
   "metadata": {
    "hideCode": false,
    "hidePrompt": false
   },
   "outputs": [],
   "source": [
    "# add a key with a list value\n",
    "dict_1.update({'other':['broccoli','onion','olives','pineapple','grapes']})\n",
    "dict_1"
   ]
  },
  {
   "cell_type": "code",
   "execution_count": null,
   "metadata": {
    "hideCode": false,
    "hidePrompt": false
   },
   "outputs": [],
   "source": [
    "# use attributes of a list to modify a list nested in a dictionary\n",
    "dict_1['other'][4]='mushroom'\n",
    "dict_1['other'].append('green pepper')\n",
    "dict_1"
   ]
  },
  {
   "cell_type": "markdown",
   "metadata": {
    "hideCode": false,
    "hidePrompt": false
   },
   "source": [
    "* to modify a key in a dictionary first duplicate the key, then delete the old key:   \n",
    "`dict[new_key] = dict[old_key]`   \n",
    "`del dict[old_key]`   "
   ]
  },
  {
   "cell_type": "code",
   "execution_count": null,
   "metadata": {
    "hideCode": false,
    "hidePrompt": false
   },
   "outputs": [],
   "source": [
    "dict_1['steak'] = dict_1['beef']\n",
    "del dict_1['beef']\n",
    "dict_1"
   ]
  },
  {
   "cell_type": "code",
   "execution_count": null,
   "metadata": {
    "hideCode": false,
    "hidePrompt": false
   },
   "outputs": [],
   "source": [
    "len(dict_1)"
   ]
  },
  {
   "cell_type": "code",
   "execution_count": null,
   "metadata": {
    "hideCode": false,
    "hidePrompt": false
   },
   "outputs": [],
   "source": [
    "len(dict_1['other'])"
   ]
  },
  {
   "cell_type": "markdown",
   "metadata": {
    "hideCode": false,
    "hidePrompt": false
   },
   "source": [
    "________________________________"
   ]
  },
  {
   "cell_type": "markdown",
   "metadata": {
    "hideCode": false,
    "hidePrompt": false
   },
   "source": [
    "### Reserved words in Python    \n",
    "\n",
    "- The following words are reserved in Python and cannot be used as variable names.  "
   ]
  },
  {
   "cell_type": "markdown",
   "metadata": {
    "hideCode": false,
    "hidePrompt": false
   },
   "source": [
    "<span style='color:red'>\n",
    "False   \n",
    "class   \n",
    "finally   \n",
    "is   \n",
    "return   \n",
    "None   \n",
    "continue   \n",
    "for\n",
    "lambda   \n",
    "try   \n",
    "True   \n",
    "def   \n",
    "from   \n",
    "nonlocal   \n",
    "while   \n",
    "and   \n",
    "del   \n",
    "global   \n",
    "not    \n",
    "with   \n",
    "as   \n",
    "elif   \n",
    "if   \n",
    "or    \n",
    "yield   \n",
    "assert   \n",
    "else   \n",
    "import    \n",
    "pass   \n",
    "break   \n",
    "except   \n",
    "in   \n",
    "raise   \n",
    "print   \n",
    "</span>"
   ]
  },
  {
   "cell_type": "markdown",
   "metadata": {
    "hideCode": false,
    "hidePrompt": false
   },
   "source": [
    "### The `.dir()` Method"
   ]
  },
  {
   "cell_type": "markdown",
   "metadata": {
    "hideCode": false,
    "hidePrompt": false
   },
   "source": [
    "* One of the most importand methods in Python.   \n",
    "* `dir(object)` displays a list of all attributes available inside an object (methods and simpler data items).    \n",
    "* can be used with instances, methods, build-in types and imported modules.  "
   ]
  },
  {
   "cell_type": "code",
   "execution_count": null,
   "metadata": {
    "hideCode": false,
    "hidePrompt": false
   },
   "outputs": [],
   "source": [
    "dir(num3)"
   ]
  },
  {
   "cell_type": "code",
   "execution_count": null,
   "metadata": {},
   "outputs": [],
   "source": [
    "dir(list_1)"
   ]
  },
  {
   "cell_type": "markdown",
   "metadata": {
    "hideCode": false,
    "hidePrompt": false
   },
   "source": [
    "* attributes that begin and end with double underscores ` __ ` can be ignored and are related to the implementetion of the type and used for OOP.  \n",
    "* we can write a simple loop to ignore these and only display the named methods. "
   ]
  },
  {
   "cell_type": "code",
   "execution_count": null,
   "metadata": {
    "hideCode": false,
    "hidePrompt": false
   },
   "outputs": [],
   "source": [
    "[a for a in dir(num3) if not a.startswith('__')]"
   ]
  },
  {
   "cell_type": "markdown",
   "metadata": {
    "hideCode": false,
    "hidePrompt": false
   },
   "source": [
    "* notice the methods `hex()`, `is_integer()`, `fromhex()` that we used earlier with a float. "
   ]
  },
  {
   "cell_type": "code",
   "execution_count": null,
   "metadata": {
    "hideCode": false,
    "hidePrompt": false
   },
   "outputs": [],
   "source": [
    "[a for a in dir(list_1) if not a.startswith('__')]"
   ]
  },
  {
   "cell_type": "code",
   "execution_count": null,
   "metadata": {
    "hideCode": false,
    "hidePrompt": false
   },
   "outputs": [],
   "source": [
    "[a for a in dir(tuple_1) if not a.startswith('__')]"
   ]
  },
  {
   "cell_type": "code",
   "execution_count": null,
   "metadata": {
    "hideCode": false,
    "hidePrompt": false
   },
   "outputs": [],
   "source": [
    "[a for a in dir(dict_1) if not a.startswith('__')]"
   ]
  },
  {
   "cell_type": "code",
   "execution_count": null,
   "metadata": {
    "hideCode": false,
    "hidePrompt": false
   },
   "outputs": [],
   "source": [
    "[a for a in dir(rng_1) if not a.startswith('__')]"
   ]
  },
  {
   "cell_type": "markdown",
   "metadata": {
    "hideCode": false,
    "hidePrompt": false
   },
   "source": [
    "* notice that a list object has `append()`, `insert()`, `remove()` methods whereas a a tuple has no such attributes. "
   ]
  },
  {
   "cell_type": "markdown",
   "metadata": {
    "hideCode": false,
    "hidePrompt": false
   },
   "source": [
    "### Summary\n",
    "    1- Lists, dictonaries and tuples can hold any kind of object.    \n",
    "    2- Sets can contain any type of mutable object.   \n",
    "    3- Lists, dictionaries and tuples can be arbitrarily nested.    \n",
    "    4- Lists, dictionaries, and sets can dynamically grow and shring.  "
   ]
  }
 ],
 "metadata": {
  "anaconda-cloud": {},
  "hide_code_all_hidden": false,
  "kernelspec": {
   "display_name": "Python 3",
   "language": "python",
   "name": "python3"
  },
  "language_info": {
   "codemirror_mode": {
    "name": "ipython",
    "version": 3
   },
   "file_extension": ".py",
   "mimetype": "text/x-python",
   "name": "python",
   "nbconvert_exporter": "python",
   "pygments_lexer": "ipython3",
   "version": "3.6.1"
  }
 },
 "nbformat": 4,
 "nbformat_minor": 2
}
