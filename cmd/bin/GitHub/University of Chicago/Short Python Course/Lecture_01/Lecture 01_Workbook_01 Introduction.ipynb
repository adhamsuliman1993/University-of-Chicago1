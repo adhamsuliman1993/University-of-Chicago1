{
 "cells": [
  {
   "cell_type": "markdown",
   "metadata": {},
   "source": [
    "# A Brief History of Python"
   ]
  },
  {
   "cell_type": "markdown",
   "metadata": {},
   "source": [
    "* Python was concieved in 1989 by Guido Van Rossum  as a side hobby taken up during the Christmas break of the same year.   \n",
    "* Python is born out of the ABC language and the Amoeba distributed operating system, a project abandoned by Dutch DWI research institure.\n",
    "* The name **Python** is in reference to *Monty Python's Flying Circus*  \n",
    "* It reached v1.0 in early 1994 and with growing support from the community Python 2.0 was released in the year 2000 as an open source high level, general purpose, object oriented programming language.\n",
    "* Python 2.0 moved its repository to SourceForge, granting accss to developers. The release notes stated, **'the most important change in Python 2.0 may not be to the code at all, but to how Python is developed'**.\n",
    "* Python 3.0 was released in 2008 with a complete overhaul in the language with no backwards compatibility.   \n",
    "* Python 2.7 will continue to be supported until 2020 however Python 3.X is the future of the language\n",
    "* As of 2017 Python is the #1 programming language used for enterprise and scientific computing ranked by <a href='https://spectrum.ieee.org/static/interactive-the-top-programming-languages-2017'>IEEE</a>.\n"
   ]
  },
  {
   "cell_type": "markdown",
   "metadata": {},
   "source": [
    "# Why use Python"
   ]
  },
  {
   "cell_type": "markdown",
   "metadata": {},
   "source": [
    "* Python is written with focus on simplicity, readability and coherence.   \n",
    "\n",
    "\n",
    "* Python is an elegant language that can perform tasks with a substantial reduction in the amount of coding required to perform the identical task in compiled languages such as C++ or fortran.\n",
    "\n",
    "\n",
    "* Python is an indentational language, meaning that it uses white spaces to delimit code blocks rather than curley brackets or other keywords.    \n",
    "\n",
    "\n",
    "* Python is considered first and foremost a scripting language for the following reasons:  \n",
    "    1- It has shell scripting capabilities, meaning it can be used to code operating-system-oriented scrips. It is not the best tool for this task but it can serve this role.    \n",
    "    2- It can act as a glue layer implemented in the context of larger applications in the capacity of a control language that can be used to test, protptype and control hardware devices. A very popular application is <a href='https://en.wikipedia.org/wiki/Raspberry_Pi'>Raspberry Pi</a>.  \n",
    "    3- Most importantly however Python allows much faster program development than compiled languages such as C++ or Java.\n",
    "    \n",
    "    \n",
    "* Python has many applications such as systems programming, GUI's, networking and online scripting, interfacing with databases however most important to us is the fact that Python has grown to become one of the most important languages for numeric and scientific programming with a plethora of highly developed modules such as NumPy, SciPy, Pandas, Scikil-learn, Matplotlib, Statsmodels."
   ]
  },
  {
   "cell_type": "markdown",
   "metadata": {},
   "source": [
    "# Programming Efficiency\n",
    "&nbsp;\n",
    "\n",
    "Libniz formulat for $\\pi$: $$\\frac{\\pi}{4} = 1 - \\frac{1}{3} + \\frac{1}{5} - \\frac{1}{7} +\\ . . . = \\sum^\\infty_{k=0} \\frac{-1^k}{2k+1}$$\n",
    "\n",
    "This is a special case of the series expantion for the inverse tangent function: $$\\arctan{x}= x-\\frac{x^3}{3}+\\frac{x^5}{5}-\\frac{x^7}{7}+ \\ . . .$$"
   ]
  },
  {
   "cell_type": "code",
   "execution_count": 1,
   "metadata": {},
   "outputs": [
    {
     "name": "stdout",
     "output_type": "stream",
     "text": [
      "3.1415826535897198\n"
     ]
    }
   ],
   "source": [
    "pi = 0.0\n",
    "for k in range(100000):\n",
    "    val = (-1)**k/(2*k+1)\n",
    "    pi = pi + val\n",
    "pi = 4*pi\n",
    "\n",
    "print(pi)"
   ]
  },
  {
   "cell_type": "markdown",
   "metadata": {},
   "source": [
    "The code can be reduced further"
   ]
  },
  {
   "cell_type": "code",
   "execution_count": null,
   "metadata": {},
   "outputs": [],
   "source": [
    "pi = 0.0\n",
    "for k in range(100000):\n",
    "    pi += (-1)**k/(2*k+1)\n",
    "pi = 4*pi\n",
    "\n",
    "print(pi)"
   ]
  },
  {
   "cell_type": "markdown",
   "metadata": {},
   "source": [
    "The operation can be writtin in a single line"
   ]
  },
  {
   "cell_type": "code",
   "execution_count": null,
   "metadata": {},
   "outputs": [],
   "source": [
    "4*(sum((-1)**k/(2*k+1) for k in range(100000)))"
   ]
  },
  {
   "cell_type": "markdown",
   "metadata": {},
   "source": [
    "&nbsp;\n",
    "\n",
    "&nbsp;\n",
    "\n",
    "# The Mental Shift of Python"
   ]
  },
  {
   "cell_type": "markdown",
   "metadata": {},
   "source": [
    "### to code fluently in python it is important to understand syntatic concepts that comprise a shift in our way of thinking especially when compared to R.  \n",
    "\n",
    "(this is neither good or bad it is only different) \n",
    "&nbsp;\n",
    "\n",
    "\n",
    "### 1- accessing methods from modules:   \n",
    "what in **R** is called a package in **python** is called a `module`. \n",
    "&nbsp;\n",
    "\n",
    "\n",
    "while calling a library in R loads all the functions readily into the environment in python calling `import` loads the `module` and methods are accessed from within the `module`"
   ]
  },
  {
   "cell_type": "code",
   "execution_count": 2,
   "metadata": {},
   "outputs": [],
   "source": [
    "my_list = [2,4,3,1,5,6,9,7,8,10]"
   ]
  },
  {
   "cell_type": "code",
   "execution_count": 3,
   "metadata": {},
   "outputs": [
    {
     "data": {
      "text/plain": [
       "5.5"
      ]
     },
     "execution_count": 3,
     "metadata": {},
     "output_type": "execute_result"
    }
   ],
   "source": [
    "import numpy\n",
    "\n",
    "# to use the mean method we have to access it thru the module itself.\n",
    "\n",
    "numpy.mean(my_list)"
   ]
  },
  {
   "cell_type": "markdown",
   "metadata": {},
   "source": [
    "in order to use the method `mean` independently we can import if from the module separately"
   ]
  },
  {
   "cell_type": "code",
   "execution_count": 4,
   "metadata": {},
   "outputs": [
    {
     "data": {
      "text/plain": [
       "5.5"
      ]
     },
     "execution_count": 4,
     "metadata": {},
     "output_type": "execute_result"
    }
   ],
   "source": [
    "from numpy import mean\n",
    "\n",
    "mean(my_list)"
   ]
  },
  {
   "cell_type": "markdown",
   "metadata": {},
   "source": [
    "&nbsp;\n",
    "\n",
    "### 2- using instance methods in python\n",
    "\n",
    "instance methods in python are methods that are applied to an instance of a class.\n",
    "\n",
    "a `list` is a class in python, `my_list` in the example above is an instance of that class to which we can apply methods in the form:  `object.method()` and sometimes `object.method1().method2().method3()....` "
   ]
  },
  {
   "cell_type": "code",
   "execution_count": 5,
   "metadata": {},
   "outputs": [
    {
     "data": {
      "text/plain": [
       "[2, 4, 3, 1, 5, 6, 9, 7, 8, 10, 6985]"
      ]
     },
     "execution_count": 5,
     "metadata": {},
     "output_type": "execute_result"
    }
   ],
   "source": [
    "# to add the number 6985 to the list we use the instance method .append()\n",
    "my_list.append(6985)\n",
    "my_list"
   ]
  },
  {
   "cell_type": "code",
   "execution_count": 6,
   "metadata": {},
   "outputs": [
    {
     "data": {
      "text/plain": [
       "[1, 2, 3, 4, 5, 6, 7, 8, 9, 10, 6985]"
      ]
     },
     "execution_count": 6,
     "metadata": {},
     "output_type": "execute_result"
    }
   ],
   "source": [
    "my_list.sort()\n",
    "my_list"
   ]
  },
  {
   "cell_type": "code",
   "execution_count": 7,
   "metadata": {},
   "outputs": [
    {
     "data": {
      "text/plain": [
       "[1, 2, 3, 4, 5, 6, 7, 8, 9, 10]"
      ]
     },
     "execution_count": 7,
     "metadata": {},
     "output_type": "execute_result"
    }
   ],
   "source": [
    "my_list.remove(6985)\n",
    "my_list"
   ]
  },
  {
   "cell_type": "markdown",
   "metadata": {},
   "source": [
    "&nbsp;\n",
    "\n",
    "### 3- iterability: an intrisic attribute of iterable objects\n",
    "\n",
    "task: raise every element in the second list to power 2\n",
    "\n",
    "  \n",
    "\n",
    "lists in python, among many other object, are iterable, meaning that a `for` loop can automatically access all the elements in the object."
   ]
  },
  {
   "cell_type": "code",
   "execution_count": 8,
   "metadata": {},
   "outputs": [
    {
     "data": {
      "text/plain": [
       "[1, 2, 3, 4, 5, 6, 7, 8, 9, 10]"
      ]
     },
     "execution_count": 8,
     "metadata": {},
     "output_type": "execute_result"
    }
   ],
   "source": [
    "my_list"
   ]
  },
  {
   "cell_type": "code",
   "execution_count": 9,
   "metadata": {},
   "outputs": [],
   "source": [
    "new_list = []\n",
    "\n",
    "for i in my_list:\n",
    "    new_list.append(i**2)"
   ]
  },
  {
   "cell_type": "code",
   "execution_count": 10,
   "metadata": {},
   "outputs": [
    {
     "data": {
      "text/plain": [
       "[1, 4, 9, 16, 25, 36, 49, 64, 81, 100]"
      ]
     },
     "execution_count": 10,
     "metadata": {},
     "output_type": "execute_result"
    }
   ],
   "source": [
    "new_list"
   ]
  },
  {
   "cell_type": "markdown",
   "metadata": {},
   "source": [
    "&nbsp;\n",
    "\n",
    "did you know that in R vectors are also iterable ? but we do not see this used too often"
   ]
  },
  {
   "cell_type": "code",
   "execution_count": 12,
   "metadata": {},
   "outputs": [
    {
     "ename": "ModuleNotFoundError",
     "evalue": "No module named 'rpy2'",
     "output_type": "error",
     "traceback": [
      "\u001b[1;31m---------------------------------------------------------------------------\u001b[0m",
      "\u001b[1;31mModuleNotFoundError\u001b[0m                       Traceback (most recent call last)",
      "\u001b[1;32m<ipython-input-12-9e2af9466af9>\u001b[0m in \u001b[0;36m<module>\u001b[1;34m()\u001b[0m\n\u001b[1;32m----> 1\u001b[1;33m \u001b[1;32mimport\u001b[0m \u001b[0mrpy2\u001b[0m\u001b[1;33m\u001b[0m\u001b[0m\n\u001b[0m\u001b[0;32m      2\u001b[0m \u001b[0mget_ipython\u001b[0m\u001b[1;33m(\u001b[0m\u001b[1;33m)\u001b[0m\u001b[1;33m.\u001b[0m\u001b[0mrun_line_magic\u001b[0m\u001b[1;33m(\u001b[0m\u001b[1;34m'load_ext'\u001b[0m\u001b[1;33m,\u001b[0m \u001b[1;34m'rpy2.ipython'\u001b[0m\u001b[1;33m)\u001b[0m\u001b[1;33m\u001b[0m\u001b[0m\n",
      "\u001b[1;31mModuleNotFoundError\u001b[0m: No module named 'rpy2'"
     ]
    }
   ],
   "source": [
    "import rpy2\n",
    "%load_ext rpy2.ipython"
   ]
  },
  {
   "cell_type": "code",
   "execution_count": 13,
   "metadata": {},
   "outputs": [
    {
     "name": "stderr",
     "output_type": "stream",
     "text": [
      "UsageError: Cell magic `%%R` not found.\n"
     ]
    }
   ],
   "source": [
    "%%R \n",
    "\n",
    "rm(list = ls())\n",
    "\n",
    "my_list <- c(1,2,3,4,5,6,7,8,9,10)\n",
    "\n",
    "new_list <- c()\n",
    "\n",
    "for (i in my_list){\n",
    "    new_list <- c(new_list, i^2)\n",
    "}"
   ]
  },
  {
   "cell_type": "code",
   "execution_count": null,
   "metadata": {},
   "outputs": [],
   "source": [
    "r_new_list = %R print(new_list)\n",
    "r_new_list"
   ]
  },
  {
   "cell_type": "markdown",
   "metadata": {},
   "source": [
    "&nbsp;\n",
    "\n",
    "### 4- single line expressions and statements\n",
    "\n",
    "the strength of python lies in the flexibility of writing complex code in a single line statements    \n",
    "\n",
    "the for loop above can be abbreviated into a single line:"
   ]
  },
  {
   "cell_type": "code",
   "execution_count": 14,
   "metadata": {},
   "outputs": [],
   "source": [
    "new_new_list = [i**2 for i in new_list]"
   ]
  },
  {
   "cell_type": "code",
   "execution_count": 15,
   "metadata": {},
   "outputs": [
    {
     "data": {
      "text/plain": [
       "[1, 16, 81, 256, 625, 1296, 2401, 4096, 6561, 10000]"
      ]
     },
     "execution_count": 15,
     "metadata": {},
     "output_type": "execute_result"
    }
   ],
   "source": [
    "new_new_list"
   ]
  },
  {
   "cell_type": "code",
   "execution_count": 16,
   "metadata": {},
   "outputs": [],
   "source": [
    "import re\n",
    "# re is the module for regular expression\n",
    "\n",
    "my_str = 'AN OPPOrtunistIC DATA SCieNTIST iS oNe who\\'s fluent in both'"
   ]
  },
  {
   "cell_type": "code",
   "execution_count": 19,
   "metadata": {},
   "outputs": [
    {
     "data": {
      "text/plain": [
       "\"an opportunistic data scientist is one who's fluent in both Python and R\""
      ]
     },
     "execution_count": 19,
     "metadata": {},
     "output_type": "execute_result"
    }
   ],
   "source": [
    "' '.join([i.lower() for i in my_str.split()] + 'Python_and_R'.split('_'))\n"
   ]
  },
  {
   "cell_type": "markdown",
   "metadata": {},
   "source": [
    "&nbsp;\n",
    "\n",
    "### 5- ZERO based indexing in Python\n",
    "\n",
    "in the first element in any list, dictionary, tuple or set has the index of 0"
   ]
  },
  {
   "cell_type": "code",
   "execution_count": 23,
   "metadata": {},
   "outputs": [
    {
     "data": {
      "text/plain": [
       "[1, 2, 3, 4, 5, 6, 7, 8, 9, 10]"
      ]
     },
     "execution_count": 23,
     "metadata": {},
     "output_type": "execute_result"
    }
   ],
   "source": [
    "my_list"
   ]
  },
  {
   "cell_type": "code",
   "execution_count": 24,
   "metadata": {},
   "outputs": [
    {
     "data": {
      "text/plain": [
       "10"
      ]
     },
     "execution_count": 24,
     "metadata": {},
     "output_type": "execute_result"
    }
   ],
   "source": [
    "len(my_list)"
   ]
  },
  {
   "cell_type": "code",
   "execution_count": 26,
   "metadata": {},
   "outputs": [
    {
     "data": {
      "text/plain": [
       "2"
      ]
     },
     "execution_count": 26,
     "metadata": {},
     "output_type": "execute_result"
    }
   ],
   "source": [
    "my_list.index(3)"
   ]
  },
  {
   "cell_type": "code",
   "execution_count": null,
   "metadata": {},
   "outputs": [],
   "source": [
    "my_list.index(10)"
   ]
  }
 ],
 "metadata": {
  "kernelspec": {
   "display_name": "Python 3",
   "language": "python",
   "name": "python3"
  },
  "language_info": {
   "codemirror_mode": {
    "name": "ipython",
    "version": 3
   },
   "file_extension": ".py",
   "mimetype": "text/x-python",
   "name": "python",
   "nbconvert_exporter": "python",
   "pygments_lexer": "ipython3",
   "version": "3.6.4"
  }
 },
 "nbformat": 4,
 "nbformat_minor": 2
}
