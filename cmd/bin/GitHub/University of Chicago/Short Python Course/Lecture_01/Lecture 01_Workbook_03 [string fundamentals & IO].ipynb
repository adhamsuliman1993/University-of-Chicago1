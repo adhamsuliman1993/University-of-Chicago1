{
 "cells": [
  {
   "cell_type": "markdown",
   "metadata": {
    "hideCode": false,
    "hidePrompt": false
   },
   "source": [
    "# Fundamentals of String manipulation\n",
    "_______________"
   ]
  },
  {
   "cell_type": "code",
   "execution_count": 2,
   "metadata": {
    "hideCode": false,
    "hidePrompt": false
   },
   "outputs": [],
   "source": [
    "str_1 = 'immutable'\n",
    "str_2 = 'Shall I Compare thee to a Summer\\'s Day?' \n",
    "str_3 = '    2 plus 70 equals seventy 2     '\n",
    "str_4 = 'CYP2C19'\n",
    "str_5 = '794613852'"
   ]
  },
  {
   "cell_type": "markdown",
   "metadata": {
    "hideCode": false,
    "hidePrompt": false
   },
   "source": [
    "* strings refer to immutable sequences of characters. \n",
    "* reassigning characters in a string is not supported.  \n",
    "* once a string object is declared it cannot be changed, but only replaced. "
   ]
  },
  {
   "cell_type": "code",
   "execution_count": 3,
   "metadata": {
    "hideCode": false,
    "hidePrompt": false
   },
   "outputs": [
    {
     "data": {
      "text/plain": [
       "'a'"
      ]
     },
     "execution_count": 3,
     "metadata": {},
     "output_type": "execute_result"
    }
   ],
   "source": [
    "str_1[5]"
   ]
  },
  {
   "cell_type": "code",
   "execution_count": 4,
   "metadata": {
    "hideCode": false,
    "hidePrompt": false
   },
   "outputs": [
    {
     "ename": "TypeError",
     "evalue": "'str' object does not support item assignment",
     "output_type": "error",
     "traceback": [
      "\u001b[1;31m---------------------------------------------------------------------------\u001b[0m",
      "\u001b[1;31mTypeError\u001b[0m                                 Traceback (most recent call last)",
      "\u001b[1;32m<ipython-input-4-a236411f18a7>\u001b[0m in \u001b[0;36m<module>\u001b[1;34m()\u001b[0m\n\u001b[1;32m----> 1\u001b[1;33m \u001b[0mstr_1\u001b[0m\u001b[1;33m[\u001b[0m\u001b[1;36m5\u001b[0m\u001b[1;33m]\u001b[0m\u001b[1;33m=\u001b[0m\u001b[1;34m't'\u001b[0m\u001b[1;33m\u001b[0m\u001b[0m\n\u001b[0m",
      "\u001b[1;31mTypeError\u001b[0m: 'str' object does not support item assignment"
     ]
    }
   ],
   "source": [
    "str_1[5]='t'"
   ]
  },
  {
   "cell_type": "markdown",
   "metadata": {
    "hideCode": false,
    "hidePrompt": false
   },
   "source": [
    "## 1- A quick survey of the most useful string methods"
   ]
  },
  {
   "cell_type": "code",
   "execution_count": 5,
   "metadata": {
    "hideCode": false,
    "hidePrompt": false
   },
   "outputs": [
    {
     "name": "stdout",
     "output_type": "stream",
     "text": [
      "upper():      SHALL I COMPARE THEE TO A SUMMER'S DAY?\n",
      "lower()       shall i compare thee to a summer's day?\n",
      "swapcase():   sHALL i cOMPARE THEE TO A sUMMER'S dAY?\n"
     ]
    }
   ],
   "source": [
    "print('upper():      '+str_2.upper())\n",
    "print('lower()       '+str_2.lower())\n",
    "print('swapcase():   '+str_2.swapcase())"
   ]
  },
  {
   "cell_type": "markdown",
   "metadata": {
    "hideCode": false,
    "hidePrompt": false
   },
   "source": [
    "* `str.find(Sub)` and `str.index(Sub)` have similar behavior.  \n",
    "* these two functions are used to find the first ocurrence of `Sub` in a string.  \n",
    "* `str.rfind(Sub)` and `str.rindex(Sub)` find the first occurrence of `Sub` from the right.  "
   ]
  },
  {
   "cell_type": "code",
   "execution_count": 6,
   "metadata": {},
   "outputs": [
    {
     "data": {
      "text/plain": [
       "\"Shall I Compare thee to a Summer's Day?\""
      ]
     },
     "execution_count": 6,
     "metadata": {},
     "output_type": "execute_result"
    }
   ],
   "source": [
    "str_2"
   ]
  },
  {
   "cell_type": "code",
   "execution_count": 7,
   "metadata": {
    "hideCode": false,
    "hidePrompt": false
   },
   "outputs": [
    {
     "data": {
      "text/plain": [
       "(14, 14)"
      ]
     },
     "execution_count": 7,
     "metadata": {},
     "output_type": "execute_result"
    }
   ],
   "source": [
    "# the first letter 'e' is 14 characters from the left and 30 characters from the right\n",
    "str_2.index('e'), str_2.find('e')"
   ]
  },
  {
   "cell_type": "code",
   "execution_count": 8,
   "metadata": {
    "hideCode": false,
    "hidePrompt": false
   },
   "outputs": [
    {
     "data": {
      "text/plain": [
       "(30, 30)"
      ]
     },
     "execution_count": 8,
     "metadata": {},
     "output_type": "execute_result"
    }
   ],
   "source": [
    "str_2.rindex('e'), str_2.rfind('e')"
   ]
  },
  {
   "cell_type": "code",
   "execution_count": 9,
   "metadata": {},
   "outputs": [
    {
     "data": {
      "text/plain": [
       "(14, 19)"
      ]
     },
     "execution_count": 9,
     "metadata": {},
     "output_type": "execute_result"
    }
   ],
   "source": [
    "str_2.index('e t'), str_2.rindex('e t')"
   ]
  },
  {
   "cell_type": "markdown",
   "metadata": {
    "hideCode": false,
    "hidePrompt": false
   },
   "source": [
    "* `str.replace(old_string, new_string)` to replace a string with another."
   ]
  },
  {
   "cell_type": "code",
   "execution_count": null,
   "metadata": {
    "hideCode": false,
    "hidePrompt": false
   },
   "outputs": [],
   "source": [
    "str_2.replace('Shall','Would')"
   ]
  },
  {
   "cell_type": "markdown",
   "metadata": {
    "hideCode": false,
    "hidePrompt": false
   },
   "source": [
    "* `str.capitalize()` will capitalize the first letter."
   ]
  },
  {
   "cell_type": "code",
   "execution_count": null,
   "metadata": {
    "hideCode": false,
    "hidePrompt": false
   },
   "outputs": [],
   "source": [
    "str_1.capitalize()"
   ]
  },
  {
   "cell_type": "markdown",
   "metadata": {
    "hideCode": false,
    "hidePrompt": false
   },
   "source": [
    "* `str.strip()` to eliminate leading and trailing white spaces."
   ]
  },
  {
   "cell_type": "code",
   "execution_count": 10,
   "metadata": {
    "hideCode": false,
    "hidePrompt": false
   },
   "outputs": [
    {
     "data": {
      "text/plain": [
       "'2 plus 70 equals seventy 2'"
      ]
     },
     "execution_count": 10,
     "metadata": {},
     "output_type": "execute_result"
    }
   ],
   "source": [
    "str_3.strip()"
   ]
  },
  {
   "cell_type": "code",
   "execution_count": null,
   "metadata": {
    "hideCode": false,
    "hidePrompt": false
   },
   "outputs": [],
   "source": [
    "# reminder\n",
    "print('str_1:    ',str_1)\n",
    "print('str_2:    ',str_2)\n",
    "print('str_2:    ',str_3)\n",
    "print('str_4:    ',str_4)\n",
    "print('str_5:    ',str_5)"
   ]
  },
  {
   "cell_type": "markdown",
   "metadata": {
    "hideCode": false,
    "hidePrompt": false
   },
   "source": [
    "* `str.isalnum()` checks whether a string is entirely alphanumeric characters\n",
    "* `str.isalpha()` checks whether a string is entirely alphabetic characters   \n",
    "* `str.isdigit()` checks whether a string is numbers only"
   ]
  },
  {
   "cell_type": "code",
   "execution_count": 11,
   "metadata": {
    "hideCode": false,
    "hidePrompt": false
   },
   "outputs": [
    {
     "data": {
      "text/plain": [
       "(True, False, False, True, True)"
      ]
     },
     "execution_count": 11,
     "metadata": {},
     "output_type": "execute_result"
    }
   ],
   "source": [
    "str_1.isalnum(), str_2.isalnum(), str_3.isalnum(), str_4.isalnum(), str_5.isalnum()"
   ]
  },
  {
   "cell_type": "code",
   "execution_count": 12,
   "metadata": {
    "hideCode": false,
    "hidePrompt": false,
    "scrolled": true
   },
   "outputs": [
    {
     "data": {
      "text/plain": [
       "(True, False, False, False, False)"
      ]
     },
     "execution_count": 12,
     "metadata": {},
     "output_type": "execute_result"
    }
   ],
   "source": [
    "str_1.isalpha(), str_2.isalpha(), str_3.isalpha(), str_4.isalpha(), str_5.isalpha()"
   ]
  },
  {
   "cell_type": "code",
   "execution_count": 13,
   "metadata": {
    "hideCode": false,
    "hidePrompt": false
   },
   "outputs": [
    {
     "data": {
      "text/plain": [
       "True"
      ]
     },
     "execution_count": 13,
     "metadata": {},
     "output_type": "execute_result"
    }
   ],
   "source": [
    "str_5.isdigit()"
   ]
  },
  {
   "cell_type": "markdown",
   "metadata": {
    "hideCode": false,
    "hidePrompt": false
   },
   "source": [
    "* strings can be added using `+`"
   ]
  },
  {
   "cell_type": "code",
   "execution_count": null,
   "metadata": {
    "hideCode": false,
    "hidePrompt": false
   },
   "outputs": [],
   "source": [
    "str_1+'_____'+str_2+'_____'+str_4"
   ]
  },
  {
   "cell_type": "markdown",
   "metadata": {
    "hideCode": false,
    "hidePrompt": false
   },
   "source": [
    "* `str.center(width[, fillchar])` returned a centered string within a length `width`. `fillchar` specifies the padding."
   ]
  },
  {
   "cell_type": "code",
   "execution_count": 14,
   "metadata": {
    "hideCode": false,
    "hidePrompt": false
   },
   "outputs": [
    {
     "data": {
      "text/plain": [
       "'------------------------------------CYP2C19-------------------------------------'"
      ]
     },
     "execution_count": 14,
     "metadata": {},
     "output_type": "execute_result"
    }
   ],
   "source": [
    "str_4.center(80,'-')"
   ]
  },
  {
   "cell_type": "markdown",
   "metadata": {},
   "source": [
    "* `str.count(sub, start, end)` returns the number of occurrences for the substring `sub` between index `start` and `end`. "
   ]
  },
  {
   "cell_type": "code",
   "execution_count": 15,
   "metadata": {},
   "outputs": [
    {
     "data": {
      "text/plain": [
       "2"
      ]
     },
     "execution_count": 15,
     "metadata": {},
     "output_type": "execute_result"
    }
   ],
   "source": [
    "phrase = 'in times like these, it is helpful to remember that there have always been times like these'\n",
    "\n",
    "phrase.count('times like these',0, len(phrase))"
   ]
  },
  {
   "cell_type": "markdown",
   "metadata": {
    "hideCode": false,
    "hidePrompt": false
   },
   "source": [
    "## 2- The `str.split()` and `str.join()` methods\n",
    "two of the most essential functions used for string manipulation.\n",
    "* `str.split(sep=None, maxsplit=-1)`     \n",
    "splits a string into a list of words based on a specified separator (space by default). `maxsplit` is the max number of splits desired, default -1 results in max number of splits possible.      \n",
    "\n",
    "\n",
    "* `' '.join([list])`     \n",
    "joins a list of strings based on the delimeter specified between the two quotation marks.  "
   ]
  },
  {
   "cell_type": "code",
   "execution_count": 16,
   "metadata": {
    "hideCode": false,
    "hidePrompt": false
   },
   "outputs": [
    {
     "data": {
      "text/plain": [
       "['Shall', 'I', 'Compare', 'thee', 'to', 'a', \"Summer's\", 'Day?']"
      ]
     },
     "execution_count": 16,
     "metadata": {},
     "output_type": "execute_result"
    }
   ],
   "source": [
    "str_2_split = str_2.split()\n",
    "str_2_split"
   ]
  },
  {
   "cell_type": "code",
   "execution_count": 17,
   "metadata": {
    "hideCode": false,
    "hidePrompt": false
   },
   "outputs": [
    {
     "data": {
      "text/plain": [
       "\"Shall+I+Compare+thee+to+a+Summer's+Day?\""
      ]
     },
     "execution_count": 17,
     "metadata": {},
     "output_type": "execute_result"
    }
   ],
   "source": [
    "# join and separate with + sign\n",
    "str_2_join='+'.join(str_2_split)\n",
    "str_2_join"
   ]
  },
  {
   "cell_type": "code",
   "execution_count": 18,
   "metadata": {
    "hideCode": false,
    "hidePrompt": false
   },
   "outputs": [
    {
     "data": {
      "text/plain": [
       "['Shall I Compar', ' th', '', ' to a Summ', \"r's Day?\"]"
      ]
     },
     "execution_count": 18,
     "metadata": {},
     "output_type": "execute_result"
    }
   ],
   "source": [
    "# we can split based on any character\n",
    "str_2_split = str_2.split('e')\n",
    "str_2_split"
   ]
  },
  {
   "cell_type": "code",
   "execution_count": 19,
   "metadata": {
    "hideCode": false,
    "hidePrompt": false
   },
   "outputs": [
    {
     "data": {
      "text/plain": [
       "\"Shall I Compar-_- th-_--_- to a Summ-_-r's Day?\""
      ]
     },
     "execution_count": 19,
     "metadata": {},
     "output_type": "execute_result"
    }
   ],
   "source": [
    "str_2_join='-_-'.join(str_2_split)\n",
    "str_2_join"
   ]
  },
  {
   "cell_type": "markdown",
   "metadata": {},
   "source": [
    "* `str.rsplit()` concatinates strings from the right side. This effect can only be visible when argument `maxplit` is not set to defualt"
   ]
  },
  {
   "cell_type": "code",
   "execution_count": 20,
   "metadata": {},
   "outputs": [
    {
     "data": {
      "text/plain": [
       "['Shall', 'I', 'Compare', 'thee', 'to', 'a', \"Summer's\", 'Day?']"
      ]
     },
     "execution_count": 20,
     "metadata": {},
     "output_type": "execute_result"
    }
   ],
   "source": [
    "# comparing maxsplit assignment\n",
    "str_2.split()"
   ]
  },
  {
   "cell_type": "code",
   "execution_count": 21,
   "metadata": {
    "hideCode": false,
    "hidePrompt": false
   },
   "outputs": [
    {
     "data": {
      "text/plain": [
       "(['Shall', 'I', 'Compare', \"thee to a Summer's Day?\"],\n",
       " ['Shall I Compare thee to', 'a', \"Summer's\", 'Day?'])"
      ]
     },
     "execution_count": 21,
     "metadata": {},
     "output_type": "execute_result"
    }
   ],
   "source": [
    "str_2.split(maxsplit=3), str_2.rsplit(maxsplit=3)"
   ]
  },
  {
   "cell_type": "code",
   "execution_count": null,
   "metadata": {
    "hideCode": false,
    "hidePrompt": false
   },
   "outputs": [],
   "source": [
    "'q u e r t y'.split(maxsplit=3), 'q u e r t y'.rsplit(maxsplit=3)"
   ]
  },
  {
   "cell_type": "markdown",
   "metadata": {
    "hideCode": false,
    "hidePrompt": false
   },
   "source": [
    "### How to split a string with no spaces (a word) to single characters?  \n",
    "* by converting it to a list! "
   ]
  },
  {
   "cell_type": "code",
   "execution_count": 22,
   "metadata": {
    "hideCode": false,
    "hidePrompt": false
   },
   "outputs": [
    {
     "data": {
      "text/plain": [
       "['immutable']"
      ]
     },
     "execution_count": 22,
     "metadata": {},
     "output_type": "execute_result"
    }
   ],
   "source": [
    "# this has no effect on string with no delimiters or separators\n",
    "'immutable'.split()"
   ]
  },
  {
   "cell_type": "code",
   "execution_count": 23,
   "metadata": {
    "hideCode": false,
    "hidePrompt": false
   },
   "outputs": [
    {
     "data": {
      "text/plain": [
       "['i', 'm', 'm', 'u', 't', 'a', 'b', 'l', 'e']"
      ]
     },
     "execution_count": 23,
     "metadata": {},
     "output_type": "execute_result"
    }
   ],
   "source": [
    "list('immutable')"
   ]
  },
  {
   "cell_type": "code",
   "execution_count": null,
   "metadata": {
    "hideCode": false,
    "hidePrompt": false
   },
   "outputs": [],
   "source": [
    "''.join(['i', 'm', 'm', 'u', 't', 'a', 'b', 'l', 'e'])"
   ]
  },
  {
   "cell_type": "markdown",
   "metadata": {},
   "source": [
    "* this deconstruction allows modification of characters in a string using list attributes. "
   ]
  },
  {
   "cell_type": "markdown",
   "metadata": {},
   "source": [
    "<span style='color:blue'>Change `2C19` to `2D19` in <U>str_4</U> and call it <U>str_6</U> </span>  "
   ]
  },
  {
   "cell_type": "code",
   "execution_count": 24,
   "metadata": {},
   "outputs": [
    {
     "data": {
      "text/plain": [
       "'CYP2C19'"
      ]
     },
     "execution_count": 24,
     "metadata": {},
     "output_type": "execute_result"
    }
   ],
   "source": [
    "str_4"
   ]
  },
  {
   "cell_type": "code",
   "execution_count": 27,
   "metadata": {},
   "outputs": [],
   "source": [
    "str_6 = list(str_4)\n",
    "str_6[4] = 'D'\n",
    "str_6 = ''.join(str_6)"
   ]
  },
  {
   "cell_type": "code",
   "execution_count": 28,
   "metadata": {},
   "outputs": [
    {
     "data": {
      "text/plain": [
       "'CYP2D19'"
      ]
     },
     "execution_count": 28,
     "metadata": {},
     "output_type": "execute_result"
    }
   ],
   "source": [
    "str_6"
   ]
  },
  {
   "cell_type": "markdown",
   "metadata": {},
   "source": [
    "* `chr(int)` is a method that returns the string represending a character whose Unicode code point is the integet `i`.    \n",
    "* `ord(str)` is the inverse method to `chr(int)`    "
   ]
  },
  {
   "cell_type": "code",
   "execution_count": 29,
   "metadata": {},
   "outputs": [
    {
     "data": {
      "text/plain": [
       "' !\"#$%&\\'()*+,-./0123456789:;<=>?@ABCDEFGHIJKLMNOPQRSTUVWXYZ[\\\\]^_`abcdefghijklmnopqrstuvwxyz{|}~'"
      ]
     },
     "execution_count": 29,
     "metadata": {},
     "output_type": "execute_result"
    }
   ],
   "source": [
    "chr_list = ''.join([chr(i) for i in range(32,127)])\n",
    "chr_list"
   ]
  },
  {
   "cell_type": "markdown",
   "metadata": {},
   "source": [
    "* this is perfect for message encryption! \n",
    "* the following is a message:  "
   ]
  },
  {
   "cell_type": "code",
   "execution_count": 31,
   "metadata": {},
   "outputs": [],
   "source": [
    "encrypted_message = \\\n",
    "[7744, 13456, 1369, 12769, 13456, 13225, 11664, 1369, 10404, 13225, 11025, 1369, 14641, 11881, \\\n",
    " 10404, 13225, 12544, 14400, 1369, 11449, 13456, 14161, 1369, 10404, 12769, 12769, 1369, 14641, \\\n",
    " 11881, 11236, 1369, 11449, 12100, 14400, 11881, 1369, 2500, 1369, 7744, 13456, 1369, 14400, 10404,\\\n",
    " 11025, 1369, 14641, 11881, 10404, 14641, 1369, 12100, 14641, 1369, 14400, 11881, 13456, 14884, 12769, \\\n",
    " 11025, 1369, 10816, 13456, 12996, 11236, 1369, 14641, 13456, 1369, 14641, 11881, 12100, 14400, 1369, \\\n",
    " 2500, 1369, 8464, 11236, 1369, 14641, 14161, 12100, 11236, 11025, 1369, 14641, 13456, 1369, 15376, \\\n",
    " 10404, 14161, 13225, 1369, 15876, 13456, 14884, 1369, 10404, 12769, 12769, 1369, 10609, 14884, 14641,\\\n",
    " 1369, 13456, 11881, 1369, 11025, 11236, 10404, 14161, 1444]"
   ]
  },
  {
   "cell_type": "markdown",
   "metadata": {},
   "source": [
    "<span style='color:blue'> To decrypt this message you need to do:     \n",
    "`ord(squar root[message] -5)` for every integer in the encrypted message then join the resulting characters.   \n",
    "</span>"
   ]
  },
  {
   "cell_type": "code",
   "execution_count": 32,
   "metadata": {},
   "outputs": [
    {
     "name": "stdout",
     "output_type": "stream",
     "text": [
      "So long and thanks for all the fish - So sad that it should come to this - We tried to warn you all but oh dear!"
     ]
    }
   ],
   "source": [
    "for num in encrypted_message:\n",
    "    letter = chr(int((num**(.5)) - 5))\n",
    "    print(letter, end='')"
   ]
  },
  {
   "cell_type": "markdown",
   "metadata": {},
   "source": [
    "&nbsp;\n",
    "\n",
    "## 3- The `.format()` method\n",
    "* a string method that is introduced in Python 3.X   \n",
    "* strings with method `.format()` contain replacement fields `{}`. \n",
    "* anything not within the curly braces is cosidered literal text. \n",
    "* mostly used with the `print()` method to insert a calculated value into a string to be printed."
   ]
  },
  {
   "cell_type": "code",
   "execution_count": null,
   "metadata": {},
   "outputs": [],
   "source": [
    "\"{},{},{} are letters\".format('a','b','c')"
   ]
  },
  {
   "cell_type": "markdown",
   "metadata": {},
   "source": [
    "* we can choose the order of objects in the expression"
   ]
  },
  {
   "cell_type": "code",
   "execution_count": null,
   "metadata": {},
   "outputs": [],
   "source": [
    "\"{1},{2},{0} are letters\".format('a','b','c')"
   ]
  },
  {
   "cell_type": "code",
   "execution_count": null,
   "metadata": {},
   "outputs": [],
   "source": [
    "\"{1},{2},{0} are letters\".format(*'abc')"
   ]
  },
  {
   "cell_type": "code",
   "execution_count": null,
   "metadata": {},
   "outputs": [],
   "source": [
    "\"{0}{1}{0}\".format('abra','cad')"
   ]
  },
  {
   "cell_type": "code",
   "execution_count": null,
   "metadata": {},
   "outputs": [],
   "source": [
    "mae=0.8225648511\n",
    "\n",
    "\"The mean absolute error is {0:.4f}\".format(mae)"
   ]
  },
  {
   "cell_type": "markdown",
   "metadata": {},
   "source": [
    "* use of dictionary with floats. `{index: property}`"
   ]
  },
  {
   "cell_type": "code",
   "execution_count": null,
   "metadata": {},
   "outputs": [],
   "source": [
    "# padding with zeros. The padding represents the length of the complete output.\n",
    "\n",
    "'Earth\\'s gravitational acceleration is: {:06.2f} ft/s/s'.format(32.1740)"
   ]
  },
  {
   "cell_type": "code",
   "execution_count": null,
   "metadata": {},
   "outputs": [],
   "source": [
    "mae=0.8225648511\n",
    "mse=1.3265458556\n",
    "\n",
    "\"the mae = {1:.5f}\\nthe mse = {0:.5f}\".format(mse, mae)"
   ]
  },
  {
   "cell_type": "code",
   "execution_count": null,
   "metadata": {},
   "outputs": [],
   "source": [
    "print(\"the mae = {1:08.5f}\\nthe mse = {0:08.5f}\".format(mse, mae))"
   ]
  },
  {
   "cell_type": "markdown",
   "metadata": {},
   "source": [
    "* padding and allignment"
   ]
  },
  {
   "cell_type": "code",
   "execution_count": null,
   "metadata": {},
   "outputs": [],
   "source": [
    "'{:<30}'.format('left aligned')"
   ]
  },
  {
   "cell_type": "code",
   "execution_count": null,
   "metadata": {},
   "outputs": [],
   "source": [
    "'{:>30}'.format('right aligned')"
   ]
  },
  {
   "cell_type": "code",
   "execution_count": null,
   "metadata": {},
   "outputs": [],
   "source": [
    "print(\"the mae = {1:>50,.5f}\\nthe mse = {0:>50,.5f}\".format(mse, mae))"
   ]
  },
  {
   "cell_type": "code",
   "execution_count": null,
   "metadata": {},
   "outputs": [],
   "source": [
    "print(\"the mae = {1:->50,.5f}\\nthe mse = {0:.>50,.5f}\".format(mse, mae))"
   ]
  },
  {
   "cell_type": "markdown",
   "metadata": {},
   "source": [
    "* `.format` supports using dictionaries to assign and arrange values"
   ]
  },
  {
   "cell_type": "code",
   "execution_count": null,
   "metadata": {},
   "outputs": [],
   "source": [
    "pt = {1:'pepperoni', 2:'sausage',3:'onions',4:'cheese',5:'olives',6:'green peppers'}\n",
    "\n",
    "\"Standard pizza toppings include: {}, {} and {}\".format(pt[1],pt[2],pt[4])"
   ]
  },
  {
   "cell_type": "markdown",
   "metadata": {
    "hideCode": false,
    "hidePrompt": false
   },
   "source": [
    "* prior to Python 3.X the standard old fashioned formatting method used is `%`-formatting character.   \n",
    "* `%`-formatting continues to be supported in later versions but offers less flexibility. "
   ]
  },
  {
   "cell_type": "markdown",
   "metadata": {},
   "source": [
    "You will encounter such old style `%` statement very often:"
   ]
  },
  {
   "cell_type": "code",
   "execution_count": null,
   "metadata": {},
   "outputs": [],
   "source": [
    "#     %s stands for string\n",
    "'%s,%s,%s are letters' % ('a','b','c')"
   ]
  },
  {
   "cell_type": "code",
   "execution_count": null,
   "metadata": {},
   "outputs": [],
   "source": [
    "#     %d stands for numbers\n",
    "'%d,%d,%d are numbers' % (-1,5,9)"
   ]
  },
  {
   "cell_type": "code",
   "execution_count": null,
   "metadata": {},
   "outputs": [],
   "source": [
    "#     arranging order of display is not supported in old formatting\n",
    "\"the mae = %.5f\\nthe mse = %.5f\" % (mae, mse)"
   ]
  },
  {
   "cell_type": "code",
   "execution_count": null,
   "metadata": {},
   "outputs": [],
   "source": [
    "#    padding with a character is not supported in old formatting\n",
    "print(\"the mae = %010.5f\\nthe mse = %010.5f\" % (mae, mse))"
   ]
  },
  {
   "cell_type": "markdown",
   "metadata": {},
   "source": [
    "\n",
    "<a href='https://pyformat.info/'>Link</a> for additional information and further comparison between `%-` formatting and `.format()` methods"
   ]
  },
  {
   "cell_type": "markdown",
   "metadata": {
    "hideCode": false,
    "hidePrompt": false
   },
   "source": [
    "## 4- File Input/Output\n",
    "\n",
    "* We want to access the file `sonnet_18.txt` located in folder /lecture_01/files  \n",
    "* Use `pwd()` to view the current directory   "
   ]
  },
  {
   "cell_type": "code",
   "execution_count": null,
   "metadata": {
    "hideCode": false,
    "hidePrompt": false
   },
   "outputs": [],
   "source": [
    "pwd()"
   ]
  },
  {
   "cell_type": "markdown",
   "metadata": {
    "hideCode": false,
    "hidePrompt": false
   },
   "source": [
    "since `sonnet_18.txt` is inside `lecture_01` (where the notebook is located) it is not necessary to define the entire path."
   ]
  },
  {
   "cell_type": "code",
   "execution_count": null,
   "metadata": {
    "hideCode": false,
    "hidePrompt": false
   },
   "outputs": [],
   "source": [
    "path = 'files/'"
   ]
  },
  {
   "cell_type": "code",
   "execution_count": null,
   "metadata": {
    "hideCode": false,
    "hidePrompt": false
   },
   "outputs": [],
   "source": [
    "f = open(path+'sonnet_18.txt','r')\n",
    "for line in f:\n",
    "    print(line, end='')\n",
    "\n",
    "# close file    \n",
    "f.close()"
   ]
  },
  {
   "cell_type": "markdown",
   "metadata": {
    "hideCode": false,
    "hidePrompt": false
   },
   "source": [
    "* Since Python inherits most of its basic structures from C programming language you willl find the `f.open('filename','r')` and `f.close()` to be very similar to both C and C++.  \n",
    "* This also applies to other expressions such as the %-formatting specifically in Python v2.7 and earlier.   "
   ]
  },
  {
   "cell_type": "code",
   "execution_count": null,
   "metadata": {},
   "outputs": [],
   "source": [
    "f = open(path+'sonnet_18.txt','r')\n",
    "# .readline() carries out the same task./\n",
    "for line in f.readlines():\n",
    "    print(line, end='')\n",
    "\n",
    "# close file    \n",
    "f.close()"
   ]
  },
  {
   "cell_type": "markdown",
   "metadata": {},
   "source": [
    "* It is possible to capture the content of the text file in an object."
   ]
  },
  {
   "cell_type": "code",
   "execution_count": null,
   "metadata": {
    "scrolled": true
   },
   "outputs": [],
   "source": [
    "text=str() #an empty string object. \n",
    "f = open(path+'sonnet_18.txt','r')\n",
    "for line in f.readlines():\n",
    "    text=text+str(line)\n",
    "\n",
    "# close file    \n",
    "f.close()\n",
    "print(text)"
   ]
  },
  {
   "cell_type": "markdown",
   "metadata": {},
   "source": [
    "- open by default has a read argument which is called the mode   \n",
    "                open('filename', 'r') or 'w', 'rb', 'wb', 'r+', 'a', 'rt'\n",
    "                read, write, read binary, write binary read-write, append, read text"
   ]
  },
  {
   "cell_type": "markdown",
   "metadata": {},
   "source": [
    "* however, notice that the `text` object iteslf is one continuout string from beginnine to end padded with an escape character.  \n",
    "* this string is difficult to maniuplate."
   ]
  },
  {
   "cell_type": "code",
   "execution_count": null,
   "metadata": {},
   "outputs": [],
   "source": [
    "text"
   ]
  },
  {
   "cell_type": "markdown",
   "metadata": {},
   "source": [
    "* the following is a better way to read the file and capture it line by line    "
   ]
  },
  {
   "cell_type": "code",
   "execution_count": null,
   "metadata": {},
   "outputs": [],
   "source": [
    "lines = list(open(path+'sonnet_18.txt', 'r'))\n",
    "lines"
   ]
  },
  {
   "cell_type": "markdown",
   "metadata": {},
   "source": [
    "&nbsp; \n",
    "\n",
    "* to write a txt file to drive first we create the file then we transfer the lines one by one into the open file."
   ]
  },
  {
   "cell_type": "code",
   "execution_count": null,
   "metadata": {},
   "outputs": [],
   "source": [
    "my_text=\\\n",
    "'So long and thanks for all the fish\\n\\\n",
    "So sad that it should come to this\\n\\\n",
    "We tried to warn you all but oh dear\\n\\\n",
    "You may not share our intellect\\n\\\n",
    "Which might explain your disrespect\\n\\\n",
    "For all the natural wonders that\\n\\\n",
    "grow around you\\n\\\n",
    "So long, so long and thanks\\n\\\n",
    "for all the fish'"
   ]
  },
  {
   "cell_type": "code",
   "execution_count": null,
   "metadata": {
    "scrolled": true
   },
   "outputs": [],
   "source": [
    "print(my_text)"
   ]
  },
  {
   "cell_type": "code",
   "execution_count": null,
   "metadata": {},
   "outputs": [],
   "source": [
    "outfile = open(path+'my_text.txt', 'w')\n",
    "for line in my_text:\n",
    "    print(line,file=outfile, end='')\n",
    "outfile.close()\n",
    "print('done')"
   ]
  },
  {
   "cell_type": "markdown",
   "metadata": {},
   "source": [
    "### `print()` in Python"
   ]
  },
  {
   "cell_type": "markdown",
   "metadata": {},
   "source": [
    "* `print()` is an intuitive method in Python however it is good to remember that `print()` takes a couple of useful argumennts. \n",
    "\n",
    "`print(obj, sep = ' ' , end = '\\n'`"
   ]
  },
  {
   "cell_type": "code",
   "execution_count": null,
   "metadata": {},
   "outputs": [],
   "source": [
    "print(str_1,  str_2, str_3)"
   ]
  },
  {
   "cell_type": "markdown",
   "metadata": {},
   "source": [
    "* `sep` is useful when 2 objects are enclosed in a single print expression. "
   ]
  },
  {
   "cell_type": "code",
   "execution_count": null,
   "metadata": {},
   "outputs": [],
   "source": [
    "print(str_1,  str_2, str_3, sep = '....')"
   ]
  },
  {
   "cell_type": "code",
   "execution_count": null,
   "metadata": {},
   "outputs": [],
   "source": [
    "word_list = ['foo', 'bar', '423','gronk', 'hello kitty', 'sling', 'drag', '8' ]\n",
    "\n",
    "for word in word_list:\n",
    "    print(word, end = '\\n\\n')"
   ]
  }
 ],
 "metadata": {
  "anaconda-cloud": {},
  "hide_code_all_hidden": false,
  "kernelspec": {
   "display_name": "Python 3",
   "language": "python",
   "name": "python3"
  },
  "language_info": {
   "codemirror_mode": {
    "name": "ipython",
    "version": 3
   },
   "file_extension": ".py",
   "mimetype": "text/x-python",
   "name": "python",
   "nbconvert_exporter": "python",
   "pygments_lexer": "ipython3",
   "version": "3.6.4"
  }
 },
 "nbformat": 4,
 "nbformat_minor": 2
}
